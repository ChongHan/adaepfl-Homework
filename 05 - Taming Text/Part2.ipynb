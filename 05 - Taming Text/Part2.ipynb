{
 "cells": [
  {
   "cell_type": "code",
   "execution_count": 1,
   "metadata": {
    "collapsed": true
   },
   "outputs": [],
   "source": [
    "# Pandas\n",
    "import pandas as pd\n",
    "\n",
    "import numpy as np\n",
    "\n",
    "import warnings\n",
    "warnings.filterwarnings('ignore')"
   ]
  },
  {
   "cell_type": "markdown",
   "metadata": {},
   "source": [
    "## Part 2.\n",
    "\n",
    ">Find all the mentions of world countries in the whole corpus, using the pycountry utility (HINT: remember that there will be different surface forms for the same country in the text, e.g., Switzerland, switzerland, CH, etc.) Perform sentiment analysis on every email message using the demo methods in the nltk.sentiment.util module. Aggregate the polarity information of all the emails by country, and plot a histogram (ordered and colored by polarity level) that summarizes the perception of the different countries. Repeat the aggregation + plotting steps using different demo methods from the sentiment analysis module -- can you find substantial differences?"
   ]
  },
  {
   "cell_type": "markdown",
   "metadata": {},
   "source": [
    "### Data Emails"
   ]
  },
  {
   "cell_type": "code",
   "execution_count": 2,
   "metadata": {
    "collapsed": true
   },
   "outputs": [],
   "source": [
    "#Data location\n",
    "data_path = \"hillary-clinton-emails/\"\n",
    "\n",
    "#Import data\n",
    "aliases          = pd.read_csv(data_path+\"Aliases.csv\",         index_col=0)\n",
    "emailsReceivers  = pd.read_csv(data_path+\"EmailReceivers.csv\",  index_col=0)\n",
    "emails           = pd.read_csv(data_path+\"Emails.csv\",          index_col=0)\n",
    "persons          = pd.read_csv(data_path+\"Persons.csv\",         index_col=0)"
   ]
  },
  {
   "cell_type": "code",
   "execution_count": 3,
   "metadata": {
    "collapsed": false
   },
   "outputs": [
    {
     "data": {
      "text/plain": [
       "ExtractedBodyText    6742\n",
       "ExtractedSubject     6260\n",
       "dtype: int64"
      ]
     },
     "execution_count": 3,
     "metadata": {},
     "output_type": "execute_result"
    }
   ],
   "source": [
    "emails_sub_body = emails[['ExtractedBodyText','ExtractedSubject']]\n",
    "emails_sub_body.count()"
   ]
  },
  {
   "cell_type": "code",
   "execution_count": 4,
   "metadata": {
    "collapsed": false
   },
   "outputs": [],
   "source": [
    "emails_sub_body.ExtractedBodyText.fillna('',inplace=True)\n",
    "emails_sub_body.ExtractedSubject.fillna('',inplace=True)\n",
    "emails_sub_body[\"SubBody\"] = emails_sub_body['ExtractedBodyText'] + \" \" + emails_sub_body['ExtractedSubject']"
   ]
  },
  {
   "cell_type": "code",
   "execution_count": 5,
   "metadata": {
    "collapsed": false
   },
   "outputs": [
    {
     "data": {
      "text/html": [
       "<div>\n",
       "<table border=\"1\" class=\"dataframe\">\n",
       "  <thead>\n",
       "    <tr style=\"text-align: right;\">\n",
       "      <th></th>\n",
       "      <th>SubBody</th>\n",
       "    </tr>\n",
       "    <tr>\n",
       "      <th>Id</th>\n",
       "      <th></th>\n",
       "    </tr>\n",
       "  </thead>\n",
       "  <tbody>\n",
       "    <tr>\n",
       "      <th>1</th>\n",
       "      <td>FW: Wow</td>\n",
       "    </tr>\n",
       "    <tr>\n",
       "      <th>2</th>\n",
       "      <td>B6\\nThursday, March 3, 2011 9:45 PM\\nH: Latest...</td>\n",
       "    </tr>\n",
       "    <tr>\n",
       "      <th>3</th>\n",
       "      <td>Thx Re: Chris Stevens</td>\n",
       "    </tr>\n",
       "    <tr>\n",
       "      <th>4</th>\n",
       "      <td>FVV: Cairo Condemnation - Final</td>\n",
       "    </tr>\n",
       "    <tr>\n",
       "      <th>5</th>\n",
       "      <td>H &lt;hrod17@clintonemail.com&gt;\\nFriday, March 11,...</td>\n",
       "    </tr>\n",
       "  </tbody>\n",
       "</table>\n",
       "</div>"
      ],
      "text/plain": [
       "                                              SubBody\n",
       "Id                                                   \n",
       "1                                             FW: Wow\n",
       "2   B6\\nThursday, March 3, 2011 9:45 PM\\nH: Latest...\n",
       "3                               Thx Re: Chris Stevens\n",
       "4                     FVV: Cairo Condemnation - Final\n",
       "5   H <hrod17@clintonemail.com>\\nFriday, March 11,..."
      ]
     },
     "execution_count": 5,
     "metadata": {},
     "output_type": "execute_result"
    }
   ],
   "source": [
    "emails = emails_sub_body.drop(['ExtractedBodyText', 'ExtractedSubject'], 1)\n",
    "emails.head()"
   ]
  },
  {
   "cell_type": "code",
   "execution_count": 6,
   "metadata": {
    "collapsed": false
   },
   "outputs": [
    {
     "data": {
      "text/html": [
       "<div>\n",
       "<table border=\"1\" class=\"dataframe\">\n",
       "  <thead>\n",
       "    <tr style=\"text-align: right;\">\n",
       "      <th></th>\n",
       "      <th>SubBody</th>\n",
       "    </tr>\n",
       "    <tr>\n",
       "      <th>Id</th>\n",
       "      <th></th>\n",
       "    </tr>\n",
       "  </thead>\n",
       "  <tbody>\n",
       "    <tr>\n",
       "      <th>1</th>\n",
       "      <td>FW: Wow</td>\n",
       "    </tr>\n",
       "    <tr>\n",
       "      <th>2</th>\n",
       "      <td>B6\\nThursday, March 3, 2011 9:45 PM\\nH: Latest...</td>\n",
       "    </tr>\n",
       "    <tr>\n",
       "      <th>3</th>\n",
       "      <td>Thx Re: Chris Stevens</td>\n",
       "    </tr>\n",
       "    <tr>\n",
       "      <th>4</th>\n",
       "      <td>FVV: Cairo Condemnation - Final</td>\n",
       "    </tr>\n",
       "    <tr>\n",
       "      <th>5</th>\n",
       "      <td>H &lt;hrod17@clintonemail.com&gt;\\nFriday, March 11,...</td>\n",
       "    </tr>\n",
       "  </tbody>\n",
       "</table>\n",
       "</div>"
      ],
      "text/plain": [
       "                                              SubBody\n",
       "Id                                                   \n",
       "1                                             FW: Wow\n",
       "2   B6\\nThursday, March 3, 2011 9:45 PM\\nH: Latest...\n",
       "3                               Thx Re: Chris Stevens\n",
       "4                     FVV: Cairo Condemnation - Final\n",
       "5   H <hrod17@clintonemail.com>\\nFriday, March 11,..."
      ]
     },
     "execution_count": 6,
     "metadata": {},
     "output_type": "execute_result"
    }
   ],
   "source": [
    "emails_sub_body.SubBody = emails_sub_body.SubBody.str.replace('\\n', \" \")\n",
    "emails.head()"
   ]
  },
  {
   "cell_type": "code",
   "execution_count": 7,
   "metadata": {
    "collapsed": false
   },
   "outputs": [
    {
     "name": "stdout",
     "output_type": "stream",
     "text": [
      "Here's a partial list of followup from our last trip and the last week: What can we do to help protect the Christians in Iraq as requested by Ken Joseph whom we saw in Baghdad? JoDee Winterhof raised questions about how the PRTs and the language DOD uses about them are problematic for NGOs like care. Pls ask one of Holbrooke's people if they ever talked to Wolfgang Danspeckgruber at Princeton about building a railroad in Aghanistan. Also Dr. Arthur Keys at International Relief + Development wanted to talk w someone from Holbrooke's team about development in Af. I asked the Spec IG for Af Recon, Arnold Fields, to alert us to problems as soon as they can. I'm not sure how to formalize this or even if it's appropriate. Let's discuss. What are the \"Iran Watchers\"? Followup\n"
     ]
    }
   ],
   "source": [
    "test_sample = emails_sub_body['SubBody'].loc[345]\n",
    "print(test_sample)"
   ]
  },
  {
   "cell_type": "markdown",
   "metadata": {},
   "source": [
    "### Countries and cities"
   ]
  },
  {
   "cell_type": "markdown",
   "metadata": {},
   "source": [
    "We will use *pycountry* for the countries and countries code."
   ]
  },
  {
   "cell_type": "code",
   "execution_count": 8,
   "metadata": {
    "collapsed": false
   },
   "outputs": [],
   "source": [
    "import pycountry"
   ]
  },
  {
   "cell_type": "code",
   "execution_count": 9,
   "metadata": {
    "collapsed": false
   },
   "outputs": [
    {
     "data": {
      "text/html": [
       "<div>\n",
       "<table border=\"1\" class=\"dataframe\">\n",
       "  <thead>\n",
       "    <tr style=\"text-align: right;\">\n",
       "      <th></th>\n",
       "      <th>Alpha2</th>\n",
       "      <th>Alpha3</th>\n",
       "      <th>Name</th>\n",
       "      <th>Numeric</th>\n",
       "      <th>Official_name</th>\n",
       "    </tr>\n",
       "  </thead>\n",
       "  <tbody>\n",
       "    <tr>\n",
       "      <th>0</th>\n",
       "      <td>AF</td>\n",
       "      <td>AFG</td>\n",
       "      <td>Afghanistan</td>\n",
       "      <td>004</td>\n",
       "      <td>Islamic Republic of Afghanistan</td>\n",
       "    </tr>\n",
       "    <tr>\n",
       "      <th>1</th>\n",
       "      <td>AX</td>\n",
       "      <td>ALA</td>\n",
       "      <td>Åland Islands</td>\n",
       "      <td>248</td>\n",
       "      <td></td>\n",
       "    </tr>\n",
       "    <tr>\n",
       "      <th>2</th>\n",
       "      <td>AL</td>\n",
       "      <td>ALB</td>\n",
       "      <td>Albania</td>\n",
       "      <td>008</td>\n",
       "      <td>Republic of Albania</td>\n",
       "    </tr>\n",
       "    <tr>\n",
       "      <th>3</th>\n",
       "      <td>DZ</td>\n",
       "      <td>DZA</td>\n",
       "      <td>Algeria</td>\n",
       "      <td>012</td>\n",
       "      <td>People's Democratic Republic of Algeria</td>\n",
       "    </tr>\n",
       "    <tr>\n",
       "      <th>4</th>\n",
       "      <td>AS</td>\n",
       "      <td>ASM</td>\n",
       "      <td>American Samoa</td>\n",
       "      <td>016</td>\n",
       "      <td></td>\n",
       "    </tr>\n",
       "  </tbody>\n",
       "</table>\n",
       "</div>"
      ],
      "text/plain": [
       "  Alpha2 Alpha3            Name Numeric  \\\n",
       "0     AF    AFG     Afghanistan     004   \n",
       "1     AX    ALA   Åland Islands     248   \n",
       "2     AL    ALB         Albania     008   \n",
       "3     DZ    DZA         Algeria     012   \n",
       "4     AS    ASM  American Samoa     016   \n",
       "\n",
       "                             Official_name  \n",
       "0          Islamic Republic of Afghanistan  \n",
       "1                                           \n",
       "2                      Republic of Albania  \n",
       "3  People's Democratic Republic of Algeria  \n",
       "4                                           "
      ]
     },
     "execution_count": 9,
     "metadata": {},
     "output_type": "execute_result"
    }
   ],
   "source": [
    "all_country = []\n",
    "\n",
    "for c in list(pycountry.countries):\n",
    "    country_entry = [c.alpha2, c.alpha3, c.name, c.numeric, getattr(c, 'official_name', \"\")]\n",
    "    all_country.append(country_entry)\n",
    "    \n",
    "country_dict = pd.DataFrame(all_country, columns=('Alpha2', 'Alpha3', 'Name', 'Numeric', 'Official_name'))\n",
    "\n",
    "country_dict.head()"
   ]
  },
  {
   "cell_type": "markdown",
   "metadata": {},
   "source": [
    "But we will also add to the *pycountry* data, the capital for each country. Indeed, emails often cite directly the capital, without specifying a country."
   ]
  },
  {
   "cell_type": "code",
   "execution_count": 10,
   "metadata": {
    "collapsed": false
   },
   "outputs": [
    {
     "data": {
      "text/html": [
       "<div>\n",
       "<table border=\"1\" class=\"dataframe\">\n",
       "  <thead>\n",
       "    <tr style=\"text-align: right;\">\n",
       "      <th></th>\n",
       "      <th>country</th>\n",
       "      <th>capital</th>\n",
       "      <th>type</th>\n",
       "    </tr>\n",
       "  </thead>\n",
       "  <tbody>\n",
       "    <tr>\n",
       "      <th>0</th>\n",
       "      <td>Abkhazia</td>\n",
       "      <td>Sukhumi</td>\n",
       "      <td>countryCapital</td>\n",
       "    </tr>\n",
       "    <tr>\n",
       "      <th>1</th>\n",
       "      <td>Afghanistan</td>\n",
       "      <td>Kabul</td>\n",
       "      <td>countryCapital</td>\n",
       "    </tr>\n",
       "    <tr>\n",
       "      <th>2</th>\n",
       "      <td>Akrotiri and Dhekelia</td>\n",
       "      <td>Episkopi Cantonment</td>\n",
       "      <td>countryCapital</td>\n",
       "    </tr>\n",
       "    <tr>\n",
       "      <th>3</th>\n",
       "      <td>Albania</td>\n",
       "      <td>Tirana</td>\n",
       "      <td>countryCapital</td>\n",
       "    </tr>\n",
       "    <tr>\n",
       "      <th>4</th>\n",
       "      <td>Algeria</td>\n",
       "      <td>Algiers</td>\n",
       "      <td>countryCapital</td>\n",
       "    </tr>\n",
       "  </tbody>\n",
       "</table>\n",
       "</div>"
      ],
      "text/plain": [
       "                 country              capital            type\n",
       "0               Abkhazia              Sukhumi  countryCapital\n",
       "1            Afghanistan                Kabul  countryCapital\n",
       "2  Akrotiri and Dhekelia  Episkopi Cantonment  countryCapital\n",
       "3                Albania               Tirana  countryCapital\n",
       "4                Algeria              Algiers  countryCapital"
      ]
     },
     "execution_count": 10,
     "metadata": {},
     "output_type": "execute_result"
    }
   ],
   "source": [
    "capital_cities = \"https://raw.githubusercontent.com/icyrockcom/country-capitals/master/data/country-list.csv\"\n",
    "capitals = pd.read_csv(capital_cities)\n",
    "\n",
    "capitals.head()"
   ]
  },
  {
   "cell_type": "markdown",
   "metadata": {},
   "source": [
    "Therefore, we merge our two country data together."
   ]
  },
  {
   "cell_type": "code",
   "execution_count": 11,
   "metadata": {
    "collapsed": false
   },
   "outputs": [
    {
     "data": {
      "text/html": [
       "<div>\n",
       "<table border=\"1\" class=\"dataframe\">\n",
       "  <thead>\n",
       "    <tr style=\"text-align: right;\">\n",
       "      <th></th>\n",
       "      <th>Alpha2</th>\n",
       "      <th>Alpha3</th>\n",
       "      <th>Name</th>\n",
       "      <th>Numeric</th>\n",
       "      <th>Official_name</th>\n",
       "      <th>Capital</th>\n",
       "    </tr>\n",
       "  </thead>\n",
       "  <tbody>\n",
       "    <tr>\n",
       "      <th>0</th>\n",
       "      <td>AF</td>\n",
       "      <td>AFG</td>\n",
       "      <td>Afghanistan</td>\n",
       "      <td>004</td>\n",
       "      <td>Islamic Republic of Afghanistan</td>\n",
       "      <td>Kabul</td>\n",
       "    </tr>\n",
       "    <tr>\n",
       "      <th>1</th>\n",
       "      <td>AX</td>\n",
       "      <td>ALA</td>\n",
       "      <td>Åland Islands</td>\n",
       "      <td>248</td>\n",
       "      <td></td>\n",
       "      <td></td>\n",
       "    </tr>\n",
       "    <tr>\n",
       "      <th>2</th>\n",
       "      <td>AL</td>\n",
       "      <td>ALB</td>\n",
       "      <td>Albania</td>\n",
       "      <td>008</td>\n",
       "      <td>Republic of Albania</td>\n",
       "      <td>Tirana</td>\n",
       "    </tr>\n",
       "    <tr>\n",
       "      <th>3</th>\n",
       "      <td>DZ</td>\n",
       "      <td>DZA</td>\n",
       "      <td>Algeria</td>\n",
       "      <td>012</td>\n",
       "      <td>People's Democratic Republic of Algeria</td>\n",
       "      <td>Algiers</td>\n",
       "    </tr>\n",
       "    <tr>\n",
       "      <th>4</th>\n",
       "      <td>AS</td>\n",
       "      <td>ASM</td>\n",
       "      <td>American Samoa</td>\n",
       "      <td>016</td>\n",
       "      <td></td>\n",
       "      <td>Pago Pago</td>\n",
       "    </tr>\n",
       "  </tbody>\n",
       "</table>\n",
       "</div>"
      ],
      "text/plain": [
       "  Alpha2 Alpha3            Name Numeric  \\\n",
       "0     AF    AFG     Afghanistan     004   \n",
       "1     AX    ALA   Åland Islands     248   \n",
       "2     AL    ALB         Albania     008   \n",
       "3     DZ    DZA         Algeria     012   \n",
       "4     AS    ASM  American Samoa     016   \n",
       "\n",
       "                             Official_name    Capital  \n",
       "0          Islamic Republic of Afghanistan      Kabul  \n",
       "1                                                      \n",
       "2                      Republic of Albania     Tirana  \n",
       "3  People's Democratic Republic of Algeria    Algiers  \n",
       "4                                           Pago Pago  "
      ]
     },
     "execution_count": 11,
     "metadata": {},
     "output_type": "execute_result"
    }
   ],
   "source": [
    "country_dict['Capital'] = \"\"\n",
    "\n",
    "for i, capital_entry in capitals.iterrows():\n",
    "    for j, country_entry in country_dict.iterrows():\n",
    "        if (capital_entry['country'] == country_entry['Name']):\n",
    "            country_dict.set_value(j, \"Capital\", capital_entry.capital)\n",
    "\n",
    "country_dict.head()"
   ]
  },
  {
   "cell_type": "markdown",
   "metadata": {},
   "source": [
    "### Country Alternative names\n",
    "\n",
    "People may refere to a country not only by mentionned its name or its capital's name. Therefore, we need a way to add alternative names for a country. \n",
    "Exemple: *'CH'* for Switzerland"
   ]
  },
  {
   "cell_type": "code",
   "execution_count": 12,
   "metadata": {
    "collapsed": false
   },
   "outputs": [
    {
     "data": {
      "text/html": [
       "<div>\n",
       "<table border=\"1\" class=\"dataframe\">\n",
       "  <thead>\n",
       "    <tr style=\"text-align: right;\">\n",
       "      <th></th>\n",
       "      <th>Alpha2</th>\n",
       "      <th>Alpha3</th>\n",
       "      <th>Name</th>\n",
       "      <th>Numeric</th>\n",
       "      <th>Official_name</th>\n",
       "      <th>Capital</th>\n",
       "      <th>Alt_names</th>\n",
       "    </tr>\n",
       "  </thead>\n",
       "  <tbody>\n",
       "    <tr>\n",
       "      <th>0</th>\n",
       "      <td>AF</td>\n",
       "      <td>AFG</td>\n",
       "      <td>Afghanistan</td>\n",
       "      <td>004</td>\n",
       "      <td>Islamic Republic of Afghanistan</td>\n",
       "      <td>Kabul</td>\n",
       "      <td></td>\n",
       "    </tr>\n",
       "    <tr>\n",
       "      <th>1</th>\n",
       "      <td>AX</td>\n",
       "      <td>ALA</td>\n",
       "      <td>Åland Islands</td>\n",
       "      <td>248</td>\n",
       "      <td></td>\n",
       "      <td></td>\n",
       "      <td></td>\n",
       "    </tr>\n",
       "    <tr>\n",
       "      <th>2</th>\n",
       "      <td>AL</td>\n",
       "      <td>ALB</td>\n",
       "      <td>Albania</td>\n",
       "      <td>008</td>\n",
       "      <td>Republic of Albania</td>\n",
       "      <td>Tirana</td>\n",
       "      <td></td>\n",
       "    </tr>\n",
       "    <tr>\n",
       "      <th>3</th>\n",
       "      <td>DZ</td>\n",
       "      <td>DZA</td>\n",
       "      <td>Algeria</td>\n",
       "      <td>012</td>\n",
       "      <td>People's Democratic Republic of Algeria</td>\n",
       "      <td>Algiers</td>\n",
       "      <td></td>\n",
       "    </tr>\n",
       "    <tr>\n",
       "      <th>4</th>\n",
       "      <td>AS</td>\n",
       "      <td>ASM</td>\n",
       "      <td>American Samoa</td>\n",
       "      <td>016</td>\n",
       "      <td></td>\n",
       "      <td>Pago Pago</td>\n",
       "      <td></td>\n",
       "    </tr>\n",
       "  </tbody>\n",
       "</table>\n",
       "</div>"
      ],
      "text/plain": [
       "  Alpha2 Alpha3            Name Numeric  \\\n",
       "0     AF    AFG     Afghanistan     004   \n",
       "1     AX    ALA   Åland Islands     248   \n",
       "2     AL    ALB         Albania     008   \n",
       "3     DZ    DZA         Algeria     012   \n",
       "4     AS    ASM  American Samoa     016   \n",
       "\n",
       "                             Official_name    Capital Alt_names  \n",
       "0          Islamic Republic of Afghanistan      Kabul            \n",
       "1                                                                \n",
       "2                      Republic of Albania     Tirana            \n",
       "3  People's Democratic Republic of Algeria    Algiers            \n",
       "4                                           Pago Pago            "
      ]
     },
     "execution_count": 12,
     "metadata": {},
     "output_type": "execute_result"
    }
   ],
   "source": [
    "country_dict['Alt_names'] = \"\"\n",
    "\n",
    "country_dict.head()"
   ]
  },
  {
   "cell_type": "code",
   "execution_count": 13,
   "metadata": {
    "collapsed": true
   },
   "outputs": [],
   "source": [
    "# function to add any alternative name to a country\n",
    "def add_country_alt_name(name, alt):\n",
    "    for index, row in country_dict.iterrows():\n",
    "        if(row.Name == name):\n",
    "            row.Alt_names += \"-\"\n",
    "            row.Alt_names += alt\n",
    "            print(\"Added successfully\")"
   ]
  },
  {
   "cell_type": "markdown",
   "metadata": {},
   "source": [
    "### Countries names list\n",
    "\n",
    "Build a dictionnary with all names that refer to a country."
   ]
  },
  {
   "cell_type": "code",
   "execution_count": 14,
   "metadata": {
    "collapsed": false
   },
   "outputs": [],
   "source": [
    "def country_city_list(n):\n",
    "    \"\"\"\n",
    "        Returns a list of all words referring to a country.\n",
    "        By words, we mean the name of the country, the capital,\n",
    "        and all other alternative names, like 'CH' for Switzerland.\n",
    "        \n",
    "        INPUT\n",
    "            n: index of the country in the 'country_dict' dataframe\n",
    "            \n",
    "        OUTPUT\n",
    "            l: list of all words referring to the country\n",
    "    \"\"\"\n",
    "    \n",
    "    l = []\n",
    "    country_entry = country_dict.loc[n]\n",
    "    \n",
    "    # Country Name\n",
    "    l.append(country_entry.Name)\n",
    "    \n",
    "    # Country Capital\n",
    "    if (country_entry.Capital != \"\"):\n",
    "        l.append(country_entry.Capital)\n",
    "    \n",
    "    # All others alternative names, cities, ...\n",
    "    if (country_entry.Alt_names != \"\"):\n",
    "        names = country_entry.Alt_names.split(\"-\")\n",
    "        l.extend(names)\n",
    "        \n",
    "    # return list\n",
    "    return l"
   ]
  },
  {
   "cell_type": "code",
   "execution_count": 15,
   "metadata": {
    "collapsed": false
   },
   "outputs": [],
   "source": [
    "country_names = {}\n",
    "\n",
    "for index, row in country_dict.iterrows():\n",
    "    country_names[row.Name] = country_city_list(index)"
   ]
  },
  {
   "cell_type": "markdown",
   "metadata": {},
   "source": [
    "### Country in email"
   ]
  },
  {
   "cell_type": "code",
   "execution_count": 16,
   "metadata": {
    "collapsed": true
   },
   "outputs": [],
   "source": [
    "def containsCountryInfo(content):\n",
    "    \"\"\"\n",
    "        Returns the countries that the given string refers to.\n",
    "        \n",
    "        INPUT\n",
    "            content: string to analyse, which may mention a country\n",
    "            \n",
    "        OUTPUT\n",
    "            country_list: list of countrie mentionned is the input 'content'\n",
    "    \"\"\"\n",
    "    \n",
    "    country_list = []\n",
    "    \n",
    "    for index, row in country_dict.iterrows():\n",
    "        inside = False\n",
    "        \n",
    "        for name in country_names[row.Name]:\n",
    "            if(name != \"\" and name in content):\n",
    "                inside = True\n",
    "                \n",
    "        if inside:\n",
    "            country_list.append(row.Name)\n",
    "                \n",
    "    return country_list"
   ]
  },
  {
   "cell_type": "code",
   "execution_count": 17,
   "metadata": {
    "collapsed": false
   },
   "outputs": [
    {
     "data": {
      "text/html": [
       "<div>\n",
       "<table border=\"1\" class=\"dataframe\">\n",
       "  <thead>\n",
       "    <tr style=\"text-align: right;\">\n",
       "      <th></th>\n",
       "      <th>SubBody</th>\n",
       "      <th>Country</th>\n",
       "    </tr>\n",
       "    <tr>\n",
       "      <th>Id</th>\n",
       "      <th></th>\n",
       "      <th></th>\n",
       "    </tr>\n",
       "  </thead>\n",
       "  <tbody>\n",
       "    <tr>\n",
       "      <th>1</th>\n",
       "      <td>FW: Wow</td>\n",
       "      <td>[]</td>\n",
       "    </tr>\n",
       "    <tr>\n",
       "      <th>2</th>\n",
       "      <td>B6\\nThursday, March 3, 2011 9:45 PM\\nH: Latest...</td>\n",
       "      <td>[]</td>\n",
       "    </tr>\n",
       "    <tr>\n",
       "      <th>3</th>\n",
       "      <td>Thx Re: Chris Stevens</td>\n",
       "      <td>[]</td>\n",
       "    </tr>\n",
       "    <tr>\n",
       "      <th>4</th>\n",
       "      <td>FVV: Cairo Condemnation - Final</td>\n",
       "      <td>[Egypt]</td>\n",
       "    </tr>\n",
       "    <tr>\n",
       "      <th>5</th>\n",
       "      <td>H &lt;hrod17@clintonemail.com&gt;\\nFriday, March 11,...</td>\n",
       "      <td>[]</td>\n",
       "    </tr>\n",
       "  </tbody>\n",
       "</table>\n",
       "</div>"
      ],
      "text/plain": [
       "                                              SubBody  Country\n",
       "Id                                                            \n",
       "1                                             FW: Wow       []\n",
       "2   B6\\nThursday, March 3, 2011 9:45 PM\\nH: Latest...       []\n",
       "3                               Thx Re: Chris Stevens       []\n",
       "4                     FVV: Cairo Condemnation - Final  [Egypt]\n",
       "5   H <hrod17@clintonemail.com>\\nFriday, March 11,...       []"
      ]
     },
     "execution_count": 17,
     "metadata": {},
     "output_type": "execute_result"
    }
   ],
   "source": [
    "emails[\"Country\"] = [containsCountryInfo(email) for email in emails.SubBody]\n",
    "emails.head()"
   ]
  },
  {
   "cell_type": "code",
   "execution_count": 18,
   "metadata": {
    "collapsed": false
   },
   "outputs": [
    {
     "data": {
      "text/html": [
       "<div>\n",
       "<table border=\"1\" class=\"dataframe\">\n",
       "  <thead>\n",
       "    <tr style=\"text-align: right;\">\n",
       "      <th></th>\n",
       "      <th>SubBody</th>\n",
       "      <th>Country</th>\n",
       "      <th>Nbr country</th>\n",
       "    </tr>\n",
       "    <tr>\n",
       "      <th>Id</th>\n",
       "      <th></th>\n",
       "      <th></th>\n",
       "      <th></th>\n",
       "    </tr>\n",
       "  </thead>\n",
       "  <tbody>\n",
       "    <tr>\n",
       "      <th>1</th>\n",
       "      <td>FW: Wow</td>\n",
       "      <td>[]</td>\n",
       "      <td>0</td>\n",
       "    </tr>\n",
       "    <tr>\n",
       "      <th>2</th>\n",
       "      <td>B6\\nThursday, March 3, 2011 9:45 PM\\nH: Latest...</td>\n",
       "      <td>[]</td>\n",
       "      <td>0</td>\n",
       "    </tr>\n",
       "    <tr>\n",
       "      <th>3</th>\n",
       "      <td>Thx Re: Chris Stevens</td>\n",
       "      <td>[]</td>\n",
       "      <td>0</td>\n",
       "    </tr>\n",
       "    <tr>\n",
       "      <th>4</th>\n",
       "      <td>FVV: Cairo Condemnation - Final</td>\n",
       "      <td>[Egypt]</td>\n",
       "      <td>1</td>\n",
       "    </tr>\n",
       "    <tr>\n",
       "      <th>5</th>\n",
       "      <td>H &lt;hrod17@clintonemail.com&gt;\\nFriday, March 11,...</td>\n",
       "      <td>[]</td>\n",
       "      <td>0</td>\n",
       "    </tr>\n",
       "  </tbody>\n",
       "</table>\n",
       "</div>"
      ],
      "text/plain": [
       "                                              SubBody  Country  Nbr country\n",
       "Id                                                                         \n",
       "1                                             FW: Wow       []            0\n",
       "2   B6\\nThursday, March 3, 2011 9:45 PM\\nH: Latest...       []            0\n",
       "3                               Thx Re: Chris Stevens       []            0\n",
       "4                     FVV: Cairo Condemnation - Final  [Egypt]            1\n",
       "5   H <hrod17@clintonemail.com>\\nFriday, March 11,...       []            0"
      ]
     },
     "execution_count": 18,
     "metadata": {},
     "output_type": "execute_result"
    }
   ],
   "source": [
    "emails[\"Nbr country\"] = [len(c) for c in emails.Country]\n",
    "emails.head()"
   ]
  },
  {
   "cell_type": "markdown",
   "metadata": {},
   "source": [
    "### Sentiments analysis data preparation\n",
    "\n",
    "First, we need to remove all emails not mentionning a county."
   ]
  },
  {
   "cell_type": "code",
   "execution_count": 19,
   "metadata": {
    "collapsed": false,
    "scrolled": false
   },
   "outputs": [
    {
     "data": {
      "text/html": [
       "<div>\n",
       "<table border=\"1\" class=\"dataframe\">\n",
       "  <thead>\n",
       "    <tr style=\"text-align: right;\">\n",
       "      <th></th>\n",
       "      <th>SubBody</th>\n",
       "      <th>Country</th>\n",
       "      <th>Nbr country</th>\n",
       "    </tr>\n",
       "    <tr>\n",
       "      <th>Id</th>\n",
       "      <th></th>\n",
       "      <th></th>\n",
       "      <th></th>\n",
       "    </tr>\n",
       "  </thead>\n",
       "  <tbody>\n",
       "    <tr>\n",
       "      <th>4</th>\n",
       "      <td>FVV: Cairo Condemnation - Final</td>\n",
       "      <td>[Egypt]</td>\n",
       "      <td>1</td>\n",
       "    </tr>\n",
       "    <tr>\n",
       "      <th>7</th>\n",
       "      <td>FW: Anti-Muslim film director in hiding, foll...</td>\n",
       "      <td>[Egypt, Libya]</td>\n",
       "      <td>2</td>\n",
       "    </tr>\n",
       "    <tr>\n",
       "      <th>10</th>\n",
       "      <td>B6\\nWednesday, September 12, 2012 6:16 PM\\nFwd...</td>\n",
       "      <td>[Libya]</td>\n",
       "      <td>1</td>\n",
       "    </tr>\n",
       "    <tr>\n",
       "      <th>11</th>\n",
       "      <td>Fyi\\nB6\\n— — AbZ and Hb3 on Libya and West Ban...</td>\n",
       "      <td>[Libya]</td>\n",
       "      <td>1</td>\n",
       "    </tr>\n",
       "    <tr>\n",
       "      <th>12</th>\n",
       "      <td>B6\\nWednesday, September 12, 2012 6:16 PM\\nFwd...</td>\n",
       "      <td>[Libya]</td>\n",
       "      <td>1</td>\n",
       "    </tr>\n",
       "  </tbody>\n",
       "</table>\n",
       "</div>"
      ],
      "text/plain": [
       "                                              SubBody         Country  \\\n",
       "Id                                                                      \n",
       "4                     FVV: Cairo Condemnation - Final         [Egypt]   \n",
       "7    FW: Anti-Muslim film director in hiding, foll...  [Egypt, Libya]   \n",
       "10  B6\\nWednesday, September 12, 2012 6:16 PM\\nFwd...         [Libya]   \n",
       "11  Fyi\\nB6\\n— — AbZ and Hb3 on Libya and West Ban...         [Libya]   \n",
       "12  B6\\nWednesday, September 12, 2012 6:16 PM\\nFwd...         [Libya]   \n",
       "\n",
       "    Nbr country  \n",
       "Id               \n",
       "4             1  \n",
       "7             2  \n",
       "10            1  \n",
       "11            1  \n",
       "12            1  "
      ]
     },
     "execution_count": 19,
     "metadata": {},
     "output_type": "execute_result"
    }
   ],
   "source": [
    "a = emails[\"Nbr country\"] == 0\n",
    "data_for_sentiment = emails[~ a]\n",
    "data_for_sentiment.head()"
   ]
  },
  {
   "cell_type": "code",
   "execution_count": 20,
   "metadata": {
    "collapsed": false
   },
   "outputs": [
    {
     "name": "stdout",
     "output_type": "stream",
     "text": [
      "Emails without country: 7945\n",
      "Emails with country: 1645\n",
      "Percentage: 20.704845814977972 %\n"
     ]
    }
   ],
   "source": [
    "print(\"Emails without country:\", len(emails))\n",
    "print(\"Emails with country:\", len(data_for_sentiment))\n",
    "print(\"Percentage:\",len(data_for_sentiment)/len(emails)*100, \"%\")"
   ]
  },
  {
   "cell_type": "markdown",
   "metadata": {},
   "source": [
    "We can also see that a single email might mention multiple countries. We will deal with those case later on, after the sentiment analysis step."
   ]
  },
  {
   "cell_type": "code",
   "execution_count": 21,
   "metadata": {
    "collapsed": false
   },
   "outputs": [
    {
     "name": "stdout",
     "output_type": "stream",
     "text": [
      "Emails mentionning more than one country 440\n",
      "Percentage: 26.7477203647 %\n"
     ]
    }
   ],
   "source": [
    "mult_countries = data_for_sentiment[\"Nbr country\"] > 1\n",
    "print(\"Emails mentionning more than one country\", mult_countries.sum())\n",
    "print(\"Percentage:\", mult_countries.sum()/len(data_for_sentiment)*100, \"%\")"
   ]
  },
  {
   "cell_type": "markdown",
   "metadata": {},
   "source": [
    "### Sentiment analysis\n",
    "\n",
    "Now, for the sentiment analysis, we will start by using the *textBlob* package, which relies on the nltk one.\n",
    "\n",
    "https://textblob.readthedocs.io/en/dev/"
   ]
  },
  {
   "cell_type": "code",
   "execution_count": 22,
   "metadata": {
    "collapsed": false
   },
   "outputs": [],
   "source": [
    "from textblob import TextBlob"
   ]
  },
  {
   "cell_type": "code",
   "execution_count": 23,
   "metadata": {
    "collapsed": false
   },
   "outputs": [],
   "source": [
    "def sentimentAnalysis_TextBlob(data):\n",
    "    \n",
    "    data[\"Polarity\"] = \"\"\n",
    "\n",
    "    for index, row in data.iterrows():\n",
    "        content = TextBlob(row.SubBody)\n",
    "        data.set_value(index, \"Polarity\", content.sentiment.polarity)\n",
    "        \n",
    "    return data"
   ]
  },
  {
   "cell_type": "code",
   "execution_count": 24,
   "metadata": {
    "collapsed": false
   },
   "outputs": [
    {
     "data": {
      "text/html": [
       "<div>\n",
       "<table border=\"1\" class=\"dataframe\">\n",
       "  <thead>\n",
       "    <tr style=\"text-align: right;\">\n",
       "      <th></th>\n",
       "      <th>SubBody</th>\n",
       "      <th>Country</th>\n",
       "      <th>Nbr country</th>\n",
       "      <th>Polarity</th>\n",
       "    </tr>\n",
       "    <tr>\n",
       "      <th>Id</th>\n",
       "      <th></th>\n",
       "      <th></th>\n",
       "      <th></th>\n",
       "      <th></th>\n",
       "    </tr>\n",
       "  </thead>\n",
       "  <tbody>\n",
       "    <tr>\n",
       "      <th>4</th>\n",
       "      <td>FVV: Cairo Condemnation - Final</td>\n",
       "      <td>[Egypt]</td>\n",
       "      <td>1</td>\n",
       "      <td>0</td>\n",
       "    </tr>\n",
       "    <tr>\n",
       "      <th>7</th>\n",
       "      <td>FW: Anti-Muslim film director in hiding, foll...</td>\n",
       "      <td>[Egypt, Libya]</td>\n",
       "      <td>2</td>\n",
       "      <td>0</td>\n",
       "    </tr>\n",
       "    <tr>\n",
       "      <th>10</th>\n",
       "      <td>B6\\nWednesday, September 12, 2012 6:16 PM\\nFwd...</td>\n",
       "      <td>[Libya]</td>\n",
       "      <td>1</td>\n",
       "      <td>0.366667</td>\n",
       "    </tr>\n",
       "    <tr>\n",
       "      <th>11</th>\n",
       "      <td>Fyi\\nB6\\n— — AbZ and Hb3 on Libya and West Ban...</td>\n",
       "      <td>[Libya]</td>\n",
       "      <td>1</td>\n",
       "      <td>0</td>\n",
       "    </tr>\n",
       "    <tr>\n",
       "      <th>12</th>\n",
       "      <td>B6\\nWednesday, September 12, 2012 6:16 PM\\nFwd...</td>\n",
       "      <td>[Libya]</td>\n",
       "      <td>1</td>\n",
       "      <td>0.3</td>\n",
       "    </tr>\n",
       "  </tbody>\n",
       "</table>\n",
       "</div>"
      ],
      "text/plain": [
       "                                              SubBody         Country  \\\n",
       "Id                                                                      \n",
       "4                     FVV: Cairo Condemnation - Final         [Egypt]   \n",
       "7    FW: Anti-Muslim film director in hiding, foll...  [Egypt, Libya]   \n",
       "10  B6\\nWednesday, September 12, 2012 6:16 PM\\nFwd...         [Libya]   \n",
       "11  Fyi\\nB6\\n— — AbZ and Hb3 on Libya and West Ban...         [Libya]   \n",
       "12  B6\\nWednesday, September 12, 2012 6:16 PM\\nFwd...         [Libya]   \n",
       "\n",
       "    Nbr country  Polarity  \n",
       "Id                         \n",
       "4             1         0  \n",
       "7             2         0  \n",
       "10            1  0.366667  \n",
       "11            1         0  \n",
       "12            1       0.3  "
      ]
     },
     "execution_count": 24,
     "metadata": {},
     "output_type": "execute_result"
    }
   ],
   "source": [
    "data_for_sentiment = sentimentAnalysis_TextBlob(data_for_sentiment)\n",
    "data_for_sentiment.head()"
   ]
  },
  {
   "cell_type": "markdown",
   "metadata": {},
   "source": [
    "The sentiment is keep in the *polarity* value, a float within the range [-1,1]. \n",
    "\n",
    "- -1 for very negative sentiment\n",
    "- 0 for neutral sentiment\n",
    "- 1 for very good sentiment"
   ]
  },
  {
   "cell_type": "markdown",
   "metadata": {},
   "source": [
    "Now, we will deal with emails mentionning more than one country. For these cases, we simply duplicate the email content for each country it is mentionning."
   ]
  },
  {
   "cell_type": "code",
   "execution_count": 25,
   "metadata": {
    "collapsed": true
   },
   "outputs": [],
   "source": [
    "def separate_emails_multiple_countries(data):\n",
    "    # List for the new dataframe\n",
    "    temp = list()\n",
    "\n",
    "    # Iterate over all emails\n",
    "    for index, row in data.iterrows():\n",
    "        email = row.SubBody\n",
    "        polarity = row.Polarity\n",
    "\n",
    "        # Create an entry for each country mentionned in an email.\n",
    "        for c in row.Country:\n",
    "            temp.append([email, polarity, c])\n",
    "\n",
    "    # Create the new dataframe\n",
    "    return pd.DataFrame(temp, columns=[\"Body\", \"Polarity\", \"Country\"])"
   ]
  },
  {
   "cell_type": "code",
   "execution_count": 26,
   "metadata": {
    "collapsed": false
   },
   "outputs": [
    {
     "data": {
      "text/html": [
       "<div>\n",
       "<table border=\"1\" class=\"dataframe\">\n",
       "  <thead>\n",
       "    <tr style=\"text-align: right;\">\n",
       "      <th></th>\n",
       "      <th>Body</th>\n",
       "      <th>Polarity</th>\n",
       "      <th>Country</th>\n",
       "    </tr>\n",
       "  </thead>\n",
       "  <tbody>\n",
       "    <tr>\n",
       "      <th>0</th>\n",
       "      <td>FVV: Cairo Condemnation - Final</td>\n",
       "      <td>0.000000</td>\n",
       "      <td>Egypt</td>\n",
       "    </tr>\n",
       "    <tr>\n",
       "      <th>1</th>\n",
       "      <td>FW: Anti-Muslim film director in hiding, foll...</td>\n",
       "      <td>0.000000</td>\n",
       "      <td>Egypt</td>\n",
       "    </tr>\n",
       "    <tr>\n",
       "      <th>2</th>\n",
       "      <td>FW: Anti-Muslim film director in hiding, foll...</td>\n",
       "      <td>0.000000</td>\n",
       "      <td>Libya</td>\n",
       "    </tr>\n",
       "    <tr>\n",
       "      <th>3</th>\n",
       "      <td>B6\\nWednesday, September 12, 2012 6:16 PM\\nFwd...</td>\n",
       "      <td>0.366667</td>\n",
       "      <td>Libya</td>\n",
       "    </tr>\n",
       "    <tr>\n",
       "      <th>4</th>\n",
       "      <td>Fyi\\nB6\\n— — AbZ and Hb3 on Libya and West Ban...</td>\n",
       "      <td>0.000000</td>\n",
       "      <td>Libya</td>\n",
       "    </tr>\n",
       "  </tbody>\n",
       "</table>\n",
       "</div>"
      ],
      "text/plain": [
       "                                                Body  Polarity Country\n",
       "0                    FVV: Cairo Condemnation - Final  0.000000   Egypt\n",
       "1   FW: Anti-Muslim film director in hiding, foll...  0.000000   Egypt\n",
       "2   FW: Anti-Muslim film director in hiding, foll...  0.000000   Libya\n",
       "3  B6\\nWednesday, September 12, 2012 6:16 PM\\nFwd...  0.366667   Libya\n",
       "4  Fyi\\nB6\\n— — AbZ and Hb3 on Libya and West Ban...  0.000000   Libya"
      ]
     },
     "execution_count": 26,
     "metadata": {},
     "output_type": "execute_result"
    }
   ],
   "source": [
    "email_polarity = separate_emails_multiple_countries(data_for_sentiment)\n",
    "email_polarity.head()"
   ]
  },
  {
   "cell_type": "markdown",
   "metadata": {},
   "source": [
    "Now we can group the email by country. \n",
    "\n",
    "For each country, we compute the:\n",
    "\n",
    "- number of emails mentionned in\n",
    "- mean of polarity\n",
    "- max polarity\n",
    "- min polarity\n",
    "- standard deviation of the polarities"
   ]
  },
  {
   "cell_type": "code",
   "execution_count": 27,
   "metadata": {
    "collapsed": false
   },
   "outputs": [
    {
     "data": {
      "text/html": [
       "<div>\n",
       "<table border=\"1\" class=\"dataframe\">\n",
       "  <thead>\n",
       "    <tr style=\"text-align: right;\">\n",
       "      <th></th>\n",
       "      <th>Mean</th>\n",
       "      <th>Count</th>\n",
       "      <th>Max</th>\n",
       "      <th>Min</th>\n",
       "      <th>Std</th>\n",
       "    </tr>\n",
       "    <tr>\n",
       "      <th>Country</th>\n",
       "      <th></th>\n",
       "      <th></th>\n",
       "      <th></th>\n",
       "      <th></th>\n",
       "      <th></th>\n",
       "    </tr>\n",
       "  </thead>\n",
       "  <tbody>\n",
       "    <tr>\n",
       "      <th>Tunisia</th>\n",
       "      <td>0.074410</td>\n",
       "      <td>7</td>\n",
       "      <td>0.122085</td>\n",
       "      <td>0.015152</td>\n",
       "      <td>0.047208</td>\n",
       "    </tr>\n",
       "    <tr>\n",
       "      <th>Lithuania</th>\n",
       "      <td>0.149320</td>\n",
       "      <td>7</td>\n",
       "      <td>0.479167</td>\n",
       "      <td>-0.042708</td>\n",
       "      <td>0.178311</td>\n",
       "    </tr>\n",
       "    <tr>\n",
       "      <th>Dominica</th>\n",
       "      <td>0.061612</td>\n",
       "      <td>8</td>\n",
       "      <td>0.200000</td>\n",
       "      <td>-0.010463</td>\n",
       "      <td>0.073810</td>\n",
       "    </tr>\n",
       "    <tr>\n",
       "      <th>Morocco</th>\n",
       "      <td>0.010135</td>\n",
       "      <td>13</td>\n",
       "      <td>0.422619</td>\n",
       "      <td>-0.750000</td>\n",
       "      <td>0.318967</td>\n",
       "    </tr>\n",
       "    <tr>\n",
       "      <th>Bulgaria</th>\n",
       "      <td>-0.003472</td>\n",
       "      <td>3</td>\n",
       "      <td>0.181250</td>\n",
       "      <td>-0.225000</td>\n",
       "      <td>0.205611</td>\n",
       "    </tr>\n",
       "    <tr>\n",
       "      <th>Sudan</th>\n",
       "      <td>0.096317</td>\n",
       "      <td>33</td>\n",
       "      <td>0.700000</td>\n",
       "      <td>-0.750000</td>\n",
       "      <td>0.240548</td>\n",
       "    </tr>\n",
       "    <tr>\n",
       "      <th>Dominican Republic</th>\n",
       "      <td>0.041842</td>\n",
       "      <td>7</td>\n",
       "      <td>0.111158</td>\n",
       "      <td>-0.010463</td>\n",
       "      <td>0.052039</td>\n",
       "    </tr>\n",
       "    <tr>\n",
       "      <th>South Africa</th>\n",
       "      <td>0.108937</td>\n",
       "      <td>19</td>\n",
       "      <td>0.250000</td>\n",
       "      <td>-0.125000</td>\n",
       "      <td>0.078255</td>\n",
       "    </tr>\n",
       "    <tr>\n",
       "      <th>Belgium</th>\n",
       "      <td>0.049344</td>\n",
       "      <td>25</td>\n",
       "      <td>0.391667</td>\n",
       "      <td>-0.750000</td>\n",
       "      <td>0.194041</td>\n",
       "    </tr>\n",
       "    <tr>\n",
       "      <th>Netherlands</th>\n",
       "      <td>0.055784</td>\n",
       "      <td>8</td>\n",
       "      <td>0.106860</td>\n",
       "      <td>0.000000</td>\n",
       "      <td>0.039622</td>\n",
       "    </tr>\n",
       "  </tbody>\n",
       "</table>\n",
       "</div>"
      ],
      "text/plain": [
       "                        Mean  Count       Max       Min       Std\n",
       "Country                                                          \n",
       "Tunisia             0.074410      7  0.122085  0.015152  0.047208\n",
       "Lithuania           0.149320      7  0.479167 -0.042708  0.178311\n",
       "Dominica            0.061612      8  0.200000 -0.010463  0.073810\n",
       "Morocco             0.010135     13  0.422619 -0.750000  0.318967\n",
       "Bulgaria           -0.003472      3  0.181250 -0.225000  0.205611\n",
       "Sudan               0.096317     33  0.700000 -0.750000  0.240548\n",
       "Dominican Republic  0.041842      7  0.111158 -0.010463  0.052039\n",
       "South Africa        0.108937     19  0.250000 -0.125000  0.078255\n",
       "Belgium             0.049344     25  0.391667 -0.750000  0.194041\n",
       "Netherlands         0.055784      8  0.106860  0.000000  0.039622"
      ]
     },
     "execution_count": 27,
     "metadata": {},
     "output_type": "execute_result"
    }
   ],
   "source": [
    "# GroupBy country\n",
    "email_polarity_groupby = email_polarity['Polarity'].groupby(email_polarity['Country'])\n",
    "\n",
    "# Mean of polarities\n",
    "temp = email_polarity_groupby.mean()\n",
    "email_polarity_analysis = pd.DataFrame(temp)\n",
    "email_polarity_analysis = email_polarity_analysis.rename(columns = {'Polarity':'Mean'})\n",
    "\n",
    "# All others stats (count, max, min, std)\n",
    "email_polarity_analysis['Count'] = email_polarity_groupby.count()\n",
    "email_polarity_analysis['Max'] = email_polarity_groupby.max()\n",
    "email_polarity_analysis['Min'] = email_polarity_groupby.min()\n",
    "email_polarity_analysis['Std'] = email_polarity_groupby.std()\n",
    "\n",
    "# Sample\n",
    "email_polarity_analysis.sample(10)"
   ]
  },
  {
   "cell_type": "code",
   "execution_count": 28,
   "metadata": {
    "collapsed": true
   },
   "outputs": [],
   "source": [
    "def polarity_stats(data):\n",
    "    # GroupBy country\n",
    "    email_polarity_groupby = data['Polarity'].groupby(data['Country'])\n",
    "\n",
    "    # Mean of polarities\n",
    "    temp = email_polarity_groupby.mean()\n",
    "    email_polarity_analysis = pd.DataFrame(temp)\n",
    "    email_polarity_analysis = email_polarity_analysis.rename(columns = {'Polarity':'Mean'})\n",
    "\n",
    "    # All others stats (count, max, min, std)\n",
    "    email_polarity_analysis['Count'] = email_polarity_groupby.count()\n",
    "    email_polarity_analysis['Max'] = email_polarity_groupby.max()\n",
    "    email_polarity_analysis['Min'] = email_polarity_groupby.min()\n",
    "    email_polarity_analysis['Std'] = email_polarity_groupby.std()\n",
    "    \n",
    "    email_sentiment_analysis = sentiment_labels_count(data, email_polarity_analysis)\n",
    "\n",
    "    return email_sentiment_analysis"
   ]
  },
  {
   "cell_type": "code",
   "execution_count": 29,
   "metadata": {
    "collapsed": true
   },
   "outputs": [],
   "source": [
    "def sentiment_labels_count(data, stat_data):\n",
    "    # Compute the polarity sign for each country ( -1 if <0; 0 if ==0, 1 if >0)\n",
    "    sentiment_count = data.copy()\n",
    "    sentiment_count['Sign'] = np.sign(data.Polarity)\n",
    "    sentiment_count = sentiment_count.groupby('Country').Sign.value_counts().unstack()\n",
    "\n",
    "    # Add number of emails for each sentiment groupby country\n",
    "    email_sentiment_analysis = pd.concat([stat_data, sentiment_count], axis=1)\n",
    "\n",
    "    # Rename columns \n",
    "    email_sentiment_analysis = email_sentiment_analysis.rename(columns = {-1.0:'Negative_count'})\n",
    "    email_sentiment_analysis = email_sentiment_analysis.rename(columns = {0.0:'Neutral_count'})\n",
    "    email_sentiment_analysis = email_sentiment_analysis.rename(columns = {1.0:'Positive_count'})\n",
    "\n",
    "    email_sentiment_analysis.fillna(0,inplace=True)\n",
    "    \n",
    "    return email_sentiment_analysis"
   ]
  },
  {
   "cell_type": "code",
   "execution_count": 30,
   "metadata": {
    "collapsed": false
   },
   "outputs": [
    {
     "data": {
      "text/html": [
       "<div>\n",
       "<table border=\"1\" class=\"dataframe\">\n",
       "  <thead>\n",
       "    <tr style=\"text-align: right;\">\n",
       "      <th></th>\n",
       "      <th>Mean</th>\n",
       "      <th>Count</th>\n",
       "      <th>Max</th>\n",
       "      <th>Min</th>\n",
       "      <th>Std</th>\n",
       "      <th>Negative_count</th>\n",
       "      <th>Neutral_count</th>\n",
       "      <th>Positive_count</th>\n",
       "    </tr>\n",
       "    <tr>\n",
       "      <th>Country</th>\n",
       "      <th></th>\n",
       "      <th></th>\n",
       "      <th></th>\n",
       "      <th></th>\n",
       "      <th></th>\n",
       "      <th></th>\n",
       "      <th></th>\n",
       "      <th></th>\n",
       "    </tr>\n",
       "  </thead>\n",
       "  <tbody>\n",
       "    <tr>\n",
       "      <th>Afghanistan</th>\n",
       "      <td>0.080838</td>\n",
       "      <td>141</td>\n",
       "      <td>0.800000</td>\n",
       "      <td>-0.750000</td>\n",
       "      <td>0.184772</td>\n",
       "      <td>10.0</td>\n",
       "      <td>27.0</td>\n",
       "      <td>104.0</td>\n",
       "    </tr>\n",
       "    <tr>\n",
       "      <th>Albania</th>\n",
       "      <td>0.063999</td>\n",
       "      <td>2</td>\n",
       "      <td>0.124370</td>\n",
       "      <td>0.003628</td>\n",
       "      <td>0.085378</td>\n",
       "      <td>0.0</td>\n",
       "      <td>0.0</td>\n",
       "      <td>2.0</td>\n",
       "    </tr>\n",
       "    <tr>\n",
       "      <th>Algeria</th>\n",
       "      <td>0.106345</td>\n",
       "      <td>5</td>\n",
       "      <td>0.250000</td>\n",
       "      <td>0.000000</td>\n",
       "      <td>0.104576</td>\n",
       "      <td>0.0</td>\n",
       "      <td>1.0</td>\n",
       "      <td>4.0</td>\n",
       "    </tr>\n",
       "    <tr>\n",
       "      <th>Angola</th>\n",
       "      <td>0.134770</td>\n",
       "      <td>13</td>\n",
       "      <td>0.533333</td>\n",
       "      <td>-0.012500</td>\n",
       "      <td>0.173844</td>\n",
       "      <td>1.0</td>\n",
       "      <td>3.0</td>\n",
       "      <td>9.0</td>\n",
       "    </tr>\n",
       "    <tr>\n",
       "      <th>Antarctica</th>\n",
       "      <td>0.091667</td>\n",
       "      <td>1</td>\n",
       "      <td>0.091667</td>\n",
       "      <td>0.091667</td>\n",
       "      <td>0.000000</td>\n",
       "      <td>0.0</td>\n",
       "      <td>0.0</td>\n",
       "      <td>1.0</td>\n",
       "    </tr>\n",
       "  </tbody>\n",
       "</table>\n",
       "</div>"
      ],
      "text/plain": [
       "                 Mean  Count       Max       Min       Std  Negative_count  \\\n",
       "Country                                                                      \n",
       "Afghanistan  0.080838    141  0.800000 -0.750000  0.184772            10.0   \n",
       "Albania      0.063999      2  0.124370  0.003628  0.085378             0.0   \n",
       "Algeria      0.106345      5  0.250000  0.000000  0.104576             0.0   \n",
       "Angola       0.134770     13  0.533333 -0.012500  0.173844             1.0   \n",
       "Antarctica   0.091667      1  0.091667  0.091667  0.000000             0.0   \n",
       "\n",
       "             Neutral_count  Positive_count  \n",
       "Country                                     \n",
       "Afghanistan           27.0           104.0  \n",
       "Albania                0.0             2.0  \n",
       "Algeria                1.0             4.0  \n",
       "Angola                 3.0             9.0  \n",
       "Antarctica             0.0             1.0  "
      ]
     },
     "execution_count": 30,
     "metadata": {},
     "output_type": "execute_result"
    }
   ],
   "source": [
    "email_polarity_analysis = polarity_stats(email_polarity)\n",
    "email_polarity_analysis.head()"
   ]
  },
  {
   "cell_type": "markdown",
   "metadata": {},
   "source": [
    "In order to be able to compute some stats, we count the number of emails with negative, neutral, and positive sentiment per country."
   ]
  },
  {
   "cell_type": "code",
   "execution_count": 31,
   "metadata": {
    "collapsed": false,
    "scrolled": false
   },
   "outputs": [],
   "source": [
    "import plotly.plotly as py\n",
    "\n",
    "import plotly.tools as tls\n",
    "tls.set_credentials_file(username='butterflyg', api_key='6obPJi5vjylihiP6SnIm')\n",
    "\n",
    "from plotly.graph_objs import *\n",
    "\n",
    "# Template from https://plot.ly/~Dreamshot/239#code\n",
    "\n",
    "def plot_histogram(df_plot):\n",
    "\n",
    "    trace1 = {\n",
    "      \"x\" : df_plot.Negative_count,\n",
    "      \"y\" : df_plot.index,\n",
    "      \"marker\": {\"color\": \"rgb(255, 0, 0)\"}, \n",
    "      \"name\": \"Negative\", \n",
    "      \"orientation\": \"h\", \n",
    "      \"type\": \"bar\", \n",
    "      \"uid\": \"063b98\", \n",
    "      \"xsrc\": \"Dreamshot:4231:b631ec\", \n",
    "      \"ysrc\": \"Dreamshot:4231:b4bc0c\"\n",
    "    }\n",
    "\n",
    "    trace2 = {\n",
    "      \"x\" : df_plot.Neutral_count,\n",
    "      \"y\" : df_plot.index,\n",
    "      \"marker\": {\"color\": \"rgb(41, 128, 171)\"}, \n",
    "      \"name\": \"Neutral\", \n",
    "      \"orientation\": \"h\", \n",
    "      \"type\": \"bar\", \n",
    "      \"uid\": \"063b98\", \n",
    "      \"xsrc\": \"Dreamshot:4231:b631ec\", \n",
    "      \"ysrc\": \"Dreamshot:4231:b4bc0c\"\n",
    "    }\n",
    "    \n",
    "    trace3 = {\n",
    "      \"x\" : df_plot.Positive_count,\n",
    "      \"y\" : df_plot.index,\n",
    "      \"marker\": {\"color\": \"rgb(36, 118, 23)\"}, \n",
    "      \"name\": \"Positive\", \n",
    "      \"orientation\": \"h\", \n",
    "      \"type\": \"bar\", \n",
    "      \"uid\": \"063b98\", \n",
    "      \"xsrc\": \"Dreamshot:4231:b631ec\", \n",
    "      \"ysrc\": \"Dreamshot:4231:b4bc0c\"\n",
    "    }\n",
    "\n",
    "\n",
    "\n",
    "    data = Data([trace1, trace2, trace3])\n",
    "    layout = {\n",
    "      \"autosize\": False, \n",
    "      \"bargap\": 0.05, \n",
    "      \"bargroupgap\": 0.15, \n",
    "      \"barmode\": \"stack\", \n",
    "      \"boxgap\": 0.3, \n",
    "      \"boxgroupgap\": 0.3, \n",
    "      \"boxmode\": \"overlay\", \n",
    "      \"dragmode\": \"zoom\", \n",
    "      \"font\": {\n",
    "        \"color\": \"rgb(255, 255, 255)\", \n",
    "        \"family\": \"'Open sans', verdana, arial, sans-serif\", \n",
    "        \"size\": 12\n",
    "      }, \n",
    "      \"height\": 2700, \n",
    "      \"hidesources\": False, \n",
    "      \"hovermode\": \"x\", \n",
    "      \"legend\": {\n",
    "        \"x\": 1.11153846154, \n",
    "        \"y\": 1.01538461538, \n",
    "        \"bgcolor\": \"rgba(255, 255, 255, 0)\", \n",
    "        \"bordercolor\": \"rgba(0, 0, 0, 0)\", \n",
    "        \"borderwidth\": 1, \n",
    "        \"font\": {\n",
    "          \"color\": \"\", \n",
    "          \"family\": \"\", \n",
    "          \"size\": 0\n",
    "        }, \n",
    "        \"traceorder\": \"normal\", \n",
    "        \"xanchor\": \"auto\", \n",
    "        \"yanchor\": \"auto\"\n",
    "      }, \n",
    "      \"margin\": {\n",
    "        \"r\": 80, \n",
    "        \"t\": 100, \n",
    "        \"autoexpand\": True, \n",
    "        \"b\": 80, \n",
    "        \"l\": 100, \n",
    "        \"pad\": 0\n",
    "      }, \n",
    "      \"paper_bgcolor\": \"rgb(67, 67, 67)\", \n",
    "      \"plot_bgcolor\": \"rgb(67, 67, 67)\", \n",
    "      \"separators\": \".,\", \n",
    "      \"showlegend\": True, \n",
    "      \"smith\": False, \n",
    "      \"title\": \"<br> Sentiment Analysis of Emails by Country\", \n",
    "      \"titlefont\": {\n",
    "        \"color\": \"rgb(255, 255, 255)\", \n",
    "        \"family\": \"\", \n",
    "        \"size\": 0\n",
    "      }, \n",
    "      \"width\": 700, \n",
    "      \"xaxis\": {\n",
    "        \"anchor\": \"y\", \n",
    "        \"autorange\": True, \n",
    "        \"autotick\": True, \n",
    "        \"domain\": [0, 1], \n",
    "        \"dtick\": 20, \n",
    "        \"exponentformat\": \"e\", \n",
    "        \"gridcolor\": \"#ddd\", \n",
    "        \"gridwidth\": 1, \n",
    "        \"linecolor\": \"#000\", \n",
    "        \"linewidth\": 1, \n",
    "        \"mirror\": False, \n",
    "        \"nticks\": 0, \n",
    "        \"overlaying\": False, \n",
    "        \"position\": 0, \n",
    "        \"range\": [0, 105.368421053], \n",
    "        \"rangemode\": \"normal\", \n",
    "        \"showexponent\": \"all\", \n",
    "        \"showgrid\": False, \n",
    "        \"showline\": False, \n",
    "        \"showticklabels\": True, \n",
    "        \"tick0\": 0, \n",
    "        \"tickangle\": \"auto\", \n",
    "        \"tickcolor\": \"#000\", \n",
    "        \"tickfont\": {\n",
    "          \"color\": \"\", \n",
    "          \"family\": \"\", \n",
    "          \"size\": 0\n",
    "        }, \n",
    "        \"ticklen\": 5, \n",
    "        \"ticks\": \"\", \n",
    "        \"tickwidth\": 1, \n",
    "        \"title\": \"Sorted by number of emails mentions in Dataset <br><i>Source: Hillary Clinton Leaked Emails</i>\", \n",
    "        \"titlefont\": {\n",
    "          \"color\": \"\", \n",
    "          \"family\": \"\", \n",
    "          \"size\": 0\n",
    "        }, \n",
    "        \"type\": \"linear\", \n",
    "        \"zeroline\": False, \n",
    "        \"zerolinecolor\": \"#000\", \n",
    "        \"zerolinewidth\": 1\n",
    "      }, \n",
    "      \"yaxis\": {\n",
    "        \"anchor\": \"x\", \n",
    "        \"autorange\": True, \n",
    "        \"autotick\": True, \n",
    "        \"domain\": [0, 1], \n",
    "        \"dtick\": 1, \n",
    "        \"exponentformat\": \"e\", \n",
    "        \"gridcolor\": \"#ddd\", \n",
    "        \"gridwidth\": 1, \n",
    "        \"linecolor\": \"#000\", \n",
    "        \"linewidth\": 1, \n",
    "        \"mirror\": False, \n",
    "        \"nticks\": 0, \n",
    "        \"overlaying\": False, \n",
    "        \"position\": 0, \n",
    "        \"range\": [-0.5, 23.5], \n",
    "        \"rangemode\": \"normal\", \n",
    "        \"showexponent\": \"all\", \n",
    "        \"showgrid\": False, \n",
    "        \"showline\": False, \n",
    "        \"showticklabels\": True, \n",
    "        \"tick0\": 0, \n",
    "        \"tickangle\": \"auto\", \n",
    "        \"tickcolor\": \"#000\", \n",
    "        \"tickfont\": {\n",
    "          \"color\": \"\", \n",
    "          \"family\": \"\", \n",
    "          \"size\": 0\n",
    "        }, \n",
    "        \"ticklen\": 5, \n",
    "        \"ticks\": \"\", \n",
    "        \"tickwidth\": 1, \n",
    "        \"title\": \"\", \n",
    "        \"titlefont\": {\n",
    "          \"color\": \"\", \n",
    "          \"family\": \"\", \n",
    "          \"size\": 0\n",
    "        }, \n",
    "        \"type\": \"category\", \n",
    "        \"zeroline\": False, \n",
    "        \"zerolinecolor\": \"#000\", \n",
    "        \"zerolinewidth\": 1\n",
    "      }\n",
    "    }\n",
    "    fig = Figure(data=data, layout=layout)\n",
    "    return py.iplot(fig)"
   ]
  },
  {
   "cell_type": "code",
   "execution_count": 32,
   "metadata": {
    "collapsed": false,
    "scrolled": false
   },
   "outputs": [
    {
     "ename": "NameError",
     "evalue": "name 'email_sentiment_analysis' is not defined",
     "output_type": "error",
     "traceback": [
      "\u001b[0;31m---------------------------------------------------------------------------\u001b[0m",
      "\u001b[0;31mNameError\u001b[0m                                 Traceback (most recent call last)",
      "\u001b[0;32m<ipython-input-32-dc3c366c4d95>\u001b[0m in \u001b[0;36m<module>\u001b[0;34m()\u001b[0m\n\u001b[1;32m      1\u001b[0m \u001b[0;31m# Plot the sentiment data per country in ascending order of numer of emails\u001b[0m\u001b[0;34m\u001b[0m\u001b[0;34m\u001b[0m\u001b[0m\n\u001b[0;32m----> 2\u001b[0;31m \u001b[0mdf_plot\u001b[0m \u001b[0;34m=\u001b[0m \u001b[0memail_sentiment_analysis\u001b[0m\u001b[0;34m.\u001b[0m\u001b[0msort\u001b[0m\u001b[0;34m(\u001b[0m\u001b[0;34m[\u001b[0m\u001b[0;34m'Count'\u001b[0m\u001b[0;34m]\u001b[0m\u001b[0;34m,\u001b[0m \u001b[0mascending\u001b[0m\u001b[0;34m=\u001b[0m\u001b[0;34m[\u001b[0m\u001b[0;36m1\u001b[0m\u001b[0;34m]\u001b[0m\u001b[0;34m)\u001b[0m\u001b[0;34m\u001b[0m\u001b[0m\n\u001b[0m\u001b[1;32m      3\u001b[0m \u001b[0mplot_histogram\u001b[0m\u001b[0;34m(\u001b[0m\u001b[0mdf_plot\u001b[0m\u001b[0;34m)\u001b[0m\u001b[0;34m\u001b[0m\u001b[0m\n",
      "\u001b[0;31mNameError\u001b[0m: name 'email_sentiment_analysis' is not defined"
     ]
    }
   ],
   "source": [
    "# Plot the sentiment data per country in ascending order of numer of emails\n",
    "df_plot = email_sentiment_analysis.sort(['Count'], ascending=[1])\n",
    "plot_histogram(df_plot)"
   ]
  }
 ],
 "metadata": {
  "anaconda-cloud": {},
  "kernelspec": {
   "display_name": "Python 3",
   "language": "python",
   "name": "python3"
  },
  "language_info": {
   "codemirror_mode": {
    "name": "ipython",
    "version": 3
   },
   "file_extension": ".py",
   "mimetype": "text/x-python",
   "name": "python",
   "nbconvert_exporter": "python",
   "pygments_lexer": "ipython3",
   "version": "3.5.2"
  }
 },
 "nbformat": 4,
 "nbformat_minor": 1
}
