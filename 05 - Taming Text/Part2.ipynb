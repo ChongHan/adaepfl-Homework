{
 "cells": [
  {
   "cell_type": "code",
   "execution_count": 183,
   "metadata": {
    "collapsed": true
   },
   "outputs": [],
   "source": [
    "import os\n",
    "\n",
    "# Pandas\n",
    "import pandas as pd\n",
    "\n",
    "#Matplot\n",
    "import matplotlib.pyplot as plt\n",
    "\n",
    "# WordCloud (https://github.com/amueller/word_cloud)\n",
    "from wordcloud import WordCloud\n",
    "\n",
    "#NTK\n",
    "import nltk\n",
    "from nltk import word_tokenize\n",
    "\n",
    "import warnings\n",
    "warnings.filterwarnings('ignore')"
   ]
  },
  {
   "cell_type": "code",
   "execution_count": 184,
   "metadata": {
    "collapsed": true
   },
   "outputs": [],
   "source": [
    "#Data location\n",
    "data_path = \"hillary-clinton-emails/\"\n",
    "\n",
    "capital_cities = \"https://raw.githubusercontent.com/icyrockcom/country-capitals/master/data/country-list.csv\"\n",
    "\n",
    "#Import data\n",
    "aliases          = pd.read_csv(data_path+\"Aliases.csv\",         index_col=0)\n",
    "emailsReceivers  = pd.read_csv(data_path+\"EmailReceivers.csv\",  index_col=0)\n",
    "emails           = pd.read_csv(data_path+\"Emails.csv\",          index_col=0)\n",
    "persons          = pd.read_csv(data_path+\"Persons.csv\",         index_col=0)\n",
    "\n",
    "capitals         = pd.read_csv(capital_cities)"
   ]
  },
  {
   "cell_type": "code",
   "execution_count": 185,
   "metadata": {
    "collapsed": false
   },
   "outputs": [
    {
     "data": {
      "text/plain": [
       "ExtractedBodyText    6742\n",
       "ExtractedSubject     6260\n",
       "dtype: int64"
      ]
     },
     "execution_count": 185,
     "metadata": {},
     "output_type": "execute_result"
    }
   ],
   "source": [
    "emails_sub_body = emails[['ExtractedBodyText','ExtractedSubject']]\n",
    "emails_sub_body.count()"
   ]
  },
  {
   "cell_type": "code",
   "execution_count": 186,
   "metadata": {
    "collapsed": false
   },
   "outputs": [],
   "source": [
    "emails_sub_body.ExtractedBodyText.fillna('',inplace=True)\n",
    "emails_sub_body.ExtractedSubject.fillna('',inplace=True)\n",
    "emails_sub_body[\"SubBody\"] = emails_sub_body['ExtractedBodyText'] + \" \" + emails_sub_body['ExtractedSubject']"
   ]
  },
  {
   "cell_type": "code",
   "execution_count": 187,
   "metadata": {
    "collapsed": false
   },
   "outputs": [
    {
     "data": {
      "text/html": [
       "<div>\n",
       "<table border=\"1\" class=\"dataframe\">\n",
       "  <thead>\n",
       "    <tr style=\"text-align: right;\">\n",
       "      <th></th>\n",
       "      <th>SubBody</th>\n",
       "    </tr>\n",
       "    <tr>\n",
       "      <th>Id</th>\n",
       "      <th></th>\n",
       "    </tr>\n",
       "  </thead>\n",
       "  <tbody>\n",
       "    <tr>\n",
       "      <th>2852</th>\n",
       "      <td>Also, steinmeir asking to talk to u about afgh...</td>\n",
       "    </tr>\n",
       "    <tr>\n",
       "      <th>4580</th>\n",
       "      <td>Shaun just called. Vote just happened. UUP una...</td>\n",
       "    </tr>\n",
       "    <tr>\n",
       "      <th>3465</th>\n",
       "      <td>Yes will do. Re: Guinea</td>\n",
       "    </tr>\n",
       "    <tr>\n",
       "      <th>2118</th>\n",
       "      <td>Campbell, Kurt M &lt;CampbelIKM@state.gov&gt;\\nSatur...</td>\n",
       "    </tr>\n",
       "    <tr>\n",
       "      <th>3032</th>\n",
       "      <td>For oprah, Monday is better. rm going to confi...</td>\n",
       "    </tr>\n",
       "    <tr>\n",
       "      <th>528</th>\n",
       "      <td>Thx. Re: Honduras asks us to co-sponsor GA res...</td>\n",
       "    </tr>\n",
       "    <tr>\n",
       "      <th>7723</th>\n",
       "      <td>BINGO! Thx--I thought we were losing our memor...</td>\n",
       "    </tr>\n",
       "    <tr>\n",
       "      <th>2833</th>\n",
       "      <td>Ok. Re:</td>\n",
       "    </tr>\n",
       "    <tr>\n",
       "      <th>7249</th>\n",
       "      <td>RELEASE IN PART\\n1.4(B),B1,1.4(D),B6 Fw:=Guida...</td>\n",
       "    </tr>\n",
       "    <tr>\n",
       "      <th>7264</th>\n",
       "      <td>I thought she wasn't available but that Alex w...</td>\n",
       "    </tr>\n",
       "  </tbody>\n",
       "</table>\n",
       "</div>"
      ],
      "text/plain": [
       "                                                SubBody\n",
       "Id                                                     \n",
       "2852  Also, steinmeir asking to talk to u about afgh...\n",
       "4580  Shaun just called. Vote just happened. UUP una...\n",
       "3465                            Yes will do. Re: Guinea\n",
       "2118  Campbell, Kurt M <CampbelIKM@state.gov>\\nSatur...\n",
       "3032  For oprah, Monday is better. rm going to confi...\n",
       "528   Thx. Re: Honduras asks us to co-sponsor GA res...\n",
       "7723  BINGO! Thx--I thought we were losing our memor...\n",
       "2833                                            Ok. Re:\n",
       "7249  RELEASE IN PART\\n1.4(B),B1,1.4(D),B6 Fw:=Guida...\n",
       "7264  I thought she wasn't available but that Alex w..."
      ]
     },
     "execution_count": 187,
     "metadata": {},
     "output_type": "execute_result"
    }
   ],
   "source": [
    "emails = emails_sub_body.drop(['ExtractedBodyText', 'ExtractedSubject'], 1)\n",
    "emails.sample(10)"
   ]
  },
  {
   "cell_type": "code",
   "execution_count": 188,
   "metadata": {
    "collapsed": false
   },
   "outputs": [
    {
     "name": "stdout",
     "output_type": "stream",
     "text": [
      "Here's a partial list of followup from our last trip and the last week:\n",
      "What can we do to help protect the Christians in Iraq as requested by Ken Joseph whom we saw in Baghdad?\n",
      "JoDee Winterhof raised questions about how the PRTs and the language DOD uses about them are problematic for\n",
      "NGOs like care.\n",
      "Pls ask one of Holbrooke's people if they ever talked to Wolfgang Danspeckgruber at Princeton about building a railroad\n",
      "in Aghanistan.\n",
      "Also Dr. Arthur Keys at International Relief + Development wanted to talk w someone from Holbrooke's team about\n",
      "development in Af.\n",
      "I asked the Spec IG for Af Recon, Arnold Fields, to alert us to problems as soon as they can. I'm not sure how to formalize\n",
      "this or even if it's appropriate. Let's discuss.\n",
      "What are the \"Iran Watchers\"? Followup\n"
     ]
    }
   ],
   "source": [
    "test_sample = emails_sub_body['SubBody'].loc[345]\n",
    "print(test_sample)"
   ]
  },
  {
   "cell_type": "code",
   "execution_count": 189,
   "metadata": {
    "collapsed": false
   },
   "outputs": [
    {
     "data": {
      "text/html": [
       "<div>\n",
       "<table border=\"1\" class=\"dataframe\">\n",
       "  <thead>\n",
       "    <tr style=\"text-align: right;\">\n",
       "      <th></th>\n",
       "      <th>Alpha_2</th>\n",
       "      <th>Alpha3</th>\n",
       "      <th>Name</th>\n",
       "      <th>Numeric</th>\n",
       "      <th>Official_name</th>\n",
       "    </tr>\n",
       "  </thead>\n",
       "  <tbody>\n",
       "    <tr>\n",
       "      <th>0</th>\n",
       "      <td>AW</td>\n",
       "      <td>ABW</td>\n",
       "      <td>Aruba</td>\n",
       "      <td>533</td>\n",
       "      <td></td>\n",
       "    </tr>\n",
       "    <tr>\n",
       "      <th>1</th>\n",
       "      <td>AF</td>\n",
       "      <td>AFG</td>\n",
       "      <td>Afghanistan</td>\n",
       "      <td>004</td>\n",
       "      <td>Islamic Republic of Afghanistan</td>\n",
       "    </tr>\n",
       "    <tr>\n",
       "      <th>2</th>\n",
       "      <td>AO</td>\n",
       "      <td>AGO</td>\n",
       "      <td>Angola</td>\n",
       "      <td>024</td>\n",
       "      <td>Republic of Angola</td>\n",
       "    </tr>\n",
       "    <tr>\n",
       "      <th>3</th>\n",
       "      <td>AI</td>\n",
       "      <td>AIA</td>\n",
       "      <td>Anguilla</td>\n",
       "      <td>660</td>\n",
       "      <td></td>\n",
       "    </tr>\n",
       "    <tr>\n",
       "      <th>4</th>\n",
       "      <td>AX</td>\n",
       "      <td>ALA</td>\n",
       "      <td>Åland Islands</td>\n",
       "      <td>248</td>\n",
       "      <td></td>\n",
       "    </tr>\n",
       "  </tbody>\n",
       "</table>\n",
       "</div>"
      ],
      "text/plain": [
       "  Alpha_2 Alpha3           Name Numeric                    Official_name\n",
       "0      AW    ABW          Aruba     533                                 \n",
       "1      AF    AFG    Afghanistan     004  Islamic Republic of Afghanistan\n",
       "2      AO    AGO         Angola     024               Republic of Angola\n",
       "3      AI    AIA       Anguilla     660                                 \n",
       "4      AX    ALA  Åland Islands     248                                 "
      ]
     },
     "execution_count": 189,
     "metadata": {},
     "output_type": "execute_result"
    }
   ],
   "source": [
    "import pycountry\n",
    "\n",
    "all_country = []\n",
    "\n",
    "for c in list(pycountry.countries):\n",
    "    country_entry = [c.alpha_2, c.alpha_3, c.name, c.numeric, getattr(c, 'official_name', \"\")]\n",
    "    all_country.append(country_entry)\n",
    "    \n",
    "country_dict = pd.DataFrame(all_country, columns=('Alpha_2', 'Alpha3', 'Name', 'Numeric', 'Official_name'))\n",
    "\n",
    "country_dict.head()"
   ]
  },
  {
   "cell_type": "code",
   "execution_count": 190,
   "metadata": {
    "collapsed": false
   },
   "outputs": [
    {
     "data": {
      "text/html": [
       "<div>\n",
       "<table border=\"1\" class=\"dataframe\">\n",
       "  <thead>\n",
       "    <tr style=\"text-align: right;\">\n",
       "      <th></th>\n",
       "      <th>country</th>\n",
       "      <th>capital</th>\n",
       "      <th>type</th>\n",
       "    </tr>\n",
       "  </thead>\n",
       "  <tbody>\n",
       "    <tr>\n",
       "      <th>0</th>\n",
       "      <td>Abkhazia</td>\n",
       "      <td>Sukhumi</td>\n",
       "      <td>countryCapital</td>\n",
       "    </tr>\n",
       "    <tr>\n",
       "      <th>1</th>\n",
       "      <td>Afghanistan</td>\n",
       "      <td>Kabul</td>\n",
       "      <td>countryCapital</td>\n",
       "    </tr>\n",
       "    <tr>\n",
       "      <th>2</th>\n",
       "      <td>Akrotiri and Dhekelia</td>\n",
       "      <td>Episkopi Cantonment</td>\n",
       "      <td>countryCapital</td>\n",
       "    </tr>\n",
       "    <tr>\n",
       "      <th>3</th>\n",
       "      <td>Albania</td>\n",
       "      <td>Tirana</td>\n",
       "      <td>countryCapital</td>\n",
       "    </tr>\n",
       "    <tr>\n",
       "      <th>4</th>\n",
       "      <td>Algeria</td>\n",
       "      <td>Algiers</td>\n",
       "      <td>countryCapital</td>\n",
       "    </tr>\n",
       "  </tbody>\n",
       "</table>\n",
       "</div>"
      ],
      "text/plain": [
       "                 country              capital            type\n",
       "0               Abkhazia              Sukhumi  countryCapital\n",
       "1            Afghanistan                Kabul  countryCapital\n",
       "2  Akrotiri and Dhekelia  Episkopi Cantonment  countryCapital\n",
       "3                Albania               Tirana  countryCapital\n",
       "4                Algeria              Algiers  countryCapital"
      ]
     },
     "execution_count": 190,
     "metadata": {},
     "output_type": "execute_result"
    }
   ],
   "source": [
    "capitals.head()"
   ]
  },
  {
   "cell_type": "code",
   "execution_count": 191,
   "metadata": {
    "collapsed": false
   },
   "outputs": [
    {
     "data": {
      "text/html": [
       "<div>\n",
       "<table border=\"1\" class=\"dataframe\">\n",
       "  <thead>\n",
       "    <tr style=\"text-align: right;\">\n",
       "      <th></th>\n",
       "      <th>Alpha_2</th>\n",
       "      <th>Alpha3</th>\n",
       "      <th>Name</th>\n",
       "      <th>Numeric</th>\n",
       "      <th>Official_name</th>\n",
       "      <th>Capital</th>\n",
       "    </tr>\n",
       "  </thead>\n",
       "  <tbody>\n",
       "    <tr>\n",
       "      <th>0</th>\n",
       "      <td>AW</td>\n",
       "      <td>ABW</td>\n",
       "      <td>Aruba</td>\n",
       "      <td>533</td>\n",
       "      <td></td>\n",
       "      <td>Oranjestad</td>\n",
       "    </tr>\n",
       "    <tr>\n",
       "      <th>1</th>\n",
       "      <td>AF</td>\n",
       "      <td>AFG</td>\n",
       "      <td>Afghanistan</td>\n",
       "      <td>004</td>\n",
       "      <td>Islamic Republic of Afghanistan</td>\n",
       "      <td>Kabul</td>\n",
       "    </tr>\n",
       "    <tr>\n",
       "      <th>2</th>\n",
       "      <td>AO</td>\n",
       "      <td>AGO</td>\n",
       "      <td>Angola</td>\n",
       "      <td>024</td>\n",
       "      <td>Republic of Angola</td>\n",
       "      <td>Luanda</td>\n",
       "    </tr>\n",
       "    <tr>\n",
       "      <th>3</th>\n",
       "      <td>AI</td>\n",
       "      <td>AIA</td>\n",
       "      <td>Anguilla</td>\n",
       "      <td>660</td>\n",
       "      <td></td>\n",
       "      <td>The Valley</td>\n",
       "    </tr>\n",
       "    <tr>\n",
       "      <th>4</th>\n",
       "      <td>AX</td>\n",
       "      <td>ALA</td>\n",
       "      <td>Åland Islands</td>\n",
       "      <td>248</td>\n",
       "      <td></td>\n",
       "      <td></td>\n",
       "    </tr>\n",
       "  </tbody>\n",
       "</table>\n",
       "</div>"
      ],
      "text/plain": [
       "  Alpha_2 Alpha3           Name Numeric                    Official_name  \\\n",
       "0      AW    ABW          Aruba     533                                    \n",
       "1      AF    AFG    Afghanistan     004  Islamic Republic of Afghanistan   \n",
       "2      AO    AGO         Angola     024               Republic of Angola   \n",
       "3      AI    AIA       Anguilla     660                                    \n",
       "4      AX    ALA  Åland Islands     248                                    \n",
       "\n",
       "      Capital  \n",
       "0  Oranjestad  \n",
       "1       Kabul  \n",
       "2      Luanda  \n",
       "3  The Valley  \n",
       "4              "
      ]
     },
     "execution_count": 191,
     "metadata": {},
     "output_type": "execute_result"
    }
   ],
   "source": [
    "country_dict['Capital'] = \"\"\n",
    "\n",
    "for i, capital_entry in capitals.iterrows():\n",
    "    for j, country_entry in country_dict.iterrows():\n",
    "        if (capital_entry['country'] == country_entry['Name']):\n",
    "            \n",
    "            country_dict.loc[j]['Capital'] = capital_entry['capital']\n",
    "\n",
    "country_dict.head()"
   ]
  },
  {
   "cell_type": "code",
   "execution_count": 192,
   "metadata": {
    "collapsed": false
   },
   "outputs": [
    {
     "data": {
      "text/html": [
       "<div>\n",
       "<table border=\"1\" class=\"dataframe\">\n",
       "  <thead>\n",
       "    <tr style=\"text-align: right;\">\n",
       "      <th></th>\n",
       "      <th>Alpha_2</th>\n",
       "      <th>Alpha3</th>\n",
       "      <th>Name</th>\n",
       "      <th>Numeric</th>\n",
       "      <th>Official_name</th>\n",
       "      <th>Capital</th>\n",
       "      <th>Alt_names</th>\n",
       "    </tr>\n",
       "  </thead>\n",
       "  <tbody>\n",
       "    <tr>\n",
       "      <th>0</th>\n",
       "      <td>AW</td>\n",
       "      <td>ABW</td>\n",
       "      <td>Aruba</td>\n",
       "      <td>533</td>\n",
       "      <td></td>\n",
       "      <td>Oranjestad</td>\n",
       "      <td></td>\n",
       "    </tr>\n",
       "    <tr>\n",
       "      <th>1</th>\n",
       "      <td>AF</td>\n",
       "      <td>AFG</td>\n",
       "      <td>Afghanistan</td>\n",
       "      <td>004</td>\n",
       "      <td>Islamic Republic of Afghanistan</td>\n",
       "      <td>Kabul</td>\n",
       "      <td></td>\n",
       "    </tr>\n",
       "    <tr>\n",
       "      <th>2</th>\n",
       "      <td>AO</td>\n",
       "      <td>AGO</td>\n",
       "      <td>Angola</td>\n",
       "      <td>024</td>\n",
       "      <td>Republic of Angola</td>\n",
       "      <td>Luanda</td>\n",
       "      <td></td>\n",
       "    </tr>\n",
       "    <tr>\n",
       "      <th>3</th>\n",
       "      <td>AI</td>\n",
       "      <td>AIA</td>\n",
       "      <td>Anguilla</td>\n",
       "      <td>660</td>\n",
       "      <td></td>\n",
       "      <td>The Valley</td>\n",
       "      <td></td>\n",
       "    </tr>\n",
       "    <tr>\n",
       "      <th>4</th>\n",
       "      <td>AX</td>\n",
       "      <td>ALA</td>\n",
       "      <td>Åland Islands</td>\n",
       "      <td>248</td>\n",
       "      <td></td>\n",
       "      <td></td>\n",
       "      <td></td>\n",
       "    </tr>\n",
       "  </tbody>\n",
       "</table>\n",
       "</div>"
      ],
      "text/plain": [
       "  Alpha_2 Alpha3           Name Numeric                    Official_name  \\\n",
       "0      AW    ABW          Aruba     533                                    \n",
       "1      AF    AFG    Afghanistan     004  Islamic Republic of Afghanistan   \n",
       "2      AO    AGO         Angola     024               Republic of Angola   \n",
       "3      AI    AIA       Anguilla     660                                    \n",
       "4      AX    ALA  Åland Islands     248                                    \n",
       "\n",
       "      Capital Alt_names  \n",
       "0  Oranjestad            \n",
       "1       Kabul            \n",
       "2      Luanda            \n",
       "3  The Valley            \n",
       "4                        "
      ]
     },
     "execution_count": 192,
     "metadata": {},
     "output_type": "execute_result"
    }
   ],
   "source": [
    "country_dict['Alt_names'] = \"\"\n",
    "\n",
    "country_dict.head()"
   ]
  },
  {
   "cell_type": "code",
   "execution_count": 199,
   "metadata": {
    "collapsed": true
   },
   "outputs": [],
   "source": [
    "# check if the text content mentions any country according to our dictionary\n",
    "def containsCountryInfo(content):\n",
    "    country_list = []\n",
    "    \n",
    "    for index, row in country_dict.iterrows():\n",
    "        name_list = country_city_list(index)\n",
    "        \n",
    "        for name in name_list:\n",
    "            if(name != \"\" and name in content):\n",
    "                country_list.append(name_list[0])\n",
    "                \n",
    "    return country_list"
   ]
  },
  {
   "cell_type": "code",
   "execution_count": 194,
   "metadata": {
    "collapsed": false
   },
   "outputs": [
    {
     "data": {
      "text/plain": [
       "['Aruba', 'Oranjestad']"
      ]
     },
     "execution_count": 194,
     "metadata": {},
     "output_type": "execute_result"
    }
   ],
   "source": [
    "# extract useful info from our dictionay into list\n",
    "def country_city_list(n):\n",
    "    l = []\n",
    "    country_entry = country_dict.loc[n]\n",
    "    \n",
    "    l.append(country_entry.Name)\n",
    "    \n",
    "    if (country_entry.Capital != \"\"):\n",
    "        l.append(country_entry.Capital)\n",
    "    \n",
    "    if (country_entry.Alt_names != \"\"):\n",
    "        names = country_entry.Alt_names.split(\"-\")\n",
    "        l.extend(names)\n",
    "        \n",
    "    return l\n",
    "\n",
    "country_city_list(0)"
   ]
  },
  {
   "cell_type": "code",
   "execution_count": 195,
   "metadata": {
    "collapsed": true
   },
   "outputs": [],
   "source": [
    "# function to add any alternative name to a country\n",
    "def add_country_alt_name(name, alt):\n",
    "    for index, row in country_dict.iterrows():\n",
    "        if(row.Name == name):\n",
    "            row.Alt_names += \"-\"\n",
    "            row.Alt_names += alt\n",
    "            print(\"Added successfully\")"
   ]
  },
  {
   "cell_type": "code",
   "execution_count": 196,
   "metadata": {
    "collapsed": false
   },
   "outputs": [
    {
     "name": "stdout",
     "output_type": "stream",
     "text": [
      "Added successfully\n"
     ]
    }
   ],
   "source": [
    "# TEST\n",
    "\n",
    "add_country_alt_name(\"Aruba\", \"Danny\")\n",
    "\n",
    "s = \"Danny sdafsa dsagsdg\""
   ]
  },
  {
   "cell_type": "code",
   "execution_count": 201,
   "metadata": {
    "collapsed": false
   },
   "outputs": [
    {
     "name": "stdout",
     "output_type": "stream",
     "text": [
      "['Aruba']\n"
     ]
    },
    {
     "data": {
      "text/plain": [
       "['Iraq', 'Iraq']"
      ]
     },
     "execution_count": 201,
     "metadata": {},
     "output_type": "execute_result"
    }
   ],
   "source": [
    "print(containsCountryInfo(s))\n",
    "\n",
    "containsCountryInfo(test_sample)"
   ]
  }
 ],
 "metadata": {
  "kernelspec": {
   "display_name": "Python 3",
   "language": "python",
   "name": "python3"
  },
  "language_info": {
   "codemirror_mode": {
    "name": "ipython",
    "version": 3
   },
   "file_extension": ".py",
   "mimetype": "text/x-python",
   "name": "python",
   "nbconvert_exporter": "python",
   "pygments_lexer": "ipython3",
   "version": "3.5.2"
  }
 },
 "nbformat": 4,
 "nbformat_minor": 1
}
