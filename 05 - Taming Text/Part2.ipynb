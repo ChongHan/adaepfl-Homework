{
 "cells": [
  {
   "cell_type": "code",
   "execution_count": 2,
   "metadata": {
    "collapsed": true
   },
   "outputs": [],
   "source": [
    "# Pandas\n",
    "import pandas as pd\n",
    "\n",
    "import warnings\n",
    "warnings.filterwarnings('ignore')"
   ]
  },
  {
   "cell_type": "markdown",
   "metadata": {},
   "source": [
    "## Part 2.\n",
    "\n",
    ">Find all the mentions of world countries in the whole corpus, using the pycountry utility (HINT: remember that there will be different surface forms for the same country in the text, e.g., Switzerland, switzerland, CH, etc.) Perform sentiment analysis on every email message using the demo methods in the nltk.sentiment.util module. Aggregate the polarity information of all the emails by country, and plot a histogram (ordered and colored by polarity level) that summarizes the perception of the different countries. Repeat the aggregation + plotting steps using different demo methods from the sentiment analysis module -- can you find substantial differences?"
   ]
  },
  {
   "cell_type": "markdown",
   "metadata": {},
   "source": [
    "**Data Emails**"
   ]
  },
  {
   "cell_type": "code",
   "execution_count": 6,
   "metadata": {
    "collapsed": true
   },
   "outputs": [],
   "source": [
    "#Data location\n",
    "data_path = \"hillary-clinton-emails/\"\n",
    "\n",
    "#Import data\n",
    "aliases          = pd.read_csv(data_path+\"Aliases.csv\",         index_col=0)\n",
    "emailsReceivers  = pd.read_csv(data_path+\"EmailReceivers.csv\",  index_col=0)\n",
    "emails           = pd.read_csv(data_path+\"Emails.csv\",          index_col=0)\n",
    "persons          = pd.read_csv(data_path+\"Persons.csv\",         index_col=0)"
   ]
  },
  {
   "cell_type": "code",
   "execution_count": 7,
   "metadata": {
    "collapsed": false
   },
   "outputs": [
    {
     "data": {
      "text/plain": [
       "ExtractedBodyText    6742\n",
       "ExtractedSubject     6260\n",
       "dtype: int64"
      ]
     },
     "execution_count": 7,
     "metadata": {},
     "output_type": "execute_result"
    }
   ],
   "source": [
    "emails_sub_body = emails[['ExtractedBodyText','ExtractedSubject']]\n",
    "emails_sub_body.count()"
   ]
  },
  {
   "cell_type": "code",
   "execution_count": 8,
   "metadata": {
    "collapsed": false
   },
   "outputs": [],
   "source": [
    "emails_sub_body.ExtractedBodyText.fillna('',inplace=True)\n",
    "emails_sub_body.ExtractedSubject.fillna('',inplace=True)\n",
    "emails_sub_body[\"SubBody\"] = emails_sub_body['ExtractedBodyText'] + \" \" + emails_sub_body['ExtractedSubject']"
   ]
  },
  {
   "cell_type": "code",
   "execution_count": 9,
   "metadata": {
    "collapsed": false
   },
   "outputs": [
    {
     "data": {
      "text/html": [
       "<div>\n",
       "<table border=\"1\" class=\"dataframe\">\n",
       "  <thead>\n",
       "    <tr style=\"text-align: right;\">\n",
       "      <th></th>\n",
       "      <th>SubBody</th>\n",
       "    </tr>\n",
       "    <tr>\n",
       "      <th>Id</th>\n",
       "      <th></th>\n",
       "    </tr>\n",
       "  </thead>\n",
       "  <tbody>\n",
       "    <tr>\n",
       "      <th>5014</th>\n",
       "      <td>US law. S\\nSee what harold koh says, just the ...</td>\n",
       "    </tr>\n",
       "    <tr>\n",
       "      <th>1181</th>\n",
       "      <td>Take off:\\nHariri\\nSulayman\\nPapandreou\\nAshto...</td>\n",
       "    </tr>\n",
       "    <tr>\n",
       "      <th>6294</th>\n",
       "      <td>Yes, got them. Jake wanted to put them in hims...</td>\n",
       "    </tr>\n",
       "    <tr>\n",
       "      <th>3594</th>\n",
       "      <td>Cuba</td>\n",
       "    </tr>\n",
       "    <tr>\n",
       "      <th>2326</th>\n",
       "      <td>Maybe the new dark green suit\\nOr blue Wear a ...</td>\n",
       "    </tr>\n",
       "    <tr>\n",
       "      <th>2064</th>\n",
       "      <td></td>\n",
       "    </tr>\n",
       "    <tr>\n",
       "      <th>5779</th>\n",
       "      <td>Nothing earth-shaking in the meeting. Better t...</td>\n",
       "    </tr>\n",
       "    <tr>\n",
       "      <th>6803</th>\n",
       "      <td>Need to talk</td>\n",
       "    </tr>\n",
       "    <tr>\n",
       "      <th>3972</th>\n",
       "      <td>Sullivan, Jacob J &lt;SullivanJJ@state.gov&gt;\\nSatu...</td>\n",
       "    </tr>\n",
       "    <tr>\n",
       "      <th>7064</th>\n",
       "      <td>Agree w strategy. Re: Pinera-Insulza</td>\n",
       "    </tr>\n",
       "  </tbody>\n",
       "</table>\n",
       "</div>"
      ],
      "text/plain": [
       "                                                SubBody\n",
       "Id                                                     \n",
       "5014  US law. S\\nSee what harold koh says, just the ...\n",
       "1181  Take off:\\nHariri\\nSulayman\\nPapandreou\\nAshto...\n",
       "6294  Yes, got them. Jake wanted to put them in hims...\n",
       "3594                                               Cuba\n",
       "2326  Maybe the new dark green suit\\nOr blue Wear a ...\n",
       "2064                                                   \n",
       "5779  Nothing earth-shaking in the meeting. Better t...\n",
       "6803                                       Need to talk\n",
       "3972  Sullivan, Jacob J <SullivanJJ@state.gov>\\nSatu...\n",
       "7064               Agree w strategy. Re: Pinera-Insulza"
      ]
     },
     "execution_count": 9,
     "metadata": {},
     "output_type": "execute_result"
    }
   ],
   "source": [
    "emails = emails_sub_body.drop(['ExtractedBodyText', 'ExtractedSubject'], 1)\n",
    "emails.head()"
   ]
  },
  {
   "cell_type": "code",
   "execution_count": 64,
   "metadata": {
    "collapsed": false
   },
   "outputs": [
    {
     "data": {
      "text/html": [
       "<div>\n",
       "<table border=\"1\" class=\"dataframe\">\n",
       "  <thead>\n",
       "    <tr style=\"text-align: right;\">\n",
       "      <th></th>\n",
       "      <th>SubBody</th>\n",
       "      <th>Country</th>\n",
       "      <th>Nbr country</th>\n",
       "    </tr>\n",
       "    <tr>\n",
       "      <th>Id</th>\n",
       "      <th></th>\n",
       "      <th></th>\n",
       "      <th></th>\n",
       "    </tr>\n",
       "  </thead>\n",
       "  <tbody>\n",
       "    <tr>\n",
       "      <th>458</th>\n",
       "      <td>Thank you--and pis be sure o see them. Re: Bet...</td>\n",
       "      <td>[]</td>\n",
       "      <td>0</td>\n",
       "    </tr>\n",
       "    <tr>\n",
       "      <th>6512</th>\n",
       "      <td>It's worth you checking in with him before the...</td>\n",
       "      <td>[Iraq, Mali]</td>\n",
       "      <td>2</td>\n",
       "    </tr>\n",
       "    <tr>\n",
       "      <th>4949</th>\n",
       "      <td>Yep Re: Bomb at Sufi shrine</td>\n",
       "      <td>[]</td>\n",
       "      <td>0</td>\n",
       "    </tr>\n",
       "    <tr>\n",
       "      <th>3393</th>\n",
       "      <td>(Reuters) UK's Brown calls London meeting on ...</td>\n",
       "      <td>[Yemen]</td>\n",
       "      <td>1</td>\n",
       "    </tr>\n",
       "    <tr>\n",
       "      <th>5792</th>\n",
       "      <td>H: This may be worthless meandering on my part...</td>\n",
       "      <td>[Israel]</td>\n",
       "      <td>1</td>\n",
       "    </tr>\n",
       "    <tr>\n",
       "      <th>3205</th>\n",
       "      <td>As a reminder, ehud barak called for you. Call...</td>\n",
       "      <td>[]</td>\n",
       "      <td>0</td>\n",
       "    </tr>\n",
       "    <tr>\n",
       "      <th>987</th>\n",
       "      <td>consulted. Sid\\nLauren Re: Also want to credit...</td>\n",
       "      <td>[]</td>\n",
       "      <td>0</td>\n",
       "    </tr>\n",
       "    <tr>\n",
       "      <th>1445</th>\n",
       "      <td>Jake Sullivan &lt;jake.sullivar _\\nMonday, May 4,...</td>\n",
       "      <td>[]</td>\n",
       "      <td>0</td>\n",
       "    </tr>\n",
       "    <tr>\n",
       "      <th>1336</th>\n",
       "      <td>Auto forwarded by a Rule\\nLaura Pena B6\\nB6\\nR...</td>\n",
       "      <td>[]</td>\n",
       "      <td>0</td>\n",
       "    </tr>\n",
       "    <tr>\n",
       "      <th>1540</th>\n",
       "      <td>Mills, Cheryl D &lt;MillsCD@state.gov&gt;\\nFriday, A...</td>\n",
       "      <td>[]</td>\n",
       "      <td>0</td>\n",
       "    </tr>\n",
       "  </tbody>\n",
       "</table>\n",
       "</div>"
      ],
      "text/plain": [
       "                                                SubBody       Country  \\\n",
       "Id                                                                      \n",
       "458   Thank you--and pis be sure o see them. Re: Bet...            []   \n",
       "6512  It's worth you checking in with him before the...  [Iraq, Mali]   \n",
       "4949                        Yep Re: Bomb at Sufi shrine            []   \n",
       "3393   (Reuters) UK's Brown calls London meeting on ...       [Yemen]   \n",
       "5792  H: This may be worthless meandering on my part...      [Israel]   \n",
       "3205  As a reminder, ehud barak called for you. Call...            []   \n",
       "987   consulted. Sid\\nLauren Re: Also want to credit...            []   \n",
       "1445  Jake Sullivan <jake.sullivar _\\nMonday, May 4,...            []   \n",
       "1336  Auto forwarded by a Rule\\nLaura Pena B6\\nB6\\nR...            []   \n",
       "1540  Mills, Cheryl D <MillsCD@state.gov>\\nFriday, A...            []   \n",
       "\n",
       "      Nbr country  \n",
       "Id                 \n",
       "458             0  \n",
       "6512            2  \n",
       "4949            0  \n",
       "3393            1  \n",
       "5792            1  \n",
       "3205            0  \n",
       "987             0  \n",
       "1445            0  \n",
       "1336            0  \n",
       "1540            0  "
      ]
     },
     "execution_count": 64,
     "metadata": {},
     "output_type": "execute_result"
    }
   ],
   "source": [
    "emails_sub_body.SubBody = emails_sub_body.SubBody.str.replace('\\n', \" \")\n",
    "emails.head()"
   ]
  },
  {
   "cell_type": "code",
   "execution_count": 10,
   "metadata": {
    "collapsed": false
   },
   "outputs": [
    {
     "name": "stdout",
     "output_type": "stream",
     "text": [
      "Here's a partial list of followup from our last trip and the last week:\n",
      "What can we do to help protect the Christians in Iraq as requested by Ken Joseph whom we saw in Baghdad?\n",
      "JoDee Winterhof raised questions about how the PRTs and the language DOD uses about them are problematic for\n",
      "NGOs like care.\n",
      "Pls ask one of Holbrooke's people if they ever talked to Wolfgang Danspeckgruber at Princeton about building a railroad\n",
      "in Aghanistan.\n",
      "Also Dr. Arthur Keys at International Relief + Development wanted to talk w someone from Holbrooke's team about\n",
      "development in Af.\n",
      "I asked the Spec IG for Af Recon, Arnold Fields, to alert us to problems as soon as they can. I'm not sure how to formalize\n",
      "this or even if it's appropriate. Let's discuss.\n",
      "What are the \"Iran Watchers\"? Followup\n"
     ]
    }
   ],
   "source": [
    "test_sample = emails_sub_body['SubBody'].loc[345]\n",
    "print(test_sample)"
   ]
  },
  {
   "cell_type": "markdown",
   "metadata": {},
   "source": [
    "**Countries and cities**"
   ]
  },
  {
   "cell_type": "markdown",
   "metadata": {},
   "source": [
    "We will use *pycountry* for the countries and countries code."
   ]
  },
  {
   "cell_type": "code",
   "execution_count": 22,
   "metadata": {
    "collapsed": false
   },
   "outputs": [],
   "source": [
    "import pycountry"
   ]
  },
  {
   "cell_type": "code",
   "execution_count": 29,
   "metadata": {
    "collapsed": false
   },
   "outputs": [
    {
     "data": {
      "text/html": [
       "<div>\n",
       "<table border=\"1\" class=\"dataframe\">\n",
       "  <thead>\n",
       "    <tr style=\"text-align: right;\">\n",
       "      <th></th>\n",
       "      <th>Alpha2</th>\n",
       "      <th>Alpha3</th>\n",
       "      <th>Name</th>\n",
       "      <th>Numeric</th>\n",
       "      <th>Official_name</th>\n",
       "    </tr>\n",
       "  </thead>\n",
       "  <tbody>\n",
       "    <tr>\n",
       "      <th>0</th>\n",
       "      <td>AF</td>\n",
       "      <td>AFG</td>\n",
       "      <td>Afghanistan</td>\n",
       "      <td>004</td>\n",
       "      <td>Islamic Republic of Afghanistan</td>\n",
       "    </tr>\n",
       "    <tr>\n",
       "      <th>1</th>\n",
       "      <td>AX</td>\n",
       "      <td>ALA</td>\n",
       "      <td>Åland Islands</td>\n",
       "      <td>248</td>\n",
       "      <td></td>\n",
       "    </tr>\n",
       "    <tr>\n",
       "      <th>2</th>\n",
       "      <td>AL</td>\n",
       "      <td>ALB</td>\n",
       "      <td>Albania</td>\n",
       "      <td>008</td>\n",
       "      <td>Republic of Albania</td>\n",
       "    </tr>\n",
       "    <tr>\n",
       "      <th>3</th>\n",
       "      <td>DZ</td>\n",
       "      <td>DZA</td>\n",
       "      <td>Algeria</td>\n",
       "      <td>012</td>\n",
       "      <td>People's Democratic Republic of Algeria</td>\n",
       "    </tr>\n",
       "    <tr>\n",
       "      <th>4</th>\n",
       "      <td>AS</td>\n",
       "      <td>ASM</td>\n",
       "      <td>American Samoa</td>\n",
       "      <td>016</td>\n",
       "      <td></td>\n",
       "    </tr>\n",
       "  </tbody>\n",
       "</table>\n",
       "</div>"
      ],
      "text/plain": [
       "  Alpha2 Alpha3            Name Numeric  \\\n",
       "0     AF    AFG     Afghanistan     004   \n",
       "1     AX    ALA   Åland Islands     248   \n",
       "2     AL    ALB         Albania     008   \n",
       "3     DZ    DZA         Algeria     012   \n",
       "4     AS    ASM  American Samoa     016   \n",
       "\n",
       "                             Official_name  \n",
       "0          Islamic Republic of Afghanistan  \n",
       "1                                           \n",
       "2                      Republic of Albania  \n",
       "3  People's Democratic Republic of Algeria  \n",
       "4                                           "
      ]
     },
     "execution_count": 29,
     "metadata": {},
     "output_type": "execute_result"
    }
   ],
   "source": [
    "all_country = []\n",
    "\n",
    "for c in list(pycountry.countries):\n",
    "    country_entry = [c.alpha2, c.alpha3, c.name, c.numeric, getattr(c, 'official_name', \"\")]\n",
    "    all_country.append(country_entry)\n",
    "    \n",
    "country_dict = pd.DataFrame(all_country, columns=('Alpha2', 'Alpha3', 'Name', 'Numeric', 'Official_name'))\n",
    "\n",
    "country_dict.head()"
   ]
  },
  {
   "cell_type": "markdown",
   "metadata": {},
   "source": [
    "But we will also add to the *pycountry* data, the capital for each country. Indeed, emails often cite directly the capital, without specifying a country."
   ]
  },
  {
   "cell_type": "code",
   "execution_count": 19,
   "metadata": {
    "collapsed": false
   },
   "outputs": [
    {
     "data": {
      "text/html": [
       "<div>\n",
       "<table border=\"1\" class=\"dataframe\">\n",
       "  <thead>\n",
       "    <tr style=\"text-align: right;\">\n",
       "      <th></th>\n",
       "      <th>country</th>\n",
       "      <th>capital</th>\n",
       "      <th>type</th>\n",
       "    </tr>\n",
       "  </thead>\n",
       "  <tbody>\n",
       "    <tr>\n",
       "      <th>0</th>\n",
       "      <td>Abkhazia</td>\n",
       "      <td>Sukhumi</td>\n",
       "      <td>countryCapital</td>\n",
       "    </tr>\n",
       "    <tr>\n",
       "      <th>1</th>\n",
       "      <td>Afghanistan</td>\n",
       "      <td>Kabul</td>\n",
       "      <td>countryCapital</td>\n",
       "    </tr>\n",
       "    <tr>\n",
       "      <th>2</th>\n",
       "      <td>Akrotiri and Dhekelia</td>\n",
       "      <td>Episkopi Cantonment</td>\n",
       "      <td>countryCapital</td>\n",
       "    </tr>\n",
       "    <tr>\n",
       "      <th>3</th>\n",
       "      <td>Albania</td>\n",
       "      <td>Tirana</td>\n",
       "      <td>countryCapital</td>\n",
       "    </tr>\n",
       "    <tr>\n",
       "      <th>4</th>\n",
       "      <td>Algeria</td>\n",
       "      <td>Algiers</td>\n",
       "      <td>countryCapital</td>\n",
       "    </tr>\n",
       "  </tbody>\n",
       "</table>\n",
       "</div>"
      ],
      "text/plain": [
       "                 country              capital            type\n",
       "0               Abkhazia              Sukhumi  countryCapital\n",
       "1            Afghanistan                Kabul  countryCapital\n",
       "2  Akrotiri and Dhekelia  Episkopi Cantonment  countryCapital\n",
       "3                Albania               Tirana  countryCapital\n",
       "4                Algeria              Algiers  countryCapital"
      ]
     },
     "execution_count": 19,
     "metadata": {},
     "output_type": "execute_result"
    }
   ],
   "source": [
    "capital_cities = \"https://raw.githubusercontent.com/icyrockcom/country-capitals/master/data/country-list.csv\"\n",
    "capitals = pd.read_csv(capital_cities)\n",
    "\n",
    "capitals.head()"
   ]
  },
  {
   "cell_type": "markdown",
   "metadata": {},
   "source": [
    "Therefore, we merge our two country data together."
   ]
  },
  {
   "cell_type": "code",
   "execution_count": 31,
   "metadata": {
    "collapsed": false
   },
   "outputs": [
    {
     "data": {
      "text/html": [
       "<div>\n",
       "<table border=\"1\" class=\"dataframe\">\n",
       "  <thead>\n",
       "    <tr style=\"text-align: right;\">\n",
       "      <th></th>\n",
       "      <th>Alpha2</th>\n",
       "      <th>Alpha3</th>\n",
       "      <th>Name</th>\n",
       "      <th>Numeric</th>\n",
       "      <th>Official_name</th>\n",
       "      <th>Capital</th>\n",
       "    </tr>\n",
       "  </thead>\n",
       "  <tbody>\n",
       "    <tr>\n",
       "      <th>0</th>\n",
       "      <td>AF</td>\n",
       "      <td>AFG</td>\n",
       "      <td>Afghanistan</td>\n",
       "      <td>004</td>\n",
       "      <td>Islamic Republic of Afghanistan</td>\n",
       "      <td>Kabul</td>\n",
       "    </tr>\n",
       "    <tr>\n",
       "      <th>1</th>\n",
       "      <td>AX</td>\n",
       "      <td>ALA</td>\n",
       "      <td>Åland Islands</td>\n",
       "      <td>248</td>\n",
       "      <td></td>\n",
       "      <td></td>\n",
       "    </tr>\n",
       "    <tr>\n",
       "      <th>2</th>\n",
       "      <td>AL</td>\n",
       "      <td>ALB</td>\n",
       "      <td>Albania</td>\n",
       "      <td>008</td>\n",
       "      <td>Republic of Albania</td>\n",
       "      <td>Tirana</td>\n",
       "    </tr>\n",
       "    <tr>\n",
       "      <th>3</th>\n",
       "      <td>DZ</td>\n",
       "      <td>DZA</td>\n",
       "      <td>Algeria</td>\n",
       "      <td>012</td>\n",
       "      <td>People's Democratic Republic of Algeria</td>\n",
       "      <td>Algiers</td>\n",
       "    </tr>\n",
       "    <tr>\n",
       "      <th>4</th>\n",
       "      <td>AS</td>\n",
       "      <td>ASM</td>\n",
       "      <td>American Samoa</td>\n",
       "      <td>016</td>\n",
       "      <td></td>\n",
       "      <td>Pago Pago</td>\n",
       "    </tr>\n",
       "  </tbody>\n",
       "</table>\n",
       "</div>"
      ],
      "text/plain": [
       "  Alpha2 Alpha3            Name Numeric  \\\n",
       "0     AF    AFG     Afghanistan     004   \n",
       "1     AX    ALA   Åland Islands     248   \n",
       "2     AL    ALB         Albania     008   \n",
       "3     DZ    DZA         Algeria     012   \n",
       "4     AS    ASM  American Samoa     016   \n",
       "\n",
       "                             Official_name    Capital  \n",
       "0          Islamic Republic of Afghanistan      Kabul  \n",
       "1                                                      \n",
       "2                      Republic of Albania     Tirana  \n",
       "3  People's Democratic Republic of Algeria    Algiers  \n",
       "4                                           Pago Pago  "
      ]
     },
     "execution_count": 31,
     "metadata": {},
     "output_type": "execute_result"
    }
   ],
   "source": [
    "country_dict['Capital'] = \"\"\n",
    "\n",
    "for i, capital_entry in capitals.iterrows():\n",
    "    for j, country_entry in country_dict.iterrows():\n",
    "        if (capital_entry['country'] == country_entry['Name']):\n",
    "            country_dict.set_value(j, \"Capital\", capital_entry.capital)\n",
    "\n",
    "country_dict.head()"
   ]
  },
  {
   "cell_type": "markdown",
   "metadata": {},
   "source": [
    "**Country Alternative names**\n",
    "\n",
    "People may refere to a country not only by mentionned its name or its capital's name. Therefore, we need a way to add alternative names for a country. \n",
    "Exemple: *'CH'* for Switzerland"
   ]
  },
  {
   "cell_type": "code",
   "execution_count": 32,
   "metadata": {
    "collapsed": false
   },
   "outputs": [
    {
     "data": {
      "text/html": [
       "<div>\n",
       "<table border=\"1\" class=\"dataframe\">\n",
       "  <thead>\n",
       "    <tr style=\"text-align: right;\">\n",
       "      <th></th>\n",
       "      <th>Alpha2</th>\n",
       "      <th>Alpha3</th>\n",
       "      <th>Name</th>\n",
       "      <th>Numeric</th>\n",
       "      <th>Official_name</th>\n",
       "      <th>Capital</th>\n",
       "      <th>Alt_names</th>\n",
       "    </tr>\n",
       "  </thead>\n",
       "  <tbody>\n",
       "    <tr>\n",
       "      <th>0</th>\n",
       "      <td>AF</td>\n",
       "      <td>AFG</td>\n",
       "      <td>Afghanistan</td>\n",
       "      <td>004</td>\n",
       "      <td>Islamic Republic of Afghanistan</td>\n",
       "      <td>Kabul</td>\n",
       "      <td></td>\n",
       "    </tr>\n",
       "    <tr>\n",
       "      <th>1</th>\n",
       "      <td>AX</td>\n",
       "      <td>ALA</td>\n",
       "      <td>Åland Islands</td>\n",
       "      <td>248</td>\n",
       "      <td></td>\n",
       "      <td></td>\n",
       "      <td></td>\n",
       "    </tr>\n",
       "    <tr>\n",
       "      <th>2</th>\n",
       "      <td>AL</td>\n",
       "      <td>ALB</td>\n",
       "      <td>Albania</td>\n",
       "      <td>008</td>\n",
       "      <td>Republic of Albania</td>\n",
       "      <td>Tirana</td>\n",
       "      <td></td>\n",
       "    </tr>\n",
       "    <tr>\n",
       "      <th>3</th>\n",
       "      <td>DZ</td>\n",
       "      <td>DZA</td>\n",
       "      <td>Algeria</td>\n",
       "      <td>012</td>\n",
       "      <td>People's Democratic Republic of Algeria</td>\n",
       "      <td>Algiers</td>\n",
       "      <td></td>\n",
       "    </tr>\n",
       "    <tr>\n",
       "      <th>4</th>\n",
       "      <td>AS</td>\n",
       "      <td>ASM</td>\n",
       "      <td>American Samoa</td>\n",
       "      <td>016</td>\n",
       "      <td></td>\n",
       "      <td>Pago Pago</td>\n",
       "      <td></td>\n",
       "    </tr>\n",
       "  </tbody>\n",
       "</table>\n",
       "</div>"
      ],
      "text/plain": [
       "  Alpha2 Alpha3            Name Numeric  \\\n",
       "0     AF    AFG     Afghanistan     004   \n",
       "1     AX    ALA   Åland Islands     248   \n",
       "2     AL    ALB         Albania     008   \n",
       "3     DZ    DZA         Algeria     012   \n",
       "4     AS    ASM  American Samoa     016   \n",
       "\n",
       "                             Official_name    Capital Alt_names  \n",
       "0          Islamic Republic of Afghanistan      Kabul            \n",
       "1                                                                \n",
       "2                      Republic of Albania     Tirana            \n",
       "3  People's Democratic Republic of Algeria    Algiers            \n",
       "4                                           Pago Pago            "
      ]
     },
     "execution_count": 32,
     "metadata": {},
     "output_type": "execute_result"
    }
   ],
   "source": [
    "country_dict['Alt_names'] = \"\"\n",
    "\n",
    "country_dict.head()"
   ]
  },
  {
   "cell_type": "code",
   "execution_count": 34,
   "metadata": {
    "collapsed": true
   },
   "outputs": [],
   "source": [
    "# function to add any alternative name to a country\n",
    "def add_country_alt_name(name, alt):\n",
    "    for index, row in country_dict.iterrows():\n",
    "        if(row.Name == name):\n",
    "            row.Alt_names += \"-\"\n",
    "            row.Alt_names += alt\n",
    "            print(\"Added successfully\")"
   ]
  },
  {
   "cell_type": "markdown",
   "metadata": {},
   "source": [
    "**Countries names list**\n",
    "\n",
    "Build a dictionnary with all names that refer to a country."
   ]
  },
  {
   "cell_type": "code",
   "execution_count": 33,
   "metadata": {
    "collapsed": false
   },
   "outputs": [],
   "source": [
    "def country_city_list(n):\n",
    "    \"\"\"\n",
    "        Returns a list of all words referring to a country.\n",
    "        By words, we mean the name of the country, the capital,\n",
    "        and all other alternative names, like 'CH' for Switzerland.\n",
    "        \n",
    "        INPUT\n",
    "            n: index of the country in the 'country_dict' dataframe\n",
    "            \n",
    "        OUTPUT\n",
    "            l: list of all words referring to the country\n",
    "    \"\"\"\n",
    "    \n",
    "    l = []\n",
    "    country_entry = country_dict.loc[n]\n",
    "    \n",
    "    # Country Name\n",
    "    l.append(country_entry.Name)\n",
    "    \n",
    "    # Country Capital\n",
    "    if (country_entry.Capital != \"\"):\n",
    "        l.append(country_entry.Capital)\n",
    "    \n",
    "    # All others alternative names, cities, ...\n",
    "    if (country_entry.Alt_names != \"\"):\n",
    "        names = country_entry.Alt_names.split(\"-\")\n",
    "        l.extend(names)\n",
    "        \n",
    "    # return list\n",
    "    return l"
   ]
  },
  {
   "cell_type": "code",
   "execution_count": 45,
   "metadata": {
    "collapsed": false
   },
   "outputs": [],
   "source": [
    "country_names = {}\n",
    "\n",
    "for index, row in country_dict.iterrows():\n",
    "    country_names[row.Name] = country_city_list(index)"
   ]
  },
  {
   "cell_type": "markdown",
   "metadata": {},
   "source": [
    "** Country in email**"
   ]
  },
  {
   "cell_type": "code",
   "execution_count": 48,
   "metadata": {
    "collapsed": true
   },
   "outputs": [],
   "source": [
    "def containsCountryInfo(content):\n",
    "    \"\"\"\n",
    "        Returns the countries that the given string refers to.\n",
    "        \n",
    "        INPUT\n",
    "            content: string to analyse, which may mention a country\n",
    "            \n",
    "        OUTPUT\n",
    "            country_list: list of countrie mentionned is the input 'content'\n",
    "    \"\"\"\n",
    "    \n",
    "    country_list = []\n",
    "    \n",
    "    for index, row in country_dict.iterrows():\n",
    "        inside = False\n",
    "        \n",
    "        for name in country_names[row.Name]:\n",
    "            if(name != \"\" and name in content):\n",
    "                inside = True\n",
    "                \n",
    "        if inside:\n",
    "            country_list.append(row.Name)\n",
    "                \n",
    "    return country_list"
   ]
  },
  {
   "cell_type": "code",
   "execution_count": 56,
   "metadata": {
    "collapsed": false
   },
   "outputs": [
    {
     "data": {
      "text/html": [
       "<div>\n",
       "<table border=\"1\" class=\"dataframe\">\n",
       "  <thead>\n",
       "    <tr style=\"text-align: right;\">\n",
       "      <th></th>\n",
       "      <th>SubBody</th>\n",
       "      <th>Country</th>\n",
       "    </tr>\n",
       "    <tr>\n",
       "      <th>Id</th>\n",
       "      <th></th>\n",
       "      <th></th>\n",
       "    </tr>\n",
       "  </thead>\n",
       "  <tbody>\n",
       "    <tr>\n",
       "      <th>1</th>\n",
       "      <td>FW: Wow</td>\n",
       "      <td>[]</td>\n",
       "    </tr>\n",
       "    <tr>\n",
       "      <th>2</th>\n",
       "      <td>B6\\nThursday, March 3, 2011 9:45 PM\\nH: Latest...</td>\n",
       "      <td>[]</td>\n",
       "    </tr>\n",
       "    <tr>\n",
       "      <th>3</th>\n",
       "      <td>Thx Re: Chris Stevens</td>\n",
       "      <td>[]</td>\n",
       "    </tr>\n",
       "    <tr>\n",
       "      <th>4</th>\n",
       "      <td>FVV: Cairo Condemnation - Final</td>\n",
       "      <td>[Egypt]</td>\n",
       "    </tr>\n",
       "    <tr>\n",
       "      <th>5</th>\n",
       "      <td>H &lt;hrod17@clintonemail.com&gt;\\nFriday, March 11,...</td>\n",
       "      <td>[]</td>\n",
       "    </tr>\n",
       "  </tbody>\n",
       "</table>\n",
       "</div>"
      ],
      "text/plain": [
       "                                              SubBody  Country\n",
       "Id                                                            \n",
       "1                                             FW: Wow       []\n",
       "2   B6\\nThursday, March 3, 2011 9:45 PM\\nH: Latest...       []\n",
       "3                               Thx Re: Chris Stevens       []\n",
       "4                     FVV: Cairo Condemnation - Final  [Egypt]\n",
       "5   H <hrod17@clintonemail.com>\\nFriday, March 11,...       []"
      ]
     },
     "execution_count": 56,
     "metadata": {},
     "output_type": "execute_result"
    }
   ],
   "source": [
    "emails[\"Country\"] = [containsCountryInfo(email) for email in emails.SubBody]\n",
    "emails.head()"
   ]
  },
  {
   "cell_type": "code",
   "execution_count": 61,
   "metadata": {
    "collapsed": false
   },
   "outputs": [
    {
     "data": {
      "text/html": [
       "<div>\n",
       "<table border=\"1\" class=\"dataframe\">\n",
       "  <thead>\n",
       "    <tr style=\"text-align: right;\">\n",
       "      <th></th>\n",
       "      <th>SubBody</th>\n",
       "      <th>Country</th>\n",
       "      <th>Nbr country</th>\n",
       "    </tr>\n",
       "    <tr>\n",
       "      <th>Id</th>\n",
       "      <th></th>\n",
       "      <th></th>\n",
       "      <th></th>\n",
       "    </tr>\n",
       "  </thead>\n",
       "  <tbody>\n",
       "    <tr>\n",
       "      <th>1</th>\n",
       "      <td>FW: Wow</td>\n",
       "      <td>[]</td>\n",
       "      <td>0</td>\n",
       "    </tr>\n",
       "    <tr>\n",
       "      <th>2</th>\n",
       "      <td>B6\\nThursday, March 3, 2011 9:45 PM\\nH: Latest...</td>\n",
       "      <td>[]</td>\n",
       "      <td>0</td>\n",
       "    </tr>\n",
       "    <tr>\n",
       "      <th>3</th>\n",
       "      <td>Thx Re: Chris Stevens</td>\n",
       "      <td>[]</td>\n",
       "      <td>0</td>\n",
       "    </tr>\n",
       "    <tr>\n",
       "      <th>4</th>\n",
       "      <td>FVV: Cairo Condemnation - Final</td>\n",
       "      <td>[Egypt]</td>\n",
       "      <td>1</td>\n",
       "    </tr>\n",
       "    <tr>\n",
       "      <th>5</th>\n",
       "      <td>H &lt;hrod17@clintonemail.com&gt;\\nFriday, March 11,...</td>\n",
       "      <td>[]</td>\n",
       "      <td>0</td>\n",
       "    </tr>\n",
       "  </tbody>\n",
       "</table>\n",
       "</div>"
      ],
      "text/plain": [
       "                                              SubBody  Country  Nbr country\n",
       "Id                                                                         \n",
       "1                                             FW: Wow       []            0\n",
       "2   B6\\nThursday, March 3, 2011 9:45 PM\\nH: Latest...       []            0\n",
       "3                               Thx Re: Chris Stevens       []            0\n",
       "4                     FVV: Cairo Condemnation - Final  [Egypt]            1\n",
       "5   H <hrod17@clintonemail.com>\\nFriday, March 11,...       []            0"
      ]
     },
     "execution_count": 61,
     "metadata": {},
     "output_type": "execute_result"
    }
   ],
   "source": [
    "emails[\"Nbr country\"] = [len(c) for c in emails.Country]\n",
    "emails.head()"
   ]
  },
  {
   "cell_type": "markdown",
   "metadata": {},
   "source": [
    "** Sentiment analysis **"
   ]
  },
  {
   "cell_type": "code",
   "execution_count": 71,
   "metadata": {
    "collapsed": false
   },
   "outputs": [
    {
     "data": {
      "text/html": [
       "<div>\n",
       "<table border=\"1\" class=\"dataframe\">\n",
       "  <thead>\n",
       "    <tr style=\"text-align: right;\">\n",
       "      <th></th>\n",
       "      <th>SubBody</th>\n",
       "      <th>Country</th>\n",
       "      <th>Nbr country</th>\n",
       "    </tr>\n",
       "    <tr>\n",
       "      <th>Id</th>\n",
       "      <th></th>\n",
       "      <th></th>\n",
       "      <th></th>\n",
       "    </tr>\n",
       "  </thead>\n",
       "  <tbody>\n",
       "    <tr>\n",
       "      <th>4</th>\n",
       "      <td>FVV: Cairo Condemnation - Final</td>\n",
       "      <td>[Egypt]</td>\n",
       "      <td>1</td>\n",
       "    </tr>\n",
       "    <tr>\n",
       "      <th>7</th>\n",
       "      <td>FW: Anti-Muslim film director in hiding, foll...</td>\n",
       "      <td>[Egypt, Libya]</td>\n",
       "      <td>2</td>\n",
       "    </tr>\n",
       "    <tr>\n",
       "      <th>10</th>\n",
       "      <td>B6\\nWednesday, September 12, 2012 6:16 PM\\nFwd...</td>\n",
       "      <td>[Libya]</td>\n",
       "      <td>1</td>\n",
       "    </tr>\n",
       "    <tr>\n",
       "      <th>11</th>\n",
       "      <td>Fyi\\nB6\\n— — AbZ and Hb3 on Libya and West Ban...</td>\n",
       "      <td>[Libya]</td>\n",
       "      <td>1</td>\n",
       "    </tr>\n",
       "    <tr>\n",
       "      <th>12</th>\n",
       "      <td>B6\\nWednesday, September 12, 2012 6:16 PM\\nFwd...</td>\n",
       "      <td>[Libya]</td>\n",
       "      <td>1</td>\n",
       "    </tr>\n",
       "  </tbody>\n",
       "</table>\n",
       "</div>"
      ],
      "text/plain": [
       "                                              SubBody         Country  \\\n",
       "Id                                                                      \n",
       "4                     FVV: Cairo Condemnation - Final         [Egypt]   \n",
       "7    FW: Anti-Muslim film director in hiding, foll...  [Egypt, Libya]   \n",
       "10  B6\\nWednesday, September 12, 2012 6:16 PM\\nFwd...         [Libya]   \n",
       "11  Fyi\\nB6\\n— — AbZ and Hb3 on Libya and West Ban...         [Libya]   \n",
       "12  B6\\nWednesday, September 12, 2012 6:16 PM\\nFwd...         [Libya]   \n",
       "\n",
       "    Nbr country  \n",
       "Id               \n",
       "4             1  \n",
       "7             2  \n",
       "10            1  \n",
       "11            1  \n",
       "12            1  "
      ]
     },
     "execution_count": 71,
     "metadata": {},
     "output_type": "execute_result"
    }
   ],
   "source": [
    "a = emails[\"Nbr country\"] == 0\n",
    "data_for_sentiment = emails[~ a]\n",
    "data_for_sentiment.head()"
   ]
  },
  {
   "cell_type": "code",
   "execution_count": 75,
   "metadata": {
    "collapsed": false
   },
   "outputs": [
    {
     "name": "stdout",
     "output_type": "stream",
     "text": [
      "Emails without country: 7945\n",
      "Emails with country: 1645\n",
      "Percentage: 20.704845814977972 %\n"
     ]
    }
   ],
   "source": [
    "print(\"Emails without country:\", len(emails))\n",
    "print(\"Emails with country:\", len(data_for_sentiment))\n",
    "print(\"Percentage:\",len(data_for_sentiment)/len(emails)*100, \"%\")"
   ]
  },
  {
   "cell_type": "code",
   "execution_count": 80,
   "metadata": {
    "collapsed": false
   },
   "outputs": [
    {
     "name": "stdout",
     "output_type": "stream",
     "text": [
      "Emails mentionning more than one country 440\n",
      "Percentage: 26.7477203647 %\n"
     ]
    }
   ],
   "source": [
    "mult_countries = data_for_sentiment[\"Nbr country\"] > 1\n",
    "print(\"Emails mentionning more than one country\", mult_countries.sum())\n",
    "print(\"Percentage:\", mult_countries.sum()/len(data_for_sentiment)*100, \"%\")"
   ]
  },
  {
   "cell_type": "markdown",
   "metadata": {},
   "source": [
    "BLA BLA BLA WE NEED TO DEAL WITH MULTIPLE COUNTRIES BLA BLA"
   ]
  }
 ],
 "metadata": {
  "anaconda-cloud": {},
  "kernelspec": {
   "display_name": "Python 3",
   "language": "python",
   "name": "python3"
  },
  "language_info": {
   "codemirror_mode": {
    "name": "ipython",
    "version": 3
   },
   "file_extension": ".py",
   "mimetype": "text/x-python",
   "name": "python",
   "nbconvert_exporter": "python",
   "pygments_lexer": "ipython3",
   "version": "3.5.2"
  }
 },
 "nbformat": 4,
 "nbformat_minor": 1
}
