{
 "cells": [
  {
   "cell_type": "markdown",
   "metadata": {
    "collapsed": true
   },
   "source": [
    "# HM04 - Applied ML"
   ]
  },
  {
   "cell_type": "code",
   "execution_count": 1,
   "metadata": {
    "collapsed": false
   },
   "outputs": [],
   "source": [
    "import pandas as pd\n",
    "import numpy as np\n",
    "import seaborn as sns\n",
    "\n",
    "from sklearn import preprocessing\n",
    "from sklearn import metrics\n",
    "from sklearn.ensemble import RandomForestClassifier\n",
    "from sklearn.cross_validation import cross_val_score\n",
    "from sklearn.cross_validation import cross_val_predict\n",
    "from sklearn.cluster import KMeans\n",
    "import sklearn\n",
    "\n",
    "from sklearn.preprocessing import StandardScaler"
   ]
  },
  {
   "cell_type": "code",
   "execution_count": 2,
   "metadata": {
    "collapsed": false
   },
   "outputs": [],
   "source": [
    "#Load the data\n",
    "data = pd.read_csv(\"CrowdstormingDataJuly1st.csv\")"
   ]
  },
  {
   "cell_type": "code",
   "execution_count": 3,
   "metadata": {
    "collapsed": false
   },
   "outputs": [
    {
     "data": {
      "text/html": [
       "<div>\n",
       "<table border=\"1\" class=\"dataframe\">\n",
       "  <thead>\n",
       "    <tr style=\"text-align: right;\">\n",
       "      <th></th>\n",
       "      <th>playerShort</th>\n",
       "      <th>player</th>\n",
       "      <th>club</th>\n",
       "      <th>leagueCountry</th>\n",
       "      <th>birthday</th>\n",
       "      <th>height</th>\n",
       "      <th>weight</th>\n",
       "      <th>position</th>\n",
       "      <th>games</th>\n",
       "      <th>victories</th>\n",
       "      <th>...</th>\n",
       "      <th>rater2</th>\n",
       "      <th>refNum</th>\n",
       "      <th>refCountry</th>\n",
       "      <th>Alpha_3</th>\n",
       "      <th>meanIAT</th>\n",
       "      <th>nIAT</th>\n",
       "      <th>seIAT</th>\n",
       "      <th>meanExp</th>\n",
       "      <th>nExp</th>\n",
       "      <th>seExp</th>\n",
       "    </tr>\n",
       "  </thead>\n",
       "  <tbody>\n",
       "    <tr>\n",
       "      <th>0</th>\n",
       "      <td>lucas-wilchez</td>\n",
       "      <td>Lucas Wilchez</td>\n",
       "      <td>Real Zaragoza</td>\n",
       "      <td>Spain</td>\n",
       "      <td>31.08.1983</td>\n",
       "      <td>177.0</td>\n",
       "      <td>72.0</td>\n",
       "      <td>Attacking Midfielder</td>\n",
       "      <td>1</td>\n",
       "      <td>0</td>\n",
       "      <td>...</td>\n",
       "      <td>0.50</td>\n",
       "      <td>1</td>\n",
       "      <td>1</td>\n",
       "      <td>GRC</td>\n",
       "      <td>0.326391</td>\n",
       "      <td>712.0</td>\n",
       "      <td>0.000564</td>\n",
       "      <td>0.396000</td>\n",
       "      <td>750.0</td>\n",
       "      <td>0.002696</td>\n",
       "    </tr>\n",
       "    <tr>\n",
       "      <th>1</th>\n",
       "      <td>john-utaka</td>\n",
       "      <td>John Utaka</td>\n",
       "      <td>Montpellier HSC</td>\n",
       "      <td>France</td>\n",
       "      <td>08.01.1982</td>\n",
       "      <td>179.0</td>\n",
       "      <td>82.0</td>\n",
       "      <td>Right Winger</td>\n",
       "      <td>1</td>\n",
       "      <td>0</td>\n",
       "      <td>...</td>\n",
       "      <td>0.75</td>\n",
       "      <td>2</td>\n",
       "      <td>2</td>\n",
       "      <td>ZMB</td>\n",
       "      <td>0.203375</td>\n",
       "      <td>40.0</td>\n",
       "      <td>0.010875</td>\n",
       "      <td>-0.204082</td>\n",
       "      <td>49.0</td>\n",
       "      <td>0.061504</td>\n",
       "    </tr>\n",
       "    <tr>\n",
       "      <th>2</th>\n",
       "      <td>abdon-prats</td>\n",
       "      <td>Abdón Prats</td>\n",
       "      <td>RCD Mallorca</td>\n",
       "      <td>Spain</td>\n",
       "      <td>17.12.1992</td>\n",
       "      <td>181.0</td>\n",
       "      <td>79.0</td>\n",
       "      <td>NaN</td>\n",
       "      <td>1</td>\n",
       "      <td>0</td>\n",
       "      <td>...</td>\n",
       "      <td>NaN</td>\n",
       "      <td>3</td>\n",
       "      <td>3</td>\n",
       "      <td>ESP</td>\n",
       "      <td>0.369894</td>\n",
       "      <td>1785.0</td>\n",
       "      <td>0.000229</td>\n",
       "      <td>0.588297</td>\n",
       "      <td>1897.0</td>\n",
       "      <td>0.001002</td>\n",
       "    </tr>\n",
       "    <tr>\n",
       "      <th>3</th>\n",
       "      <td>pablo-mari</td>\n",
       "      <td>Pablo Marí</td>\n",
       "      <td>RCD Mallorca</td>\n",
       "      <td>Spain</td>\n",
       "      <td>31.08.1993</td>\n",
       "      <td>191.0</td>\n",
       "      <td>87.0</td>\n",
       "      <td>Center Back</td>\n",
       "      <td>1</td>\n",
       "      <td>1</td>\n",
       "      <td>...</td>\n",
       "      <td>NaN</td>\n",
       "      <td>3</td>\n",
       "      <td>3</td>\n",
       "      <td>ESP</td>\n",
       "      <td>0.369894</td>\n",
       "      <td>1785.0</td>\n",
       "      <td>0.000229</td>\n",
       "      <td>0.588297</td>\n",
       "      <td>1897.0</td>\n",
       "      <td>0.001002</td>\n",
       "    </tr>\n",
       "    <tr>\n",
       "      <th>4</th>\n",
       "      <td>ruben-pena</td>\n",
       "      <td>Rubén Peña</td>\n",
       "      <td>Real Valladolid</td>\n",
       "      <td>Spain</td>\n",
       "      <td>18.07.1991</td>\n",
       "      <td>172.0</td>\n",
       "      <td>70.0</td>\n",
       "      <td>Right Midfielder</td>\n",
       "      <td>1</td>\n",
       "      <td>1</td>\n",
       "      <td>...</td>\n",
       "      <td>NaN</td>\n",
       "      <td>3</td>\n",
       "      <td>3</td>\n",
       "      <td>ESP</td>\n",
       "      <td>0.369894</td>\n",
       "      <td>1785.0</td>\n",
       "      <td>0.000229</td>\n",
       "      <td>0.588297</td>\n",
       "      <td>1897.0</td>\n",
       "      <td>0.001002</td>\n",
       "    </tr>\n",
       "  </tbody>\n",
       "</table>\n",
       "<p>5 rows × 28 columns</p>\n",
       "</div>"
      ],
      "text/plain": [
       "     playerShort         player             club leagueCountry    birthday  \\\n",
       "0  lucas-wilchez  Lucas Wilchez    Real Zaragoza         Spain  31.08.1983   \n",
       "1     john-utaka     John Utaka  Montpellier HSC        France  08.01.1982   \n",
       "2    abdon-prats    Abdón Prats     RCD Mallorca         Spain  17.12.1992   \n",
       "3     pablo-mari     Pablo Marí     RCD Mallorca         Spain  31.08.1993   \n",
       "4     ruben-pena     Rubén Peña  Real Valladolid         Spain  18.07.1991   \n",
       "\n",
       "   height  weight              position  games  victories    ...     rater2  \\\n",
       "0   177.0    72.0  Attacking Midfielder      1          0    ...       0.50   \n",
       "1   179.0    82.0          Right Winger      1          0    ...       0.75   \n",
       "2   181.0    79.0                   NaN      1          0    ...        NaN   \n",
       "3   191.0    87.0           Center Back      1          1    ...        NaN   \n",
       "4   172.0    70.0      Right Midfielder      1          1    ...        NaN   \n",
       "\n",
       "   refNum  refCountry  Alpha_3   meanIAT    nIAT     seIAT   meanExp    nExp  \\\n",
       "0       1           1      GRC  0.326391   712.0  0.000564  0.396000   750.0   \n",
       "1       2           2      ZMB  0.203375    40.0  0.010875 -0.204082    49.0   \n",
       "2       3           3      ESP  0.369894  1785.0  0.000229  0.588297  1897.0   \n",
       "3       3           3      ESP  0.369894  1785.0  0.000229  0.588297  1897.0   \n",
       "4       3           3      ESP  0.369894  1785.0  0.000229  0.588297  1897.0   \n",
       "\n",
       "      seExp  \n",
       "0  0.002696  \n",
       "1  0.061504  \n",
       "2  0.001002  \n",
       "3  0.001002  \n",
       "4  0.001002  \n",
       "\n",
       "[5 rows x 28 columns]"
      ]
     },
     "execution_count": 3,
     "metadata": {},
     "output_type": "execute_result"
    }
   ],
   "source": [
    "data.head()"
   ]
  },
  {
   "cell_type": "code",
   "execution_count": 4,
   "metadata": {
    "collapsed": false
   },
   "outputs": [
    {
     "data": {
      "text/plain": [
       "['playerShort',\n",
       " 'player',\n",
       " 'club',\n",
       " 'leagueCountry',\n",
       " 'birthday',\n",
       " 'height',\n",
       " 'weight',\n",
       " 'position',\n",
       " 'games',\n",
       " 'victories',\n",
       " 'ties',\n",
       " 'defeats',\n",
       " 'goals',\n",
       " 'yellowCards',\n",
       " 'yellowReds',\n",
       " 'redCards',\n",
       " 'photoID',\n",
       " 'rater1',\n",
       " 'rater2',\n",
       " 'refNum',\n",
       " 'refCountry',\n",
       " 'Alpha_3',\n",
       " 'meanIAT',\n",
       " 'nIAT',\n",
       " 'seIAT',\n",
       " 'meanExp',\n",
       " 'nExp',\n",
       " 'seExp']"
      ]
     },
     "execution_count": 4,
     "metadata": {},
     "output_type": "execute_result"
    }
   ],
   "source": [
    "list(data.columns.values)"
   ]
  },
  {
   "cell_type": "markdown",
   "metadata": {},
   "source": [
    "## 0. Data Cleaning"
   ]
  },
  {
   "cell_type": "markdown",
   "metadata": {},
   "source": [
    "### 0.1 NaN Values"
   ]
  },
  {
   "cell_type": "code",
   "execution_count": 5,
   "metadata": {
    "collapsed": false
   },
   "outputs": [
    {
     "data": {
      "text/plain": [
       "['height',\n",
       " 'weight',\n",
       " 'position',\n",
       " 'photoID',\n",
       " 'rater1',\n",
       " 'rater2',\n",
       " 'Alpha_3',\n",
       " 'meanIAT',\n",
       " 'nIAT',\n",
       " 'seIAT',\n",
       " 'meanExp',\n",
       " 'nExp',\n",
       " 'seExp']"
      ]
     },
     "execution_count": 5,
     "metadata": {},
     "output_type": "execute_result"
    }
   ],
   "source": [
    "def columns_nanValues(data):\n",
    "    # print all columns with at least one NaN value\n",
    "    l = list()\n",
    "    for c in data:\n",
    "        if data[c].hasnans:\n",
    "            l.append(c)\n",
    "    return l\n",
    "\n",
    "columns_nanValues(data)"
   ]
  },
  {
   "cell_type": "markdown",
   "metadata": {},
   "source": [
    "**Remove entries with no Skin Color feature**\n",
    "\n",
    "Some columns contains NaN values. For this homework, we will not be able to work with data having no *skin color* feature. Therefore we only keep instances with this information."
   ]
  },
  {
   "cell_type": "code",
   "execution_count": 6,
   "metadata": {
    "collapsed": false
   },
   "outputs": [
    {
     "data": {
      "text/plain": [
       "['height',\n",
       " 'weight',\n",
       " 'position',\n",
       " 'Alpha_3',\n",
       " 'meanIAT',\n",
       " 'nIAT',\n",
       " 'seIAT',\n",
       " 'meanExp',\n",
       " 'nExp',\n",
       " 'seExp']"
      ]
     },
     "execution_count": 6,
     "metadata": {},
     "output_type": "execute_result"
    }
   ],
   "source": [
    "# We remove all instance with no 'photoID' information, since the skin color needs this information\n",
    "data_clean = data[~data.photoID.isnull()]\n",
    "nan_col = columns_nanValues(data_clean)\n",
    "nan_col"
   ]
  },
  {
   "cell_type": "code",
   "execution_count": 7,
   "metadata": {
    "collapsed": false
   },
   "outputs": [
    {
     "data": {
      "text/plain": [
       "height      float64\n",
       "weight      float64\n",
       "position     object\n",
       "Alpha_3      object\n",
       "meanIAT     float64\n",
       "nIAT        float64\n",
       "seIAT       float64\n",
       "meanExp     float64\n",
       "nExp        float64\n",
       "seExp       float64\n",
       "dtype: object"
      ]
     },
     "execution_count": 7,
     "metadata": {},
     "output_type": "execute_result"
    }
   ],
   "source": [
    "data_clean[nan_col].dtypes"
   ]
  },
  {
   "cell_type": "markdown",
   "metadata": {},
   "source": [
    "**Percentage of NaN cells per column**"
   ]
  },
  {
   "cell_type": "code",
   "execution_count": 8,
   "metadata": {
    "collapsed": false
   },
   "outputs": [
    {
     "name": "stdout",
     "output_type": "stream",
     "text": [
      "height --> 46\n",
      "   Total percentage:  0.0369119169321\n",
      "weight --> 753\n",
      "   Total percentage:  0.60423203152\n",
      "position --> 8461\n",
      "   Total percentage:  6.78938541658\n",
      "Alpha_3 --> 1\n",
      "   Total percentage:  0.000802432976786\n",
      "meanIAT --> 153\n",
      "   Total percentage:  0.122772245448\n",
      "nIAT --> 153\n",
      "   Total percentage:  0.122772245448\n",
      "seIAT --> 153\n",
      "   Total percentage:  0.122772245448\n",
      "meanExp --> 153\n",
      "   Total percentage:  0.122772245448\n",
      "nExp --> 153\n",
      "   Total percentage:  0.122772245448\n",
      "seExp --> 153\n",
      "   Total percentage:  0.122772245448\n"
     ]
    }
   ],
   "source": [
    "for x in nan_col:\n",
    "    nbr = data_clean[x].isnull().sum()\n",
    "    print(x, '-->', nbr)\n",
    "    print(\"   Total percentage: \", nbr/len(data_clean)*100)"
   ]
  },
  {
   "cell_type": "markdown",
   "metadata": {},
   "source": [
    "For the values related to the *IAT* and *Exp*, we decided to remove those rows, since the fraction of \"corrupt\" rows is almost insignificant."
   ]
  },
  {
   "cell_type": "code",
   "execution_count": 9,
   "metadata": {
    "collapsed": false
   },
   "outputs": [
    {
     "data": {
      "text/plain": [
       "['height', 'weight', 'position']"
      ]
     },
     "execution_count": 9,
     "metadata": {},
     "output_type": "execute_result"
    }
   ],
   "source": [
    "data_clean = data_clean[~data_clean.nIAT.isnull()]\n",
    "# Colums still have NaN values\n",
    "nan_col = columns_nanValues(data_clean)\n",
    "nan_col"
   ]
  },
  {
   "cell_type": "markdown",
   "metadata": {},
   "source": [
    "### 0.2 Dealing with missing data\n",
    "\n",
    "**Potential fixes to missing cells**\n",
    "\n",
    "We know that there are multiple entries per player in our dataset. Therefore, is it possible that the information about *weight*, *height*, or *position* for a player is missing in one entry but present in another ? If yes, we could simply replace the missing values by the ones present in another row, but as we can see, such case doesn't occur."
   ]
  },
  {
   "cell_type": "code",
   "execution_count": 10,
   "metadata": {
    "collapsed": false
   },
   "outputs": [
    {
     "name": "stdout",
     "output_type": "stream",
     "text": [
      "height --> []\n",
      "weight --> []\n",
      "position --> []\n"
     ]
    }
   ],
   "source": [
    "# Assert if any missing values for a player feature\n",
    "# are not present in another row\n",
    "\n",
    "for col in nan_col:\n",
    "    data_noWeight = data_clean[data_clean[col].isnull()]\n",
    "    data_withWeight = data_clean[~data_clean[col].isnull()]\n",
    "\n",
    "    i1 = list(data_noWeight.index)\n",
    "    i2 = list(data_withWeight.index)\n",
    "\n",
    "    nbr = [x for x in i1 if x in i2]\n",
    "    print(col, '-->', nbr)"
   ]
  },
  {
   "cell_type": "markdown",
   "metadata": {},
   "source": [
    "**Drop rows or fill mean values to the cell**\n",
    "\n",
    "Now we are sure that there is no way to recover this values. We have therefore two possibilities:\n",
    "- Replace the missing *height* and *weight* values by the mean of all players\n",
    "- Remove the rows with missing values\n",
    "\n",
    "We've decided to go for the second option, as the percentage of data concern is low (then that 1%)"
   ]
  },
  {
   "cell_type": "code",
   "execution_count": 11,
   "metadata": {
    "collapsed": true
   },
   "outputs": [],
   "source": [
    "nan_values_to_drop = ['weight', 'height']\n",
    "for col in nan_values_to_drop:\n",
    "    data_clean = data_clean[~data_clean[col].isnull()]"
   ]
  },
  {
   "cell_type": "code",
   "execution_count": 12,
   "metadata": {
    "collapsed": false
   },
   "outputs": [
    {
     "data": {
      "text/plain": [
       "['position']"
      ]
     },
     "execution_count": 12,
     "metadata": {},
     "output_type": "execute_result"
    }
   ],
   "source": [
    "# Last feature to clean\n",
    "columns_nanValues(data_clean)"
   ]
  },
  {
   "cell_type": "markdown",
   "metadata": {},
   "source": [
    "There is still one remaining feature for which we need to clean. For the *position* column, we can:\n",
    "\n",
    "- Replace all missing entries by a *dummy* variable, like \"Unknown\"\n",
    "- Replace all missing entries by the most frequent one according to the rest entries (*position* is not numerical, therefore no mean)\n",
    "- Remove the rows with missing values\n",
    "\n",
    "We decide to remove those rows. But before doing so, we want to assert that we aren't throwing valuable information. We compare the skin color rated by *rater1* and *rater2* column with NaN value against the data witouh NaN values."
   ]
  },
  {
   "cell_type": "code",
   "execution_count": 13,
   "metadata": {
    "collapsed": false
   },
   "outputs": [
    {
     "name": "stdout",
     "output_type": "stream",
     "text": [
      "count    8258.000000\n",
      "mean        0.287600\n",
      "std         0.297938\n",
      "min         0.000000\n",
      "25%         0.000000\n",
      "50%         0.250000\n",
      "75%         0.500000\n",
      "max         1.000000\n",
      "Name: rater1, dtype: float64\n",
      "----\n",
      "count    8258.000000\n",
      "mean        0.324837\n",
      "std         0.313449\n",
      "min         0.000000\n",
      "25%         0.000000\n",
      "50%         0.250000\n",
      "75%         0.500000\n",
      "max         1.000000\n",
      "Name: rater2, dtype: float64\n"
     ]
    }
   ],
   "source": [
    "# Data WITH NaNs values\n",
    "nan_data = data_clean[data_clean.position.isnull()]\n",
    "print(nan_data.rater1.describe())\n",
    "print('----')\n",
    "print(nan_data.rater2.describe())"
   ]
  },
  {
   "cell_type": "code",
   "execution_count": 14,
   "metadata": {
    "collapsed": false
   },
   "outputs": [
    {
     "name": "stdout",
     "output_type": "stream",
     "text": [
      "count    115457.000000\n",
      "mean          0.261946\n",
      "std           0.294666\n",
      "min           0.000000\n",
      "25%           0.000000\n",
      "50%           0.250000\n",
      "75%           0.250000\n",
      "max           1.000000\n",
      "Name: rater1, dtype: float64\n",
      "----\n",
      "count    115457.000000\n",
      "mean          0.300796\n",
      "std           0.291061\n",
      "min           0.000000\n",
      "25%           0.000000\n",
      "50%           0.250000\n",
      "75%           0.500000\n",
      "max           1.000000\n",
      "Name: rater2, dtype: float64\n"
     ]
    }
   ],
   "source": [
    "# Data WITHOUT NaNs values\n",
    "good_data = data_clean[~data_clean.position.isnull()]\n",
    "print(good_data.rater1.describe())\n",
    "print('----')\n",
    "print(good_data.rater2.describe())"
   ]
  },
  {
   "cell_type": "markdown",
   "metadata": {},
   "source": [
    "**Remove rows with empty position information based on observation of skin color rating comparison**\n",
    "\n",
    "As we cann see, there is no major difference between the two portions of data. Therefore, we have decided to remove these rows.\n",
    "\n",
    "\n",
    "| rater1| NaN | No NaN |\n",
    "|------|--------|--------|\n",
    "| mean |    0.287600    |    0.261946    |\n",
    "| std  |     0.297938   |  0.294666      |\n",
    "\n",
    "\n",
    "| rater2| NaN | No NaN |\n",
    "|------|--------|--------|\n",
    "| mean |    0.324837    |    0.300796    |\n",
    "| std  |     0.313449   |  0.291061      |"
   ]
  },
  {
   "cell_type": "code",
   "execution_count": 15,
   "metadata": {
    "collapsed": true
   },
   "outputs": [],
   "source": [
    "# Remove all entries with NaNs values in the 'position' column\n",
    "data_clean = data_clean[~data_clean.position.isnull()]"
   ]
  },
  {
   "cell_type": "code",
   "execution_count": 16,
   "metadata": {
    "collapsed": false
   },
   "outputs": [
    {
     "data": {
      "text/plain": [
       "[]"
      ]
     },
     "execution_count": 16,
     "metadata": {},
     "output_type": "execute_result"
    }
   ],
   "source": [
    "# Assert no more \"NaN\" values in our dataframe\n",
    "columns_nanValues(data_clean)"
   ]
  },
  {
   "cell_type": "markdown",
   "metadata": {},
   "source": [
    "### 0.3 Tuning the SkinColor feature"
   ]
  },
  {
   "cell_type": "markdown",
   "metadata": {},
   "source": [
    "The *skin color* feature is stored in two columns: *rater1* and *rater2*. Based on these two columns, we create a new feature *skinColor* by aggregating the two results. But before, let's take a look on the raters results."
   ]
  },
  {
   "cell_type": "code",
   "execution_count": 17,
   "metadata": {
    "collapsed": false
   },
   "outputs": [],
   "source": [
    "data_skin = data_clean\n",
    "data_skin[\"skinColorDiff\"] = (data_skin.rater1-data_skin.rater2).abs()"
   ]
  },
  {
   "cell_type": "markdown",
   "metadata": {},
   "source": [
    "It's obvious that the two raters aren't always on the same page, therefore it is natural to have different results for the same player."
   ]
  },
  {
   "cell_type": "code",
   "execution_count": 18,
   "metadata": {
    "collapsed": false
   },
   "outputs": [
    {
     "data": {
      "text/plain": [
       "164"
      ]
     },
     "execution_count": 18,
     "metadata": {},
     "output_type": "execute_result"
    }
   ],
   "source": [
    "# Search if there are entries where rater rating differ more than 0.25\n",
    "data_colorDiff = data_skin[data_skin.skinColorDiff > 0.25]\n",
    "len(data_colorDiff)"
   ]
  },
  {
   "cell_type": "markdown",
   "metadata": {},
   "source": [
    "For 164 entries, the two raters have major split opinions."
   ]
  },
  {
   "cell_type": "code",
   "execution_count": 19,
   "metadata": {
    "collapsed": false
   },
   "outputs": [
    {
     "name": "stdout",
     "output_type": "stream",
     "text": [
      "[ 0.]\n",
      "[ 0.5]\n"
     ]
    }
   ],
   "source": [
    "print(data_colorDiff.rater1.unique())\n",
    "print(data_colorDiff.rater2.unique())"
   ]
  },
  {
   "cell_type": "markdown",
   "metadata": {},
   "source": [
    "**Keep entries with consistent skin ratings**\n",
    "\n",
    "**Reason:** When one rater consider the player's skin as *very light skin* and the other as *neither dark not light skin*. The number of these entries are small comparing to the entire dataset and any attemp to make a compromise of the two and leaving these entries in might raise the bias of the outcome of our classifier, we've decided that those entries aren't reliable and therefore remove it."
   ]
  },
  {
   "cell_type": "code",
   "execution_count": 20,
   "metadata": {
    "collapsed": false
   },
   "outputs": [
    {
     "data": {
      "text/plain": [
       "115293"
      ]
     },
     "execution_count": 20,
     "metadata": {},
     "output_type": "execute_result"
    }
   ],
   "source": [
    "## Display the total number of entries\n",
    "data_skin_clean = data_skin[data_skin.skinColorDiff <= 0.25]\n",
    "len(data_skin_clean)"
   ]
  },
  {
   "cell_type": "markdown",
   "metadata": {},
   "source": [
    "**Merge two columns in one**\n",
    "\n",
    "Now we can create the *skinColor* feature by aggregating the two raters results."
   ]
  },
  {
   "cell_type": "code",
   "execution_count": 21,
   "metadata": {
    "collapsed": false
   },
   "outputs": [
    {
     "name": "stderr",
     "output_type": "stream",
     "text": [
      "/home/danny/anaconda3/lib/python3.5/site-packages/ipykernel/__main__.py:2: SettingWithCopyWarning: \n",
      "A value is trying to be set on a copy of a slice from a DataFrame.\n",
      "Try using .loc[row_indexer,col_indexer] = value instead\n",
      "\n",
      "See the caveats in the documentation: http://pandas.pydata.org/pandas-docs/stable/indexing.html#indexing-view-versus-copy\n",
      "  from ipykernel import kernelapp as app\n"
     ]
    }
   ],
   "source": [
    "# Add the skin color based on the two raters\n",
    "data_skin_clean[\"skinColor\"] = (data_skin.rater1+data_skin.rater2)/2"
   ]
  },
  {
   "cell_type": "markdown",
   "metadata": {},
   "source": [
    "### 0.4 Remove referees"
   ]
  },
  {
   "cell_type": "markdown",
   "metadata": {},
   "source": [
    "Now we need to look a little more into the referees features. As mentionned in the [complementary reading](http://nbviewer.jupyter.org/github/mathewzilla/redcard/blob/master/Crowdstorming_visualisation.ipynb) for this assignement, there are some referees in this dataset who have less than 22 dyads. Since we want to take into consideration only games in the four leagues (England, France, Germany, and Spain), we need to remove all dyads where a referee has less that 1 game. Note that these doesn't mean we remove all possible ref-related noise of our data."
   ]
  },
  {
   "cell_type": "code",
   "execution_count": 22,
   "metadata": {
    "collapsed": true
   },
   "outputs": [],
   "source": [
    "# Group the data by refs\n",
    "data_by_refs = data_skin_clean.groupby('refNum').size()\n",
    "refsToKeep = data_by_refs >= 22\n",
    "\n",
    "# Retrieve the 'refNum' of refs to keep in the data\n",
    "refsToKeepID = list()\n",
    "for i,x in enumerate(refsToKeep):\n",
    "    if x:\n",
    "        refsToKeepID.append(refsToKeep.index[i])\n",
    "\n",
    "# Keep only the refs with at least 22 games\n",
    "data_clean = data_skin_clean[data_skin_clean.refNum.isin(refsToKeepID)]"
   ]
  },
  {
   "cell_type": "code",
   "execution_count": 23,
   "metadata": {
    "collapsed": false
   },
   "outputs": [
    {
     "data": {
      "text/html": [
       "<div>\n",
       "<table border=\"1\" class=\"dataframe\">\n",
       "  <thead>\n",
       "    <tr style=\"text-align: right;\">\n",
       "      <th></th>\n",
       "      <th>playerShort</th>\n",
       "      <th>player</th>\n",
       "      <th>club</th>\n",
       "      <th>leagueCountry</th>\n",
       "      <th>birthday</th>\n",
       "      <th>height</th>\n",
       "      <th>weight</th>\n",
       "      <th>position</th>\n",
       "      <th>games</th>\n",
       "      <th>victories</th>\n",
       "      <th>...</th>\n",
       "      <th>refCountry</th>\n",
       "      <th>Alpha_3</th>\n",
       "      <th>meanIAT</th>\n",
       "      <th>nIAT</th>\n",
       "      <th>seIAT</th>\n",
       "      <th>meanExp</th>\n",
       "      <th>nExp</th>\n",
       "      <th>seExp</th>\n",
       "      <th>skinColorDiff</th>\n",
       "      <th>skinColor</th>\n",
       "    </tr>\n",
       "  </thead>\n",
       "  <tbody>\n",
       "    <tr>\n",
       "      <th>5</th>\n",
       "      <td>aaron-hughes</td>\n",
       "      <td>Aaron Hughes</td>\n",
       "      <td>Fulham FC</td>\n",
       "      <td>England</td>\n",
       "      <td>08.11.1979</td>\n",
       "      <td>182.0</td>\n",
       "      <td>71.0</td>\n",
       "      <td>Center Back</td>\n",
       "      <td>1</td>\n",
       "      <td>0</td>\n",
       "      <td>...</td>\n",
       "      <td>4</td>\n",
       "      <td>LUX</td>\n",
       "      <td>0.325185</td>\n",
       "      <td>127.0</td>\n",
       "      <td>0.003297</td>\n",
       "      <td>0.538462</td>\n",
       "      <td>130.0</td>\n",
       "      <td>0.013752</td>\n",
       "      <td>0.25</td>\n",
       "      <td>0.125</td>\n",
       "    </tr>\n",
       "    <tr>\n",
       "      <th>6</th>\n",
       "      <td>aleksandar-kolarov</td>\n",
       "      <td>Aleksandar Kolarov</td>\n",
       "      <td>Manchester City</td>\n",
       "      <td>England</td>\n",
       "      <td>10.11.1985</td>\n",
       "      <td>187.0</td>\n",
       "      <td>80.0</td>\n",
       "      <td>Left Fullback</td>\n",
       "      <td>1</td>\n",
       "      <td>1</td>\n",
       "      <td>...</td>\n",
       "      <td>4</td>\n",
       "      <td>LUX</td>\n",
       "      <td>0.325185</td>\n",
       "      <td>127.0</td>\n",
       "      <td>0.003297</td>\n",
       "      <td>0.538462</td>\n",
       "      <td>130.0</td>\n",
       "      <td>0.013752</td>\n",
       "      <td>0.25</td>\n",
       "      <td>0.125</td>\n",
       "    </tr>\n",
       "    <tr>\n",
       "      <th>7</th>\n",
       "      <td>alexander-tettey</td>\n",
       "      <td>Alexander Tettey</td>\n",
       "      <td>Norwich City</td>\n",
       "      <td>England</td>\n",
       "      <td>04.04.1986</td>\n",
       "      <td>180.0</td>\n",
       "      <td>68.0</td>\n",
       "      <td>Defensive Midfielder</td>\n",
       "      <td>1</td>\n",
       "      <td>0</td>\n",
       "      <td>...</td>\n",
       "      <td>4</td>\n",
       "      <td>LUX</td>\n",
       "      <td>0.325185</td>\n",
       "      <td>127.0</td>\n",
       "      <td>0.003297</td>\n",
       "      <td>0.538462</td>\n",
       "      <td>130.0</td>\n",
       "      <td>0.013752</td>\n",
       "      <td>0.00</td>\n",
       "      <td>1.000</td>\n",
       "    </tr>\n",
       "    <tr>\n",
       "      <th>8</th>\n",
       "      <td>anders-lindegaard</td>\n",
       "      <td>Anders Lindegaard</td>\n",
       "      <td>Manchester United</td>\n",
       "      <td>England</td>\n",
       "      <td>13.04.1984</td>\n",
       "      <td>193.0</td>\n",
       "      <td>80.0</td>\n",
       "      <td>Goalkeeper</td>\n",
       "      <td>1</td>\n",
       "      <td>0</td>\n",
       "      <td>...</td>\n",
       "      <td>4</td>\n",
       "      <td>LUX</td>\n",
       "      <td>0.325185</td>\n",
       "      <td>127.0</td>\n",
       "      <td>0.003297</td>\n",
       "      <td>0.538462</td>\n",
       "      <td>130.0</td>\n",
       "      <td>0.013752</td>\n",
       "      <td>0.00</td>\n",
       "      <td>0.250</td>\n",
       "    </tr>\n",
       "    <tr>\n",
       "      <th>9</th>\n",
       "      <td>andreas-beck</td>\n",
       "      <td>Andreas Beck</td>\n",
       "      <td>1899 Hoffenheim</td>\n",
       "      <td>Germany</td>\n",
       "      <td>13.03.1987</td>\n",
       "      <td>180.0</td>\n",
       "      <td>70.0</td>\n",
       "      <td>Right Fullback</td>\n",
       "      <td>1</td>\n",
       "      <td>1</td>\n",
       "      <td>...</td>\n",
       "      <td>4</td>\n",
       "      <td>LUX</td>\n",
       "      <td>0.325185</td>\n",
       "      <td>127.0</td>\n",
       "      <td>0.003297</td>\n",
       "      <td>0.538462</td>\n",
       "      <td>130.0</td>\n",
       "      <td>0.013752</td>\n",
       "      <td>0.00</td>\n",
       "      <td>0.000</td>\n",
       "    </tr>\n",
       "  </tbody>\n",
       "</table>\n",
       "<p>5 rows × 30 columns</p>\n",
       "</div>"
      ],
      "text/plain": [
       "          playerShort              player               club leagueCountry  \\\n",
       "5        aaron-hughes        Aaron Hughes          Fulham FC       England   \n",
       "6  aleksandar-kolarov  Aleksandar Kolarov    Manchester City       England   \n",
       "7    alexander-tettey    Alexander Tettey       Norwich City       England   \n",
       "8   anders-lindegaard   Anders Lindegaard  Manchester United       England   \n",
       "9        andreas-beck        Andreas Beck    1899 Hoffenheim       Germany   \n",
       "\n",
       "     birthday  height  weight              position  games  victories  \\\n",
       "5  08.11.1979   182.0    71.0           Center Back      1          0   \n",
       "6  10.11.1985   187.0    80.0         Left Fullback      1          1   \n",
       "7  04.04.1986   180.0    68.0  Defensive Midfielder      1          0   \n",
       "8  13.04.1984   193.0    80.0            Goalkeeper      1          0   \n",
       "9  13.03.1987   180.0    70.0        Right Fullback      1          1   \n",
       "\n",
       "     ...      refCountry  Alpha_3   meanIAT   nIAT     seIAT   meanExp   nExp  \\\n",
       "5    ...               4      LUX  0.325185  127.0  0.003297  0.538462  130.0   \n",
       "6    ...               4      LUX  0.325185  127.0  0.003297  0.538462  130.0   \n",
       "7    ...               4      LUX  0.325185  127.0  0.003297  0.538462  130.0   \n",
       "8    ...               4      LUX  0.325185  127.0  0.003297  0.538462  130.0   \n",
       "9    ...               4      LUX  0.325185  127.0  0.003297  0.538462  130.0   \n",
       "\n",
       "      seExp  skinColorDiff  skinColor  \n",
       "5  0.013752           0.25      0.125  \n",
       "6  0.013752           0.25      0.125  \n",
       "7  0.013752           0.00      1.000  \n",
       "8  0.013752           0.00      0.250  \n",
       "9  0.013752           0.00      0.000  \n",
       "\n",
       "[5 rows x 30 columns]"
      ]
     },
     "execution_count": 23,
     "metadata": {},
     "output_type": "execute_result"
    }
   ],
   "source": [
    "data = data_clean\n",
    "data.head()"
   ]
  },
  {
   "cell_type": "markdown",
   "metadata": {},
   "source": [
    "Now, we consider that our dataset is clean and we can go for the first part of the assignment!"
   ]
  },
  {
   "cell_type": "markdown",
   "metadata": {},
   "source": [
    "> Note about the data. We found something disturbing. The player *Aaron Hughes* has played, according to wikipedia, "
   ]
  },
  {
   "cell_type": "markdown",
   "metadata": {},
   "source": [
    "## 1.\n",
    ">Train a sklearn.ensemble.RandomForestClassifier that given a soccer player description outputs his skin color. Show how different parameters passed to the Classifier affect the overfitting issue. Perform cross-validation to mitigate the overfitting of your model. Once you assessed your model, inspect the feature_importances_ attribute and discuss the obtained results. With different assumptions on the data (e.g., dropping certain features even before feeding them to the classifier), can you obtain a substantially different feature_importances_ attribute?"
   ]
  },
  {
   "cell_type": "markdown",
   "metadata": {},
   "source": [
    "### 1.1 Cross-Featuring\n",
    "For this first part, we only care about player description. Therefore, we need to keep only one entry per player and for each player to aggregate his data with all refs with who he has a dyad."
   ]
  },
  {
   "cell_type": "code",
   "execution_count": 24,
   "metadata": {
    "collapsed": false
   },
   "outputs": [
    {
     "data": {
      "text/html": [
       "<div>\n",
       "<table border=\"1\" class=\"dataframe\">\n",
       "  <thead>\n",
       "    <tr style=\"text-align: right;\">\n",
       "      <th></th>\n",
       "      <th>games</th>\n",
       "      <th>position</th>\n",
       "      <th>goals</th>\n",
       "      <th>seIAT</th>\n",
       "      <th>defeats</th>\n",
       "      <th>ties</th>\n",
       "      <th>seExp</th>\n",
       "      <th>meanExp</th>\n",
       "      <th>weight</th>\n",
       "      <th>redCards</th>\n",
       "      <th>club</th>\n",
       "      <th>meanIAT</th>\n",
       "      <th>player</th>\n",
       "      <th>birthday</th>\n",
       "      <th>height</th>\n",
       "      <th>victories</th>\n",
       "      <th>leagueCountry</th>\n",
       "      <th>skinColor</th>\n",
       "      <th>yellowCards</th>\n",
       "      <th>yellowReds</th>\n",
       "    </tr>\n",
       "    <tr>\n",
       "      <th>playerShort</th>\n",
       "      <th></th>\n",
       "      <th></th>\n",
       "      <th></th>\n",
       "      <th></th>\n",
       "      <th></th>\n",
       "      <th></th>\n",
       "      <th></th>\n",
       "      <th></th>\n",
       "      <th></th>\n",
       "      <th></th>\n",
       "      <th></th>\n",
       "      <th></th>\n",
       "      <th></th>\n",
       "      <th></th>\n",
       "      <th></th>\n",
       "      <th></th>\n",
       "      <th></th>\n",
       "      <th></th>\n",
       "      <th></th>\n",
       "      <th></th>\n",
       "    </tr>\n",
       "  </thead>\n",
       "  <tbody>\n",
       "    <tr>\n",
       "      <th>aaron-hughes</th>\n",
       "      <td>635</td>\n",
       "      <td>Center Back</td>\n",
       "      <td>8</td>\n",
       "      <td>0.000282</td>\n",
       "      <td>221</td>\n",
       "      <td>174</td>\n",
       "      <td>0.001321</td>\n",
       "      <td>0.484931</td>\n",
       "      <td>71.0</td>\n",
       "      <td>0</td>\n",
       "      <td>Fulham FC</td>\n",
       "      <td>0.345065</td>\n",
       "      <td>Aaron Hughes</td>\n",
       "      <td>08.11.1979</td>\n",
       "      <td>182.0</td>\n",
       "      <td>240</td>\n",
       "      <td>England</td>\n",
       "      <td>0.125</td>\n",
       "      <td>19</td>\n",
       "      <td>0</td>\n",
       "    </tr>\n",
       "    <tr>\n",
       "      <th>aaron-hunt</th>\n",
       "      <td>328</td>\n",
       "      <td>Attacking Midfielder</td>\n",
       "      <td>59</td>\n",
       "      <td>0.000227</td>\n",
       "      <td>119</td>\n",
       "      <td>70</td>\n",
       "      <td>0.001032</td>\n",
       "      <td>0.451448</td>\n",
       "      <td>73.0</td>\n",
       "      <td>1</td>\n",
       "      <td>Werder Bremen</td>\n",
       "      <td>0.349424</td>\n",
       "      <td>Aaron Hunt</td>\n",
       "      <td>04.09.1986</td>\n",
       "      <td>183.0</td>\n",
       "      <td>139</td>\n",
       "      <td>Germany</td>\n",
       "      <td>0.125</td>\n",
       "      <td>39</td>\n",
       "      <td>0</td>\n",
       "    </tr>\n",
       "    <tr>\n",
       "      <th>aaron-lennon</th>\n",
       "      <td>411</td>\n",
       "      <td>Right Midfielder</td>\n",
       "      <td>31</td>\n",
       "      <td>0.000371</td>\n",
       "      <td>115</td>\n",
       "      <td>96</td>\n",
       "      <td>0.002052</td>\n",
       "      <td>0.492832</td>\n",
       "      <td>63.0</td>\n",
       "      <td>0</td>\n",
       "      <td>Tottenham Hotspur</td>\n",
       "      <td>0.346085</td>\n",
       "      <td>Aaron Lennon</td>\n",
       "      <td>16.04.1987</td>\n",
       "      <td>165.0</td>\n",
       "      <td>200</td>\n",
       "      <td>England</td>\n",
       "      <td>0.250</td>\n",
       "      <td>11</td>\n",
       "      <td>0</td>\n",
       "    </tr>\n",
       "    <tr>\n",
       "      <th>aaron-ramsey</th>\n",
       "      <td>253</td>\n",
       "      <td>Center Midfielder</td>\n",
       "      <td>39</td>\n",
       "      <td>0.000496</td>\n",
       "      <td>67</td>\n",
       "      <td>42</td>\n",
       "      <td>0.002826</td>\n",
       "      <td>0.511374</td>\n",
       "      <td>76.0</td>\n",
       "      <td>1</td>\n",
       "      <td>Arsenal FC</td>\n",
       "      <td>0.347013</td>\n",
       "      <td>Aaron Ramsey</td>\n",
       "      <td>26.12.1990</td>\n",
       "      <td>178.0</td>\n",
       "      <td>144</td>\n",
       "      <td>England</td>\n",
       "      <td>0.000</td>\n",
       "      <td>31</td>\n",
       "      <td>0</td>\n",
       "    </tr>\n",
       "    <tr>\n",
       "      <th>abdelhamid-el-kaoutari</th>\n",
       "      <td>124</td>\n",
       "      <td>Center Back</td>\n",
       "      <td>1</td>\n",
       "      <td>0.001488</td>\n",
       "      <td>43</td>\n",
       "      <td>40</td>\n",
       "      <td>0.005296</td>\n",
       "      <td>0.335587</td>\n",
       "      <td>73.0</td>\n",
       "      <td>2</td>\n",
       "      <td>Montpellier HSC</td>\n",
       "      <td>0.331600</td>\n",
       "      <td>Abdelhamid El-Kaoutari</td>\n",
       "      <td>17.03.1990</td>\n",
       "      <td>180.0</td>\n",
       "      <td>41</td>\n",
       "      <td>France</td>\n",
       "      <td>0.250</td>\n",
       "      <td>8</td>\n",
       "      <td>4</td>\n",
       "    </tr>\n",
       "  </tbody>\n",
       "</table>\n",
       "</div>"
      ],
      "text/plain": [
       "                        games              position  goals     seIAT  defeats  \\\n",
       "playerShort                                                                     \n",
       "aaron-hughes              635           Center Back      8  0.000282      221   \n",
       "aaron-hunt                328  Attacking Midfielder     59  0.000227      119   \n",
       "aaron-lennon              411      Right Midfielder     31  0.000371      115   \n",
       "aaron-ramsey              253     Center Midfielder     39  0.000496       67   \n",
       "abdelhamid-el-kaoutari    124           Center Back      1  0.001488       43   \n",
       "\n",
       "                        ties     seExp   meanExp  weight  redCards  \\\n",
       "playerShort                                                          \n",
       "aaron-hughes             174  0.001321  0.484931    71.0         0   \n",
       "aaron-hunt                70  0.001032  0.451448    73.0         1   \n",
       "aaron-lennon              96  0.002052  0.492832    63.0         0   \n",
       "aaron-ramsey              42  0.002826  0.511374    76.0         1   \n",
       "abdelhamid-el-kaoutari    40  0.005296  0.335587    73.0         2   \n",
       "\n",
       "                                     club   meanIAT                  player  \\\n",
       "playerShort                                                                   \n",
       "aaron-hughes                    Fulham FC  0.345065            Aaron Hughes   \n",
       "aaron-hunt                  Werder Bremen  0.349424              Aaron Hunt   \n",
       "aaron-lennon            Tottenham Hotspur  0.346085            Aaron Lennon   \n",
       "aaron-ramsey                   Arsenal FC  0.347013            Aaron Ramsey   \n",
       "abdelhamid-el-kaoutari    Montpellier HSC  0.331600  Abdelhamid El-Kaoutari   \n",
       "\n",
       "                          birthday  height  victories leagueCountry  \\\n",
       "playerShort                                                           \n",
       "aaron-hughes            08.11.1979   182.0        240       England   \n",
       "aaron-hunt              04.09.1986   183.0        139       Germany   \n",
       "aaron-lennon            16.04.1987   165.0        200       England   \n",
       "aaron-ramsey            26.12.1990   178.0        144       England   \n",
       "abdelhamid-el-kaoutari  17.03.1990   180.0         41        France   \n",
       "\n",
       "                        skinColor  yellowCards  yellowReds  \n",
       "playerShort                                                 \n",
       "aaron-hughes                0.125           19           0  \n",
       "aaron-hunt                  0.125           39           0  \n",
       "aaron-lennon                0.250           11           0  \n",
       "aaron-ramsey                0.000           31           0  \n",
       "abdelhamid-el-kaoutari      0.250            8           4  "
      ]
     },
     "execution_count": 24,
     "metadata": {},
     "output_type": "execute_result"
    }
   ],
   "source": [
    "data_by_player = data.groupby('playerShort')\n",
    "data_player = data_by_player.agg({\n",
    "        # Keep only one entry per player\n",
    "        'player'    : 'first',\n",
    "        'club'      : 'first',\n",
    "        'leagueCountry' : 'first',\n",
    "        'birthday'  : 'first',\n",
    "        'position'  : 'first',\n",
    "        'height'    : 'mean',\n",
    "        'weight'    : 'mean',\n",
    "        'skinColor' : 'mean',\n",
    "        \n",
    "        # Sum all referees data\n",
    "        'games'     : 'sum',\n",
    "        'victories' : 'sum',\n",
    "        'ties'      : 'sum',\n",
    "        'defeats'   : 'sum',\n",
    "        'goals'     : 'sum',\n",
    "        'yellowCards' : 'sum',\n",
    "        'yellowReds': 'sum',\n",
    "        'redCards'  : 'sum',\n",
    "        \n",
    "        'meanIAT'   : 'mean',\n",
    "        'meanExp'   : 'mean',\n",
    "        'seIAT'     : 'mean',\n",
    "        'seExp'     : 'mean'\n",
    "    })\n",
    "\n",
    "data_player.head()"
   ]
  },
  {
   "cell_type": "code",
   "execution_count": 25,
   "metadata": {
    "collapsed": false
   },
   "outputs": [
    {
     "name": "stderr",
     "output_type": "stream",
     "text": [
      "/home/danny/anaconda3/lib/python3.5/site-packages/ipykernel/__main__.py:1: FutureWarning: sort(columns=....) is deprecated, use sort_values(by=.....)\n",
      "  if __name__ == '__main__':\n"
     ]
    },
    {
     "data": {
      "text/plain": [
       "playerShort\n",
       "frank-lampard             890\n",
       "xavi                      789\n",
       "iker-casillas             773\n",
       "steven-gerrard            763\n",
       "jamie-carragher           745\n",
       "john-arne-riise           703\n",
       "rio-ferdinand             700\n",
       "john-terry                695\n",
       "mark-schwarzer            677\n",
       "paul-scholes              674\n",
       "xabi-alonso               665\n",
       "gareth-barry              665\n",
       "phil-neville              661\n",
       "ashley-cole               660\n",
       "petr-cech                 655\n",
       "mickael-landreau          654\n",
       "shay-given                646\n",
       "cristiano-ronaldo         645\n",
       "pepe-reina                639\n",
       "puyol                     638\n",
       "aaron-hughes              635\n",
       "william-gallas            612\n",
       "wayne-rooney              607\n",
       "michael-carrick           602\n",
       "bastian-schweinsteiger    601\n",
       "philipp-lahm              600\n",
       "florent-malouda           594\n",
       "fernando-torres           593\n",
       "claudio-pizarro           589\n",
       "john-oshea                584\n",
       "                         ... \n",
       "anderson-conceicao         23\n",
       "pape-mbow                  21\n",
       "abdoulaye-diallo_2         20\n",
       "raul_10                    20\n",
       "alvaro_8                   18\n",
       "levent-aycicek             17\n",
       "carlinhos_13               16\n",
       "marc-stendera              15\n",
       "medhi-zeffane              14\n",
       "barel-mouko                14\n",
       "ahmed-sassi                13\n",
       "yannik-schulze             11\n",
       "issa-ndoye                 11\n",
       "nico-yennaris              11\n",
       "ryan-mclaughlin_2          11\n",
       "jonathan-ligali             8\n",
       "kevin                       8\n",
       "salva-ruiz                  7\n",
       "nikos-papadopoulos          6\n",
       "arrizabalaga                5\n",
       "cheikh-ndiaye               5\n",
       "senah-mango                 3\n",
       "wesley-jobello              3\n",
       "abdoulaye-keita_2           3\n",
       "marcelo_5                   2\n",
       "momar-bangoura              2\n",
       "dalmau_2                    2\n",
       "alex-rubio                  2\n",
       "marek-grosse                1\n",
       "baptiste-aloe               1\n",
       "Name: games, dtype: int64"
      ]
     },
     "execution_count": 25,
     "metadata": {},
     "output_type": "execute_result"
    }
   ],
   "source": [
    "data_player.sort(columns=\"games\", ascending=False)[\"games\"]"
   ]
  },
  {
   "cell_type": "markdown",
   "metadata": {},
   "source": [
    "#### 1.1.1 IAT and Exp\n",
    "There is still some columns that we can aggregate from the original dataset. We decided to combine the *meanIAT* and *meanExp* together, and the *seIAT* with the *seExp*."
   ]
  },
  {
   "cell_type": "code",
   "execution_count": 26,
   "metadata": {
    "collapsed": false
   },
   "outputs": [],
   "source": [
    "# Before aggregations the IAT and Exp data together, we decided to change the data\n",
    "# in order to have values between [0,1]\n",
    "\n",
    "def column_maxmin(column):\n",
    "    \"\"\"\n",
    "        Normalize the column values in a given dataframe\n",
    "    \"\"\"\n",
    "    maxmin = column.max() - column.min()\n",
    "    return (column - column.min()) / maxmin\n",
    "\n",
    "\n",
    "data_player.meanIAT = column_maxmin(data_player.meanIAT)\n",
    "data_player.seIAT   = column_maxmin(data_player.seIAT)\n",
    "data_player.meanExp = column_maxmin(data_player.meanExp)\n",
    "data_player.seExp   = column_maxmin(data_player.seExp)"
   ]
  },
  {
   "cell_type": "markdown",
   "metadata": {},
   "source": [
    "Now we can aggregate the columns.\n",
    "- $meanIATEXP = \\frac{meanIAT + meanExp}{2}$\n",
    "- $seIATEXP = \\sqrt{seIAT² + seExp^2}$"
   ]
  },
  {
   "cell_type": "code",
   "execution_count": 27,
   "metadata": {
    "collapsed": false,
    "scrolled": true
   },
   "outputs": [
    {
     "data": {
      "text/html": [
       "<div>\n",
       "<table border=\"1\" class=\"dataframe\">\n",
       "  <thead>\n",
       "    <tr style=\"text-align: right;\">\n",
       "      <th></th>\n",
       "      <th>games</th>\n",
       "      <th>position</th>\n",
       "      <th>goals</th>\n",
       "      <th>seIAT</th>\n",
       "      <th>defeats</th>\n",
       "      <th>ties</th>\n",
       "      <th>seExp</th>\n",
       "      <th>meanExp</th>\n",
       "      <th>weight</th>\n",
       "      <th>redCards</th>\n",
       "      <th>...</th>\n",
       "      <th>player</th>\n",
       "      <th>birthday</th>\n",
       "      <th>height</th>\n",
       "      <th>victories</th>\n",
       "      <th>leagueCountry</th>\n",
       "      <th>skinColor</th>\n",
       "      <th>yellowCards</th>\n",
       "      <th>yellowReds</th>\n",
       "      <th>meanIATEXP</th>\n",
       "      <th>seIATEXP</th>\n",
       "    </tr>\n",
       "    <tr>\n",
       "      <th>playerShort</th>\n",
       "      <th></th>\n",
       "      <th></th>\n",
       "      <th></th>\n",
       "      <th></th>\n",
       "      <th></th>\n",
       "      <th></th>\n",
       "      <th></th>\n",
       "      <th></th>\n",
       "      <th></th>\n",
       "      <th></th>\n",
       "      <th></th>\n",
       "      <th></th>\n",
       "      <th></th>\n",
       "      <th></th>\n",
       "      <th></th>\n",
       "      <th></th>\n",
       "      <th></th>\n",
       "      <th></th>\n",
       "      <th></th>\n",
       "      <th></th>\n",
       "      <th></th>\n",
       "    </tr>\n",
       "  </thead>\n",
       "  <tbody>\n",
       "    <tr>\n",
       "      <th>aaron-hughes</th>\n",
       "      <td>635</td>\n",
       "      <td>Center Back</td>\n",
       "      <td>8</td>\n",
       "      <td>0.030137</td>\n",
       "      <td>221</td>\n",
       "      <td>174</td>\n",
       "      <td>0.028156</td>\n",
       "      <td>0.434369</td>\n",
       "      <td>71.0</td>\n",
       "      <td>0</td>\n",
       "      <td>...</td>\n",
       "      <td>Aaron Hughes</td>\n",
       "      <td>08.11.1979</td>\n",
       "      <td>182.0</td>\n",
       "      <td>240</td>\n",
       "      <td>England</td>\n",
       "      <td>0.125</td>\n",
       "      <td>19</td>\n",
       "      <td>0</td>\n",
       "      <td>0.481152</td>\n",
       "      <td>0.041243</td>\n",
       "    </tr>\n",
       "    <tr>\n",
       "      <th>aaron-hunt</th>\n",
       "      <td>328</td>\n",
       "      <td>Attacking Midfielder</td>\n",
       "      <td>59</td>\n",
       "      <td>0.024027</td>\n",
       "      <td>119</td>\n",
       "      <td>70</td>\n",
       "      <td>0.021812</td>\n",
       "      <td>0.399713</td>\n",
       "      <td>73.0</td>\n",
       "      <td>1</td>\n",
       "      <td>...</td>\n",
       "      <td>Aaron Hunt</td>\n",
       "      <td>04.09.1986</td>\n",
       "      <td>183.0</td>\n",
       "      <td>139</td>\n",
       "      <td>Germany</td>\n",
       "      <td>0.125</td>\n",
       "      <td>39</td>\n",
       "      <td>0</td>\n",
       "      <td>0.483823</td>\n",
       "      <td>0.032451</td>\n",
       "    </tr>\n",
       "    <tr>\n",
       "      <th>aaron-lennon</th>\n",
       "      <td>411</td>\n",
       "      <td>Right Midfielder</td>\n",
       "      <td>31</td>\n",
       "      <td>0.039880</td>\n",
       "      <td>115</td>\n",
       "      <td>96</td>\n",
       "      <td>0.044180</td>\n",
       "      <td>0.442548</td>\n",
       "      <td>63.0</td>\n",
       "      <td>0</td>\n",
       "      <td>...</td>\n",
       "      <td>Aaron Lennon</td>\n",
       "      <td>16.04.1987</td>\n",
       "      <td>165.0</td>\n",
       "      <td>200</td>\n",
       "      <td>England</td>\n",
       "      <td>0.250</td>\n",
       "      <td>11</td>\n",
       "      <td>0</td>\n",
       "      <td>0.489919</td>\n",
       "      <td>0.059518</td>\n",
       "    </tr>\n",
       "    <tr>\n",
       "      <th>aaron-ramsey</th>\n",
       "      <td>253</td>\n",
       "      <td>Center Midfielder</td>\n",
       "      <td>39</td>\n",
       "      <td>0.053753</td>\n",
       "      <td>67</td>\n",
       "      <td>42</td>\n",
       "      <td>0.061155</td>\n",
       "      <td>0.461739</td>\n",
       "      <td>76.0</td>\n",
       "      <td>1</td>\n",
       "      <td>...</td>\n",
       "      <td>Aaron Ramsey</td>\n",
       "      <td>26.12.1990</td>\n",
       "      <td>178.0</td>\n",
       "      <td>144</td>\n",
       "      <td>England</td>\n",
       "      <td>0.000</td>\n",
       "      <td>31</td>\n",
       "      <td>0</td>\n",
       "      <td>0.503773</td>\n",
       "      <td>0.081421</td>\n",
       "    </tr>\n",
       "    <tr>\n",
       "      <th>abdelhamid-el-kaoutari</th>\n",
       "      <td>124</td>\n",
       "      <td>Center Back</td>\n",
       "      <td>1</td>\n",
       "      <td>0.163288</td>\n",
       "      <td>43</td>\n",
       "      <td>40</td>\n",
       "      <td>0.115304</td>\n",
       "      <td>0.279791</td>\n",
       "      <td>73.0</td>\n",
       "      <td>2</td>\n",
       "      <td>...</td>\n",
       "      <td>Abdelhamid El-Kaoutari</td>\n",
       "      <td>17.03.1990</td>\n",
       "      <td>180.0</td>\n",
       "      <td>41</td>\n",
       "      <td>France</td>\n",
       "      <td>0.250</td>\n",
       "      <td>8</td>\n",
       "      <td>4</td>\n",
       "      <td>0.342083</td>\n",
       "      <td>0.199895</td>\n",
       "    </tr>\n",
       "  </tbody>\n",
       "</table>\n",
       "<p>5 rows × 22 columns</p>\n",
       "</div>"
      ],
      "text/plain": [
       "                        games              position  goals     seIAT  defeats  \\\n",
       "playerShort                                                                     \n",
       "aaron-hughes              635           Center Back      8  0.030137      221   \n",
       "aaron-hunt                328  Attacking Midfielder     59  0.024027      119   \n",
       "aaron-lennon              411      Right Midfielder     31  0.039880      115   \n",
       "aaron-ramsey              253     Center Midfielder     39  0.053753       67   \n",
       "abdelhamid-el-kaoutari    124           Center Back      1  0.163288       43   \n",
       "\n",
       "                        ties     seExp   meanExp  weight  redCards    ...     \\\n",
       "playerShort                                                           ...      \n",
       "aaron-hughes             174  0.028156  0.434369    71.0         0    ...      \n",
       "aaron-hunt                70  0.021812  0.399713    73.0         1    ...      \n",
       "aaron-lennon              96  0.044180  0.442548    63.0         0    ...      \n",
       "aaron-ramsey              42  0.061155  0.461739    76.0         1    ...      \n",
       "abdelhamid-el-kaoutari    40  0.115304  0.279791    73.0         2    ...      \n",
       "\n",
       "                                        player    birthday height victories  \\\n",
       "playerShort                                                                   \n",
       "aaron-hughes                      Aaron Hughes  08.11.1979  182.0       240   \n",
       "aaron-hunt                          Aaron Hunt  04.09.1986  183.0       139   \n",
       "aaron-lennon                      Aaron Lennon  16.04.1987  165.0       200   \n",
       "aaron-ramsey                      Aaron Ramsey  26.12.1990  178.0       144   \n",
       "abdelhamid-el-kaoutari  Abdelhamid El-Kaoutari  17.03.1990  180.0        41   \n",
       "\n",
       "                        leagueCountry  skinColor yellowCards  yellowReds  \\\n",
       "playerShort                                                                \n",
       "aaron-hughes                  England      0.125          19           0   \n",
       "aaron-hunt                    Germany      0.125          39           0   \n",
       "aaron-lennon                  England      0.250          11           0   \n",
       "aaron-ramsey                  England      0.000          31           0   \n",
       "abdelhamid-el-kaoutari         France      0.250           8           4   \n",
       "\n",
       "                        meanIATEXP  seIATEXP  \n",
       "playerShort                                   \n",
       "aaron-hughes              0.481152  0.041243  \n",
       "aaron-hunt                0.483823  0.032451  \n",
       "aaron-lennon              0.489919  0.059518  \n",
       "aaron-ramsey              0.503773  0.081421  \n",
       "abdelhamid-el-kaoutari    0.342083  0.199895  \n",
       "\n",
       "[5 rows x 22 columns]"
      ]
     },
     "execution_count": 27,
     "metadata": {},
     "output_type": "execute_result"
    }
   ],
   "source": [
    "data_player[\"meanIATEXP\"] = (data_player.meanIAT + data_player.meanExp) / 2\n",
    "data_player[\"seIATEXP\"] = (data_player.seIAT**2 + data_player.seExp**2)**0.5\n",
    "data_player.head()"
   ]
  },
  {
   "cell_type": "markdown",
   "metadata": {},
   "source": [
    "#### 1.1.2  Cards\n",
    "Players can receive a yellow card, a red card resulting of two yellows one, or a direct red card. \n",
    "\n",
    "We've decided to combine these cards features:\n",
    "- *cardsPerGame*: Sum of all cards divided by the number of games\n",
    "- *yellowCardNorm*: The number of yellow cards for a player divided by the total number of yellow cards (for all players). Between [0,1]\n",
    "- *yellowRedsNorm*: Same as *yellowCardStand*, but with the yellowReds\n",
    "- *redCardsNorm*: Same as *yellowCardStand*, but with the redCards"
   ]
  },
  {
   "cell_type": "code",
   "execution_count": 28,
   "metadata": {
    "collapsed": true
   },
   "outputs": [],
   "source": [
    "# cardsPerGame\n",
    "data_player['cardsPerGame'] = (data_player.yellowCards + data_player.yellowReds + data_player.redCards)\\\n",
    "                                / data_player.games"
   ]
  },
  {
   "cell_type": "code",
   "execution_count": 29,
   "metadata": {
    "collapsed": false
   },
   "outputs": [],
   "source": [
    "#yellowCardNorm\n",
    "data_player['yellowCardNorm'] = data_player.yellowCards / data_player.yellowCards.sum()\n",
    "data_player['yellowCardNorm'] = column_maxmin(data_player['yellowCardNorm'])"
   ]
  },
  {
   "cell_type": "code",
   "execution_count": 30,
   "metadata": {
    "collapsed": true
   },
   "outputs": [],
   "source": [
    "#yellowRedsNorm\n",
    "data_player['yellowRedsNorm'] = data_player.yellowReds / data_player.yellowReds.sum()\n",
    "data_player['yellowRedsNorm'] = column_maxmin(data_player['yellowRedsNorm'])"
   ]
  },
  {
   "cell_type": "code",
   "execution_count": 31,
   "metadata": {
    "collapsed": true
   },
   "outputs": [],
   "source": [
    "#redCardsNorm\n",
    "data_player['redCardsNorm'] = data_player.redCards / data_player.redCards.sum()\n",
    "data_player['redCardsNorm'] = column_maxmin(data_player['redCardsNorm'])"
   ]
  },
  {
   "cell_type": "code",
   "execution_count": 32,
   "metadata": {
    "collapsed": false
   },
   "outputs": [
    {
     "data": {
      "text/html": [
       "<div>\n",
       "<table border=\"1\" class=\"dataframe\">\n",
       "  <thead>\n",
       "    <tr style=\"text-align: right;\">\n",
       "      <th></th>\n",
       "      <th>games</th>\n",
       "      <th>position</th>\n",
       "      <th>goals</th>\n",
       "      <th>seIAT</th>\n",
       "      <th>defeats</th>\n",
       "      <th>ties</th>\n",
       "      <th>seExp</th>\n",
       "      <th>meanExp</th>\n",
       "      <th>weight</th>\n",
       "      <th>redCards</th>\n",
       "      <th>...</th>\n",
       "      <th>leagueCountry</th>\n",
       "      <th>skinColor</th>\n",
       "      <th>yellowCards</th>\n",
       "      <th>yellowReds</th>\n",
       "      <th>meanIATEXP</th>\n",
       "      <th>seIATEXP</th>\n",
       "      <th>cardsPerGame</th>\n",
       "      <th>yellowCardNorm</th>\n",
       "      <th>yellowRedsNorm</th>\n",
       "      <th>redCardsNorm</th>\n",
       "    </tr>\n",
       "    <tr>\n",
       "      <th>playerShort</th>\n",
       "      <th></th>\n",
       "      <th></th>\n",
       "      <th></th>\n",
       "      <th></th>\n",
       "      <th></th>\n",
       "      <th></th>\n",
       "      <th></th>\n",
       "      <th></th>\n",
       "      <th></th>\n",
       "      <th></th>\n",
       "      <th></th>\n",
       "      <th></th>\n",
       "      <th></th>\n",
       "      <th></th>\n",
       "      <th></th>\n",
       "      <th></th>\n",
       "      <th></th>\n",
       "      <th></th>\n",
       "      <th></th>\n",
       "      <th></th>\n",
       "      <th></th>\n",
       "    </tr>\n",
       "  </thead>\n",
       "  <tbody>\n",
       "    <tr>\n",
       "      <th>aaron-hughes</th>\n",
       "      <td>635</td>\n",
       "      <td>Center Back</td>\n",
       "      <td>8</td>\n",
       "      <td>0.030137</td>\n",
       "      <td>221</td>\n",
       "      <td>174</td>\n",
       "      <td>0.028156</td>\n",
       "      <td>0.434369</td>\n",
       "      <td>71.0</td>\n",
       "      <td>0</td>\n",
       "      <td>...</td>\n",
       "      <td>England</td>\n",
       "      <td>0.125</td>\n",
       "      <td>19</td>\n",
       "      <td>0</td>\n",
       "      <td>0.481152</td>\n",
       "      <td>0.041243</td>\n",
       "      <td>0.029921</td>\n",
       "      <td>0.101604</td>\n",
       "      <td>0.000000</td>\n",
       "      <td>0.000000</td>\n",
       "    </tr>\n",
       "    <tr>\n",
       "      <th>aaron-hunt</th>\n",
       "      <td>328</td>\n",
       "      <td>Attacking Midfielder</td>\n",
       "      <td>59</td>\n",
       "      <td>0.024027</td>\n",
       "      <td>119</td>\n",
       "      <td>70</td>\n",
       "      <td>0.021812</td>\n",
       "      <td>0.399713</td>\n",
       "      <td>73.0</td>\n",
       "      <td>1</td>\n",
       "      <td>...</td>\n",
       "      <td>Germany</td>\n",
       "      <td>0.125</td>\n",
       "      <td>39</td>\n",
       "      <td>0</td>\n",
       "      <td>0.483823</td>\n",
       "      <td>0.032451</td>\n",
       "      <td>0.121951</td>\n",
       "      <td>0.208556</td>\n",
       "      <td>0.000000</td>\n",
       "      <td>0.090909</td>\n",
       "    </tr>\n",
       "    <tr>\n",
       "      <th>aaron-lennon</th>\n",
       "      <td>411</td>\n",
       "      <td>Right Midfielder</td>\n",
       "      <td>31</td>\n",
       "      <td>0.039880</td>\n",
       "      <td>115</td>\n",
       "      <td>96</td>\n",
       "      <td>0.044180</td>\n",
       "      <td>0.442548</td>\n",
       "      <td>63.0</td>\n",
       "      <td>0</td>\n",
       "      <td>...</td>\n",
       "      <td>England</td>\n",
       "      <td>0.250</td>\n",
       "      <td>11</td>\n",
       "      <td>0</td>\n",
       "      <td>0.489919</td>\n",
       "      <td>0.059518</td>\n",
       "      <td>0.026764</td>\n",
       "      <td>0.058824</td>\n",
       "      <td>0.000000</td>\n",
       "      <td>0.000000</td>\n",
       "    </tr>\n",
       "    <tr>\n",
       "      <th>aaron-ramsey</th>\n",
       "      <td>253</td>\n",
       "      <td>Center Midfielder</td>\n",
       "      <td>39</td>\n",
       "      <td>0.053753</td>\n",
       "      <td>67</td>\n",
       "      <td>42</td>\n",
       "      <td>0.061155</td>\n",
       "      <td>0.461739</td>\n",
       "      <td>76.0</td>\n",
       "      <td>1</td>\n",
       "      <td>...</td>\n",
       "      <td>England</td>\n",
       "      <td>0.000</td>\n",
       "      <td>31</td>\n",
       "      <td>0</td>\n",
       "      <td>0.503773</td>\n",
       "      <td>0.081421</td>\n",
       "      <td>0.126482</td>\n",
       "      <td>0.165775</td>\n",
       "      <td>0.000000</td>\n",
       "      <td>0.090909</td>\n",
       "    </tr>\n",
       "    <tr>\n",
       "      <th>abdelhamid-el-kaoutari</th>\n",
       "      <td>124</td>\n",
       "      <td>Center Back</td>\n",
       "      <td>1</td>\n",
       "      <td>0.163288</td>\n",
       "      <td>43</td>\n",
       "      <td>40</td>\n",
       "      <td>0.115304</td>\n",
       "      <td>0.279791</td>\n",
       "      <td>73.0</td>\n",
       "      <td>2</td>\n",
       "      <td>...</td>\n",
       "      <td>France</td>\n",
       "      <td>0.250</td>\n",
       "      <td>8</td>\n",
       "      <td>4</td>\n",
       "      <td>0.342083</td>\n",
       "      <td>0.199895</td>\n",
       "      <td>0.112903</td>\n",
       "      <td>0.042781</td>\n",
       "      <td>0.333333</td>\n",
       "      <td>0.181818</td>\n",
       "    </tr>\n",
       "  </tbody>\n",
       "</table>\n",
       "<p>5 rows × 26 columns</p>\n",
       "</div>"
      ],
      "text/plain": [
       "                        games              position  goals     seIAT  defeats  \\\n",
       "playerShort                                                                     \n",
       "aaron-hughes              635           Center Back      8  0.030137      221   \n",
       "aaron-hunt                328  Attacking Midfielder     59  0.024027      119   \n",
       "aaron-lennon              411      Right Midfielder     31  0.039880      115   \n",
       "aaron-ramsey              253     Center Midfielder     39  0.053753       67   \n",
       "abdelhamid-el-kaoutari    124           Center Back      1  0.163288       43   \n",
       "\n",
       "                        ties     seExp   meanExp  weight  redCards  \\\n",
       "playerShort                                                          \n",
       "aaron-hughes             174  0.028156  0.434369    71.0         0   \n",
       "aaron-hunt                70  0.021812  0.399713    73.0         1   \n",
       "aaron-lennon              96  0.044180  0.442548    63.0         0   \n",
       "aaron-ramsey              42  0.061155  0.461739    76.0         1   \n",
       "abdelhamid-el-kaoutari    40  0.115304  0.279791    73.0         2   \n",
       "\n",
       "                            ...      leagueCountry  skinColor yellowCards  \\\n",
       "playerShort                 ...                                             \n",
       "aaron-hughes                ...            England      0.125          19   \n",
       "aaron-hunt                  ...            Germany      0.125          39   \n",
       "aaron-lennon                ...            England      0.250          11   \n",
       "aaron-ramsey                ...            England      0.000          31   \n",
       "abdelhamid-el-kaoutari      ...             France      0.250           8   \n",
       "\n",
       "                       yellowReds  meanIATEXP  seIATEXP cardsPerGame  \\\n",
       "playerShort                                                            \n",
       "aaron-hughes                    0    0.481152  0.041243     0.029921   \n",
       "aaron-hunt                      0    0.483823  0.032451     0.121951   \n",
       "aaron-lennon                    0    0.489919  0.059518     0.026764   \n",
       "aaron-ramsey                    0    0.503773  0.081421     0.126482   \n",
       "abdelhamid-el-kaoutari          4    0.342083  0.199895     0.112903   \n",
       "\n",
       "                        yellowCardNorm  yellowRedsNorm  redCardsNorm  \n",
       "playerShort                                                           \n",
       "aaron-hughes                  0.101604        0.000000      0.000000  \n",
       "aaron-hunt                    0.208556        0.000000      0.090909  \n",
       "aaron-lennon                  0.058824        0.000000      0.000000  \n",
       "aaron-ramsey                  0.165775        0.000000      0.090909  \n",
       "abdelhamid-el-kaoutari        0.042781        0.333333      0.181818  \n",
       "\n",
       "[5 rows x 26 columns]"
      ]
     },
     "execution_count": 32,
     "metadata": {},
     "output_type": "execute_result"
    }
   ],
   "source": [
    "data_player.head()"
   ]
  },
  {
   "cell_type": "markdown",
   "metadata": {},
   "source": [
    "#### 1.1.3 Cards & IATEXP\n",
    "\n",
    "We want to create a feature by combing the cards and the IAT and Exp data. Therefore, we create a new feature:\n",
    "- *cardsIATExp* = (yellowCardNorm + yellowRedsNorm + redCardsNorm) * meanIATEXP"
   ]
  },
  {
   "cell_type": "code",
   "execution_count": 33,
   "metadata": {
    "collapsed": false
   },
   "outputs": [
    {
     "data": {
      "text/html": [
       "<div>\n",
       "<table border=\"1\" class=\"dataframe\">\n",
       "  <thead>\n",
       "    <tr style=\"text-align: right;\">\n",
       "      <th></th>\n",
       "      <th>games</th>\n",
       "      <th>position</th>\n",
       "      <th>goals</th>\n",
       "      <th>seIAT</th>\n",
       "      <th>defeats</th>\n",
       "      <th>ties</th>\n",
       "      <th>seExp</th>\n",
       "      <th>meanExp</th>\n",
       "      <th>weight</th>\n",
       "      <th>redCards</th>\n",
       "      <th>...</th>\n",
       "      <th>skinColor</th>\n",
       "      <th>yellowCards</th>\n",
       "      <th>yellowReds</th>\n",
       "      <th>meanIATEXP</th>\n",
       "      <th>seIATEXP</th>\n",
       "      <th>cardsPerGame</th>\n",
       "      <th>yellowCardNorm</th>\n",
       "      <th>yellowRedsNorm</th>\n",
       "      <th>redCardsNorm</th>\n",
       "      <th>cardsIATExp</th>\n",
       "    </tr>\n",
       "    <tr>\n",
       "      <th>playerShort</th>\n",
       "      <th></th>\n",
       "      <th></th>\n",
       "      <th></th>\n",
       "      <th></th>\n",
       "      <th></th>\n",
       "      <th></th>\n",
       "      <th></th>\n",
       "      <th></th>\n",
       "      <th></th>\n",
       "      <th></th>\n",
       "      <th></th>\n",
       "      <th></th>\n",
       "      <th></th>\n",
       "      <th></th>\n",
       "      <th></th>\n",
       "      <th></th>\n",
       "      <th></th>\n",
       "      <th></th>\n",
       "      <th></th>\n",
       "      <th></th>\n",
       "      <th></th>\n",
       "    </tr>\n",
       "  </thead>\n",
       "  <tbody>\n",
       "    <tr>\n",
       "      <th>aaron-hughes</th>\n",
       "      <td>635</td>\n",
       "      <td>Center Back</td>\n",
       "      <td>8</td>\n",
       "      <td>0.030137</td>\n",
       "      <td>221</td>\n",
       "      <td>174</td>\n",
       "      <td>0.028156</td>\n",
       "      <td>0.434369</td>\n",
       "      <td>71.0</td>\n",
       "      <td>0</td>\n",
       "      <td>...</td>\n",
       "      <td>0.125</td>\n",
       "      <td>19</td>\n",
       "      <td>0</td>\n",
       "      <td>0.481152</td>\n",
       "      <td>0.041243</td>\n",
       "      <td>0.029921</td>\n",
       "      <td>0.101604</td>\n",
       "      <td>0.000000</td>\n",
       "      <td>0.000000</td>\n",
       "      <td>0.048887</td>\n",
       "    </tr>\n",
       "    <tr>\n",
       "      <th>aaron-hunt</th>\n",
       "      <td>328</td>\n",
       "      <td>Attacking Midfielder</td>\n",
       "      <td>59</td>\n",
       "      <td>0.024027</td>\n",
       "      <td>119</td>\n",
       "      <td>70</td>\n",
       "      <td>0.021812</td>\n",
       "      <td>0.399713</td>\n",
       "      <td>73.0</td>\n",
       "      <td>1</td>\n",
       "      <td>...</td>\n",
       "      <td>0.125</td>\n",
       "      <td>39</td>\n",
       "      <td>0</td>\n",
       "      <td>0.483823</td>\n",
       "      <td>0.032451</td>\n",
       "      <td>0.121951</td>\n",
       "      <td>0.208556</td>\n",
       "      <td>0.000000</td>\n",
       "      <td>0.090909</td>\n",
       "      <td>0.144888</td>\n",
       "    </tr>\n",
       "    <tr>\n",
       "      <th>aaron-lennon</th>\n",
       "      <td>411</td>\n",
       "      <td>Right Midfielder</td>\n",
       "      <td>31</td>\n",
       "      <td>0.039880</td>\n",
       "      <td>115</td>\n",
       "      <td>96</td>\n",
       "      <td>0.044180</td>\n",
       "      <td>0.442548</td>\n",
       "      <td>63.0</td>\n",
       "      <td>0</td>\n",
       "      <td>...</td>\n",
       "      <td>0.250</td>\n",
       "      <td>11</td>\n",
       "      <td>0</td>\n",
       "      <td>0.489919</td>\n",
       "      <td>0.059518</td>\n",
       "      <td>0.026764</td>\n",
       "      <td>0.058824</td>\n",
       "      <td>0.000000</td>\n",
       "      <td>0.000000</td>\n",
       "      <td>0.028819</td>\n",
       "    </tr>\n",
       "    <tr>\n",
       "      <th>aaron-ramsey</th>\n",
       "      <td>253</td>\n",
       "      <td>Center Midfielder</td>\n",
       "      <td>39</td>\n",
       "      <td>0.053753</td>\n",
       "      <td>67</td>\n",
       "      <td>42</td>\n",
       "      <td>0.061155</td>\n",
       "      <td>0.461739</td>\n",
       "      <td>76.0</td>\n",
       "      <td>1</td>\n",
       "      <td>...</td>\n",
       "      <td>0.000</td>\n",
       "      <td>31</td>\n",
       "      <td>0</td>\n",
       "      <td>0.503773</td>\n",
       "      <td>0.081421</td>\n",
       "      <td>0.126482</td>\n",
       "      <td>0.165775</td>\n",
       "      <td>0.000000</td>\n",
       "      <td>0.090909</td>\n",
       "      <td>0.129311</td>\n",
       "    </tr>\n",
       "    <tr>\n",
       "      <th>abdelhamid-el-kaoutari</th>\n",
       "      <td>124</td>\n",
       "      <td>Center Back</td>\n",
       "      <td>1</td>\n",
       "      <td>0.163288</td>\n",
       "      <td>43</td>\n",
       "      <td>40</td>\n",
       "      <td>0.115304</td>\n",
       "      <td>0.279791</td>\n",
       "      <td>73.0</td>\n",
       "      <td>2</td>\n",
       "      <td>...</td>\n",
       "      <td>0.250</td>\n",
       "      <td>8</td>\n",
       "      <td>4</td>\n",
       "      <td>0.342083</td>\n",
       "      <td>0.199895</td>\n",
       "      <td>0.112903</td>\n",
       "      <td>0.042781</td>\n",
       "      <td>0.333333</td>\n",
       "      <td>0.181818</td>\n",
       "      <td>0.190859</td>\n",
       "    </tr>\n",
       "  </tbody>\n",
       "</table>\n",
       "<p>5 rows × 27 columns</p>\n",
       "</div>"
      ],
      "text/plain": [
       "                        games              position  goals     seIAT  defeats  \\\n",
       "playerShort                                                                     \n",
       "aaron-hughes              635           Center Back      8  0.030137      221   \n",
       "aaron-hunt                328  Attacking Midfielder     59  0.024027      119   \n",
       "aaron-lennon              411      Right Midfielder     31  0.039880      115   \n",
       "aaron-ramsey              253     Center Midfielder     39  0.053753       67   \n",
       "abdelhamid-el-kaoutari    124           Center Back      1  0.163288       43   \n",
       "\n",
       "                        ties     seExp   meanExp  weight  redCards  \\\n",
       "playerShort                                                          \n",
       "aaron-hughes             174  0.028156  0.434369    71.0         0   \n",
       "aaron-hunt                70  0.021812  0.399713    73.0         1   \n",
       "aaron-lennon              96  0.044180  0.442548    63.0         0   \n",
       "aaron-ramsey              42  0.061155  0.461739    76.0         1   \n",
       "abdelhamid-el-kaoutari    40  0.115304  0.279791    73.0         2   \n",
       "\n",
       "                           ...      skinColor  yellowCards yellowReds  \\\n",
       "playerShort                ...                                          \n",
       "aaron-hughes               ...          0.125           19          0   \n",
       "aaron-hunt                 ...          0.125           39          0   \n",
       "aaron-lennon               ...          0.250           11          0   \n",
       "aaron-ramsey               ...          0.000           31          0   \n",
       "abdelhamid-el-kaoutari     ...          0.250            8          4   \n",
       "\n",
       "                       meanIATEXP  seIATEXP  cardsPerGame yellowCardNorm  \\\n",
       "playerShort                                                                \n",
       "aaron-hughes             0.481152  0.041243      0.029921       0.101604   \n",
       "aaron-hunt               0.483823  0.032451      0.121951       0.208556   \n",
       "aaron-lennon             0.489919  0.059518      0.026764       0.058824   \n",
       "aaron-ramsey             0.503773  0.081421      0.126482       0.165775   \n",
       "abdelhamid-el-kaoutari   0.342083  0.199895      0.112903       0.042781   \n",
       "\n",
       "                        yellowRedsNorm  redCardsNorm  cardsIATExp  \n",
       "playerShort                                                        \n",
       "aaron-hughes                  0.000000      0.000000     0.048887  \n",
       "aaron-hunt                    0.000000      0.090909     0.144888  \n",
       "aaron-lennon                  0.000000      0.000000     0.028819  \n",
       "aaron-ramsey                  0.000000      0.090909     0.129311  \n",
       "abdelhamid-el-kaoutari        0.333333      0.181818     0.190859  \n",
       "\n",
       "[5 rows x 27 columns]"
      ]
     },
     "execution_count": 33,
     "metadata": {},
     "output_type": "execute_result"
    }
   ],
   "source": [
    "data_player['cardsIATExp'] = (data_player.yellowCardNorm + data_player.yellowRedsNorm + data_player.redCardsNorm) \\\n",
    "                                * data_player.meanIATEXP\n",
    "    \n",
    "data_player.head()"
   ]
  },
  {
   "cell_type": "markdown",
   "metadata": {},
   "source": [
    "### 1.2 Convert columns types"
   ]
  },
  {
   "cell_type": "markdown",
   "metadata": {},
   "source": [
    "As seen previously, some of our columns have the *object* type. Since the library we are using doesn't deal with this type of column values, we need to change it by using a *LabelEncoder()*"
   ]
  },
  {
   "cell_type": "code",
   "execution_count": 34,
   "metadata": {
    "collapsed": true
   },
   "outputs": [],
   "source": [
    "def columnEncoder(df, col):\n",
    "    \"\"\"\n",
    "    Replace all values of a column by applying the 'LabelEncoder' form 'sklearn'\n",
    "    \n",
    "    INPUT:\n",
    "        df: The dataframe containing the columns to change\n",
    "        col: The column name over which the 'LabelEncoder' will be applied\n",
    "        \n",
    "    OUTPUT:\n",
    "        The dataframe with news values in the specified column\n",
    "    \"\"\"\n",
    "    labelEncoder = preprocessing.LabelEncoder()\n",
    "    df[col] = labelEncoder.fit_transform(df[col])"
   ]
  },
  {
   "cell_type": "code",
   "execution_count": 35,
   "metadata": {
    "collapsed": false
   },
   "outputs": [
    {
     "data": {
      "text/plain": [
       "games               int64\n",
       "position           object\n",
       "goals               int64\n",
       "seIAT             float64\n",
       "defeats             int64\n",
       "ties                int64\n",
       "seExp             float64\n",
       "meanExp           float64\n",
       "weight            float64\n",
       "redCards            int64\n",
       "club               object\n",
       "meanIAT           float64\n",
       "player             object\n",
       "birthday           object\n",
       "height            float64\n",
       "victories           int64\n",
       "leagueCountry      object\n",
       "skinColor         float64\n",
       "yellowCards         int64\n",
       "yellowReds          int64\n",
       "meanIATEXP        float64\n",
       "seIATEXP          float64\n",
       "cardsPerGame      float64\n",
       "yellowCardNorm    float64\n",
       "yellowRedsNorm    float64\n",
       "redCardsNorm      float64\n",
       "cardsIATExp       float64\n",
       "dtype: object"
      ]
     },
     "execution_count": 35,
     "metadata": {},
     "output_type": "execute_result"
    }
   ],
   "source": [
    "data_player.dtypes"
   ]
  },
  {
   "cell_type": "code",
   "execution_count": 36,
   "metadata": {
    "collapsed": false
   },
   "outputs": [],
   "source": [
    "# Convert all columns with type 'object'\n",
    "col_object = data_player.dtypes == 'object'\n",
    "for col in data_player.loc[:,col_object]:\n",
    "    columnEncoder(data_player, col)"
   ]
  },
  {
   "cell_type": "markdown",
   "metadata": {},
   "source": [
    "Now all the columns are numbers, but we have decided to work only *float64* values."
   ]
  },
  {
   "cell_type": "code",
   "execution_count": 37,
   "metadata": {
    "collapsed": false
   },
   "outputs": [
    {
     "data": {
      "text/plain": [
       "games             float64\n",
       "position          float64\n",
       "goals             float64\n",
       "seIAT             float64\n",
       "defeats           float64\n",
       "ties              float64\n",
       "seExp             float64\n",
       "meanExp           float64\n",
       "weight            float64\n",
       "redCards          float64\n",
       "club              float64\n",
       "meanIAT           float64\n",
       "player            float64\n",
       "birthday          float64\n",
       "height            float64\n",
       "victories         float64\n",
       "leagueCountry     float64\n",
       "skinColor         float64\n",
       "yellowCards       float64\n",
       "yellowReds        float64\n",
       "meanIATEXP        float64\n",
       "seIATEXP          float64\n",
       "cardsPerGame      float64\n",
       "yellowCardNorm    float64\n",
       "yellowRedsNorm    float64\n",
       "redCardsNorm      float64\n",
       "cardsIATExp       float64\n",
       "dtype: object"
      ]
     },
     "execution_count": 37,
     "metadata": {},
     "output_type": "execute_result"
    }
   ],
   "source": [
    "data_player = data_player.astype(float)\n",
    "data_player.dtypes"
   ]
  },
  {
   "cell_type": "markdown",
   "metadata": {},
   "source": [
    "### 1.3 Prepare data for ML"
   ]
  },
  {
   "cell_type": "code",
   "execution_count": 38,
   "metadata": {
    "collapsed": false
   },
   "outputs": [],
   "source": [
    "X = data_player.drop('skinColor', axis=1)"
   ]
  },
  {
   "cell_type": "markdown",
   "metadata": {},
   "source": [
    "The assignement asked us to use the *RandomForestClassifier*. Therefore, we need to work with discrete values. We've decided to add a new column to our data: *isBlack*. This column takes the value *True* if the *skinColor* average of the two raters is bigger than 0.5.\n",
    "\n",
    "Note that if *isBlack* is false, it doesn't mean that the player has light skin (can be *neither dark nor light skin*)."
   ]
  },
  {
   "cell_type": "code",
   "execution_count": 39,
   "metadata": {
    "collapsed": true
   },
   "outputs": [],
   "source": [
    "data_player['isBlack'] = data_player[\"skinColor\"] > 0.5\n",
    "y = data_player['isBlack']"
   ]
  },
  {
   "cell_type": "markdown",
   "metadata": {},
   "source": [
    "### 1.4 Random Forest Classifier - Assert model"
   ]
  },
  {
   "cell_type": "markdown",
   "metadata": {},
   "source": [
    "As specified in the assignement, we use *cross-validation* with the *radom forest classifier* to perform our prediction, therefore mitigating the overfitting of the model."
   ]
  },
  {
   "cell_type": "markdown",
   "metadata": {},
   "source": [
    "We start by choosing the best parameters for our classifier. We've decided to tune two parameters of the scikit RandomForestClassifier:\n",
    "- n_estimators\n",
    "- max_features"
   ]
  },
  {
   "cell_type": "markdown",
   "metadata": {},
   "source": [
    "#### 1.4.1 n_estimators"
   ]
  },
  {
   "cell_type": "code",
   "execution_count": 40,
   "metadata": {
    "collapsed": false
   },
   "outputs": [
    {
     "name": "stdout",
     "output_type": "stream",
     "text": [
      "10 0.855921914466\n",
      "20 0.848854688414\n",
      "30 0.855911996804\n",
      "40 0.85522282632\n",
      "50 0.85591699131\n",
      "60 0.85733043652\n",
      "70 0.863693579919\n",
      "80 0.859453172938\n",
      "90 0.859453172938\n",
      "Best 67 0.864397805271\n"
     ]
    }
   ],
   "source": [
    "n_range = range(1,100)\n",
    "scores = list()\n",
    "\n",
    "max_scores = -1\n",
    "best_n = -1\n",
    "\n",
    "for i in n_range:\n",
    "    ml = RandomForestClassifier(n_estimators=i, random_state=1)\n",
    "    cross = (cross_val_score(ml, X, y, cv=10))\n",
    "    scores.append(cross.mean())\n",
    "    \n",
    "    if cross.mean() > max_scores:\n",
    "        max_scores = cross.mean()\n",
    "        best_n = i\n",
    "        \n",
    "    if (i%10==0):\n",
    "        print(i, cross.mean())\n",
    "        \n",
    "# Best values\n",
    "print(\"Best\",best_n, max_scores)"
   ]
  },
  {
   "cell_type": "code",
   "execution_count": 41,
   "metadata": {
    "collapsed": false
   },
   "outputs": [
    {
     "data": {
      "text/plain": [
       "<matplotlib.text.Text at 0x7f581006ff98>"
      ]
     },
     "execution_count": 41,
     "metadata": {},
     "output_type": "execute_result"
    },
    {
     "data": {
      "image/png": "[encoded data removed]",
      "text/plain": [
       "<matplotlib.figure.Figure at 0x7f5824583ef0>"
      ]
     },
     "metadata": {},
     "output_type": "display_data"
    }
   ],
   "source": [
    "# plot the value of K for KNN (x-axis) versus the cross-validated accuracy (y-axis)        \n",
    "import matplotlib.pyplot as plt\n",
    "%matplotlib inline\n",
    "plt.plot(n_range[10:], scores[10:])\n",
    "plt.xlabel('N_estimators in the forest')\n",
    "plt.ylabel('Cross-Validated Accuracy')"
   ]
  },
  {
   "cell_type": "markdown",
   "metadata": {},
   "source": [
    "#### 1.4.2 max_features"
   ]
  },
  {
   "cell_type": "code",
   "execution_count": 42,
   "metadata": {
    "collapsed": false,
    "scrolled": false
   },
   "outputs": [
    {
     "name": "stdout",
     "output_type": "stream",
     "text": [
      "19 0.856651326398\n"
     ]
    }
   ],
   "source": [
    "max_features = range(1,len(X.columns))\n",
    "scores = list()\n",
    "\n",
    "max_scores = -1\n",
    "best_n = -1\n",
    "\n",
    "for i in max_features:\n",
    "    ml = RandomForestClassifier(max_features=i, random_state=1)\n",
    "    cross = (cross_val_score(ml, X, y, cv=10))\n",
    "    scores.append(cross.mean())\n",
    "    \n",
    "    if cross.mean() > max_scores:\n",
    "        max_scores = cross.mean()\n",
    "        best_n = i\n",
    "        \n",
    "# Best values\n",
    "print(best_n, max_scores)"
   ]
  },
  {
   "cell_type": "code",
   "execution_count": 43,
   "metadata": {
    "collapsed": false
   },
   "outputs": [
    {
     "data": {
      "text/plain": [
       "<matplotlib.text.Text at 0x7f5810053e80>"
      ]
     },
     "execution_count": 43,
     "metadata": {},
     "output_type": "execute_result"
    },
    {
     "data": {
      "image/png": "[encoded data removed]",
      "text/plain": [
       "<matplotlib.figure.Figure at 0x7f58185abbe0>"
      ]
     },
     "metadata": {},
     "output_type": "display_data"
    }
   ],
   "source": [
    "# plot the value of K for KNN (x-axis) versus the cross-validated accuracy (y-axis)        \n",
    "import matplotlib.pyplot as plt\n",
    "%matplotlib inline\n",
    "plt.plot(max_features, scores)\n",
    "plt.xlabel('max_features in the forest')\n",
    "plt.ylabel('Cross-Validated Accuracy')"
   ]
  },
  {
   "cell_type": "markdown",
   "metadata": {},
   "source": [
    "- n_estimators = 67\n",
    "- max_features = 19"
   ]
  },
  {
   "cell_type": "markdown",
   "metadata": {},
   "source": [
    "#### 1.4.3 Model with ALL features"
   ]
  },
  {
   "cell_type": "code",
   "execution_count": 44,
   "metadata": {
    "collapsed": false
   },
   "outputs": [],
   "source": [
    "def RFCmodel_cv_featureImportance(X,y):\n",
    "    \"\"\"\n",
    "        Compute the RandomForestClassifier for features dataframe X and classes features y.\n",
    "        It prints the accuracy of the model using cross-validation, a graph displaying\n",
    "        the importance for each features, and the confusion-matrix.\n",
    "    \"\"\"\n",
    "    \n",
    "    ml = RandomForestClassifier(n_estimators=67, max_features=19, random_state=1)\n",
    "\n",
    "    # Cross-validation accuracy\n",
    "    cross = (cross_val_score(ml, X, y, cv=10))\n",
    "    print(\"Cross-validation:\", cross.mean())\n",
    "\n",
    "    # Feature importance\n",
    "    ml.fit(X,y)\n",
    "    feature_importance = ml.feature_importances_\n",
    "\n",
    "    # Combining the features_importance array with the corresponding feature name\n",
    "    l1 = list(zip(feature_importance, X.columns))\n",
    "    l1.sort(key=lambda x: x[0], reverse=True)\n",
    "    features = list(map(lambda x: x[0], l1))\n",
    "    features_names = list(map(lambda x: x[1], l1))\n",
    "\n",
    "    # Plot the features_importances graph\n",
    "    graph = sns.barplot(features_names, features, palette='BuGn_r')\n",
    "    graph.set_title(\"Features importance\")\n",
    "    graph.set_xticklabels(labels=features_names, rotation=90)\n",
    "    plt.show()\n",
    "    \n",
    "    \n",
    "    # Print confusion_matrix\n",
    "    y_predicted = cross_val_predict(ml, X, y, cv=10)\n",
    "    cm = metrics.confusion_matrix(y, y_predicted)\n",
    "    print(cm)\n",
    "    print(\"Confusion matrix\")\n",
    "    print(\"White as white: \", cm[0][0])\n",
    "    print(\"White as black: \", cm[0][1])\n",
    "    print(\"black as white: \", cm[1][0])\n",
    "    print(\"black as black: \", cm[1][1])"
   ]
  },
  {
   "cell_type": "markdown",
   "metadata": {},
   "source": [
    "**Features Importance**\n",
    "\n",
    "The features importance graph show how much weight the classifier takes into account for the decision making, as we can observe here red/yellow card numbers has less influence in the outcome oppose to seIATEXP and seIAT seExp. It it also observable that according to the confusion matrix, the precise outcome of the prediction, the number of white/black player being classified correctly/wrongly."
   ]
  },
  {
   "cell_type": "code",
   "execution_count": 45,
   "metadata": {
    "collapsed": false
   },
   "outputs": [
    {
     "name": "stdout",
     "output_type": "stream",
     "text": [
      "Cross-validation: 0.856641266036\n"
     ]
    },
    {
     "data": {
      "image/png": "[encoded data removed]",
      "text/plain": [
       "<matplotlib.figure.Figure at 0x7f5810056ac8>"
      ]
     },
     "metadata": {},
     "output_type": "display_data"
    },
    {
     "name": "stdout",
     "output_type": "stream",
     "text": [
      "[[1158   31]\n",
      " [ 172   55]]\n",
      "Confusion matrix\n",
      "White as white:  1158\n",
      "White as black:  31\n",
      "black as white:  172\n",
      "black as black:  55\n"
     ]
    }
   ],
   "source": [
    "RFCmodel_cv_featureImportance(X,y)"
   ]
  },
  {
   "cell_type": "markdown",
   "metadata": {},
   "source": [
    "#### 1.4.4 Model with some selected features\n",
    "\n",
    "Now we decided to run the model but with some arbitrarily-selected features."
   ]
  },
  {
   "cell_type": "code",
   "execution_count": 46,
   "metadata": {
    "collapsed": false
   },
   "outputs": [],
   "source": [
    "features_to_keep = [\n",
    "    \"leagueCountry\",\n",
    "    \"club\",\n",
    "    \"weight\",\n",
    "    \"height\",\n",
    "    \"games\",\n",
    "    \"position\",\n",
    "    \"birthday\",\n",
    "    'meanIATEXP',\n",
    "    'seIATEXP',\n",
    "    'cardsPerGame',\n",
    "    'yellowCardNorm',\n",
    "    'yellowRedsNorm',\n",
    "    'redCardsNorm',\n",
    "    'cardsIATExp',\n",
    "]\n",
    "\n",
    "X = data_player[features_to_keep]"
   ]
  },
  {
   "cell_type": "code",
   "execution_count": 47,
   "metadata": {
    "collapsed": false
   },
   "outputs": [
    {
     "name": "stdout",
     "output_type": "stream",
     "text": [
      "Cross-validation: 0.854518600968\n"
     ]
    },
    {
     "data": {
      "image/png": "[encoded data removed]",
      "text/plain": [
       "<matplotlib.figure.Figure at 0x7f580f2efdd8>"
      ]
     },
     "metadata": {},
     "output_type": "display_data"
    },
    {
     "name": "stdout",
     "output_type": "stream",
     "text": [
      "[[1148   41]\n",
      " [ 165   62]]\n",
      "Confusion matrix\n",
      "White as white:  1148\n",
      "White as black:  41\n",
      "black as white:  165\n",
      "black as black:  62\n"
     ]
    }
   ],
   "source": [
    "RFCmodel_cv_featureImportance(X,y)"
   ]
  },
  {
   "cell_type": "markdown",
   "metadata": {},
   "source": [
    "#### 1.4.5 Experiment in selected features\n",
    "\n",
    "We try different feature selections to try to improve the accuracy as well as to observe the change of confusion matrix. At first from the full feature we try to drop a single feature to observe changes. Note: more important feature doest not necessarily mean that by dropping it the accuracy decrease nor increase by a vast amount. \n",
    "1. drop player name, 0.8608 accuracy\n",
    "2. drop birthday, 0.8615\n",
    "3. drop ties, 0.8622\n",
    "\n",
    "Then we tried to drop tuples of feature which are closely related to each other like red/yellow card "
   ]
  },
  {
   "cell_type": "code",
   "execution_count": 48,
   "metadata": {
    "collapsed": false
   },
   "outputs": [
    {
     "name": "stdout",
     "output_type": "stream",
     "text": [
      "Cross-validation: 0.85663627153\n"
     ]
    },
    {
     "data": {
      "image/png": "[encoded data removed]",
      "text/plain": [
       "<matplotlib.figure.Figure at 0x7f580f23ec50>"
      ]
     },
     "metadata": {},
     "output_type": "display_data"
    },
    {
     "name": "stdout",
     "output_type": "stream",
     "text": [
      "[[1148   41]\n",
      " [ 162   65]]\n",
      "Confusion matrix\n",
      "White as white:  1148\n",
      "White as black:  41\n",
      "black as white:  162\n",
      "black as black:  65\n"
     ]
    }
   ],
   "source": [
    "features_experiment_1 = [\n",
    " 'redCards',\n",
    " 'victories',\n",
    " 'height',\n",
    " 'defeats',\n",
    " 'seIAT',\n",
    " 'weight',\n",
    " 'meanExp',\n",
    " 'seExp',\n",
    " 'games',\n",
    " 'club',\n",
    " 'leagueCountry',\n",
    " #'birthday',\n",
    " 'meanIAT',\n",
    " #'player',\n",
    " #'ties',\n",
    " 'yellowReds',\n",
    " 'goals',\n",
    " # 'skinColor',\n",
    " 'position',\n",
    " 'yellowCards',\n",
    " 'meanIATEXP',\n",
    " 'seIATEXP',\n",
    " 'cardsPerGame',\n",
    " 'yellowCardNorm',\n",
    " 'yellowRedsNorm',\n",
    " 'redCardsNorm',\n",
    " 'cardsIATExp',\n",
    " # 'isBlack',\n",
    "]\n",
    "\n",
    "X = data_player[features_experiment_1]\n",
    "\n",
    "RFCmodel_cv_featureImportance(X,y)"
   ]
  },
  {
   "cell_type": "markdown",
   "metadata": {},
   "source": [
    "#### 1.4.6 Comments\n",
    "\n",
    "From the confusion matrix, we can observed that our model preforms well on non-black players (noted as *white* in our confusion matrix textual representation).\n",
    "Indeed, we have only 2.6% of white and neither white or black people missclassified.\n",
    "\n",
    "The problem resides in black players. We have more than 7 players out of 10 who are missclassified! This enormous error doesn't how up on our cross-validation correctness (more than 86%).\n",
    "\n",
    "Why ? As we can see, there is a lot more of non-black player on our data. Therefore, it is difficult for our machine learning algorithm to be trained for this class of the data. With only 16% of black players, we cannot ask miracles to our ML algo...."
   ]
  },
  {
   "cell_type": "code",
   "execution_count": 49,
   "metadata": {
    "collapsed": false
   },
   "outputs": [
    {
     "name": "stdout",
     "output_type": "stream",
     "text": [
      "White people missclassified in percent: 2.607232968881413\n",
      "Black people missclassified in percent: 72.24669603524228\n",
      "Percentage of black players in the entire dataset: 16.031073446327685\n"
     ]
    }
   ],
   "source": [
    "w = 41/(41+1148)*100\n",
    "print(\"White people missclassified in percent:\", w)\n",
    "\n",
    "b = 162/(162+65)*100\n",
    "print(\"Black people missclassified in percent:\", b)\n",
    "\n",
    "b_on_w = (162+65) / ( (162+65) + (41+1148) ) * 100\n",
    "print(\"Percentage of black players in the entire dataset:\", b_on_w)"
   ]
  },
  {
   "cell_type": "markdown",
   "metadata": {},
   "source": [
    "# 2."
   ]
  },
  {
   "cell_type": "markdown",
   "metadata": {},
   "source": [
    ">Aggregate the referee information grouping by soccer player, and use an unsupervised learning technique to cluster the soccer players in 2 disjoint clusters. Remove features iteratively, and at each step perform again the clustering and compute the silhouette score -- can you find a configuration of features with high silhouette score where players with dark and light skin colors belong to different clusters? Discuss the obtained results."
   ]
  },
  {
   "cell_type": "markdown",
   "metadata": {},
   "source": [
    "###  Unsupervised learning"
   ]
  },
  {
   "cell_type": "markdown",
   "metadata": {},
   "source": [
    "We have (arbitrarly) decided to work with the *k_means* algorithm from scikit."
   ]
  },
  {
   "cell_type": "markdown",
   "metadata": {},
   "source": [
    "**Demonstration of the method used**\n",
    "\n",
    "In will, compute which of the features is the best candidate to being removed. If the silhouette score by removing this feature is better than by keeping it, we drop the specific column and go through the loop one more time.\n",
    "\n",
    "Below, we display a graph that shows the first iteration of the algorithm."
   ]
  },
  {
   "cell_type": "code",
   "execution_count": 50,
   "metadata": {
    "collapsed": false
   },
   "outputs": [],
   "source": [
    "# Store the silhouette scores after removing a column\n",
    "silhouettes = list()\n",
    "\n",
    "# Remove once all columns\n",
    "for col in X.columns:\n",
    "    data_without_col = X.drop(col, axis=1)\n",
    "    \n",
    "    # Use KMeans algorithm with 2 clusters\n",
    "    kmeans = KMeans(n_clusters=2).fit(data_without_col)\n",
    "    \n",
    "    # Compute the silhouette score\n",
    "    silhouette = sklearn.metrics.silhouette_score(data_without_col, kmeans.labels_)\n",
    "    silhouettes.append(silhouette)"
   ]
  },
  {
   "cell_type": "code",
   "execution_count": 51,
   "metadata": {
    "collapsed": false
   },
   "outputs": [],
   "source": [
    "# Add columns names to columns silhouette value and order by descending order (max score first)\n",
    "l1 = list(zip(silhouettes, X.columns))\n",
    "l1.sort(key=lambda x: x[0], reverse=True)\n",
    "\n",
    "sil_values = list(map(lambda x: x[0], l1))\n",
    "sil_names = list(map(lambda x: x[1], l1))"
   ]
  },
  {
   "cell_type": "code",
   "execution_count": 52,
   "metadata": {
    "collapsed": false
   },
   "outputs": [
    {
     "data": {
      "image/png": "[encoded data removed]",
      "text/plain": [
       "<matplotlib.figure.Figure at 0x7f580f3af208>"
      ]
     },
     "metadata": {},
     "output_type": "display_data"
    }
   ],
   "source": [
    "# Plot graph\n",
    "graph = sns.barplot(sil_names, sil_values, palette='GnBu_d')\n",
    "graph.set_xticklabels(labels=sil_names, rotation=90)\n",
    "plt.show()"
   ]
  },
  {
   "cell_type": "markdown",
   "metadata": {},
   "source": [
    "As we can see, if we remove the feature *club* from our dataset *data_player*, we achieve a better score than removing any other columns."
   ]
  },
  {
   "cell_type": "markdown",
   "metadata": {},
   "source": [
    "#### Loop and loop again\n",
    "We perform the same algorithm now, by removing at each iteration the \"best\" candidate feature. We stop when there is only one remaining feature or when removing the \"best\" feature doesn't improve our model."
   ]
  },
  {
   "cell_type": "code",
   "execution_count": 64,
   "metadata": {
    "collapsed": true
   },
   "outputs": [],
   "source": [
    "def KMeans_loop(new_data, silhouette=True):\n",
    "    \"\"\"\n",
    "        By perfoming the KMeans algorithm, update the data by removing at each iteration\n",
    "        the features giving the best score.\n",
    "        Stop the iteration if there is only one feature left, or if removing a feature\n",
    "        doesn't improve the score of the dataset.\n",
    "        \n",
    "        The score is compute either with the silhouette score, or by the \"white/black\" classification.\n",
    "        \n",
    "        INPUT:\n",
    "            @new_data: The dataframe on which peforming the algorithm\n",
    "            @silhouette: Boolean. If True, use the silhouette score. \n",
    "                                  If False, use the skin color accuracy.\n",
    "                                  \n",
    "        OUTPUT:\n",
    "            @new_data: The updated dataframe, with columns removed\n",
    "            This also prints its result.\n",
    "    \"\"\"\n",
    "    \n",
    "    \n",
    "    # KMeans score for the ENTIRE dataset, with ALL features\n",
    "    kmeans = KMeans(n_clusters=2).fit(X)\n",
    "    if silhouette:\n",
    "        all_features_score = sklearn.metrics.silhouette_score(X, kmeans.labels_)\n",
    "    else:\n",
    "        skin_sep = (kmeans.labels_ == y).sum() / len(y)\n",
    "        all_features_score = max(skin_sep, 1-skin_sep)\n",
    "    print(\"All features: \", all_features_score)\n",
    "\n",
    "\n",
    "    # Helper variables for the loop\n",
    "    col_to_remove = \"nope\"\n",
    "    col_to_remove_score = -1\n",
    "    score = all_features_score\n",
    "\n",
    "    while True:\n",
    "        # Remove once all columns\n",
    "        for col in new_data.columns:\n",
    "\n",
    "            # Remove the column\n",
    "            data_without_col = new_data.drop(col, axis=1)\n",
    "\n",
    "            # Use KMeans algorithm with 2 clusters\n",
    "            kmeans = KMeans(n_clusters=2).fit(data_without_col)\n",
    "\n",
    "            # Compute the score\n",
    "            if silhouette:\n",
    "                score_column = sklearn.metrics.silhouette_score(data_without_col, kmeans.labels_)\n",
    "            else:\n",
    "                skin_sep = (kmeans.labels_ == data_player.isBlack).sum() / len(y)\n",
    "                score_column = max(skin_sep, 1-skin_sep)\n",
    "                \n",
    "                \n",
    "            # Update the best column to remove\n",
    "            if score_column > col_to_remove_score:\n",
    "                col_to_remove = col\n",
    "                col_to_remove_score = score_column\n",
    "\n",
    "\n",
    "        # If removing a column doesn't improve the score, quit.\n",
    "        if col_to_remove_score <= score:\n",
    "            break\n",
    "\n",
    "\n",
    "        else:\n",
    "            # Update the data and the best score\n",
    "            new_data = new_data.drop(col_to_remove, axis=1)\n",
    "            score = col_to_remove_score\n",
    "            print(\"Feature\", col_to_remove, \"removed (\", score, \")\")\n",
    "\n",
    "            # Check if it is the last feature of the data\n",
    "            if len(new_data.columns) == 1:\n",
    "                break\n",
    "\n",
    "\n",
    "    # Print results\n",
    "    print(\"Remaining features:\", list(new_data.columns))\n",
    "    print(\"Accu\", score)\n",
    "    \n",
    "    return new_data"
   ]
  },
  {
   "cell_type": "code",
   "execution_count": 65,
   "metadata": {
    "collapsed": false
   },
   "outputs": [
    {
     "name": "stdout",
     "output_type": "stream",
     "text": [
      "All features:  0.517197990531\n",
      "Feature club removed ( 0.535815839315 )\n",
      "Feature goals removed ( 0.554841884337 )\n",
      "Feature defeats removed ( 0.567893218976 )\n",
      "Feature yellowCards removed ( 0.578714071707 )\n",
      "Feature games removed ( 0.606469350727 )\n",
      "Feature weight removed ( 0.6154260811 )\n",
      "Feature height removed ( 0.625641630133 )\n",
      "Feature position removed ( 0.628798366411 )\n",
      "Feature yellowReds removed ( 0.62939343257 )\n",
      "Feature redCards removed ( 0.629967885306 )\n",
      "Feature leagueCountry removed ( 0.630486589384 )\n",
      "Feature cardsIATExp removed ( 0.630497477079 )\n",
      "Feature redCardsNorm removed ( 0.630505598954 )\n",
      "Feature yellowRedsNorm removed ( 0.630513459661 )\n",
      "Feature meanIAT removed ( 0.630521177784 )\n",
      "Feature yellowCardNorm removed ( 0.630527965478 )\n",
      "Feature meanIATEXP removed ( 0.630534690826 )\n",
      "Feature meanExp removed ( 0.630541150813 )\n",
      "Feature victories removed ( 0.635444238692 )\n",
      "Feature cardsPerGame removed ( 0.800283023117 )\n",
      "Feature seExp removed ( 0.801109910077 )\n",
      "Feature seIATEXP removed ( 0.811669806192 )\n",
      "Remaining features: ['seIAT']\n",
      "Accu 0.811669806192\n"
     ]
    }
   ],
   "source": [
    "new_data = KMeans_loop(X, silhouette=True)"
   ]
  },
  {
   "cell_type": "markdown",
   "metadata": {},
   "source": [
    "We obtain the best silhouete score by removing all features, except the *seIAT* one. Remember that the *seIAT* is the mean of the *seIAT* score for each referee a given player has encounter.\n",
    "\n",
    "But for use, keep only one features doesn't make a lot of sens, but..."
   ]
  },
  {
   "cell_type": "markdown",
   "metadata": {},
   "source": [
    "#### Accuracy with best silhouette score\n",
    "Now that we compute the best classification for two clusters using the best silhouette score, we want to assert how close this classification is from the \"white/black\" classification from our data."
   ]
  },
  {
   "cell_type": "code",
   "execution_count": 66,
   "metadata": {
    "collapsed": false
   },
   "outputs": [
    {
     "name": "stdout",
     "output_type": "stream",
     "text": [
      "0.848870056497\n"
     ]
    }
   ],
   "source": [
    "# Compute KMeans\n",
    "kmeans = KMeans(n_clusters=2).fit(new_data)\n",
    "\n",
    "# Compare the two labels prediction with the skin color of the player\n",
    "skin_sep = (kmeans.labels_ == data_player.isBlack).sum() / len(y)\n",
    "skin_separation_accuracy = max(skin_sep, 1-skin_sep)\n",
    "\n",
    "# Print the relation between the classification given by KMeans with silhouette and the white/black classfication\n",
    "print(skin_separation_accuracy)"
   ]
  },
  {
   "cell_type": "markdown",
   "metadata": {},
   "source": [
    "As we can see, by only keeping the *seIAT* feature, we classify, based on the skin color, almost 85% of the player. It is a very good result, showing that the *seIAT* feature makes a lot of sens!"
   ]
  },
  {
   "cell_type": "markdown",
   "metadata": {},
   "source": [
    "#### Skin cluster accuracy at each loop\n",
    "Now, we will perform the same algorithm as before, but instead of removing the features based on the silhouette score, we will remove the features based on the accuracy of the cluster in comparison to the white/black cluster"
   ]
  },
  {
   "cell_type": "code",
   "execution_count": 68,
   "metadata": {
    "collapsed": false
   },
   "outputs": [
    {
     "name": "stdout",
     "output_type": "stream",
     "text": [
      "All features:  0.614406779661\n",
      "Feature games removed ( 0.630649717514 )\n",
      "Feature defeats removed ( 0.667372881356 )\n",
      "Feature victories removed ( 0.781779661017 )\n",
      "Feature yellowCards removed ( 0.786016949153 )\n",
      "Remaining features: ['redCards', 'height', 'seIAT', 'weight', 'meanExp', 'seExp', 'club', 'leagueCountry', 'meanIAT', 'yellowReds', 'goals', 'position', 'meanIATEXP', 'seIATEXP', 'cardsPerGame', 'yellowCardNorm', 'yellowRedsNorm', 'redCardsNorm', 'cardsIATExp']\n",
      "Accu 0.786016949153\n"
     ]
    }
   ],
   "source": [
    "new_data = KMeans_loop(X, silhouette=False)"
   ]
  },
  {
   "cell_type": "markdown",
   "metadata": {},
   "source": [
    "By removing the features based on the accuracy of the classifier (compare to the white/black classification), we achieve 78.6% of precision. This score is lower that the one obtain by the silhouette score, which only keep the *seIAT* feature !"
   ]
  }
 ],
 "metadata": {
  "anaconda-cloud": {},
  "kernelspec": {
   "display_name": "Python [conda root]",
   "language": "python",
   "name": "conda-root-py"
  },
  "language_info": {
   "codemirror_mode": {
    "name": "ipython",
    "version": 3
   },
   "file_extension": ".py",
   "mimetype": "text/x-python",
   "name": "python",
   "nbconvert_exporter": "python",
   "pygments_lexer": "ipython3",
   "version": "3.5.2"
  }
 },
 "nbformat": 4,
 "nbformat_minor": 1
}
