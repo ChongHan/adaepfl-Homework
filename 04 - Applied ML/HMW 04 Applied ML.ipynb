{
 "cells": [
  {
   "cell_type": "markdown",
   "metadata": {
    "collapsed": true
   },
   "source": [
    "# HM04 - Applied ML"
   ]
  },
  {
   "cell_type": "code",
   "execution_count": 1,
   "metadata": {
    "collapsed": true
   },
   "outputs": [],
   "source": [
    "import pandas as pd\n",
    "import seaborn as sns"
   ]
  },
  {
   "cell_type": "code",
   "execution_count": 2,
   "metadata": {
    "collapsed": false
   },
   "outputs": [],
   "source": [
    "#Load the data\n",
    "data = pd.read_csv(\"CrowdstormingDataJuly1st.csv\")"
   ]
  },
  {
   "cell_type": "code",
   "execution_count": 3,
   "metadata": {
    "collapsed": false
   },
   "outputs": [
    {
     "data": {
      "text/html": [
       "<div>\n",
       "<table border=\"1\" class=\"dataframe\">\n",
       "  <thead>\n",
       "    <tr style=\"text-align: right;\">\n",
       "      <th></th>\n",
       "      <th>playerShort</th>\n",
       "      <th>player</th>\n",
       "      <th>club</th>\n",
       "      <th>leagueCountry</th>\n",
       "      <th>birthday</th>\n",
       "      <th>height</th>\n",
       "      <th>weight</th>\n",
       "      <th>position</th>\n",
       "      <th>games</th>\n",
       "      <th>victories</th>\n",
       "      <th>...</th>\n",
       "      <th>rater2</th>\n",
       "      <th>refNum</th>\n",
       "      <th>refCountry</th>\n",
       "      <th>Alpha_3</th>\n",
       "      <th>meanIAT</th>\n",
       "      <th>nIAT</th>\n",
       "      <th>seIAT</th>\n",
       "      <th>meanExp</th>\n",
       "      <th>nExp</th>\n",
       "      <th>seExp</th>\n",
       "    </tr>\n",
       "  </thead>\n",
       "  <tbody>\n",
       "    <tr>\n",
       "      <th>0</th>\n",
       "      <td>lucas-wilchez</td>\n",
       "      <td>Lucas Wilchez</td>\n",
       "      <td>Real Zaragoza</td>\n",
       "      <td>Spain</td>\n",
       "      <td>31.08.1983</td>\n",
       "      <td>177.0</td>\n",
       "      <td>72.0</td>\n",
       "      <td>Attacking Midfielder</td>\n",
       "      <td>1</td>\n",
       "      <td>0</td>\n",
       "      <td>...</td>\n",
       "      <td>0.50</td>\n",
       "      <td>1</td>\n",
       "      <td>1</td>\n",
       "      <td>GRC</td>\n",
       "      <td>0.326391</td>\n",
       "      <td>712.0</td>\n",
       "      <td>0.000564</td>\n",
       "      <td>0.396000</td>\n",
       "      <td>750.0</td>\n",
       "      <td>0.002696</td>\n",
       "    </tr>\n",
       "    <tr>\n",
       "      <th>1</th>\n",
       "      <td>john-utaka</td>\n",
       "      <td>John Utaka</td>\n",
       "      <td>Montpellier HSC</td>\n",
       "      <td>France</td>\n",
       "      <td>08.01.1982</td>\n",
       "      <td>179.0</td>\n",
       "      <td>82.0</td>\n",
       "      <td>Right Winger</td>\n",
       "      <td>1</td>\n",
       "      <td>0</td>\n",
       "      <td>...</td>\n",
       "      <td>0.75</td>\n",
       "      <td>2</td>\n",
       "      <td>2</td>\n",
       "      <td>ZMB</td>\n",
       "      <td>0.203375</td>\n",
       "      <td>40.0</td>\n",
       "      <td>0.010875</td>\n",
       "      <td>-0.204082</td>\n",
       "      <td>49.0</td>\n",
       "      <td>0.061504</td>\n",
       "    </tr>\n",
       "    <tr>\n",
       "      <th>2</th>\n",
       "      <td>abdon-prats</td>\n",
       "      <td>Abdón Prats</td>\n",
       "      <td>RCD Mallorca</td>\n",
       "      <td>Spain</td>\n",
       "      <td>17.12.1992</td>\n",
       "      <td>181.0</td>\n",
       "      <td>79.0</td>\n",
       "      <td>NaN</td>\n",
       "      <td>1</td>\n",
       "      <td>0</td>\n",
       "      <td>...</td>\n",
       "      <td>NaN</td>\n",
       "      <td>3</td>\n",
       "      <td>3</td>\n",
       "      <td>ESP</td>\n",
       "      <td>0.369894</td>\n",
       "      <td>1785.0</td>\n",
       "      <td>0.000229</td>\n",
       "      <td>0.588297</td>\n",
       "      <td>1897.0</td>\n",
       "      <td>0.001002</td>\n",
       "    </tr>\n",
       "    <tr>\n",
       "      <th>3</th>\n",
       "      <td>pablo-mari</td>\n",
       "      <td>Pablo Marí</td>\n",
       "      <td>RCD Mallorca</td>\n",
       "      <td>Spain</td>\n",
       "      <td>31.08.1993</td>\n",
       "      <td>191.0</td>\n",
       "      <td>87.0</td>\n",
       "      <td>Center Back</td>\n",
       "      <td>1</td>\n",
       "      <td>1</td>\n",
       "      <td>...</td>\n",
       "      <td>NaN</td>\n",
       "      <td>3</td>\n",
       "      <td>3</td>\n",
       "      <td>ESP</td>\n",
       "      <td>0.369894</td>\n",
       "      <td>1785.0</td>\n",
       "      <td>0.000229</td>\n",
       "      <td>0.588297</td>\n",
       "      <td>1897.0</td>\n",
       "      <td>0.001002</td>\n",
       "    </tr>\n",
       "    <tr>\n",
       "      <th>4</th>\n",
       "      <td>ruben-pena</td>\n",
       "      <td>Rubén Peña</td>\n",
       "      <td>Real Valladolid</td>\n",
       "      <td>Spain</td>\n",
       "      <td>18.07.1991</td>\n",
       "      <td>172.0</td>\n",
       "      <td>70.0</td>\n",
       "      <td>Right Midfielder</td>\n",
       "      <td>1</td>\n",
       "      <td>1</td>\n",
       "      <td>...</td>\n",
       "      <td>NaN</td>\n",
       "      <td>3</td>\n",
       "      <td>3</td>\n",
       "      <td>ESP</td>\n",
       "      <td>0.369894</td>\n",
       "      <td>1785.0</td>\n",
       "      <td>0.000229</td>\n",
       "      <td>0.588297</td>\n",
       "      <td>1897.0</td>\n",
       "      <td>0.001002</td>\n",
       "    </tr>\n",
       "  </tbody>\n",
       "</table>\n",
       "<p>5 rows × 28 columns</p>\n",
       "</div>"
      ],
      "text/plain": [
       "     playerShort         player             club leagueCountry    birthday  \\\n",
       "0  lucas-wilchez  Lucas Wilchez    Real Zaragoza         Spain  31.08.1983   \n",
       "1     john-utaka     John Utaka  Montpellier HSC        France  08.01.1982   \n",
       "2    abdon-prats    Abdón Prats     RCD Mallorca         Spain  17.12.1992   \n",
       "3     pablo-mari     Pablo Marí     RCD Mallorca         Spain  31.08.1993   \n",
       "4     ruben-pena     Rubén Peña  Real Valladolid         Spain  18.07.1991   \n",
       "\n",
       "   height  weight              position  games  victories    ...     rater2  \\\n",
       "0   177.0    72.0  Attacking Midfielder      1          0    ...       0.50   \n",
       "1   179.0    82.0          Right Winger      1          0    ...       0.75   \n",
       "2   181.0    79.0                   NaN      1          0    ...        NaN   \n",
       "3   191.0    87.0           Center Back      1          1    ...        NaN   \n",
       "4   172.0    70.0      Right Midfielder      1          1    ...        NaN   \n",
       "\n",
       "   refNum  refCountry  Alpha_3   meanIAT    nIAT     seIAT   meanExp    nExp  \\\n",
       "0       1           1      GRC  0.326391   712.0  0.000564  0.396000   750.0   \n",
       "1       2           2      ZMB  0.203375    40.0  0.010875 -0.204082    49.0   \n",
       "2       3           3      ESP  0.369894  1785.0  0.000229  0.588297  1897.0   \n",
       "3       3           3      ESP  0.369894  1785.0  0.000229  0.588297  1897.0   \n",
       "4       3           3      ESP  0.369894  1785.0  0.000229  0.588297  1897.0   \n",
       "\n",
       "      seExp  \n",
       "0  0.002696  \n",
       "1  0.061504  \n",
       "2  0.001002  \n",
       "3  0.001002  \n",
       "4  0.001002  \n",
       "\n",
       "[5 rows x 28 columns]"
      ]
     },
     "execution_count": 3,
     "metadata": {},
     "output_type": "execute_result"
    }
   ],
   "source": [
    "data.head()"
   ]
  },
  {
   "cell_type": "code",
   "execution_count": 4,
   "metadata": {
    "collapsed": false
   },
   "outputs": [
    {
     "data": {
      "text/plain": [
       "['playerShort',\n",
       " 'player',\n",
       " 'club',\n",
       " 'leagueCountry',\n",
       " 'birthday',\n",
       " 'height',\n",
       " 'weight',\n",
       " 'position',\n",
       " 'games',\n",
       " 'victories',\n",
       " 'ties',\n",
       " 'defeats',\n",
       " 'goals',\n",
       " 'yellowCards',\n",
       " 'yellowReds',\n",
       " 'redCards',\n",
       " 'photoID',\n",
       " 'rater1',\n",
       " 'rater2',\n",
       " 'refNum',\n",
       " 'refCountry',\n",
       " 'Alpha_3',\n",
       " 'meanIAT',\n",
       " 'nIAT',\n",
       " 'seIAT',\n",
       " 'meanExp',\n",
       " 'nExp',\n",
       " 'seExp']"
      ]
     },
     "execution_count": 4,
     "metadata": {},
     "output_type": "execute_result"
    }
   ],
   "source": [
    "list(data.columns.values)"
   ]
  },
  {
   "cell_type": "markdown",
   "metadata": {},
   "source": [
    "## 0. (Basic) Data Cleaning"
   ]
  },
  {
   "cell_type": "markdown",
   "metadata": {},
   "source": [
    "### 0.1 NaN Values"
   ]
  },
  {
   "cell_type": "code",
   "execution_count": 5,
   "metadata": {
    "collapsed": false
   },
   "outputs": [
    {
     "data": {
      "text/plain": [
       "['height',\n",
       " 'weight',\n",
       " 'position',\n",
       " 'photoID',\n",
       " 'rater1',\n",
       " 'rater2',\n",
       " 'Alpha_3',\n",
       " 'meanIAT',\n",
       " 'nIAT',\n",
       " 'seIAT',\n",
       " 'meanExp',\n",
       " 'nExp',\n",
       " 'seExp']"
      ]
     },
     "execution_count": 5,
     "metadata": {},
     "output_type": "execute_result"
    }
   ],
   "source": [
    "def columns_nanValues(data):\n",
    "    # print all columns with at least one NaN value\n",
    "    l = list()\n",
    "    for c in data:\n",
    "        if data[c].hasnans:\n",
    "            l.append(c)\n",
    "    return l\n",
    "\n",
    "columns_nanValues(data)"
   ]
  },
  {
   "cell_type": "markdown",
   "metadata": {},
   "source": [
    "Some columns contains NaN values. For this homework, we will not be able to work with data having no *skin color* feature. Therefore we only keep instances with this information."
   ]
  },
  {
   "cell_type": "code",
   "execution_count": 6,
   "metadata": {
    "collapsed": false
   },
   "outputs": [
    {
     "data": {
      "text/plain": [
       "['height',\n",
       " 'weight',\n",
       " 'position',\n",
       " 'Alpha_3',\n",
       " 'meanIAT',\n",
       " 'nIAT',\n",
       " 'seIAT',\n",
       " 'meanExp',\n",
       " 'nExp',\n",
       " 'seExp']"
      ]
     },
     "execution_count": 6,
     "metadata": {},
     "output_type": "execute_result"
    }
   ],
   "source": [
    "# We remove all instance with no 'photoID' information, since the skin color needs this information\n",
    "data_clean = data[~data.photoID.isnull()]\n",
    "nan_col = columns_nanValues(data_clean)\n",
    "nan_col"
   ]
  },
  {
   "cell_type": "code",
   "execution_count": 7,
   "metadata": {
    "collapsed": false
   },
   "outputs": [
    {
     "data": {
      "text/plain": [
       "height      float64\n",
       "weight      float64\n",
       "position     object\n",
       "Alpha_3      object\n",
       "meanIAT     float64\n",
       "nIAT        float64\n",
       "seIAT       float64\n",
       "meanExp     float64\n",
       "nExp        float64\n",
       "seExp       float64\n",
       "dtype: object"
      ]
     },
     "execution_count": 7,
     "metadata": {},
     "output_type": "execute_result"
    }
   ],
   "source": [
    "data_clean[nan_col].dtypes"
   ]
  },
  {
   "cell_type": "code",
   "execution_count": 8,
   "metadata": {
    "collapsed": false
   },
   "outputs": [
    {
     "name": "stdout",
     "output_type": "stream",
     "text": [
      "Number of NaNs values per column:\n",
      "height --> 46\n",
      "weight --> 753\n",
      "position --> 8461\n",
      "Alpha_3 --> 1\n",
      "meanIAT --> 153\n",
      "nIAT --> 153\n",
      "seIAT --> 153\n",
      "meanExp --> 153\n",
      "nExp --> 153\n",
      "seExp --> 153\n"
     ]
    }
   ],
   "source": [
    "print(\"Number of NaNs values per column:\")\n",
    "for x in nan_col:\n",
    "    print(x, '-->', data_clean[x].isnull().sum())"
   ]
  },
  {
   "cell_type": "markdown",
   "metadata": {},
   "source": [
    "For the values related to the *IAT* and *Exp*, we decided to remove those rows, since they are, for us, the more relevant of all in relation to a possible racism from refs to players."
   ]
  },
  {
   "cell_type": "code",
   "execution_count": 9,
   "metadata": {
    "collapsed": false
   },
   "outputs": [
    {
     "data": {
      "text/plain": [
       "['height', 'weight', 'position']"
      ]
     },
     "execution_count": 9,
     "metadata": {},
     "output_type": "execute_result"
    }
   ],
   "source": [
    "data_clean = data_clean[~data_clean.nIAT.isnull()]\n",
    "columns_nanValues(data_clean)"
   ]
  },
  {
   "cell_type": "markdown",
   "metadata": {},
   "source": [
    "We know that there is multiple entries per player in our dataset. Therefore, is it possible that the information about *weight* or *height* for a player is missing in one entry but present in another ? If yes, we could simply replace the missing values by the ones present in another row, but as we can see, such case doesn't occur. Therefore, setting this values to -1 seems to be appropriate."
   ]
  },
  {
   "cell_type": "code",
   "execution_count": 10,
   "metadata": {
    "collapsed": false
   },
   "outputs": [
    {
     "data": {
      "text/plain": [
       "[]"
      ]
     },
     "execution_count": 10,
     "metadata": {},
     "output_type": "execute_result"
    }
   ],
   "source": [
    "# Assert than the missing WEIGHT value for a player\n",
    "# is not present in another row\n",
    "\n",
    "data_noWeight = data_clean[data_clean.weight.isnull()]\n",
    "data_withWeight = data_clean[~data_clean.weight.isnull()]\n",
    "\n",
    "i1 = list(data_noWeight.index)\n",
    "i2 = list(data_withWeight.index)\n",
    "\n",
    "[x for x in i1 if x in i2]"
   ]
  },
  {
   "cell_type": "code",
   "execution_count": 11,
   "metadata": {
    "collapsed": false
   },
   "outputs": [
    {
     "data": {
      "text/plain": [
       "[]"
      ]
     },
     "execution_count": 11,
     "metadata": {},
     "output_type": "execute_result"
    }
   ],
   "source": [
    "# Assert than the missing HEIGHT value for a player\n",
    "# is not present in another row\n",
    "\n",
    "data_noHeight = data_clean[data_clean.height.isnull()]\n",
    "data_withHeight = data_clean[~data_clean.height.isnull()]\n",
    "\n",
    "i1 = list(data_noHeight.index)\n",
    "i2 = list(data_withHeight.index)\n",
    "\n",
    "[x for x in i1 if x in i2]"
   ]
  },
  {
   "cell_type": "markdown",
   "metadata": {},
   "source": [
    "Now there is only three features with NaN values. For the colums of type *object* (position feature), we deciced tonreplace the NaN values by \"Unknown\".\n",
    "\n",
    "For the type *float64*, we have decided to replace it by the -1 value. We choose this value since we are sure than none other cell has it."
   ]
  },
  {
   "cell_type": "code",
   "execution_count": 12,
   "metadata": {
    "collapsed": false
   },
   "outputs": [
    {
     "data": {
      "text/plain": [
       "0"
      ]
     },
     "execution_count": 12,
     "metadata": {},
     "output_type": "execute_result"
    }
   ],
   "source": [
    "# Assert than -1 is never used\n",
    "(data_clean == -1).sum().sum()"
   ]
  },
  {
   "cell_type": "code",
   "execution_count": 13,
   "metadata": {
    "collapsed": false
   },
   "outputs": [],
   "source": [
    "# 'object' columns\n",
    "object_col = data_clean[nan_col].select_dtypes(include=['object']).columns\n",
    "data_clean[object_col] = data_clean[object_col].fillna(\"Unknoww\")\n",
    "\n",
    "# 'float64' columns\n",
    "object_col = data_clean[nan_col].select_dtypes(include=['float64']).columns\n",
    "data_clean[object_col] = data_clean[object_col].fillna(-1)"
   ]
  },
  {
   "cell_type": "code",
   "execution_count": 14,
   "metadata": {
    "collapsed": false
   },
   "outputs": [
    {
     "data": {
      "text/plain": [
       "[]"
      ]
     },
     "execution_count": 14,
     "metadata": {},
     "output_type": "execute_result"
    }
   ],
   "source": [
    "# Assert no more \"NaN\" values\n",
    "columns_nanValues(data_clean)"
   ]
  },
  {
   "cell_type": "markdown",
   "metadata": {},
   "source": [
    "NB: Another possibility would be to simply remove all rows containing NaN values in the height/weight columns. We decided to go for another option because, for us, this two features are not the more relevant for this problem."
   ]
  },
  {
   "cell_type": "markdown",
   "metadata": {},
   "source": [
    "### 0.2 SkinColor feature"
   ]
  },
  {
   "cell_type": "markdown",
   "metadata": {},
   "source": [
    "The *skin color* feature is stored in two columns: *rater1* and *rater2*. Based on these two columns, we create a new feature *skinColor* by aggregating the two results. But before, let's take a look on the raters results."
   ]
  },
  {
   "cell_type": "code",
   "execution_count": 15,
   "metadata": {
    "collapsed": false
   },
   "outputs": [],
   "source": [
    "data_skin = data_clean\n",
    "data_skin[\"skinColorDiff\"] = (data_skin.rater1-data_skin.rater2).abs()"
   ]
  },
  {
   "cell_type": "markdown",
   "metadata": {},
   "source": [
    "It's obvious that they aren't always on the same page, therefore it is natural to have different results for the same player.\n",
    "But there is something that we found strange"
   ]
  },
  {
   "cell_type": "code",
   "execution_count": 16,
   "metadata": {
    "collapsed": false
   },
   "outputs": [
    {
     "data": {
      "text/plain": [
       "164"
      ]
     },
     "execution_count": 16,
     "metadata": {},
     "output_type": "execute_result"
    }
   ],
   "source": [
    "data_colorDiff = data_skin[data_skin.skinColorDiff > 0.25]\n",
    "len(data_colorDiff)"
   ]
  },
  {
   "cell_type": "markdown",
   "metadata": {},
   "source": [
    "For 164 entries, the two raters are really not on the same page."
   ]
  },
  {
   "cell_type": "code",
   "execution_count": 17,
   "metadata": {
    "collapsed": false
   },
   "outputs": [
    {
     "name": "stdout",
     "output_type": "stream",
     "text": [
      "[ 0.]\n",
      "[ 0.5]\n"
     ]
    }
   ],
   "source": [
    "print(data_colorDiff.rater1.unique())\n",
    "print(data_colorDiff.rater2.unique())"
   ]
  },
  {
   "cell_type": "markdown",
   "metadata": {},
   "source": [
    "When one rater consider the player's skin as *very light sking* and the other as *neither dark not light skin*, we decided that these entries aren't reliable and therefore remove it."
   ]
  },
  {
   "cell_type": "code",
   "execution_count": 18,
   "metadata": {
    "collapsed": false
   },
   "outputs": [
    {
     "data": {
      "text/plain": [
       "124304"
      ]
     },
     "execution_count": 18,
     "metadata": {},
     "output_type": "execute_result"
    }
   ],
   "source": [
    "data_skin_clean = data_skin[data_skin.skinColorDiff <= 0.25]\n",
    "len(data_skin_clean)"
   ]
  },
  {
   "cell_type": "code",
   "execution_count": 19,
   "metadata": {
    "collapsed": false
   },
   "outputs": [
    {
     "name": "stderr",
     "output_type": "stream",
     "text": [
      "/home/danny/anaconda3/lib/python3.5/site-packages/ipykernel/__main__.py:2: SettingWithCopyWarning: \n",
      "A value is trying to be set on a copy of a slice from a DataFrame.\n",
      "Try using .loc[row_indexer,col_indexer] = value instead\n",
      "\n",
      "See the caveats in the documentation: http://pandas.pydata.org/pandas-docs/stable/indexing.html#indexing-view-versus-copy\n",
      "  from ipykernel import kernelapp as app\n"
     ]
    }
   ],
   "source": [
    "# Add the skin color based on the two raters\n",
    "data_skin_clean[\"skinColor\"] = (data_skin.rater1+data_skin.rater2)/2"
   ]
  },
  {
   "cell_type": "code",
   "execution_count": 20,
   "metadata": {
    "collapsed": false
   },
   "outputs": [
    {
     "data": {
      "text/html": [
       "<div>\n",
       "<table border=\"1\" class=\"dataframe\">\n",
       "  <thead>\n",
       "    <tr style=\"text-align: right;\">\n",
       "      <th></th>\n",
       "      <th>playerShort</th>\n",
       "      <th>player</th>\n",
       "      <th>club</th>\n",
       "      <th>leagueCountry</th>\n",
       "      <th>birthday</th>\n",
       "      <th>height</th>\n",
       "      <th>weight</th>\n",
       "      <th>position</th>\n",
       "      <th>games</th>\n",
       "      <th>victories</th>\n",
       "      <th>...</th>\n",
       "      <th>refCountry</th>\n",
       "      <th>Alpha_3</th>\n",
       "      <th>meanIAT</th>\n",
       "      <th>nIAT</th>\n",
       "      <th>seIAT</th>\n",
       "      <th>meanExp</th>\n",
       "      <th>nExp</th>\n",
       "      <th>seExp</th>\n",
       "      <th>skinColorDiff</th>\n",
       "      <th>skinColor</th>\n",
       "    </tr>\n",
       "  </thead>\n",
       "  <tbody>\n",
       "    <tr>\n",
       "      <th>0</th>\n",
       "      <td>lucas-wilchez</td>\n",
       "      <td>Lucas Wilchez</td>\n",
       "      <td>Real Zaragoza</td>\n",
       "      <td>Spain</td>\n",
       "      <td>31.08.1983</td>\n",
       "      <td>177.0</td>\n",
       "      <td>72.0</td>\n",
       "      <td>Attacking Midfielder</td>\n",
       "      <td>1</td>\n",
       "      <td>0</td>\n",
       "      <td>...</td>\n",
       "      <td>1</td>\n",
       "      <td>GRC</td>\n",
       "      <td>0.326391</td>\n",
       "      <td>712.0</td>\n",
       "      <td>0.000564</td>\n",
       "      <td>0.396000</td>\n",
       "      <td>750.0</td>\n",
       "      <td>0.002696</td>\n",
       "      <td>0.25</td>\n",
       "      <td>0.375</td>\n",
       "    </tr>\n",
       "    <tr>\n",
       "      <th>1</th>\n",
       "      <td>john-utaka</td>\n",
       "      <td>John Utaka</td>\n",
       "      <td>Montpellier HSC</td>\n",
       "      <td>France</td>\n",
       "      <td>08.01.1982</td>\n",
       "      <td>179.0</td>\n",
       "      <td>82.0</td>\n",
       "      <td>Right Winger</td>\n",
       "      <td>1</td>\n",
       "      <td>0</td>\n",
       "      <td>...</td>\n",
       "      <td>2</td>\n",
       "      <td>ZMB</td>\n",
       "      <td>0.203375</td>\n",
       "      <td>40.0</td>\n",
       "      <td>0.010875</td>\n",
       "      <td>-0.204082</td>\n",
       "      <td>49.0</td>\n",
       "      <td>0.061504</td>\n",
       "      <td>0.00</td>\n",
       "      <td>0.750</td>\n",
       "    </tr>\n",
       "    <tr>\n",
       "      <th>5</th>\n",
       "      <td>aaron-hughes</td>\n",
       "      <td>Aaron Hughes</td>\n",
       "      <td>Fulham FC</td>\n",
       "      <td>England</td>\n",
       "      <td>08.11.1979</td>\n",
       "      <td>182.0</td>\n",
       "      <td>71.0</td>\n",
       "      <td>Center Back</td>\n",
       "      <td>1</td>\n",
       "      <td>0</td>\n",
       "      <td>...</td>\n",
       "      <td>4</td>\n",
       "      <td>LUX</td>\n",
       "      <td>0.325185</td>\n",
       "      <td>127.0</td>\n",
       "      <td>0.003297</td>\n",
       "      <td>0.538462</td>\n",
       "      <td>130.0</td>\n",
       "      <td>0.013752</td>\n",
       "      <td>0.25</td>\n",
       "      <td>0.125</td>\n",
       "    </tr>\n",
       "    <tr>\n",
       "      <th>6</th>\n",
       "      <td>aleksandar-kolarov</td>\n",
       "      <td>Aleksandar Kolarov</td>\n",
       "      <td>Manchester City</td>\n",
       "      <td>England</td>\n",
       "      <td>10.11.1985</td>\n",
       "      <td>187.0</td>\n",
       "      <td>80.0</td>\n",
       "      <td>Left Fullback</td>\n",
       "      <td>1</td>\n",
       "      <td>1</td>\n",
       "      <td>...</td>\n",
       "      <td>4</td>\n",
       "      <td>LUX</td>\n",
       "      <td>0.325185</td>\n",
       "      <td>127.0</td>\n",
       "      <td>0.003297</td>\n",
       "      <td>0.538462</td>\n",
       "      <td>130.0</td>\n",
       "      <td>0.013752</td>\n",
       "      <td>0.25</td>\n",
       "      <td>0.125</td>\n",
       "    </tr>\n",
       "    <tr>\n",
       "      <th>7</th>\n",
       "      <td>alexander-tettey</td>\n",
       "      <td>Alexander Tettey</td>\n",
       "      <td>Norwich City</td>\n",
       "      <td>England</td>\n",
       "      <td>04.04.1986</td>\n",
       "      <td>180.0</td>\n",
       "      <td>68.0</td>\n",
       "      <td>Defensive Midfielder</td>\n",
       "      <td>1</td>\n",
       "      <td>0</td>\n",
       "      <td>...</td>\n",
       "      <td>4</td>\n",
       "      <td>LUX</td>\n",
       "      <td>0.325185</td>\n",
       "      <td>127.0</td>\n",
       "      <td>0.003297</td>\n",
       "      <td>0.538462</td>\n",
       "      <td>130.0</td>\n",
       "      <td>0.013752</td>\n",
       "      <td>0.00</td>\n",
       "      <td>1.000</td>\n",
       "    </tr>\n",
       "  </tbody>\n",
       "</table>\n",
       "<p>5 rows × 30 columns</p>\n",
       "</div>"
      ],
      "text/plain": [
       "          playerShort              player             club leagueCountry  \\\n",
       "0       lucas-wilchez       Lucas Wilchez    Real Zaragoza         Spain   \n",
       "1          john-utaka          John Utaka  Montpellier HSC        France   \n",
       "5        aaron-hughes        Aaron Hughes        Fulham FC       England   \n",
       "6  aleksandar-kolarov  Aleksandar Kolarov  Manchester City       England   \n",
       "7    alexander-tettey    Alexander Tettey     Norwich City       England   \n",
       "\n",
       "     birthday  height  weight              position  games  victories  \\\n",
       "0  31.08.1983   177.0    72.0  Attacking Midfielder      1          0   \n",
       "1  08.01.1982   179.0    82.0          Right Winger      1          0   \n",
       "5  08.11.1979   182.0    71.0           Center Back      1          0   \n",
       "6  10.11.1985   187.0    80.0         Left Fullback      1          1   \n",
       "7  04.04.1986   180.0    68.0  Defensive Midfielder      1          0   \n",
       "\n",
       "     ...      refCountry  Alpha_3   meanIAT   nIAT     seIAT   meanExp   nExp  \\\n",
       "0    ...               1      GRC  0.326391  712.0  0.000564  0.396000  750.0   \n",
       "1    ...               2      ZMB  0.203375   40.0  0.010875 -0.204082   49.0   \n",
       "5    ...               4      LUX  0.325185  127.0  0.003297  0.538462  130.0   \n",
       "6    ...               4      LUX  0.325185  127.0  0.003297  0.538462  130.0   \n",
       "7    ...               4      LUX  0.325185  127.0  0.003297  0.538462  130.0   \n",
       "\n",
       "      seExp  skinColorDiff  skinColor  \n",
       "0  0.002696           0.25      0.375  \n",
       "1  0.061504           0.00      0.750  \n",
       "5  0.013752           0.25      0.125  \n",
       "6  0.013752           0.25      0.125  \n",
       "7  0.013752           0.00      1.000  \n",
       "\n",
       "[5 rows x 30 columns]"
      ]
     },
     "execution_count": 20,
     "metadata": {},
     "output_type": "execute_result"
    }
   ],
   "source": [
    "data = data_skin_clean\n",
    "data.head()"
   ]
  },
  {
   "cell_type": "markdown",
   "metadata": {},
   "source": [
    "## 1.\n",
    ">Train a sklearn.ensemble.RandomForestClassifier that given a soccer player description outputs his skin color. Show how different parameters passed to the Classifier affect the overfitting issue. Perform cross-validation to mitigate the overfitting of your model. Once you assessed your model, inspect the feature_importances_ attribute and discuss the obtained results. With different assumptions on the data (e.g., dropping certain features even before feeding them to the classifier), can you obtain a substantially different feature_importances_ attribute?"
   ]
  },
  {
   "cell_type": "markdown",
   "metadata": {},
   "source": [
    "### 1.1 Features aggregation\n",
    "For this first part, we only care about player description. Therefore, we need to keep only one entry per player and for each player to aggregate his data with all refs with who he has a dyad."
   ]
  },
  {
   "cell_type": "code",
   "execution_count": 21,
   "metadata": {
    "collapsed": false
   },
   "outputs": [
    {
     "data": {
      "text/html": [
       "<div>\n",
       "<table border=\"1\" class=\"dataframe\">\n",
       "  <thead>\n",
       "    <tr style=\"text-align: right;\">\n",
       "      <th></th>\n",
       "      <th>skinColor</th>\n",
       "      <th>seIAT</th>\n",
       "      <th>meanExp</th>\n",
       "      <th>club</th>\n",
       "      <th>ties</th>\n",
       "      <th>birthday</th>\n",
       "      <th>meanIAT</th>\n",
       "      <th>seExp</th>\n",
       "      <th>redCards</th>\n",
       "      <th>yellowCards</th>\n",
       "      <th>victories</th>\n",
       "      <th>defeats</th>\n",
       "      <th>yellowReds</th>\n",
       "      <th>position</th>\n",
       "      <th>weight</th>\n",
       "      <th>games</th>\n",
       "      <th>goals</th>\n",
       "      <th>height</th>\n",
       "      <th>leagueCountry</th>\n",
       "      <th>player</th>\n",
       "    </tr>\n",
       "    <tr>\n",
       "      <th>playerShort</th>\n",
       "      <th></th>\n",
       "      <th></th>\n",
       "      <th></th>\n",
       "      <th></th>\n",
       "      <th></th>\n",
       "      <th></th>\n",
       "      <th></th>\n",
       "      <th></th>\n",
       "      <th></th>\n",
       "      <th></th>\n",
       "      <th></th>\n",
       "      <th></th>\n",
       "      <th></th>\n",
       "      <th></th>\n",
       "      <th></th>\n",
       "      <th></th>\n",
       "      <th></th>\n",
       "      <th></th>\n",
       "      <th></th>\n",
       "      <th></th>\n",
       "    </tr>\n",
       "  </thead>\n",
       "  <tbody>\n",
       "    <tr>\n",
       "      <th>aaron-hughes</th>\n",
       "      <td>0.125</td>\n",
       "      <td>0.000652</td>\n",
       "      <td>0.494575</td>\n",
       "      <td>Fulham FC</td>\n",
       "      <td>179</td>\n",
       "      <td>08.11.1979</td>\n",
       "      <td>0.346459</td>\n",
       "      <td>0.004065</td>\n",
       "      <td>0</td>\n",
       "      <td>19</td>\n",
       "      <td>247</td>\n",
       "      <td>228</td>\n",
       "      <td>0</td>\n",
       "      <td>Center Back</td>\n",
       "      <td>71.0</td>\n",
       "      <td>654</td>\n",
       "      <td>9</td>\n",
       "      <td>182.0</td>\n",
       "      <td>England</td>\n",
       "      <td>Aaron Hughes</td>\n",
       "    </tr>\n",
       "    <tr>\n",
       "      <th>aaron-hunt</th>\n",
       "      <td>0.125</td>\n",
       "      <td>0.000219</td>\n",
       "      <td>0.449220</td>\n",
       "      <td>Werder Bremen</td>\n",
       "      <td>73</td>\n",
       "      <td>04.09.1986</td>\n",
       "      <td>0.348818</td>\n",
       "      <td>0.000993</td>\n",
       "      <td>1</td>\n",
       "      <td>42</td>\n",
       "      <td>141</td>\n",
       "      <td>122</td>\n",
       "      <td>0</td>\n",
       "      <td>Attacking Midfielder</td>\n",
       "      <td>73.0</td>\n",
       "      <td>336</td>\n",
       "      <td>62</td>\n",
       "      <td>183.0</td>\n",
       "      <td>Germany</td>\n",
       "      <td>Aaron Hunt</td>\n",
       "    </tr>\n",
       "    <tr>\n",
       "      <th>aaron-lennon</th>\n",
       "      <td>0.250</td>\n",
       "      <td>0.000367</td>\n",
       "      <td>0.491482</td>\n",
       "      <td>Tottenham Hotspur</td>\n",
       "      <td>97</td>\n",
       "      <td>16.04.1987</td>\n",
       "      <td>0.345893</td>\n",
       "      <td>0.002032</td>\n",
       "      <td>0</td>\n",
       "      <td>11</td>\n",
       "      <td>200</td>\n",
       "      <td>115</td>\n",
       "      <td>0</td>\n",
       "      <td>Right Midfielder</td>\n",
       "      <td>63.0</td>\n",
       "      <td>412</td>\n",
       "      <td>31</td>\n",
       "      <td>165.0</td>\n",
       "      <td>England</td>\n",
       "      <td>Aaron Lennon</td>\n",
       "    </tr>\n",
       "    <tr>\n",
       "      <th>aaron-ramsey</th>\n",
       "      <td>0.000</td>\n",
       "      <td>0.003334</td>\n",
       "      <td>0.514693</td>\n",
       "      <td>Arsenal FC</td>\n",
       "      <td>42</td>\n",
       "      <td>26.12.1990</td>\n",
       "      <td>0.346821</td>\n",
       "      <td>0.013522</td>\n",
       "      <td>1</td>\n",
       "      <td>31</td>\n",
       "      <td>150</td>\n",
       "      <td>68</td>\n",
       "      <td>0</td>\n",
       "      <td>Center Midfielder</td>\n",
       "      <td>76.0</td>\n",
       "      <td>260</td>\n",
       "      <td>39</td>\n",
       "      <td>178.0</td>\n",
       "      <td>England</td>\n",
       "      <td>Aaron Ramsey</td>\n",
       "    </tr>\n",
       "    <tr>\n",
       "      <th>abdelhamid-el-kaoutari</th>\n",
       "      <td>0.250</td>\n",
       "      <td>0.001488</td>\n",
       "      <td>0.335587</td>\n",
       "      <td>Montpellier HSC</td>\n",
       "      <td>40</td>\n",
       "      <td>17.03.1990</td>\n",
       "      <td>0.331600</td>\n",
       "      <td>0.005296</td>\n",
       "      <td>2</td>\n",
       "      <td>8</td>\n",
       "      <td>41</td>\n",
       "      <td>43</td>\n",
       "      <td>4</td>\n",
       "      <td>Center Back</td>\n",
       "      <td>73.0</td>\n",
       "      <td>124</td>\n",
       "      <td>1</td>\n",
       "      <td>180.0</td>\n",
       "      <td>France</td>\n",
       "      <td>Abdelhamid El-Kaoutari</td>\n",
       "    </tr>\n",
       "  </tbody>\n",
       "</table>\n",
       "</div>"
      ],
      "text/plain": [
       "                        skinColor     seIAT   meanExp               club  \\\n",
       "playerShort                                                                \n",
       "aaron-hughes                0.125  0.000652  0.494575          Fulham FC   \n",
       "aaron-hunt                  0.125  0.000219  0.449220      Werder Bremen   \n",
       "aaron-lennon                0.250  0.000367  0.491482  Tottenham Hotspur   \n",
       "aaron-ramsey                0.000  0.003334  0.514693         Arsenal FC   \n",
       "abdelhamid-el-kaoutari      0.250  0.001488  0.335587    Montpellier HSC   \n",
       "\n",
       "                        ties    birthday   meanIAT     seExp  redCards  \\\n",
       "playerShort                                                              \n",
       "aaron-hughes             179  08.11.1979  0.346459  0.004065         0   \n",
       "aaron-hunt                73  04.09.1986  0.348818  0.000993         1   \n",
       "aaron-lennon              97  16.04.1987  0.345893  0.002032         0   \n",
       "aaron-ramsey              42  26.12.1990  0.346821  0.013522         1   \n",
       "abdelhamid-el-kaoutari    40  17.03.1990  0.331600  0.005296         2   \n",
       "\n",
       "                        yellowCards  victories  defeats  yellowReds  \\\n",
       "playerShort                                                           \n",
       "aaron-hughes                     19        247      228           0   \n",
       "aaron-hunt                       42        141      122           0   \n",
       "aaron-lennon                     11        200      115           0   \n",
       "aaron-ramsey                     31        150       68           0   \n",
       "abdelhamid-el-kaoutari            8         41       43           4   \n",
       "\n",
       "                                    position  weight  games  goals  height  \\\n",
       "playerShort                                                                  \n",
       "aaron-hughes                     Center Back    71.0    654      9   182.0   \n",
       "aaron-hunt              Attacking Midfielder    73.0    336     62   183.0   \n",
       "aaron-lennon                Right Midfielder    63.0    412     31   165.0   \n",
       "aaron-ramsey               Center Midfielder    76.0    260     39   178.0   \n",
       "abdelhamid-el-kaoutari           Center Back    73.0    124      1   180.0   \n",
       "\n",
       "                       leagueCountry                  player  \n",
       "playerShort                                                   \n",
       "aaron-hughes                 England            Aaron Hughes  \n",
       "aaron-hunt                   Germany              Aaron Hunt  \n",
       "aaron-lennon                 England            Aaron Lennon  \n",
       "aaron-ramsey                 England            Aaron Ramsey  \n",
       "abdelhamid-el-kaoutari        France  Abdelhamid El-Kaoutari  "
      ]
     },
     "execution_count": 21,
     "metadata": {},
     "output_type": "execute_result"
    }
   ],
   "source": [
    "data_by_player = data.groupby('playerShort')\n",
    "data_player = data_by_player.agg({\n",
    "        # Keep only one entry per player\n",
    "        'player'    : 'first',\n",
    "        'club'      : 'first',\n",
    "        'leagueCountry' : 'first',\n",
    "        'birthday'  : 'first',\n",
    "        'position'  : 'first',\n",
    "        'height'    : 'mean',\n",
    "        'weight'    : 'mean',\n",
    "        'skinColor' : 'mean',\n",
    "        \n",
    "        # Sum all referees data\n",
    "        'games'     : 'sum',\n",
    "        'victories' : 'sum',\n",
    "        'ties'      : 'sum',\n",
    "        'defeats'   : 'sum',\n",
    "        'goals'     : 'sum',\n",
    "        'yellowCards' : 'sum',\n",
    "        'yellowReds': 'sum',\n",
    "        'redCards'  : 'sum',\n",
    "        \n",
    "        'meanIAT'   : 'mean',\n",
    "        'meanExp'   : 'mean',\n",
    "        'seIAT'     : 'mean',\n",
    "        'seExp'     : 'mean'\n",
    "    })\n",
    "\n",
    "data_player.head()"
   ]
  },
  {
   "cell_type": "markdown",
   "metadata": {},
   "source": [
    "There is still some columns that we can aggregate from the original dataset. We decided to combine the *meanIAT* and *meanExp* together, and the *seIAT* with the *seExp*."
   ]
  },
  {
   "cell_type": "code",
   "execution_count": 22,
   "metadata": {
    "collapsed": false,
    "scrolled": true
   },
   "outputs": [
    {
     "data": {
      "text/html": [
       "<div>\n",
       "<table border=\"1\" class=\"dataframe\">\n",
       "  <thead>\n",
       "    <tr style=\"text-align: right;\">\n",
       "      <th></th>\n",
       "      <th>skinColor</th>\n",
       "      <th>seIAT</th>\n",
       "      <th>meanExp</th>\n",
       "      <th>club</th>\n",
       "      <th>ties</th>\n",
       "      <th>birthday</th>\n",
       "      <th>meanIAT</th>\n",
       "      <th>seExp</th>\n",
       "      <th>redCards</th>\n",
       "      <th>yellowCards</th>\n",
       "      <th>...</th>\n",
       "      <th>yellowReds</th>\n",
       "      <th>position</th>\n",
       "      <th>weight</th>\n",
       "      <th>games</th>\n",
       "      <th>goals</th>\n",
       "      <th>height</th>\n",
       "      <th>leagueCountry</th>\n",
       "      <th>player</th>\n",
       "      <th>meanIATEXP</th>\n",
       "      <th>seIATEXP</th>\n",
       "    </tr>\n",
       "    <tr>\n",
       "      <th>playerShort</th>\n",
       "      <th></th>\n",
       "      <th></th>\n",
       "      <th></th>\n",
       "      <th></th>\n",
       "      <th></th>\n",
       "      <th></th>\n",
       "      <th></th>\n",
       "      <th></th>\n",
       "      <th></th>\n",
       "      <th></th>\n",
       "      <th></th>\n",
       "      <th></th>\n",
       "      <th></th>\n",
       "      <th></th>\n",
       "      <th></th>\n",
       "      <th></th>\n",
       "      <th></th>\n",
       "      <th></th>\n",
       "      <th></th>\n",
       "      <th></th>\n",
       "      <th></th>\n",
       "    </tr>\n",
       "  </thead>\n",
       "  <tbody>\n",
       "    <tr>\n",
       "      <th>aaron-hughes</th>\n",
       "      <td>0.125</td>\n",
       "      <td>0.000652</td>\n",
       "      <td>0.494575</td>\n",
       "      <td>Fulham FC</td>\n",
       "      <td>179</td>\n",
       "      <td>08.11.1979</td>\n",
       "      <td>0.346459</td>\n",
       "      <td>0.004065</td>\n",
       "      <td>0</td>\n",
       "      <td>19</td>\n",
       "      <td>...</td>\n",
       "      <td>0</td>\n",
       "      <td>Center Back</td>\n",
       "      <td>71.0</td>\n",
       "      <td>654</td>\n",
       "      <td>9</td>\n",
       "      <td>182.0</td>\n",
       "      <td>England</td>\n",
       "      <td>Aaron Hughes</td>\n",
       "      <td>0.420517</td>\n",
       "      <td>0.004117</td>\n",
       "    </tr>\n",
       "    <tr>\n",
       "      <th>aaron-hunt</th>\n",
       "      <td>0.125</td>\n",
       "      <td>0.000219</td>\n",
       "      <td>0.449220</td>\n",
       "      <td>Werder Bremen</td>\n",
       "      <td>73</td>\n",
       "      <td>04.09.1986</td>\n",
       "      <td>0.348818</td>\n",
       "      <td>0.000993</td>\n",
       "      <td>1</td>\n",
       "      <td>42</td>\n",
       "      <td>...</td>\n",
       "      <td>0</td>\n",
       "      <td>Attacking Midfielder</td>\n",
       "      <td>73.0</td>\n",
       "      <td>336</td>\n",
       "      <td>62</td>\n",
       "      <td>183.0</td>\n",
       "      <td>Germany</td>\n",
       "      <td>Aaron Hunt</td>\n",
       "      <td>0.399019</td>\n",
       "      <td>0.001017</td>\n",
       "    </tr>\n",
       "    <tr>\n",
       "      <th>aaron-lennon</th>\n",
       "      <td>0.250</td>\n",
       "      <td>0.000367</td>\n",
       "      <td>0.491482</td>\n",
       "      <td>Tottenham Hotspur</td>\n",
       "      <td>97</td>\n",
       "      <td>16.04.1987</td>\n",
       "      <td>0.345893</td>\n",
       "      <td>0.002032</td>\n",
       "      <td>0</td>\n",
       "      <td>11</td>\n",
       "      <td>...</td>\n",
       "      <td>0</td>\n",
       "      <td>Right Midfielder</td>\n",
       "      <td>63.0</td>\n",
       "      <td>412</td>\n",
       "      <td>31</td>\n",
       "      <td>165.0</td>\n",
       "      <td>England</td>\n",
       "      <td>Aaron Lennon</td>\n",
       "      <td>0.418687</td>\n",
       "      <td>0.002065</td>\n",
       "    </tr>\n",
       "    <tr>\n",
       "      <th>aaron-ramsey</th>\n",
       "      <td>0.000</td>\n",
       "      <td>0.003334</td>\n",
       "      <td>0.514693</td>\n",
       "      <td>Arsenal FC</td>\n",
       "      <td>42</td>\n",
       "      <td>26.12.1990</td>\n",
       "      <td>0.346821</td>\n",
       "      <td>0.013522</td>\n",
       "      <td>1</td>\n",
       "      <td>31</td>\n",
       "      <td>...</td>\n",
       "      <td>0</td>\n",
       "      <td>Center Midfielder</td>\n",
       "      <td>76.0</td>\n",
       "      <td>260</td>\n",
       "      <td>39</td>\n",
       "      <td>178.0</td>\n",
       "      <td>England</td>\n",
       "      <td>Aaron Ramsey</td>\n",
       "      <td>0.430757</td>\n",
       "      <td>0.013927</td>\n",
       "    </tr>\n",
       "    <tr>\n",
       "      <th>abdelhamid-el-kaoutari</th>\n",
       "      <td>0.250</td>\n",
       "      <td>0.001488</td>\n",
       "      <td>0.335587</td>\n",
       "      <td>Montpellier HSC</td>\n",
       "      <td>40</td>\n",
       "      <td>17.03.1990</td>\n",
       "      <td>0.331600</td>\n",
       "      <td>0.005296</td>\n",
       "      <td>2</td>\n",
       "      <td>8</td>\n",
       "      <td>...</td>\n",
       "      <td>4</td>\n",
       "      <td>Center Back</td>\n",
       "      <td>73.0</td>\n",
       "      <td>124</td>\n",
       "      <td>1</td>\n",
       "      <td>180.0</td>\n",
       "      <td>France</td>\n",
       "      <td>Abdelhamid El-Kaoutari</td>\n",
       "      <td>0.333593</td>\n",
       "      <td>0.005501</td>\n",
       "    </tr>\n",
       "  </tbody>\n",
       "</table>\n",
       "<p>5 rows × 22 columns</p>\n",
       "</div>"
      ],
      "text/plain": [
       "                        skinColor     seIAT   meanExp               club  \\\n",
       "playerShort                                                                \n",
       "aaron-hughes                0.125  0.000652  0.494575          Fulham FC   \n",
       "aaron-hunt                  0.125  0.000219  0.449220      Werder Bremen   \n",
       "aaron-lennon                0.250  0.000367  0.491482  Tottenham Hotspur   \n",
       "aaron-ramsey                0.000  0.003334  0.514693         Arsenal FC   \n",
       "abdelhamid-el-kaoutari      0.250  0.001488  0.335587    Montpellier HSC   \n",
       "\n",
       "                        ties    birthday   meanIAT     seExp  redCards  \\\n",
       "playerShort                                                              \n",
       "aaron-hughes             179  08.11.1979  0.346459  0.004065         0   \n",
       "aaron-hunt                73  04.09.1986  0.348818  0.000993         1   \n",
       "aaron-lennon              97  16.04.1987  0.345893  0.002032         0   \n",
       "aaron-ramsey              42  26.12.1990  0.346821  0.013522         1   \n",
       "abdelhamid-el-kaoutari    40  17.03.1990  0.331600  0.005296         2   \n",
       "\n",
       "                        yellowCards    ...     yellowReds  \\\n",
       "playerShort                            ...                  \n",
       "aaron-hughes                     19    ...              0   \n",
       "aaron-hunt                       42    ...              0   \n",
       "aaron-lennon                     11    ...              0   \n",
       "aaron-ramsey                     31    ...              0   \n",
       "abdelhamid-el-kaoutari            8    ...              4   \n",
       "\n",
       "                                    position  weight games  goals  height  \\\n",
       "playerShort                                                                 \n",
       "aaron-hughes                     Center Back    71.0   654      9   182.0   \n",
       "aaron-hunt              Attacking Midfielder    73.0   336     62   183.0   \n",
       "aaron-lennon                Right Midfielder    63.0   412     31   165.0   \n",
       "aaron-ramsey               Center Midfielder    76.0   260     39   178.0   \n",
       "abdelhamid-el-kaoutari           Center Back    73.0   124      1   180.0   \n",
       "\n",
       "                        leagueCountry                  player meanIATEXP  \\\n",
       "playerShort                                                                \n",
       "aaron-hughes                  England            Aaron Hughes   0.420517   \n",
       "aaron-hunt                    Germany              Aaron Hunt   0.399019   \n",
       "aaron-lennon                  England            Aaron Lennon   0.418687   \n",
       "aaron-ramsey                  England            Aaron Ramsey   0.430757   \n",
       "abdelhamid-el-kaoutari         France  Abdelhamid El-Kaoutari   0.333593   \n",
       "\n",
       "                        seIATEXP  \n",
       "playerShort                       \n",
       "aaron-hughes            0.004117  \n",
       "aaron-hunt              0.001017  \n",
       "aaron-lennon            0.002065  \n",
       "aaron-ramsey            0.013927  \n",
       "abdelhamid-el-kaoutari  0.005501  \n",
       "\n",
       "[5 rows x 22 columns]"
      ]
     },
     "execution_count": 22,
     "metadata": {},
     "output_type": "execute_result"
    }
   ],
   "source": [
    "data_player[\"meanIATEXP\"] = (data_player.meanIAT + data_player.meanExp) / 2\n",
    "data_player[\"seIATEXP\"] = (data_player.seIAT**2 + data_player.seExp**2)**0.5\n",
    "# TRY WITH https://www.researchgate.net/post/How_do_I_combine_mean_and_standard_deviation_of_two_groups\n",
    "data_player.head()\n",
    "\n",
    "\n",
    "# For me it doesn't make a lot of sense what I'm doing here... \n",
    "# I first sum all IAT and Exp for a player but by differents ref...\n",
    "# but I don't see another \"aggregating\" way..."
   ]
  },
  {
   "cell_type": "markdown",
   "metadata": {},
   "source": [
    "### 1.2 Convert columns types"
   ]
  },
  {
   "cell_type": "markdown",
   "metadata": {},
   "source": [
    "As seen previously, some of our columns have the *object* type. Since the library we are using doesn't deal with this type of column values, we need to change it by using a *LabelEncoder()*"
   ]
  },
  {
   "cell_type": "code",
   "execution_count": 23,
   "metadata": {
    "collapsed": true
   },
   "outputs": [],
   "source": [
    "from sklearn import preprocessing\n",
    "def columnEncoder(df, col):\n",
    "    \"\"\"\n",
    "    Replace all values of a column by applying the 'LabelEncoder' form 'sklearn'\n",
    "    \n",
    "    INPUT:\n",
    "        df: The dataframe containing the columns to change\n",
    "        col: The column name over which the 'LabelEncoder' will be applied\n",
    "        \n",
    "    OUTPUT:\n",
    "        The dataframe with news values in the specified column\n",
    "    \"\"\"\n",
    "    labelEncoder = preprocessing.LabelEncoder()\n",
    "    df[col] = labelEncoder.fit_transform(df[col])"
   ]
  },
  {
   "cell_type": "code",
   "execution_count": 24,
   "metadata": {
    "collapsed": false
   },
   "outputs": [
    {
     "data": {
      "text/plain": [
       "skinColor        float64\n",
       "seIAT            float64\n",
       "meanExp          float64\n",
       "club              object\n",
       "ties               int64\n",
       "birthday          object\n",
       "meanIAT          float64\n",
       "seExp            float64\n",
       "redCards           int64\n",
       "yellowCards        int64\n",
       "victories          int64\n",
       "defeats            int64\n",
       "yellowReds         int64\n",
       "position          object\n",
       "weight           float64\n",
       "games              int64\n",
       "goals              int64\n",
       "height           float64\n",
       "leagueCountry     object\n",
       "player            object\n",
       "meanIATEXP       float64\n",
       "seIATEXP         float64\n",
       "dtype: object"
      ]
     },
     "execution_count": 24,
     "metadata": {},
     "output_type": "execute_result"
    }
   ],
   "source": [
    "data_player.dtypes"
   ]
  },
  {
   "cell_type": "code",
   "execution_count": 25,
   "metadata": {
    "collapsed": false
   },
   "outputs": [],
   "source": [
    "# Convert all columns with type 'object'\n",
    "col_object = data_player.dtypes == 'object'\n",
    "for col in data_player.loc[:,col_object]:\n",
    "    columnEncoder(data_player, col)"
   ]
  },
  {
   "cell_type": "markdown",
   "metadata": {},
   "source": [
    "Now all the columns are numbers, but we have decided to work have only *float64* values."
   ]
  },
  {
   "cell_type": "code",
   "execution_count": 26,
   "metadata": {
    "collapsed": false
   },
   "outputs": [
    {
     "data": {
      "text/plain": [
       "skinColor        float64\n",
       "seIAT            float64\n",
       "meanExp          float64\n",
       "club             float64\n",
       "ties             float64\n",
       "birthday         float64\n",
       "meanIAT          float64\n",
       "seExp            float64\n",
       "redCards         float64\n",
       "yellowCards      float64\n",
       "victories        float64\n",
       "defeats          float64\n",
       "yellowReds       float64\n",
       "position         float64\n",
       "weight           float64\n",
       "games            float64\n",
       "goals            float64\n",
       "height           float64\n",
       "leagueCountry    float64\n",
       "player           float64\n",
       "meanIATEXP       float64\n",
       "seIATEXP         float64\n",
       "dtype: object"
      ]
     },
     "execution_count": 26,
     "metadata": {},
     "output_type": "execute_result"
    }
   ],
   "source": [
    "data_player = data_player.astype(float)\n",
    "data_player.dtypes"
   ]
  },
  {
   "cell_type": "markdown",
   "metadata": {},
   "source": [
    "### 1.3 Prepare data for ML"
   ]
  },
  {
   "cell_type": "code",
   "execution_count": 27,
   "metadata": {
    "collapsed": false
   },
   "outputs": [],
   "source": [
    "X_columns = [\"club\", \"leagueCountry\", \"birthday\", \"height\", \n",
    "             \"weight\", \"position\", \"games\",\n",
    "             \"victories\", \"ties\", \"defeats\", \"goals\", \n",
    "             \"yellowCards\", \"yellowReds\", \"redCards\",\n",
    "             \"meanIATEXP\", \"seIATEXP\"]\n",
    "\n",
    "X = data_player[X_columns]"
   ]
  },
  {
   "cell_type": "markdown",
   "metadata": {},
   "source": [
    "The assignement asked us to use the *RandomForestClassifier*. Therefore, we need to work with discrete values. We've decided to add a new column to our data: *isBlack*. This column takes the value *True* if the *skinColor* average of the two raters is bigger than 0.5.\n",
    "\n",
    "Note that if *isBlack* is false, it doesn't mean that the player has light skin (can be *neither dark nor light skin*)."
   ]
  },
  {
   "cell_type": "code",
   "execution_count": 28,
   "metadata": {
    "collapsed": true
   },
   "outputs": [],
   "source": [
    "data_player['isBlack'] = data_player[\"skinColor\"] > 0.5\n",
    "y = data_player['isBlack']"
   ]
  },
  {
   "cell_type": "markdown",
   "metadata": {},
   "source": [
    "### 1.4 Random Forest Classifier - Assert model"
   ]
  },
  {
   "cell_type": "markdown",
   "metadata": {},
   "source": [
    "As specified in the assignement, we use *cross-validation* with the *radom forest classifier* to perform our prediction, therefore mitigating the overfitting of the model."
   ]
  },
  {
   "cell_type": "code",
   "execution_count": 29,
   "metadata": {
    "collapsed": true
   },
   "outputs": [],
   "source": [
    "from sklearn.ensemble import RandomForestClassifier\n",
    "from sklearn.cross_validation import cross_val_score"
   ]
  },
  {
   "cell_type": "markdown",
   "metadata": {},
   "source": [
    "We start by choosing the best parameters for our classifier. We've decided to tune two parameters of the scikit RandomForestClassifier:\n",
    "- n_estimators\n",
    "- max_features\n",
    "\n",
    "Due to the randomness that we encounter by using this code, we select the best parameters by averaging the result after a five-loop iteration."
   ]
  },
  {
   "cell_type": "markdown",
   "metadata": {},
   "source": [
    "#### 1.4.1 n_estimators"
   ]
  },
  {
   "cell_type": "code",
   "execution_count": 30,
   "metadata": {
    "collapsed": false
   },
   "outputs": [],
   "source": [
    "k_range = range(1,40)\n",
    "k_scores = [0] * 39\n",
    "\n",
    "for j in range(5):\n",
    "    for i in k_range:\n",
    "        ml = RandomForestClassifier(n_estimators=i)\n",
    "        cross = (cross_val_score(ml, X, y, cv=10))\n",
    "        \n",
    "        k_scores[i-1] += cross.mean()"
   ]
  },
  {
   "cell_type": "code",
   "execution_count": 31,
   "metadata": {
    "collapsed": false
   },
   "outputs": [
    {
     "name": "stdout",
     "output_type": "stream",
     "text": [
      "35 0.852086348555\n"
     ]
    },
    {
     "data": {
      "image/png": "[encoded data removed]",
      "text/plain": [
       "<matplotlib.figure.Figure at 0x7f3645d15a58>"
      ]
     },
     "metadata": {},
     "output_type": "display_data"
    }
   ],
   "source": [
    "max_scores = -1\n",
    "best_n = -1\n",
    "\n",
    "scores = list()\n",
    "for i,x in enumerate(k_scores):\n",
    "    score = x / 5\n",
    "    scores.append(score)\n",
    "    if score > max_scores:\n",
    "        max_scores = score\n",
    "        best_n = i\n",
    "\n",
    "# plot the value of K for KNN (x-axis) versus the cross-validated accuracy (y-axis)        \n",
    "import matplotlib.pyplot as plt\n",
    "%matplotlib inline\n",
    "plt.plot(k_range, scores)\n",
    "plt.xlabel('N_estimators in the forest')\n",
    "plt.ylabel('Cross-Validated Accuracy')\n",
    "\n",
    "\n",
    "# Best values\n",
    "print(best_n, max_scores)"
   ]
  },
  {
   "cell_type": "markdown",
   "metadata": {},
   "source": [
    "#### 1.4.2 max_features"
   ]
  },
  {
   "cell_type": "code",
   "execution_count": 32,
   "metadata": {
    "collapsed": false,
    "scrolled": false
   },
   "outputs": [],
   "source": [
    "max_features = range(1,17)\n",
    "k_scores = [0] * 16\n",
    "\n",
    "for j in range(5):\n",
    "    for i in max_features:\n",
    "        ml = RandomForestClassifier(max_features=i)\n",
    "        cross = (cross_val_score(ml, X, y, cv=10))\n",
    "    \n",
    "        k_scores[-1] += cross.mean()"
   ]
  },
  {
   "cell_type": "code",
   "execution_count": 33,
   "metadata": {
    "collapsed": false
   },
   "outputs": [
    {
     "name": "stdout",
     "output_type": "stream",
     "text": [
      "15 3.2\n"
     ]
    },
    {
     "data": {
      "image/png": "[encoded data removed]",
      "text/plain": [
       "<matplotlib.figure.Figure at 0x7f364006ef60>"
      ]
     },
     "metadata": {},
     "output_type": "display_data"
    }
   ],
   "source": [
    "max_scores = -1\n",
    "best_n = -1\n",
    "\n",
    "scores = list()\n",
    "for i,x in enumerate(max_features):\n",
    "    score = x / 5\n",
    "    scores.append(score)\n",
    "    if score > max_scores:\n",
    "        max_scores = score\n",
    "        best_n = i\n",
    "\n",
    "# plot the value of K for KNN (x-axis) versus the cross-validated accuracy (y-axis)        \n",
    "import matplotlib.pyplot as plt\n",
    "%matplotlib inline\n",
    "plt.plot(max_features, scores)\n",
    "plt.xlabel('max_features in the forest')\n",
    "plt.ylabel('Cross-Validated Accuracy')\n",
    "\n",
    "\n",
    "# Best values\n",
    "print(best_n, max_scores)"
   ]
  },
  {
   "cell_type": "markdown",
   "metadata": {},
   "source": [
    "#### 1.4.3 features_importances"
   ]
  },
  {
   "cell_type": "code",
   "execution_count": 34,
   "metadata": {
    "collapsed": false
   },
   "outputs": [
    {
     "data": {
      "image/png": "[encoded data removed]",
      "text/plain": [
       "<matplotlib.figure.Figure at 0x7f3640099240>"
      ]
     },
     "metadata": {},
     "output_type": "display_data"
    }
   ],
   "source": [
    "ml = RandomForestClassifier(n_estimators=27, max_features=15)\n",
    "ml.fit(X,y)\n",
    "feature_importance = ml.feature_importances_\n",
    "\n",
    "# Combining the features_importance array with the corresponding feature name\n",
    "l1 = list(zip(feature_importance, X.columns))\n",
    "l1.sort(key=lambda x: x[0], reverse=True)\n",
    "features = list(map(lambda x: x[0], l1))\n",
    "features_names = list(map(lambda x: x[1], l1))\n",
    "\n",
    "# Plot the features_importances graph\n",
    "graph = sns.barplot(features_names, features, palette='BuGn_r')\n",
    "graph.set_xticklabels(labels=features_names, rotation=70)\n",
    "plt.show()"
   ]
  },
  {
   "cell_type": "markdown",
   "metadata": {},
   "source": [
    "As expected, the features with the most importance are **meanIATEXP** and **seIATEXP**. It makes sens since these two features are directly linked with the player skin color question.\n",
    "\n",
    "The **birthday** importance does also make sense. Indeed, it is probable that the youger and older player are white in the four leagues analyzed. A younger player is probably issued for the club formation center and since we deal with european leagues, the probably of lighter skin is higher. On the other side, it is common for footballers to end their career in their home country. Therefore, the oldest a player is, the higher chance to be white.\n",
    "\n",
    "WHAT ABOUT THE OTHERS ???"
   ]
  },
  {
   "cell_type": "markdown",
   "metadata": {},
   "source": [
    "## 2."
   ]
  },
  {
   "cell_type": "markdown",
   "metadata": {},
   "source": [
    ">Aggregate the referee information grouping by soccer player, and use an unsupervised learning technique to cluster the soccer players in 2 disjoint clusters. Remove features iteratively, and at each step perform again the clustering and compute the silhouette score -- can you find a configuration of features with high silhouette score where players with dark and light skin colors belong to different clusters? Discuss the obtained results."
   ]
  },
  {
   "cell_type": "markdown",
   "metadata": {},
   "source": [
    "### 2.1 Remove useless referees"
   ]
  },
  {
   "cell_type": "markdown",
   "metadata": {},
   "source": [
    "Now we need to look a little more into the referees features. As mentionned in the complementary reading for this assignement, there is some referees in this dataset who have less than 22 dyads. Since we want to take into consideration only games in the four leagues (England, France, Germany, and Spain), we need to remove all dyads where a referee has less that 22 games. Note that these doesn't mean we remove all possible noise of our data."
   ]
  },
  {
   "cell_type": "code",
   "execution_count": 35,
   "metadata": {
    "collapsed": false,
    "scrolled": false
   },
   "outputs": [
    {
     "data": {
      "text/html": [
       "<div>\n",
       "<table border=\"1\" class=\"dataframe\">\n",
       "  <thead>\n",
       "    <tr style=\"text-align: right;\">\n",
       "      <th></th>\n",
       "      <th>playerShort</th>\n",
       "      <th>player</th>\n",
       "      <th>club</th>\n",
       "      <th>leagueCountry</th>\n",
       "      <th>birthday</th>\n",
       "      <th>height</th>\n",
       "      <th>weight</th>\n",
       "      <th>position</th>\n",
       "      <th>games</th>\n",
       "      <th>victories</th>\n",
       "      <th>...</th>\n",
       "      <th>refCountry</th>\n",
       "      <th>Alpha_3</th>\n",
       "      <th>meanIAT</th>\n",
       "      <th>nIAT</th>\n",
       "      <th>seIAT</th>\n",
       "      <th>meanExp</th>\n",
       "      <th>nExp</th>\n",
       "      <th>seExp</th>\n",
       "      <th>skinColorDiff</th>\n",
       "      <th>skinColor</th>\n",
       "    </tr>\n",
       "  </thead>\n",
       "  <tbody>\n",
       "    <tr>\n",
       "      <th>5</th>\n",
       "      <td>aaron-hughes</td>\n",
       "      <td>Aaron Hughes</td>\n",
       "      <td>Fulham FC</td>\n",
       "      <td>England</td>\n",
       "      <td>08.11.1979</td>\n",
       "      <td>182.0</td>\n",
       "      <td>71.0</td>\n",
       "      <td>Center Back</td>\n",
       "      <td>1</td>\n",
       "      <td>0</td>\n",
       "      <td>...</td>\n",
       "      <td>4</td>\n",
       "      <td>LUX</td>\n",
       "      <td>0.325185</td>\n",
       "      <td>127.0</td>\n",
       "      <td>0.003297</td>\n",
       "      <td>0.538462</td>\n",
       "      <td>130.0</td>\n",
       "      <td>0.013752</td>\n",
       "      <td>0.25</td>\n",
       "      <td>0.125</td>\n",
       "    </tr>\n",
       "    <tr>\n",
       "      <th>6</th>\n",
       "      <td>aleksandar-kolarov</td>\n",
       "      <td>Aleksandar Kolarov</td>\n",
       "      <td>Manchester City</td>\n",
       "      <td>England</td>\n",
       "      <td>10.11.1985</td>\n",
       "      <td>187.0</td>\n",
       "      <td>80.0</td>\n",
       "      <td>Left Fullback</td>\n",
       "      <td>1</td>\n",
       "      <td>1</td>\n",
       "      <td>...</td>\n",
       "      <td>4</td>\n",
       "      <td>LUX</td>\n",
       "      <td>0.325185</td>\n",
       "      <td>127.0</td>\n",
       "      <td>0.003297</td>\n",
       "      <td>0.538462</td>\n",
       "      <td>130.0</td>\n",
       "      <td>0.013752</td>\n",
       "      <td>0.25</td>\n",
       "      <td>0.125</td>\n",
       "    </tr>\n",
       "    <tr>\n",
       "      <th>7</th>\n",
       "      <td>alexander-tettey</td>\n",
       "      <td>Alexander Tettey</td>\n",
       "      <td>Norwich City</td>\n",
       "      <td>England</td>\n",
       "      <td>04.04.1986</td>\n",
       "      <td>180.0</td>\n",
       "      <td>68.0</td>\n",
       "      <td>Defensive Midfielder</td>\n",
       "      <td>1</td>\n",
       "      <td>0</td>\n",
       "      <td>...</td>\n",
       "      <td>4</td>\n",
       "      <td>LUX</td>\n",
       "      <td>0.325185</td>\n",
       "      <td>127.0</td>\n",
       "      <td>0.003297</td>\n",
       "      <td>0.538462</td>\n",
       "      <td>130.0</td>\n",
       "      <td>0.013752</td>\n",
       "      <td>0.00</td>\n",
       "      <td>1.000</td>\n",
       "    </tr>\n",
       "    <tr>\n",
       "      <th>8</th>\n",
       "      <td>anders-lindegaard</td>\n",
       "      <td>Anders Lindegaard</td>\n",
       "      <td>Manchester United</td>\n",
       "      <td>England</td>\n",
       "      <td>13.04.1984</td>\n",
       "      <td>193.0</td>\n",
       "      <td>80.0</td>\n",
       "      <td>Goalkeeper</td>\n",
       "      <td>1</td>\n",
       "      <td>0</td>\n",
       "      <td>...</td>\n",
       "      <td>4</td>\n",
       "      <td>LUX</td>\n",
       "      <td>0.325185</td>\n",
       "      <td>127.0</td>\n",
       "      <td>0.003297</td>\n",
       "      <td>0.538462</td>\n",
       "      <td>130.0</td>\n",
       "      <td>0.013752</td>\n",
       "      <td>0.00</td>\n",
       "      <td>0.250</td>\n",
       "    </tr>\n",
       "    <tr>\n",
       "      <th>9</th>\n",
       "      <td>andreas-beck</td>\n",
       "      <td>Andreas Beck</td>\n",
       "      <td>1899 Hoffenheim</td>\n",
       "      <td>Germany</td>\n",
       "      <td>13.03.1987</td>\n",
       "      <td>180.0</td>\n",
       "      <td>70.0</td>\n",
       "      <td>Right Fullback</td>\n",
       "      <td>1</td>\n",
       "      <td>1</td>\n",
       "      <td>...</td>\n",
       "      <td>4</td>\n",
       "      <td>LUX</td>\n",
       "      <td>0.325185</td>\n",
       "      <td>127.0</td>\n",
       "      <td>0.003297</td>\n",
       "      <td>0.538462</td>\n",
       "      <td>130.0</td>\n",
       "      <td>0.013752</td>\n",
       "      <td>0.00</td>\n",
       "      <td>0.000</td>\n",
       "    </tr>\n",
       "  </tbody>\n",
       "</table>\n",
       "<p>5 rows × 30 columns</p>\n",
       "</div>"
      ],
      "text/plain": [
       "          playerShort              player               club leagueCountry  \\\n",
       "5        aaron-hughes        Aaron Hughes          Fulham FC       England   \n",
       "6  aleksandar-kolarov  Aleksandar Kolarov    Manchester City       England   \n",
       "7    alexander-tettey    Alexander Tettey       Norwich City       England   \n",
       "8   anders-lindegaard   Anders Lindegaard  Manchester United       England   \n",
       "9        andreas-beck        Andreas Beck    1899 Hoffenheim       Germany   \n",
       "\n",
       "     birthday  height  weight              position  games  victories  \\\n",
       "5  08.11.1979   182.0    71.0           Center Back      1          0   \n",
       "6  10.11.1985   187.0    80.0         Left Fullback      1          1   \n",
       "7  04.04.1986   180.0    68.0  Defensive Midfielder      1          0   \n",
       "8  13.04.1984   193.0    80.0            Goalkeeper      1          0   \n",
       "9  13.03.1987   180.0    70.0        Right Fullback      1          1   \n",
       "\n",
       "     ...      refCountry  Alpha_3   meanIAT   nIAT     seIAT   meanExp   nExp  \\\n",
       "5    ...               4      LUX  0.325185  127.0  0.003297  0.538462  130.0   \n",
       "6    ...               4      LUX  0.325185  127.0  0.003297  0.538462  130.0   \n",
       "7    ...               4      LUX  0.325185  127.0  0.003297  0.538462  130.0   \n",
       "8    ...               4      LUX  0.325185  127.0  0.003297  0.538462  130.0   \n",
       "9    ...               4      LUX  0.325185  127.0  0.003297  0.538462  130.0   \n",
       "\n",
       "      seExp  skinColorDiff  skinColor  \n",
       "5  0.013752           0.25      0.125  \n",
       "6  0.013752           0.25      0.125  \n",
       "7  0.013752           0.00      1.000  \n",
       "8  0.013752           0.00      0.250  \n",
       "9  0.013752           0.00      0.000  \n",
       "\n",
       "[5 rows x 30 columns]"
      ]
     },
     "execution_count": 35,
     "metadata": {},
     "output_type": "execute_result"
    }
   ],
   "source": [
    "# Group the data by refs\n",
    "data_by_refs = data.groupby('refNum').size()\n",
    "refsToKeep = data_by_refs >= 22\n",
    "\n",
    "# Retrieve the 'refNum' of refs to keep in the data\n",
    "refsToKeepID = list()\n",
    "for i,x in enumerate(refsToKeep):\n",
    "    if x:\n",
    "        refsToKeepID.append(refsToKeep.index[i])\n",
    "\n",
    "# Keep only the refs with at least 22 games\n",
    "data_refs = data[data.refNum.isin(refsToKeepID)]\n",
    "data_refs.head()"
   ]
  },
  {
   "cell_type": "markdown",
   "metadata": {},
   "source": [
    "### 2.2 Group by player"
   ]
  },
  {
   "cell_type": "markdown",
   "metadata": {},
   "source": [
    "Now that we clean a little bit the refs information, we can group the data by soccer player. We need to perform the aggregation in the same way as for the first part of this assignement. But here, we decided to remove directly some useless features."
   ]
  },
  {
   "cell_type": "code",
   "execution_count": 36,
   "metadata": {
    "collapsed": false
   },
   "outputs": [
    {
     "data": {
      "text/plain": [
       "['playerShort',\n",
       " 'player',\n",
       " 'club',\n",
       " 'leagueCountry',\n",
       " 'birthday',\n",
       " 'height',\n",
       " 'weight',\n",
       " 'position',\n",
       " 'games',\n",
       " 'victories',\n",
       " 'ties',\n",
       " 'defeats',\n",
       " 'goals',\n",
       " 'yellowCards',\n",
       " 'yellowReds',\n",
       " 'redCards',\n",
       " 'photoID',\n",
       " 'rater1',\n",
       " 'rater2',\n",
       " 'refNum',\n",
       " 'refCountry',\n",
       " 'Alpha_3',\n",
       " 'meanIAT',\n",
       " 'nIAT',\n",
       " 'seIAT',\n",
       " 'meanExp',\n",
       " 'nExp',\n",
       " 'seExp',\n",
       " 'skinColorDiff',\n",
       " 'skinColor']"
      ]
     },
     "execution_count": 36,
     "metadata": {},
     "output_type": "execute_result"
    }
   ],
   "source": [
    "list(data_refs.columns)"
   ]
  },
  {
   "cell_type": "markdown",
   "metadata": {},
   "source": [
    "- **player**: The *playerShort* feature is enough, no need to keep players names\n",
    "- **photoID**: irrelevant\n",
    "- **rater1**: Skin information stored in *skinColor* column\n",
    "- **rater2**: Skin information stored in *skinColor* column\n",
    "- **refNum**: Multiple refs merge together, makes no sens to aggregate here.\n",
    "- **refCountry**, **Alpha_3**, **meanIAT**,**nIAT**, **seIAT**, **meanExp**,**nExp**, **seExp**: Sames as *refNum*.\n",
    "- **skinColorDiff**: Not useful anymore"
   ]
  },
  {
   "cell_type": "code",
   "execution_count": 37,
   "metadata": {
    "collapsed": false
   },
   "outputs": [
    {
     "data": {
      "text/html": [
       "<div>\n",
       "<table border=\"1\" class=\"dataframe\">\n",
       "  <thead>\n",
       "    <tr style=\"text-align: right;\">\n",
       "      <th></th>\n",
       "      <th>playerShort</th>\n",
       "      <th>club</th>\n",
       "      <th>leagueCountry</th>\n",
       "      <th>birthday</th>\n",
       "      <th>height</th>\n",
       "      <th>weight</th>\n",
       "      <th>position</th>\n",
       "      <th>games</th>\n",
       "      <th>victories</th>\n",
       "      <th>ties</th>\n",
       "      <th>defeats</th>\n",
       "      <th>goals</th>\n",
       "      <th>yellowCards</th>\n",
       "      <th>yellowReds</th>\n",
       "      <th>redCards</th>\n",
       "      <th>skinColor</th>\n",
       "    </tr>\n",
       "  </thead>\n",
       "  <tbody>\n",
       "    <tr>\n",
       "      <th>5</th>\n",
       "      <td>aaron-hughes</td>\n",
       "      <td>Fulham FC</td>\n",
       "      <td>England</td>\n",
       "      <td>08.11.1979</td>\n",
       "      <td>182.0</td>\n",
       "      <td>71.0</td>\n",
       "      <td>Center Back</td>\n",
       "      <td>1</td>\n",
       "      <td>0</td>\n",
       "      <td>0</td>\n",
       "      <td>1</td>\n",
       "      <td>0</td>\n",
       "      <td>0</td>\n",
       "      <td>0</td>\n",
       "      <td>0</td>\n",
       "      <td>0.125</td>\n",
       "    </tr>\n",
       "    <tr>\n",
       "      <th>6</th>\n",
       "      <td>aleksandar-kolarov</td>\n",
       "      <td>Manchester City</td>\n",
       "      <td>England</td>\n",
       "      <td>10.11.1985</td>\n",
       "      <td>187.0</td>\n",
       "      <td>80.0</td>\n",
       "      <td>Left Fullback</td>\n",
       "      <td>1</td>\n",
       "      <td>1</td>\n",
       "      <td>0</td>\n",
       "      <td>0</td>\n",
       "      <td>0</td>\n",
       "      <td>0</td>\n",
       "      <td>0</td>\n",
       "      <td>0</td>\n",
       "      <td>0.125</td>\n",
       "    </tr>\n",
       "    <tr>\n",
       "      <th>7</th>\n",
       "      <td>alexander-tettey</td>\n",
       "      <td>Norwich City</td>\n",
       "      <td>England</td>\n",
       "      <td>04.04.1986</td>\n",
       "      <td>180.0</td>\n",
       "      <td>68.0</td>\n",
       "      <td>Defensive Midfielder</td>\n",
       "      <td>1</td>\n",
       "      <td>0</td>\n",
       "      <td>0</td>\n",
       "      <td>1</td>\n",
       "      <td>0</td>\n",
       "      <td>0</td>\n",
       "      <td>0</td>\n",
       "      <td>0</td>\n",
       "      <td>1.000</td>\n",
       "    </tr>\n",
       "    <tr>\n",
       "      <th>8</th>\n",
       "      <td>anders-lindegaard</td>\n",
       "      <td>Manchester United</td>\n",
       "      <td>England</td>\n",
       "      <td>13.04.1984</td>\n",
       "      <td>193.0</td>\n",
       "      <td>80.0</td>\n",
       "      <td>Goalkeeper</td>\n",
       "      <td>1</td>\n",
       "      <td>0</td>\n",
       "      <td>1</td>\n",
       "      <td>0</td>\n",
       "      <td>0</td>\n",
       "      <td>0</td>\n",
       "      <td>0</td>\n",
       "      <td>0</td>\n",
       "      <td>0.250</td>\n",
       "    </tr>\n",
       "    <tr>\n",
       "      <th>9</th>\n",
       "      <td>andreas-beck</td>\n",
       "      <td>1899 Hoffenheim</td>\n",
       "      <td>Germany</td>\n",
       "      <td>13.03.1987</td>\n",
       "      <td>180.0</td>\n",
       "      <td>70.0</td>\n",
       "      <td>Right Fullback</td>\n",
       "      <td>1</td>\n",
       "      <td>1</td>\n",
       "      <td>0</td>\n",
       "      <td>0</td>\n",
       "      <td>0</td>\n",
       "      <td>0</td>\n",
       "      <td>0</td>\n",
       "      <td>0</td>\n",
       "      <td>0.000</td>\n",
       "    </tr>\n",
       "  </tbody>\n",
       "</table>\n",
       "</div>"
      ],
      "text/plain": [
       "          playerShort               club leagueCountry    birthday  height  \\\n",
       "5        aaron-hughes          Fulham FC       England  08.11.1979   182.0   \n",
       "6  aleksandar-kolarov    Manchester City       England  10.11.1985   187.0   \n",
       "7    alexander-tettey       Norwich City       England  04.04.1986   180.0   \n",
       "8   anders-lindegaard  Manchester United       England  13.04.1984   193.0   \n",
       "9        andreas-beck    1899 Hoffenheim       Germany  13.03.1987   180.0   \n",
       "\n",
       "   weight              position  games  victories  ties  defeats  goals  \\\n",
       "5    71.0           Center Back      1          0     0        1      0   \n",
       "6    80.0         Left Fullback      1          1     0        0      0   \n",
       "7    68.0  Defensive Midfielder      1          0     0        1      0   \n",
       "8    80.0            Goalkeeper      1          0     1        0      0   \n",
       "9    70.0        Right Fullback      1          1     0        0      0   \n",
       "\n",
       "   yellowCards  yellowReds  redCards  skinColor  \n",
       "5            0           0         0      0.125  \n",
       "6            0           0         0      0.125  \n",
       "7            0           0         0      1.000  \n",
       "8            0           0         0      0.250  \n",
       "9            0           0         0      0.000  "
      ]
     },
     "execution_count": 37,
     "metadata": {},
     "output_type": "execute_result"
    }
   ],
   "source": [
    "features_drop = ['player', 'photoID', 'rater1', 'rater2', \n",
    "                 'refNum', 'refCountry', 'Alpha_3', 'meanIAT',\n",
    "                 'nIAT', 'seIAT', 'meanExp','nExp','seExp',\n",
    "                 'skinColorDiff']\n",
    "\n",
    "data_of_interest = data_refs.drop(features_drop, axis=1)\n",
    "data_of_interest.head()"
   ]
  },
  {
   "cell_type": "code",
   "execution_count": 38,
   "metadata": {
    "collapsed": false
   },
   "outputs": [
    {
     "data": {
      "text/html": [
       "<div>\n",
       "<table border=\"1\" class=\"dataframe\">\n",
       "  <thead>\n",
       "    <tr style=\"text-align: right;\">\n",
       "      <th></th>\n",
       "      <th>skinColor</th>\n",
       "      <th>club</th>\n",
       "      <th>ties</th>\n",
       "      <th>birthday</th>\n",
       "      <th>redCards</th>\n",
       "      <th>yellowCards</th>\n",
       "      <th>victories</th>\n",
       "      <th>leagueCountry</th>\n",
       "      <th>yellowReds</th>\n",
       "      <th>position</th>\n",
       "      <th>weight</th>\n",
       "      <th>games</th>\n",
       "      <th>goals</th>\n",
       "      <th>height</th>\n",
       "      <th>defeats</th>\n",
       "    </tr>\n",
       "    <tr>\n",
       "      <th>playerShort</th>\n",
       "      <th></th>\n",
       "      <th></th>\n",
       "      <th></th>\n",
       "      <th></th>\n",
       "      <th></th>\n",
       "      <th></th>\n",
       "      <th></th>\n",
       "      <th></th>\n",
       "      <th></th>\n",
       "      <th></th>\n",
       "      <th></th>\n",
       "      <th></th>\n",
       "      <th></th>\n",
       "      <th></th>\n",
       "      <th></th>\n",
       "    </tr>\n",
       "  </thead>\n",
       "  <tbody>\n",
       "    <tr>\n",
       "      <th>aaron-hughes</th>\n",
       "      <td>0.125</td>\n",
       "      <td>Fulham FC</td>\n",
       "      <td>174</td>\n",
       "      <td>08.11.1979</td>\n",
       "      <td>0</td>\n",
       "      <td>19</td>\n",
       "      <td>240</td>\n",
       "      <td>England</td>\n",
       "      <td>0</td>\n",
       "      <td>Center Back</td>\n",
       "      <td>71.0</td>\n",
       "      <td>635</td>\n",
       "      <td>8</td>\n",
       "      <td>182.0</td>\n",
       "      <td>221</td>\n",
       "    </tr>\n",
       "    <tr>\n",
       "      <th>aaron-hunt</th>\n",
       "      <td>0.125</td>\n",
       "      <td>Werder Bremen</td>\n",
       "      <td>70</td>\n",
       "      <td>04.09.1986</td>\n",
       "      <td>1</td>\n",
       "      <td>39</td>\n",
       "      <td>139</td>\n",
       "      <td>Germany</td>\n",
       "      <td>0</td>\n",
       "      <td>Attacking Midfielder</td>\n",
       "      <td>73.0</td>\n",
       "      <td>328</td>\n",
       "      <td>59</td>\n",
       "      <td>183.0</td>\n",
       "      <td>119</td>\n",
       "    </tr>\n",
       "    <tr>\n",
       "      <th>aaron-lennon</th>\n",
       "      <td>0.250</td>\n",
       "      <td>Tottenham Hotspur</td>\n",
       "      <td>96</td>\n",
       "      <td>16.04.1987</td>\n",
       "      <td>0</td>\n",
       "      <td>11</td>\n",
       "      <td>200</td>\n",
       "      <td>England</td>\n",
       "      <td>0</td>\n",
       "      <td>Right Midfielder</td>\n",
       "      <td>63.0</td>\n",
       "      <td>411</td>\n",
       "      <td>31</td>\n",
       "      <td>165.0</td>\n",
       "      <td>115</td>\n",
       "    </tr>\n",
       "    <tr>\n",
       "      <th>aaron-ramsey</th>\n",
       "      <td>0.000</td>\n",
       "      <td>Arsenal FC</td>\n",
       "      <td>42</td>\n",
       "      <td>26.12.1990</td>\n",
       "      <td>1</td>\n",
       "      <td>31</td>\n",
       "      <td>144</td>\n",
       "      <td>England</td>\n",
       "      <td>0</td>\n",
       "      <td>Center Midfielder</td>\n",
       "      <td>76.0</td>\n",
       "      <td>253</td>\n",
       "      <td>39</td>\n",
       "      <td>178.0</td>\n",
       "      <td>67</td>\n",
       "    </tr>\n",
       "    <tr>\n",
       "      <th>abdelhamid-el-kaoutari</th>\n",
       "      <td>0.250</td>\n",
       "      <td>Montpellier HSC</td>\n",
       "      <td>40</td>\n",
       "      <td>17.03.1990</td>\n",
       "      <td>2</td>\n",
       "      <td>8</td>\n",
       "      <td>41</td>\n",
       "      <td>France</td>\n",
       "      <td>4</td>\n",
       "      <td>Center Back</td>\n",
       "      <td>73.0</td>\n",
       "      <td>124</td>\n",
       "      <td>1</td>\n",
       "      <td>180.0</td>\n",
       "      <td>43</td>\n",
       "    </tr>\n",
       "  </tbody>\n",
       "</table>\n",
       "</div>"
      ],
      "text/plain": [
       "                        skinColor               club  ties    birthday  \\\n",
       "playerShort                                                              \n",
       "aaron-hughes                0.125          Fulham FC   174  08.11.1979   \n",
       "aaron-hunt                  0.125      Werder Bremen    70  04.09.1986   \n",
       "aaron-lennon                0.250  Tottenham Hotspur    96  16.04.1987   \n",
       "aaron-ramsey                0.000         Arsenal FC    42  26.12.1990   \n",
       "abdelhamid-el-kaoutari      0.250    Montpellier HSC    40  17.03.1990   \n",
       "\n",
       "                        redCards  yellowCards  victories leagueCountry  \\\n",
       "playerShort                                                              \n",
       "aaron-hughes                   0           19        240       England   \n",
       "aaron-hunt                     1           39        139       Germany   \n",
       "aaron-lennon                   0           11        200       England   \n",
       "aaron-ramsey                   1           31        144       England   \n",
       "abdelhamid-el-kaoutari         2            8         41        France   \n",
       "\n",
       "                        yellowReds              position  weight  games  \\\n",
       "playerShort                                                               \n",
       "aaron-hughes                     0           Center Back    71.0    635   \n",
       "aaron-hunt                       0  Attacking Midfielder    73.0    328   \n",
       "aaron-lennon                     0      Right Midfielder    63.0    411   \n",
       "aaron-ramsey                     0     Center Midfielder    76.0    253   \n",
       "abdelhamid-el-kaoutari           4           Center Back    73.0    124   \n",
       "\n",
       "                        goals  height  defeats  \n",
       "playerShort                                     \n",
       "aaron-hughes                8   182.0      221  \n",
       "aaron-hunt                 59   183.0      119  \n",
       "aaron-lennon               31   165.0      115  \n",
       "aaron-ramsey               39   178.0       67  \n",
       "abdelhamid-el-kaoutari      1   180.0       43  "
      ]
     },
     "execution_count": 38,
     "metadata": {},
     "output_type": "execute_result"
    }
   ],
   "source": [
    "data_by_player = data_of_interest.groupby('playerShort')\n",
    "data_player = data_by_player.agg({\n",
    "        # Keep only one entry per player\n",
    "        'club'      : 'first',\n",
    "        'leagueCountry' : 'first',\n",
    "        'birthday'  : 'first',\n",
    "        'position'  : 'first',\n",
    "        'height'    : 'mean',\n",
    "        'weight'    : 'mean',\n",
    "        'skinColor' : 'mean',\n",
    "        \n",
    "        # Sum referees data\n",
    "        'games'     : 'sum',\n",
    "        'victories' : 'sum',\n",
    "        'ties'      : 'sum',\n",
    "        'defeats'   : 'sum',\n",
    "        'goals'     : 'sum',\n",
    "        'yellowCards' : 'sum',\n",
    "        'yellowReds': 'sum',\n",
    "        'redCards'  : 'sum',\n",
    "    })\n",
    "\n",
    "data_player.head()"
   ]
  },
  {
   "cell_type": "markdown",
   "metadata": {},
   "source": [
    "### 2.3 Prepare data for ML"
   ]
  },
  {
   "cell_type": "markdown",
   "metadata": {},
   "source": [
    "#### 2.3.1 Numerical values only"
   ]
  },
  {
   "cell_type": "markdown",
   "metadata": {},
   "source": [
    "Our datasets has, at the moment, different types per column"
   ]
  },
  {
   "cell_type": "code",
   "execution_count": 39,
   "metadata": {
    "collapsed": false
   },
   "outputs": [
    {
     "data": {
      "text/plain": [
       "skinColor        float64\n",
       "club              object\n",
       "ties               int64\n",
       "birthday          object\n",
       "redCards           int64\n",
       "yellowCards        int64\n",
       "victories          int64\n",
       "leagueCountry     object\n",
       "yellowReds         int64\n",
       "position          object\n",
       "weight           float64\n",
       "games              int64\n",
       "goals              int64\n",
       "height           float64\n",
       "defeats            int64\n",
       "dtype: object"
      ]
     },
     "execution_count": 39,
     "metadata": {},
     "output_type": "execute_result"
    }
   ],
   "source": [
    "data_player.dtypes"
   ]
  },
  {
   "cell_type": "markdown",
   "metadata": {},
   "source": [
    "In order to be able to use the classifier later on, we need to deal only with numerical values. Therefore, we convert *object* columns into numerical one.\n"
   ]
  },
  {
   "cell_type": "code",
   "execution_count": 40,
   "metadata": {
    "collapsed": true
   },
   "outputs": [],
   "source": [
    "# Convert all columns with type 'object'\n",
    "col_object = data_player.dtypes == 'object'\n",
    "for col in data_player.loc[:,col_object]:\n",
    "    columnEncoder(data_player, col)"
   ]
  },
  {
   "cell_type": "markdown",
   "metadata": {},
   "source": [
    "Now we only deal with numerical values. Go one step further and only deal with *float64*"
   ]
  },
  {
   "cell_type": "code",
   "execution_count": 41,
   "metadata": {
    "collapsed": false
   },
   "outputs": [
    {
     "data": {
      "text/plain": [
       "array([dtype('float64')], dtype=object)"
      ]
     },
     "execution_count": 41,
     "metadata": {},
     "output_type": "execute_result"
    }
   ],
   "source": [
    "data_player = data_player.astype(float)\n",
    "data_player.dtypes.unique()"
   ]
  },
  {
   "cell_type": "code",
   "execution_count": 42,
   "metadata": {
    "collapsed": false
   },
   "outputs": [
    {
     "data": {
      "text/html": [
       "<div>\n",
       "<table border=\"1\" class=\"dataframe\">\n",
       "  <thead>\n",
       "    <tr style=\"text-align: right;\">\n",
       "      <th></th>\n",
       "      <th>skinColor</th>\n",
       "      <th>club</th>\n",
       "      <th>ties</th>\n",
       "      <th>birthday</th>\n",
       "      <th>redCards</th>\n",
       "      <th>yellowCards</th>\n",
       "      <th>victories</th>\n",
       "      <th>leagueCountry</th>\n",
       "      <th>yellowReds</th>\n",
       "      <th>position</th>\n",
       "      <th>weight</th>\n",
       "      <th>games</th>\n",
       "      <th>goals</th>\n",
       "      <th>height</th>\n",
       "      <th>defeats</th>\n",
       "    </tr>\n",
       "    <tr>\n",
       "      <th>playerShort</th>\n",
       "      <th></th>\n",
       "      <th></th>\n",
       "      <th></th>\n",
       "      <th></th>\n",
       "      <th></th>\n",
       "      <th></th>\n",
       "      <th></th>\n",
       "      <th></th>\n",
       "      <th></th>\n",
       "      <th></th>\n",
       "      <th></th>\n",
       "      <th></th>\n",
       "      <th></th>\n",
       "      <th></th>\n",
       "      <th></th>\n",
       "    </tr>\n",
       "  </thead>\n",
       "  <tbody>\n",
       "    <tr>\n",
       "      <th>aaron-hughes</th>\n",
       "      <td>0.125</td>\n",
       "      <td>34.0</td>\n",
       "      <td>174.0</td>\n",
       "      <td>360.0</td>\n",
       "      <td>0.0</td>\n",
       "      <td>19.0</td>\n",
       "      <td>240.0</td>\n",
       "      <td>0.0</td>\n",
       "      <td>0.0</td>\n",
       "      <td>1.0</td>\n",
       "      <td>71.0</td>\n",
       "      <td>635.0</td>\n",
       "      <td>8.0</td>\n",
       "      <td>182.0</td>\n",
       "      <td>221.0</td>\n",
       "    </tr>\n",
       "    <tr>\n",
       "      <th>aaron-hunt</th>\n",
       "      <td>0.125</td>\n",
       "      <td>90.0</td>\n",
       "      <td>70.0</td>\n",
       "      <td>176.0</td>\n",
       "      <td>1.0</td>\n",
       "      <td>39.0</td>\n",
       "      <td>139.0</td>\n",
       "      <td>2.0</td>\n",
       "      <td>0.0</td>\n",
       "      <td>0.0</td>\n",
       "      <td>73.0</td>\n",
       "      <td>328.0</td>\n",
       "      <td>59.0</td>\n",
       "      <td>183.0</td>\n",
       "      <td>119.0</td>\n",
       "    </tr>\n",
       "    <tr>\n",
       "      <th>aaron-lennon</th>\n",
       "      <td>0.250</td>\n",
       "      <td>82.0</td>\n",
       "      <td>96.0</td>\n",
       "      <td>719.0</td>\n",
       "      <td>0.0</td>\n",
       "      <td>11.0</td>\n",
       "      <td>200.0</td>\n",
       "      <td>0.0</td>\n",
       "      <td>0.0</td>\n",
       "      <td>10.0</td>\n",
       "      <td>63.0</td>\n",
       "      <td>411.0</td>\n",
       "      <td>31.0</td>\n",
       "      <td>165.0</td>\n",
       "      <td>115.0</td>\n",
       "    </tr>\n",
       "    <tr>\n",
       "      <th>aaron-ramsey</th>\n",
       "      <td>0.000</td>\n",
       "      <td>6.0</td>\n",
       "      <td>42.0</td>\n",
       "      <td>1198.0</td>\n",
       "      <td>1.0</td>\n",
       "      <td>31.0</td>\n",
       "      <td>144.0</td>\n",
       "      <td>0.0</td>\n",
       "      <td>0.0</td>\n",
       "      <td>3.0</td>\n",
       "      <td>76.0</td>\n",
       "      <td>253.0</td>\n",
       "      <td>39.0</td>\n",
       "      <td>178.0</td>\n",
       "      <td>67.0</td>\n",
       "    </tr>\n",
       "    <tr>\n",
       "      <th>abdelhamid-el-kaoutari</th>\n",
       "      <td>0.250</td>\n",
       "      <td>51.0</td>\n",
       "      <td>40.0</td>\n",
       "      <td>758.0</td>\n",
       "      <td>2.0</td>\n",
       "      <td>8.0</td>\n",
       "      <td>41.0</td>\n",
       "      <td>1.0</td>\n",
       "      <td>4.0</td>\n",
       "      <td>1.0</td>\n",
       "      <td>73.0</td>\n",
       "      <td>124.0</td>\n",
       "      <td>1.0</td>\n",
       "      <td>180.0</td>\n",
       "      <td>43.0</td>\n",
       "    </tr>\n",
       "  </tbody>\n",
       "</table>\n",
       "</div>"
      ],
      "text/plain": [
       "                        skinColor  club   ties  birthday  redCards  \\\n",
       "playerShort                                                          \n",
       "aaron-hughes                0.125  34.0  174.0     360.0       0.0   \n",
       "aaron-hunt                  0.125  90.0   70.0     176.0       1.0   \n",
       "aaron-lennon                0.250  82.0   96.0     719.0       0.0   \n",
       "aaron-ramsey                0.000   6.0   42.0    1198.0       1.0   \n",
       "abdelhamid-el-kaoutari      0.250  51.0   40.0     758.0       2.0   \n",
       "\n",
       "                        yellowCards  victories  leagueCountry  yellowReds  \\\n",
       "playerShort                                                                 \n",
       "aaron-hughes                   19.0      240.0            0.0         0.0   \n",
       "aaron-hunt                     39.0      139.0            2.0         0.0   \n",
       "aaron-lennon                   11.0      200.0            0.0         0.0   \n",
       "aaron-ramsey                   31.0      144.0            0.0         0.0   \n",
       "abdelhamid-el-kaoutari          8.0       41.0            1.0         4.0   \n",
       "\n",
       "                        position  weight  games  goals  height  defeats  \n",
       "playerShort                                                              \n",
       "aaron-hughes                 1.0    71.0  635.0    8.0   182.0    221.0  \n",
       "aaron-hunt                   0.0    73.0  328.0   59.0   183.0    119.0  \n",
       "aaron-lennon                10.0    63.0  411.0   31.0   165.0    115.0  \n",
       "aaron-ramsey                 3.0    76.0  253.0   39.0   178.0     67.0  \n",
       "abdelhamid-el-kaoutari       1.0    73.0  124.0    1.0   180.0     43.0  "
      ]
     },
     "execution_count": 42,
     "metadata": {},
     "output_type": "execute_result"
    }
   ],
   "source": [
    "data_player.head()"
   ]
  },
  {
   "cell_type": "markdown",
   "metadata": {},
   "source": [
    "#### 2.3.3 Binary SkinColor"
   ]
  },
  {
   "cell_type": "markdown",
   "metadata": {},
   "source": [
    "In order be able to make comparison between the classifier and the skinColor of a player, we need to have the skin information stored as a binary value.\n",
    "\n",
    "We add a new column to our dataset: *blackSkin*. It will take value 0 if the skin is defined as *non-black* and value 1 otherwise."
   ]
  },
  {
   "cell_type": "code",
   "execution_count": 43,
   "metadata": {
    "collapsed": false
   },
   "outputs": [
    {
     "name": "stderr",
     "output_type": "stream",
     "text": [
      "/home/danny/anaconda3/lib/python3.5/site-packages/ipykernel/__main__.py:2: SettingWithCopyWarning: \n",
      "A value is trying to be set on a copy of a slice from a DataFrame\n",
      "\n",
      "See the caveats in the documentation: http://pandas.pydata.org/pandas-docs/stable/indexing.html#indexing-view-versus-copy\n",
      "  from ipykernel import kernelapp as app\n",
      "/home/danny/anaconda3/lib/python3.5/site-packages/ipykernel/__main__.py:3: SettingWithCopyWarning: \n",
      "A value is trying to be set on a copy of a slice from a DataFrame\n",
      "\n",
      "See the caveats in the documentation: http://pandas.pydata.org/pandas-docs/stable/indexing.html#indexing-view-versus-copy\n",
      "  app.launch_new_instance()\n"
     ]
    }
   ],
   "source": [
    "data_player['blackSkin'] = -1\n",
    "data_player['blackSkin'][data_player.skinColor>0.5] = 1\n",
    "data_player['blackSkin'][data_player.skinColor<=0.5] = 0"
   ]
  },
  {
   "cell_type": "markdown",
   "metadata": {},
   "source": [
    "### 2.4 Unsupervised learning"
   ]
  },
  {
   "cell_type": "markdown",
   "metadata": {},
   "source": [
    "We have (arbitrarly) decided to work with the *k_means* algorithm from scikit."
   ]
  },
  {
   "cell_type": "code",
   "execution_count": 44,
   "metadata": {
    "collapsed": true
   },
   "outputs": [],
   "source": [
    "from sklearn.cluster import KMeans\n",
    "import sklearn"
   ]
  },
  {
   "cell_type": "code",
   "execution_count": 45,
   "metadata": {
    "collapsed": false
   },
   "outputs": [],
   "source": [
    "X = data_player.drop(['skinColor', 'blackSkin'], axis=1)\n",
    "y = data_player.blackSkin"
   ]
  },
  {
   "cell_type": "code",
   "execution_count": 46,
   "metadata": {
    "collapsed": false
   },
   "outputs": [
    {
     "ename": "SyntaxError",
     "evalue": "invalid syntax (<ipython-input-46-49b793b404cf>, line 9)",
     "output_type": "error",
     "traceback": [
      "\u001b[0;36m  File \u001b[0;32m\"<ipython-input-46-49b793b404cf>\"\u001b[0;36m, line \u001b[0;32m9\u001b[0m\n\u001b[0;31m    skinColorBool2 = 1 if skinColorBool\u001b[0m\n\u001b[0m                                       ^\u001b[0m\n\u001b[0;31mSyntaxError\u001b[0m\u001b[0;31m:\u001b[0m invalid syntax\n"
     ]
    }
   ],
   "source": [
    "kmeans = KMeans(n_clusters=2, random_state=0).fit(X)\n",
    "labels = kmeans.labels_\n",
    "\n",
    "silhouette = sklearn.metrics.silhouette_score(X, labels)\n",
    "print(\"silhouette:\",silhouette)\n",
    "\n",
    "\n",
    "skinColorBool = data_player.skinColor > 0.5\n",
    "skinColorBool2 = 1 if skinColorBool"
   ]
  }
 ],
 "metadata": {
  "anaconda-cloud": {},
  "kernelspec": {
   "display_name": "Python [conda root]",
   "language": "python",
   "name": "conda-root-py"
  },
  "language_info": {
   "codemirror_mode": {
    "name": "ipython",
    "version": 3
   },
   "file_extension": ".py",
   "mimetype": "text/x-python",
   "name": "python",
   "nbconvert_exporter": "python",
   "pygments_lexer": "ipython3",
   "version": "3.5.2"
  }
 },
 "nbformat": 4,
 "nbformat_minor": 1
}
