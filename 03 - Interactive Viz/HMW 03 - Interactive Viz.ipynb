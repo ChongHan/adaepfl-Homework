{
 "cells": [
  {
   "cell_type": "markdown",
   "metadata": {},
   "source": [
    "# ADA Homework 03 - Interactive Viz"
   ]
  },
  {
   "cell_type": "code",
   "execution_count": 693,
   "metadata": {
    "collapsed": false
   },
   "outputs": [],
   "source": [
    "# Import libraries\n",
    "import pandas as pd\n",
    "import numpy as np\n",
    "\n",
    "# Map\n",
    "import folium\n",
    "\n",
    "# Query with geonames\n",
    "import json\n",
    "import requests\n",
    "from urllib import parse \n",
    "from urllib.request import urlopen\n",
    "\n",
    "# Ignore warning in order to reduce noise for reviewers\n",
    "import warnings\n",
    "warnings.filterwarnings('ignore')\n",
    "\n",
    "# folium (for map representation of results) \n",
    "import folium\n",
    "\n",
    "# json\n",
    "import json\n",
    "from pprint import pprint"
   ]
  },
  {
   "cell_type": "markdown",
   "metadata": {},
   "source": [
    "> **Assignemnt**\n",
    "\n",
    "> Build a Choropleth map which shows intuitively (i.e., use colors wisely) how much grant money goes to each Swiss canton. To do so, you will need to use the provided TopoJSON file, combined with the Choropleth map example you can find in the Folium README file."
   ]
  },
  {
   "cell_type": "markdown",
   "metadata": {},
   "source": [
    "## 1. Import data"
   ]
  },
  {
   "cell_type": "code",
   "execution_count": 694,
   "metadata": {
    "collapsed": false,
    "scrolled": false
   },
   "outputs": [
    {
     "data": {
      "text/html": [
       "<div>\n",
       "<table border=\"1\" class=\"dataframe\">\n",
       "  <thead>\n",
       "    <tr style=\"text-align: right;\">\n",
       "      <th></th>\n",
       "      <th>Project Title</th>\n",
       "      <th>Project Title English</th>\n",
       "      <th>Responsible Applicant</th>\n",
       "      <th>Funding Instrument</th>\n",
       "      <th>Funding Instrument Hierarchy</th>\n",
       "      <th>Institution</th>\n",
       "      <th>University</th>\n",
       "      <th>Discipline Number</th>\n",
       "      <th>Discipline Name</th>\n",
       "      <th>Discipline Name Hierarchy</th>\n",
       "      <th>Start Date</th>\n",
       "      <th>End Date</th>\n",
       "      <th>Approved Amount</th>\n",
       "      <th>Keywords</th>\n",
       "    </tr>\n",
       "    <tr>\n",
       "      <th>﻿\"Project Number\"</th>\n",
       "      <th></th>\n",
       "      <th></th>\n",
       "      <th></th>\n",
       "      <th></th>\n",
       "      <th></th>\n",
       "      <th></th>\n",
       "      <th></th>\n",
       "      <th></th>\n",
       "      <th></th>\n",
       "      <th></th>\n",
       "      <th></th>\n",
       "      <th></th>\n",
       "      <th></th>\n",
       "      <th></th>\n",
       "    </tr>\n",
       "  </thead>\n",
       "  <tbody>\n",
       "    <tr>\n",
       "      <th>1</th>\n",
       "      <td>Schlussband (Bd. VI) der Jacob Burckhardt-Biog...</td>\n",
       "      <td>NaN</td>\n",
       "      <td>Kaegi Werner</td>\n",
       "      <td>Project funding (Div. I-III)</td>\n",
       "      <td>Project funding</td>\n",
       "      <td>NaN</td>\n",
       "      <td>Nicht zuteilbar - NA</td>\n",
       "      <td>10302</td>\n",
       "      <td>Swiss history</td>\n",
       "      <td>Human and Social Sciences;Theology &amp; religious...</td>\n",
       "      <td>01.10.1975</td>\n",
       "      <td>30.09.1976</td>\n",
       "      <td>11619.00</td>\n",
       "      <td>NaN</td>\n",
       "    </tr>\n",
       "    <tr>\n",
       "      <th>4</th>\n",
       "      <td>Batterie de tests à l'usage des enseignants po...</td>\n",
       "      <td>NaN</td>\n",
       "      <td>Massarenti Léonard</td>\n",
       "      <td>Project funding (Div. I-III)</td>\n",
       "      <td>Project funding</td>\n",
       "      <td>Faculté de Psychologie et des Sciences de l'Ed...</td>\n",
       "      <td>Université de Genève - GE</td>\n",
       "      <td>10104</td>\n",
       "      <td>Educational science and Pedagogy</td>\n",
       "      <td>Human and Social Sciences;Psychology, educatio...</td>\n",
       "      <td>01.10.1975</td>\n",
       "      <td>30.09.1976</td>\n",
       "      <td>41022.00</td>\n",
       "      <td>NaN</td>\n",
       "    </tr>\n",
       "    <tr>\n",
       "      <th>5</th>\n",
       "      <td>Kritische Erstausgabe der \"Evidentiae contra D...</td>\n",
       "      <td>NaN</td>\n",
       "      <td>Kommission für das Corpus philosophorum medii ...</td>\n",
       "      <td>Project funding (Div. I-III)</td>\n",
       "      <td>Project funding</td>\n",
       "      <td>Kommission für das Corpus philosophorum medii ...</td>\n",
       "      <td>NPO (Biblioth., Museen, Verwalt.) - NPO</td>\n",
       "      <td>10101</td>\n",
       "      <td>Philosophy</td>\n",
       "      <td>Human and Social Sciences;Linguistics and lite...</td>\n",
       "      <td>01.03.1976</td>\n",
       "      <td>28.02.1985</td>\n",
       "      <td>79732.00</td>\n",
       "      <td>NaN</td>\n",
       "    </tr>\n",
       "    <tr>\n",
       "      <th>6</th>\n",
       "      <td>Katalog der datierten Handschriften in der Sch...</td>\n",
       "      <td>NaN</td>\n",
       "      <td>Burckhardt Max</td>\n",
       "      <td>Project funding (Div. I-III)</td>\n",
       "      <td>Project funding</td>\n",
       "      <td>Abt. Handschriften und Alte Drucke Bibliothek ...</td>\n",
       "      <td>Universität Basel - BS</td>\n",
       "      <td>10302</td>\n",
       "      <td>Swiss history</td>\n",
       "      <td>Human and Social Sciences;Theology &amp; religious...</td>\n",
       "      <td>01.10.1975</td>\n",
       "      <td>30.09.1976</td>\n",
       "      <td>52627.00</td>\n",
       "      <td>NaN</td>\n",
       "    </tr>\n",
       "    <tr>\n",
       "      <th>7</th>\n",
       "      <td>Wissenschaftliche Mitarbeit am Thesaurus Lingu...</td>\n",
       "      <td>NaN</td>\n",
       "      <td>Schweiz. Thesauruskommission</td>\n",
       "      <td>Project funding (Div. I-III)</td>\n",
       "      <td>Project funding</td>\n",
       "      <td>Schweiz. Thesauruskommission</td>\n",
       "      <td>NPO (Biblioth., Museen, Verwalt.) - NPO</td>\n",
       "      <td>10303</td>\n",
       "      <td>Ancient history and Classical studies</td>\n",
       "      <td>Human and Social Sciences;Theology &amp; religious...</td>\n",
       "      <td>01.01.1976</td>\n",
       "      <td>30.04.1978</td>\n",
       "      <td>120042.00</td>\n",
       "      <td>NaN</td>\n",
       "    </tr>\n",
       "  </tbody>\n",
       "</table>\n",
       "</div>"
      ],
      "text/plain": [
       "                                                       Project Title  \\\n",
       "﻿\"Project Number\"                                                      \n",
       "1                  Schlussband (Bd. VI) der Jacob Burckhardt-Biog...   \n",
       "4                  Batterie de tests à l'usage des enseignants po...   \n",
       "5                  Kritische Erstausgabe der \"Evidentiae contra D...   \n",
       "6                  Katalog der datierten Handschriften in der Sch...   \n",
       "7                  Wissenschaftliche Mitarbeit am Thesaurus Lingu...   \n",
       "\n",
       "                  Project Title English  \\\n",
       "﻿\"Project Number\"                         \n",
       "1                                   NaN   \n",
       "4                                   NaN   \n",
       "5                                   NaN   \n",
       "6                                   NaN   \n",
       "7                                   NaN   \n",
       "\n",
       "                                               Responsible Applicant  \\\n",
       "﻿\"Project Number\"                                                      \n",
       "1                                                       Kaegi Werner   \n",
       "4                                                 Massarenti Léonard   \n",
       "5                  Kommission für das Corpus philosophorum medii ...   \n",
       "6                                                     Burckhardt Max   \n",
       "7                                       Schweiz. Thesauruskommission   \n",
       "\n",
       "                             Funding Instrument Funding Instrument Hierarchy  \\\n",
       "﻿\"Project Number\"                                                              \n",
       "1                  Project funding (Div. I-III)              Project funding   \n",
       "4                  Project funding (Div. I-III)              Project funding   \n",
       "5                  Project funding (Div. I-III)              Project funding   \n",
       "6                  Project funding (Div. I-III)              Project funding   \n",
       "7                  Project funding (Div. I-III)              Project funding   \n",
       "\n",
       "                                                         Institution  \\\n",
       "﻿\"Project Number\"                                                      \n",
       "1                                                                NaN   \n",
       "4                  Faculté de Psychologie et des Sciences de l'Ed...   \n",
       "5                  Kommission für das Corpus philosophorum medii ...   \n",
       "6                  Abt. Handschriften und Alte Drucke Bibliothek ...   \n",
       "7                                       Schweiz. Thesauruskommission   \n",
       "\n",
       "                                                University  Discipline Number  \\\n",
       "﻿\"Project Number\"                                                               \n",
       "1                                     Nicht zuteilbar - NA              10302   \n",
       "4                                Université de Genève - GE              10104   \n",
       "5                  NPO (Biblioth., Museen, Verwalt.) - NPO              10101   \n",
       "6                                   Universität Basel - BS              10302   \n",
       "7                  NPO (Biblioth., Museen, Verwalt.) - NPO              10303   \n",
       "\n",
       "                                         Discipline Name  \\\n",
       "﻿\"Project Number\"                                          \n",
       "1                                          Swiss history   \n",
       "4                       Educational science and Pedagogy   \n",
       "5                                             Philosophy   \n",
       "6                                          Swiss history   \n",
       "7                  Ancient history and Classical studies   \n",
       "\n",
       "                                           Discipline Name Hierarchy  \\\n",
       "﻿\"Project Number\"                                                      \n",
       "1                  Human and Social Sciences;Theology & religious...   \n",
       "4                  Human and Social Sciences;Psychology, educatio...   \n",
       "5                  Human and Social Sciences;Linguistics and lite...   \n",
       "6                  Human and Social Sciences;Theology & religious...   \n",
       "7                  Human and Social Sciences;Theology & religious...   \n",
       "\n",
       "                   Start Date    End Date Approved Amount Keywords  \n",
       "﻿\"Project Number\"                                                   \n",
       "1                  01.10.1975  30.09.1976        11619.00      NaN  \n",
       "4                  01.10.1975  30.09.1976        41022.00      NaN  \n",
       "5                  01.03.1976  28.02.1985        79732.00      NaN  \n",
       "6                  01.10.1975  30.09.1976        52627.00      NaN  \n",
       "7                  01.01.1976  30.04.1978       120042.00      NaN  "
      ]
     },
     "execution_count": 694,
     "metadata": {},
     "output_type": "execute_result"
    }
   ],
   "source": [
    "# The data was downloaded from: http://p3.snf.ch/Pages/DataAndDocumentation.aspx and store locally.\n",
    "# The downloaded csv file use semi-colons ';' as delimeter and contains\n",
    "# the column header has first row\n",
    "p3_grand = pd.read_csv(\"Data/P3_GrantExport.csv\", sep=\";\", index_col=0)\n",
    "p3_grand.head()"
   ]
  },
  {
   "cell_type": "code",
   "execution_count": 695,
   "metadata": {
    "collapsed": false
   },
   "outputs": [
    {
     "data": {
      "text/plain": [
       "True"
      ]
     },
     "execution_count": 695,
     "metadata": {},
     "output_type": "execute_result"
    }
   ],
   "source": [
    "p3_grand.index.is_unique #the project number is unique, thus we keep it as the index of our table"
   ]
  },
  {
   "cell_type": "markdown",
   "metadata": {},
   "source": [
    "The data contains 15 columns. Among these columns, there are 8 columns containing some 'NaN' values."
   ]
  },
  {
   "cell_type": "code",
   "execution_count": 696,
   "metadata": {
    "collapsed": false
   },
   "outputs": [
    {
     "data": {
      "text/plain": [
       "Project Title                   False\n",
       "Project Title English            True\n",
       "Responsible Applicant           False\n",
       "Funding Instrument              False\n",
       "Funding Instrument Hierarchy     True\n",
       "Institution                      True\n",
       "University                       True\n",
       "Discipline Number               False\n",
       "Discipline Name                 False\n",
       "Discipline Name Hierarchy        True\n",
       "Start Date                       True\n",
       "End Date                         True\n",
       "Approved Amount                 False\n",
       "Keywords                         True\n",
       "dtype: bool"
      ]
     },
     "execution_count": 696,
     "metadata": {},
     "output_type": "execute_result"
    }
   ],
   "source": [
    "p3_grand.isnull().any()"
   ]
  },
  {
   "cell_type": "markdown",
   "metadata": {},
   "source": [
    "## 2. Data filter and cleaning"
   ]
  },
  {
   "cell_type": "markdown",
   "metadata": {},
   "source": [
    "### 2.1 Column Selection\n",
    "\n",
    "In order to draw the Choropleth map, we need to have the canton locations and the grant amount from the data.<br>\n",
    "We will use column ***Institution*** and ***University*** to get canton locations later, as for the grant amount, we keep the column ***Approved Amount***."
   ]
  },
  {
   "cell_type": "code",
   "execution_count": 697,
   "metadata": {
    "collapsed": false
   },
   "outputs": [
    {
     "data": {
      "text/html": [
       "<div>\n",
       "<table border=\"1\" class=\"dataframe\">\n",
       "  <thead>\n",
       "    <tr style=\"text-align: right;\">\n",
       "      <th></th>\n",
       "      <th>Institution</th>\n",
       "      <th>University</th>\n",
       "      <th>Approved Amount</th>\n",
       "    </tr>\n",
       "    <tr>\n",
       "      <th>﻿\"Project Number\"</th>\n",
       "      <th></th>\n",
       "      <th></th>\n",
       "      <th></th>\n",
       "    </tr>\n",
       "  </thead>\n",
       "  <tbody>\n",
       "    <tr>\n",
       "      <th>1</th>\n",
       "      <td>NaN</td>\n",
       "      <td>Nicht zuteilbar - NA</td>\n",
       "      <td>11619.00</td>\n",
       "    </tr>\n",
       "    <tr>\n",
       "      <th>4</th>\n",
       "      <td>Faculté de Psychologie et des Sciences de l'Ed...</td>\n",
       "      <td>Université de Genève - GE</td>\n",
       "      <td>41022.00</td>\n",
       "    </tr>\n",
       "    <tr>\n",
       "      <th>5</th>\n",
       "      <td>Kommission für das Corpus philosophorum medii ...</td>\n",
       "      <td>NPO (Biblioth., Museen, Verwalt.) - NPO</td>\n",
       "      <td>79732.00</td>\n",
       "    </tr>\n",
       "    <tr>\n",
       "      <th>6</th>\n",
       "      <td>Abt. Handschriften und Alte Drucke Bibliothek ...</td>\n",
       "      <td>Universität Basel - BS</td>\n",
       "      <td>52627.00</td>\n",
       "    </tr>\n",
       "    <tr>\n",
       "      <th>7</th>\n",
       "      <td>Schweiz. Thesauruskommission</td>\n",
       "      <td>NPO (Biblioth., Museen, Verwalt.) - NPO</td>\n",
       "      <td>120042.00</td>\n",
       "    </tr>\n",
       "  </tbody>\n",
       "</table>\n",
       "</div>"
      ],
      "text/plain": [
       "                                                         Institution  \\\n",
       "﻿\"Project Number\"                                                      \n",
       "1                                                                NaN   \n",
       "4                  Faculté de Psychologie et des Sciences de l'Ed...   \n",
       "5                  Kommission für das Corpus philosophorum medii ...   \n",
       "6                  Abt. Handschriften und Alte Drucke Bibliothek ...   \n",
       "7                                       Schweiz. Thesauruskommission   \n",
       "\n",
       "                                                University Approved Amount  \n",
       "﻿\"Project Number\"                                                           \n",
       "1                                     Nicht zuteilbar - NA        11619.00  \n",
       "4                                Université de Genève - GE        41022.00  \n",
       "5                  NPO (Biblioth., Museen, Verwalt.) - NPO        79732.00  \n",
       "6                                   Universität Basel - BS        52627.00  \n",
       "7                  NPO (Biblioth., Museen, Verwalt.) - NPO       120042.00  "
      ]
     },
     "execution_count": 697,
     "metadata": {},
     "output_type": "execute_result"
    }
   ],
   "source": [
    "data_of_interest = p3_grand[['Institution', 'University', 'Approved Amount']]\n",
    "data_of_interest.head()"
   ]
  },
  {
   "cell_type": "markdown",
   "metadata": {},
   "source": [
    "### 2.2 Data Filtering "
   ]
  },
  {
   "cell_type": "markdown",
   "metadata": {},
   "source": [
    "#### 2.2.1 Unusable names\n",
    "Some cells in the column **University** contains the value ** Nicht zuteilbar - NA **. According to Google Translate, \"Nicht zuteilbar\" means \"Not Assignable\", which we interpret as no university could be assigned to that data. Thus we have no choice but to filter out all cells contain *Nicht zuteilbar - NA* in their **University** field.\n",
    "\n",
    "Similar problem occurs with the following values:\n",
    "<ul>\n",
    "    <li> Weitere Institute - FINST -->  *Other Institutes*</li>\n",
    "    <li> Firmen/Privatwirtschaft - F --> *Business / Private*</li>\n",
    "    <li> Weitere Spitäler - ASPIT --> *Other hospitals*</li>\n",
    "    <li> NPO (Biblioth., Museen, Verwalt.) - NPO  --> Non Profit Organisation, so no location extractable here</li>\n",
    "</ul>\n",
    "\n",
    "We will not be able to extract a canton location from these **University** or **Institution** names. Therefore, we set both of these cells to 'None' for further cleaning. \n",
    "\n",
    "NB: This step required human intervention"
   ]
  },
  {
   "cell_type": "code",
   "execution_count": 698,
   "metadata": {
    "collapsed": false
   },
   "outputs": [
    {
     "data": {
      "text/html": [
       "<div>\n",
       "<table border=\"1\" class=\"dataframe\">\n",
       "  <thead>\n",
       "    <tr style=\"text-align: right;\">\n",
       "      <th></th>\n",
       "      <th>Institution</th>\n",
       "      <th>University</th>\n",
       "      <th>Approved Amount</th>\n",
       "    </tr>\n",
       "    <tr>\n",
       "      <th>﻿\"Project Number\"</th>\n",
       "      <th></th>\n",
       "      <th></th>\n",
       "      <th></th>\n",
       "    </tr>\n",
       "  </thead>\n",
       "  <tbody>\n",
       "    <tr>\n",
       "      <th>1</th>\n",
       "      <td>NaN</td>\n",
       "      <td>None</td>\n",
       "      <td>11619.00</td>\n",
       "    </tr>\n",
       "    <tr>\n",
       "      <th>4</th>\n",
       "      <td>Faculté de Psychologie et des Sciences de l'Ed...</td>\n",
       "      <td>Université de Genève - GE</td>\n",
       "      <td>41022.00</td>\n",
       "    </tr>\n",
       "    <tr>\n",
       "      <th>5</th>\n",
       "      <td>Kommission für das Corpus philosophorum medii ...</td>\n",
       "      <td>None</td>\n",
       "      <td>79732.00</td>\n",
       "    </tr>\n",
       "    <tr>\n",
       "      <th>6</th>\n",
       "      <td>Abt. Handschriften und Alte Drucke Bibliothek ...</td>\n",
       "      <td>Universität Basel - BS</td>\n",
       "      <td>52627.00</td>\n",
       "    </tr>\n",
       "    <tr>\n",
       "      <th>7</th>\n",
       "      <td>Schweiz. Thesauruskommission</td>\n",
       "      <td>None</td>\n",
       "      <td>120042.00</td>\n",
       "    </tr>\n",
       "  </tbody>\n",
       "</table>\n",
       "</div>"
      ],
      "text/plain": [
       "                                                         Institution  \\\n",
       "﻿\"Project Number\"                                                      \n",
       "1                                                                NaN   \n",
       "4                  Faculté de Psychologie et des Sciences de l'Ed...   \n",
       "5                  Kommission für das Corpus philosophorum medii ...   \n",
       "6                  Abt. Handschriften und Alte Drucke Bibliothek ...   \n",
       "7                                       Schweiz. Thesauruskommission   \n",
       "\n",
       "                                  University Approved Amount  \n",
       "﻿\"Project Number\"                                             \n",
       "1                                       None        11619.00  \n",
       "4                  Université de Genève - GE        41022.00  \n",
       "5                                       None        79732.00  \n",
       "6                     Universität Basel - BS        52627.00  \n",
       "7                                       None       120042.00  "
      ]
     },
     "execution_count": 698,
     "metadata": {},
     "output_type": "execute_result"
    }
   ],
   "source": [
    "names_to_remove = ['Nicht zuteilbar - NA',\n",
    "                   'Weitere Institute - FINST',\n",
    "                   'Firmen/Privatwirtschaft - FP',\n",
    "                   'Weitere Spitäler - ASPIT', \n",
    "                   'NPO (Biblioth., Museen, Verwalt.) - NPO']\n",
    "\n",
    "# These values will be replaced by the 'None' value (will be remove after)\n",
    "none_values = [None] * len(names_to_remove)\n",
    "\n",
    "data_of_interest.replace(names_to_remove, none_values, inplace=True)\n",
    "data_of_interest.head()"
   ]
  },
  {
   "cell_type": "markdown",
   "metadata": {},
   "source": [
    "#### 2.2.2 Remove na values\n",
    "We can see that some row have neither *Institution* or *University* information."
   ]
  },
  {
   "cell_type": "code",
   "execution_count": 699,
   "metadata": {
    "collapsed": false
   },
   "outputs": [
    {
     "data": {
      "text/plain": [
       "Institution                            NaN\n",
       "University                             NaN\n",
       "Approved Amount    data not included in P3\n",
       "Name: 20008, dtype: object"
      ]
     },
     "execution_count": 699,
     "metadata": {},
     "output_type": "execute_result"
    }
   ],
   "source": [
    "data_of_interest.loc[20008]"
   ]
  },
  {
   "cell_type": "markdown",
   "metadata": {},
   "source": [
    "These row are therefore useless for us, so we can remove them."
   ]
  },
  {
   "cell_type": "code",
   "execution_count": 700,
   "metadata": {
    "collapsed": false
   },
   "outputs": [
    {
     "data": {
      "text/plain": [
       "(59966, 3)"
      ]
     },
     "execution_count": 700,
     "metadata": {},
     "output_type": "execute_result"
    }
   ],
   "source": [
    "# We can use the 'thresh=2' because we know that the column 'Approved Amount' doesn't contain null values.\n",
    "# Drop the row if it contains 2 na_values (NaN or None) in both column University and Institution\n",
    "data_of_interest.dropna(axis=0, how=\"all\", thresh=2, inplace=True)\n",
    "data_of_interest.shape"
   ]
  },
  {
   "cell_type": "markdown",
   "metadata": {},
   "source": [
    "Note that even if the ***University*** field is not valid, the row may be keepee, since we may be able to use the column ***Institution*** to find some locations information."
   ]
  },
  {
   "cell_type": "markdown",
   "metadata": {},
   "source": [
    "#### 2.2.3 Amount is not a string\n",
    "As seen above, the column *Approved Amount* has no null values. But it doesn't only contains number..."
   ]
  },
  {
   "cell_type": "code",
   "execution_count": 701,
   "metadata": {
    "collapsed": false
   },
   "outputs": [
    {
     "data": {
      "text/plain": [
       "count                       59966\n",
       "unique                      35482\n",
       "top       data not included in P3\n",
       "freq                        10244\n",
       "Name: Approved Amount, dtype: object"
      ]
     },
     "execution_count": 701,
     "metadata": {},
     "output_type": "execute_result"
    }
   ],
   "source": [
    "data_of_interest['Approved Amount'].describe()"
   ]
  },
  {
   "cell_type": "markdown",
   "metadata": {},
   "source": [
    "As we can see, some rows contains a string *\"data not included in P3\"*. We have no choice but to delete rows which contain this value in the **Approved Amount** column. We only keep rows where the *Approved Amount* value can be cast to numeric."
   ]
  },
  {
   "cell_type": "code",
   "execution_count": 702,
   "metadata": {
    "collapsed": false
   },
   "outputs": [
    {
     "name": "stdout",
     "output_type": "stream",
     "text": [
      "Type of 'Approved Amount' column: float64\n",
      "Any null values?  False\n"
     ]
    },
    {
     "data": {
      "text/html": [
       "<div>\n",
       "<table border=\"1\" class=\"dataframe\">\n",
       "  <thead>\n",
       "    <tr style=\"text-align: right;\">\n",
       "      <th></th>\n",
       "      <th>Institution</th>\n",
       "      <th>University</th>\n",
       "      <th>Approved Amount</th>\n",
       "    </tr>\n",
       "    <tr>\n",
       "      <th>﻿\"Project Number\"</th>\n",
       "      <th></th>\n",
       "      <th></th>\n",
       "      <th></th>\n",
       "    </tr>\n",
       "  </thead>\n",
       "  <tbody>\n",
       "    <tr>\n",
       "      <th>4</th>\n",
       "      <td>Faculté de Psychologie et des Sciences de l'Ed...</td>\n",
       "      <td>Université de Genève - GE</td>\n",
       "      <td>41022.0</td>\n",
       "    </tr>\n",
       "    <tr>\n",
       "      <th>5</th>\n",
       "      <td>Kommission für das Corpus philosophorum medii ...</td>\n",
       "      <td>None</td>\n",
       "      <td>79732.0</td>\n",
       "    </tr>\n",
       "    <tr>\n",
       "      <th>6</th>\n",
       "      <td>Abt. Handschriften und Alte Drucke Bibliothek ...</td>\n",
       "      <td>Universität Basel - BS</td>\n",
       "      <td>52627.0</td>\n",
       "    </tr>\n",
       "    <tr>\n",
       "      <th>7</th>\n",
       "      <td>Schweiz. Thesauruskommission</td>\n",
       "      <td>None</td>\n",
       "      <td>120042.0</td>\n",
       "    </tr>\n",
       "    <tr>\n",
       "      <th>8</th>\n",
       "      <td>Séminaire de politique économique, d'économie ...</td>\n",
       "      <td>Université de Fribourg - FR</td>\n",
       "      <td>53009.0</td>\n",
       "    </tr>\n",
       "  </tbody>\n",
       "</table>\n",
       "</div>"
      ],
      "text/plain": [
       "                                                         Institution  \\\n",
       "﻿\"Project Number\"                                                      \n",
       "4                  Faculté de Psychologie et des Sciences de l'Ed...   \n",
       "5                  Kommission für das Corpus philosophorum medii ...   \n",
       "6                  Abt. Handschriften und Alte Drucke Bibliothek ...   \n",
       "7                                       Schweiz. Thesauruskommission   \n",
       "8                  Séminaire de politique économique, d'économie ...   \n",
       "\n",
       "                                    University  Approved Amount  \n",
       "﻿\"Project Number\"                                                \n",
       "4                    Université de Genève - GE          41022.0  \n",
       "5                                         None          79732.0  \n",
       "6                       Universität Basel - BS          52627.0  \n",
       "7                                         None         120042.0  \n",
       "8                  Université de Fribourg - FR          53009.0  "
      ]
     },
     "execution_count": 702,
     "metadata": {},
     "output_type": "execute_result"
    }
   ],
   "source": [
    "# The \"errors=coerce\" will replace all values that cannot be cast to numeric by a null value.\n",
    "# So we simply need to get ride of all these null values\n",
    "data_of_interest['Approved Amount'] = pd.to_numeric(data_of_interest['Approved Amount'], errors=\"coerce\")\n",
    "missing_amount = data_of_interest['Approved Amount'].isnull()\n",
    "data_clean = data_of_interest[~ missing_amount]\n",
    "\n",
    "print(\"Type of 'Approved Amount' column:\", data_clean['Approved Amount'].dtypes)\n",
    "print(\"Any null values? \",data_clean['Approved Amount'].isnull().any())\n",
    "data_clean.head()"
   ]
  },
  {
   "cell_type": "code",
   "execution_count": 703,
   "metadata": {
    "collapsed": false
   },
   "outputs": [
    {
     "data": {
      "text/plain": [
       "(49722, 3)"
      ]
     },
     "execution_count": 703,
     "metadata": {},
     "output_type": "execute_result"
    }
   ],
   "source": [
    "data_clean.shape"
   ]
  },
  {
   "cell_type": "markdown",
   "metadata": {},
   "source": [
    "## 3. Add \"Canton\" information "
   ]
  },
  {
   "cell_type": "markdown",
   "metadata": {},
   "source": [
    "Based on the **Institution** and **University** information, we will try to find the corresponding **Canton** information for each row."
   ]
  },
  {
   "cell_type": "code",
   "execution_count": 704,
   "metadata": {
    "collapsed": false
   },
   "outputs": [
    {
     "name": "stdout",
     "output_type": "stream",
     "text": [
      "Total: 46194\n"
     ]
    },
    {
     "data": {
      "text/plain": [
       "University\n",
       "Universität Zürich - ZH                               6754\n",
       "Université de Genève - GE                             6379\n",
       "ETH Zürich - ETHZ                                     6143\n",
       "Universität Bern - BE                                 5460\n",
       "Universität Basel - BS                                4737\n",
       "EPF Lausanne - EPFL                                   4406\n",
       "Université de Lausanne - LA                           4090\n",
       "Université de Fribourg - FR                           2078\n",
       "Université de Neuchâtel - NE                          1589\n",
       "Paul Scherrer Institut - PSI                           537\n",
       "Universität St. Gallen - SG                            426\n",
       "Università della Svizzera italiana - USI               346\n",
       "Eidg. Anstalt für Wasserversorgung - EAWAG             333\n",
       "HES de Suisse occidentale - HES-SO                     271\n",
       "Zürcher Fachhochschule (ohne PH) - ZFH                 260\n",
       "Eidg. Material und Prüfungsanstalt - EMPA              238\n",
       "Fachhochschule Nordwestschweiz (ohne PH) - FHNW        225\n",
       "Eidg. Forschungsanstalt für Wald,Schnee,Land - WSL     223\n",
       "Universität Luzern - LU                                214\n",
       "Inst. de Hautes Etudes Internat. et du Dév - IHEID     198\n",
       "Berner Fachhochschule - BFH                            136\n",
       "Forschungsanstalten Agroscope - AGS                    135\n",
       "SUP della Svizzera italiana - SUPSI                    135\n",
       "Friedrich Miescher Institute - FMI                      84\n",
       "Idiap Research Institute - IDIAP                        82\n",
       "Hochschule Luzern - HSLU                                62\n",
       "Physikal.-Meteorolog. Observatorium Davos - PMOD        48\n",
       "Kantonsspital St. Gallen - KSPSG                        48\n",
       "Allergie- und Asthmaforschung - SIAF                    44\n",
       "Inst. universit. romand de Santé au Travail - IST       35\n",
       "                                                      ... \n",
       "Haute école pédagogique du canton de Vaud - HEPL        16\n",
       "Forschungsinstitut für Opthalmologie - IRO              14\n",
       "Pädagogische Hochschule Luzern - PHLU                   14\n",
       "Pädagogische Hochschule St. Gallen - PHSG               13\n",
       "Pädagogische Hochschule Bern - PHBern                   13\n",
       "Eidg. Hochschulinstitut für Berufsbildung - EHB         12\n",
       "Institut für Kulturforschung Graubünden - IKG           12\n",
       "Schweizer Paraplegiker Forschung - SPF                  10\n",
       "Centre de rech. sur l'environnement alpin - CREALP       8\n",
       "Biotechnologie Institut Thurgau - BITG                   8\n",
       "Haute école pédagogique fribourgeoise - HEPFR            7\n",
       "Pädagogische Hochschule Graubünden - PHGR                7\n",
       "Pädagogische Hochschule Zug - PHZG                       7\n",
       "Haute école pédagogique BE, JU, NE - HEPBEJUNE           7\n",
       "Pädagogische Hochschule Thurgau - PHTG                   6\n",
       "Robert Walser-Stiftung Bern - RWS                        6\n",
       "Istituto Svizzero di Roma - ISR                          6\n",
       "Franklin University Switzerland - FUS                    6\n",
       "Instituto Ricerche Solari Locarno - IRSOL                5\n",
       "Pädagogische Hochschule Schwyz - PHSZ                    5\n",
       "Fachhochschule Kalaidos - FHKD                           3\n",
       "Inst. Suisse de Spéléologie et Karstologie - ISSKA       3\n",
       "Staatsunabh. Theologische Hochschule Basel - STHB        3\n",
       "Facoltà di Teologia di Lugano - FTL                      2\n",
       "Pädagogische Hochschule Wallis - PHVS                    2\n",
       "Schweiz. Hochschule für Logopädie Rorschach - SHLR       2\n",
       "Pädag. Hochschule Tessin (Teilschule SUPSI) - ASP        2\n",
       "Fernfachhochschule Schweiz (Mitglied SUPSI) - FFHS       1\n",
       "Forschungskommission SAGW                                1\n",
       "Pädagogische Hochschule Schaffhausen - PHSH              1\n",
       "dtype: int64"
      ]
     },
     "execution_count": 704,
     "metadata": {},
     "output_type": "execute_result"
    }
   ],
   "source": [
    "# The list of Universities with the corresponding number of entries\n",
    "a = data_clean.groupby('University').size()\n",
    "print(\"Total:\", a.sum())\n",
    "a.sort_values(ascending=False)"
   ]
  },
  {
   "cell_type": "markdown",
   "metadata": {},
   "source": [
    "### 3.0 Retrieving Canton names\n",
    "\n",
    "Based on the json file we will use later on with Folium map, we create an array with all cantons of Switzerland."
   ]
  },
  {
   "cell_type": "code",
   "execution_count": 705,
   "metadata": {
    "collapsed": false
   },
   "outputs": [
    {
     "data": {
      "text/plain": [
       "[['ZH', 'Zürich'],\n",
       " ['BE', 'Bern', 'Berne'],\n",
       " ['LU', 'Luzern'],\n",
       " ['UR', 'Uri'],\n",
       " ['SZ', 'Schwyz'],\n",
       " ['OW', 'Obwalden'],\n",
       " ['NW', 'Nidwalden'],\n",
       " ['GL', 'Glarus'],\n",
       " ['ZG', 'Zug'],\n",
       " ['FR', 'Fribourg'],\n",
       " ['SO', 'Solothurn'],\n",
       " ['BS', 'Basel-Stadt'],\n",
       " ['BL', 'Basel-Landschaft'],\n",
       " ['SH', 'Schaffhausen'],\n",
       " ['AR', 'Appenzell Ausserrhoden'],\n",
       " ['AI', 'Appenzell Innerrhoden'],\n",
       " ['SG', 'St. Gallen'],\n",
       " ['GR', 'Graubünden', 'Grigioni'],\n",
       " ['AG', 'Aargau'],\n",
       " ['TG', 'Thurgau'],\n",
       " ['TI', 'Ticino'],\n",
       " ['VD', 'Vaud'],\n",
       " ['VS', 'Valais', 'Wallis'],\n",
       " ['NE', 'Neuchâtel'],\n",
       " ['GE', 'Genève'],\n",
       " ['JU', 'Jura']]"
      ]
     },
     "execution_count": 705,
     "metadata": {},
     "output_type": "execute_result"
    }
   ],
   "source": [
    "with open('Data/ch-cantons.topojson.json') as data_file:    \n",
    "    data = json.load(data_file)\n",
    "    \n",
    "# Canton_data will contain the canton code (two letters) and the canton name. \n",
    "# In case of a bilingual canton, we store the name in two language (e.g. French and german)\n",
    "canton_data = []\n",
    "\n",
    "for i in range(len(data[\"objects\"]['cantons']['geometries'])):\n",
    "    canton = []\n",
    "    \n",
    "    # canton code\n",
    "    canton.append(data[\"objects\"]['cantons']['geometries'][i]['id'])\n",
    "    \n",
    "    # canton name\n",
    "    name = data[\"objects\"]['cantons']['geometries'][i]['properties']['name']\n",
    "    name=name.split('/')\n",
    "    canton.append(name[0])\n",
    "    \n",
    "    if (len(name) > 1): # if bilingual canton\n",
    "        canton.append(name[1])\n",
    "    \n",
    "    # Add to general array\n",
    "    canton_data.append(canton)\n",
    "    \n",
    "\n",
    "canton_data"
   ]
  },
  {
   "cell_type": "markdown",
   "metadata": {},
   "source": [
    "### 3.1 Retrieve Canton based on University column\n",
    "First, we will use the **University** field to try to retrieve it's **Canton** information.\n",
    "We start by creating a Dataframe with all Universitiy names as the index."
   ]
  },
  {
   "cell_type": "code",
   "execution_count": 706,
   "metadata": {
    "collapsed": false
   },
   "outputs": [
    {
     "data": {
      "text/html": [
       "<div>\n",
       "<table border=\"1\" class=\"dataframe\">\n",
       "  <thead>\n",
       "    <tr style=\"text-align: right;\">\n",
       "      <th></th>\n",
       "      <th>University</th>\n",
       "    </tr>\n",
       "    <tr>\n",
       "      <th>University</th>\n",
       "      <th></th>\n",
       "    </tr>\n",
       "  </thead>\n",
       "  <tbody>\n",
       "    <tr>\n",
       "      <th>Université de Genève - GE</th>\n",
       "      <td>Université de Genève - GE</td>\n",
       "    </tr>\n",
       "    <tr>\n",
       "      <th>NaN</th>\n",
       "      <td>None</td>\n",
       "    </tr>\n",
       "    <tr>\n",
       "      <th>Universität Basel - BS</th>\n",
       "      <td>Universität Basel - BS</td>\n",
       "    </tr>\n",
       "    <tr>\n",
       "      <th>Université de Fribourg - FR</th>\n",
       "      <td>Université de Fribourg - FR</td>\n",
       "    </tr>\n",
       "    <tr>\n",
       "      <th>Universität Zürich - ZH</th>\n",
       "      <td>Universität Zürich - ZH</td>\n",
       "    </tr>\n",
       "  </tbody>\n",
       "</table>\n",
       "</div>"
      ],
      "text/plain": [
       "                                              University\n",
       "University                                              \n",
       "Université de Genève - GE      Université de Genève - GE\n",
       "NaN                                                 None\n",
       "Universität Basel - BS            Universität Basel - BS\n",
       "Université de Fribourg - FR  Université de Fribourg - FR\n",
       "Universität Zürich - ZH          Universität Zürich - ZH"
      ]
     },
     "execution_count": 706,
     "metadata": {},
     "output_type": "execute_result"
    }
   ],
   "source": [
    "df = pd.DataFrame()\n",
    "df['University'] = data_clean.University.unique()\n",
    "df.index = df['University']\n",
    "df.head()"
   ]
  },
  {
   "cell_type": "markdown",
   "metadata": {},
   "source": [
    "Some of these university value are compose of two parts (separate by an hypen): ***University Name*** and ***University \"Code\"***.\n",
    "Therefore we split each of these values. If no split possible, set *University Code* to *None*"
   ]
  },
  {
   "cell_type": "code",
   "execution_count": 707,
   "metadata": {
    "collapsed": false
   },
   "outputs": [
    {
     "data": {
      "text/html": [
       "<div>\n",
       "<table border=\"1\" class=\"dataframe\">\n",
       "  <thead>\n",
       "    <tr style=\"text-align: right;\">\n",
       "      <th></th>\n",
       "      <th>University</th>\n",
       "      <th>University Name</th>\n",
       "      <th>University Code</th>\n",
       "    </tr>\n",
       "    <tr>\n",
       "      <th>University</th>\n",
       "      <th></th>\n",
       "      <th></th>\n",
       "      <th></th>\n",
       "    </tr>\n",
       "  </thead>\n",
       "  <tbody>\n",
       "    <tr>\n",
       "      <th>Université de Genève - GE</th>\n",
       "      <td>Université de Genève - GE</td>\n",
       "      <td>Université de Genève</td>\n",
       "      <td>GE</td>\n",
       "    </tr>\n",
       "    <tr>\n",
       "      <th>NaN</th>\n",
       "      <td>None</td>\n",
       "      <td>**Institution**</td>\n",
       "      <td>**Institution**</td>\n",
       "    </tr>\n",
       "    <tr>\n",
       "      <th>Universität Basel - BS</th>\n",
       "      <td>Universität Basel - BS</td>\n",
       "      <td>Universität Basel</td>\n",
       "      <td>BS</td>\n",
       "    </tr>\n",
       "    <tr>\n",
       "      <th>Université de Fribourg - FR</th>\n",
       "      <td>Université de Fribourg - FR</td>\n",
       "      <td>Université de Fribourg</td>\n",
       "      <td>FR</td>\n",
       "    </tr>\n",
       "    <tr>\n",
       "      <th>Universität Zürich - ZH</th>\n",
       "      <td>Universität Zürich - ZH</td>\n",
       "      <td>Universität Zürich</td>\n",
       "      <td>ZH</td>\n",
       "    </tr>\n",
       "  </tbody>\n",
       "</table>\n",
       "</div>"
      ],
      "text/plain": [
       "                                              University  \\\n",
       "University                                                 \n",
       "Université de Genève - GE      Université de Genève - GE   \n",
       "NaN                                                 None   \n",
       "Universität Basel - BS            Universität Basel - BS   \n",
       "Université de Fribourg - FR  Université de Fribourg - FR   \n",
       "Universität Zürich - ZH          Universität Zürich - ZH   \n",
       "\n",
       "                                     University Name  University Code  \n",
       "University                                                             \n",
       "Université de Genève - GE      Université de Genève                GE  \n",
       "NaN                                  **Institution**  **Institution**  \n",
       "Universität Basel - BS            Universität Basel                BS  \n",
       "Université de Fribourg - FR  Université de Fribourg                FR  \n",
       "Universität Zürich - ZH          Universität Zürich                ZH  "
      ]
     },
     "execution_count": 707,
     "metadata": {},
     "output_type": "execute_result"
    }
   ],
   "source": [
    "institution = \"**Institution**\"\n",
    "no_value = \"**no_value\"\n",
    "\n",
    "df['University Name'] = None\n",
    "df['University Code'] = None\n",
    "\n",
    "# interate through the rows and split the university cell if possible\n",
    "for index, row in df.iterrows():\n",
    "    \n",
    "    x = row.University\n",
    "    if x == x and x: # Assert x is not Nan nor None\n",
    "        try:\n",
    "            a,b = x.split('-')\n",
    "        except:\n",
    "            a,b = x,no_value\n",
    "    else:\n",
    "        # x is NaN, but the 'Instition' value is not!\n",
    "        a = b = institution\n",
    "    \n",
    "    row['University Name'] = a\n",
    "    row['University Code'] = b\n",
    "        \n",
    "df.head()"
   ]
  },
  {
   "cell_type": "markdown",
   "metadata": {},
   "source": [
    "#### With GeoNames\n",
    "Now we try to use **GeoNames** API to search and retrieve canton information for each University."
   ]
  },
  {
   "cell_type": "code",
   "execution_count": 708,
   "metadata": {
    "collapsed": false
   },
   "outputs": [],
   "source": [
    "geonames_url = 'http://api.geonames.org/search?q='\n",
    "geonames_url_param = '&country=CH&maxRows=1&username=epfl_interactive_viz&type=json'\n",
    "\n",
    "def getCanton(name):\n",
    "    \"\"\" Retrieve the Canton information for a given place\n",
    "    \n",
    "        @param name: place's name. Must be in Switzerland\n",
    "        \n",
    "        @return The canton's string if found or False, otherwise.\n",
    "    \"\"\"\n",
    "    \n",
    "    url = geonames_url + name + geonames_url_param\n",
    "    query = parse.quote(url, safe=':/&=?')\n",
    "    js = json.loads(requests.get(query).text)\n",
    "\n",
    "    try:\n",
    "        # Canton information is stored under 'adminCode1' in the JSON given by GeoNames\n",
    "        return [ js['geonames'][0]['adminCode1'], js['geonames'][0]['lng'], js['geonames'][0]['lat'] ]\n",
    "    except:\n",
    "        return False"
   ]
  },
  {
   "cell_type": "markdown",
   "metadata": {},
   "source": [
    "First we try to find the canton information with the *University Name* information. If *GeoNames* isn't helpful, we try again, but with the ***University Code*** information."
   ]
  },
  {
   "cell_type": "code",
   "execution_count": 709,
   "metadata": {
    "collapsed": false
   },
   "outputs": [
    {
     "data": {
      "text/html": [
       "<div>\n",
       "<table border=\"1\" class=\"dataframe\">\n",
       "  <thead>\n",
       "    <tr style=\"text-align: right;\">\n",
       "      <th></th>\n",
       "      <th>University</th>\n",
       "      <th>University Name</th>\n",
       "      <th>University Code</th>\n",
       "      <th>Canton</th>\n",
       "      <th>Lng</th>\n",
       "      <th>Lat</th>\n",
       "    </tr>\n",
       "    <tr>\n",
       "      <th>University</th>\n",
       "      <th></th>\n",
       "      <th></th>\n",
       "      <th></th>\n",
       "      <th></th>\n",
       "      <th></th>\n",
       "      <th></th>\n",
       "    </tr>\n",
       "  </thead>\n",
       "  <tbody>\n",
       "    <tr>\n",
       "      <th>Université de Genève - GE</th>\n",
       "      <td>Université de Genève - GE</td>\n",
       "      <td>Université de Genève</td>\n",
       "      <td>GE</td>\n",
       "      <td>GE</td>\n",
       "      <td>6.14569</td>\n",
       "      <td>46.20222</td>\n",
       "    </tr>\n",
       "    <tr>\n",
       "      <th>NaN</th>\n",
       "      <td>None</td>\n",
       "      <td>**Institution**</td>\n",
       "      <td>**Institution**</td>\n",
       "      <td>None</td>\n",
       "      <td>None</td>\n",
       "      <td>None</td>\n",
       "    </tr>\n",
       "    <tr>\n",
       "      <th>Universität Basel - BS</th>\n",
       "      <td>Universität Basel - BS</td>\n",
       "      <td>Universität Basel</td>\n",
       "      <td>BS</td>\n",
       "      <td>BS</td>\n",
       "      <td>7.58403</td>\n",
       "      <td>47.55832</td>\n",
       "    </tr>\n",
       "    <tr>\n",
       "      <th>Université de Fribourg - FR</th>\n",
       "      <td>Université de Fribourg - FR</td>\n",
       "      <td>Université de Fribourg</td>\n",
       "      <td>FR</td>\n",
       "      <td>FR</td>\n",
       "      <td>7.15317</td>\n",
       "      <td>46.80683</td>\n",
       "    </tr>\n",
       "    <tr>\n",
       "      <th>Universität Zürich - ZH</th>\n",
       "      <td>Universität Zürich - ZH</td>\n",
       "      <td>Universität Zürich</td>\n",
       "      <td>ZH</td>\n",
       "      <td>ZH</td>\n",
       "      <td>8.53434</td>\n",
       "      <td>47.37092</td>\n",
       "    </tr>\n",
       "  </tbody>\n",
       "</table>\n",
       "</div>"
      ],
      "text/plain": [
       "                                              University  \\\n",
       "University                                                 \n",
       "Université de Genève - GE      Université de Genève - GE   \n",
       "NaN                                                 None   \n",
       "Universität Basel - BS            Universität Basel - BS   \n",
       "Université de Fribourg - FR  Université de Fribourg - FR   \n",
       "Universität Zürich - ZH          Universität Zürich - ZH   \n",
       "\n",
       "                                     University Name  University Code Canton  \\\n",
       "University                                                                     \n",
       "Université de Genève - GE      Université de Genève                GE     GE   \n",
       "NaN                                  **Institution**  **Institution**   None   \n",
       "Universität Basel - BS            Universität Basel                BS     BS   \n",
       "Université de Fribourg - FR  Université de Fribourg                FR     FR   \n",
       "Universität Zürich - ZH          Universität Zürich                ZH     ZH   \n",
       "\n",
       "                                 Lng       Lat  \n",
       "University                                      \n",
       "Université de Genève - GE    6.14569  46.20222  \n",
       "NaN                             None      None  \n",
       "Universität Basel - BS       7.58403  47.55832  \n",
       "Université de Fribourg - FR  7.15317  46.80683  \n",
       "Universität Zürich - ZH      8.53434  47.37092  "
      ]
     },
     "execution_count": 709,
     "metadata": {},
     "output_type": "execute_result"
    }
   ],
   "source": [
    "# Add new columns to df\n",
    "df['Canton'] = None\n",
    "df['Lng'] = None\n",
    "df['Lat'] = None\n",
    "\n",
    "for index, row in df.iterrows():\n",
    "    name = row['University Name']\n",
    "    code = row['University Code']\n",
    "    \n",
    "    info = getCanton(row['University Name'])\n",
    "    if not info: # Geonames with the 'University Name' returns false\n",
    "        info = getCanton(row['University Code']) # Try to retrieve with the 'University Code'\n",
    "    \n",
    "    if info: # If Canton is not null\n",
    "        row['Canton'] = info[0]\n",
    "        row['Lng'] = info[1]\n",
    "        row['Lat'] = info[2]\n",
    "        \n",
    "df.head()"
   ]
  },
  {
   "cell_type": "markdown",
   "metadata": {},
   "source": [
    "#### Based on University Name\n",
    "\n",
    "Some University contain, in their title, the name of the canton they are located in. For the ones Geonames wasn't useful, we try to use the information retrieve previously from the json file to map some more canton."
   ]
  },
  {
   "cell_type": "code",
   "execution_count": 710,
   "metadata": {
    "collapsed": false
   },
   "outputs": [],
   "source": [
    "def canton_in_name(row, columnToCheck):\n",
    "    \"\"\"\n",
    "        Fill the 'Canton' field if the columnToCheck contains it.\n",
    "        \n",
    "        @param row - Row of the dataframe\n",
    "        @param columnToCheck - Institution or University\n",
    "        \n",
    "        @Return: Canton code if found, nothing otw\n",
    "    \"\"\"\n",
    "\n",
    "    # If there is already a canton map, return it\n",
    "    if row.Canton != None:\n",
    "        return row.Canton\n",
    "    \n",
    "    \n",
    "    x = row[columnToCheck]\n",
    "\n",
    "    # Some rows may have NA value in the University field.\n",
    "    if x==None or x!=x:\n",
    "        return\n",
    "    \n",
    "    else:\n",
    "        # we have a string to search if the data contain necessary information\n",
    "        for c in canton_data:\n",
    "            if c[1] in x:\n",
    "                return c[0]\n",
    "            else:\n",
    "                # For bilingual cantons\n",
    "                if len(c) > 2 and c[2] in x:\n",
    "                    return c[0]\n",
    "            \n",
    "            \n",
    "df['Canton'] = df.apply(canton_in_name, axis=1, args=[\"University\"])"
   ]
  },
  {
   "cell_type": "markdown",
   "metadata": {},
   "source": [
    "#### Merge Canton into Dataframe\n",
    "\n",
    "Now that we have the canton information retrieved with *GeoNames* for somes Universities, we can create the column **Canton** in our data."
   ]
  },
  {
   "cell_type": "code",
   "execution_count": 711,
   "metadata": {
    "collapsed": false
   },
   "outputs": [
    {
     "data": {
      "text/html": [
       "<div>\n",
       "<table border=\"1\" class=\"dataframe\">\n",
       "  <thead>\n",
       "    <tr style=\"text-align: right;\">\n",
       "      <th></th>\n",
       "      <th>Institution</th>\n",
       "      <th>University</th>\n",
       "      <th>Approved Amount</th>\n",
       "      <th>Canton</th>\n",
       "    </tr>\n",
       "    <tr>\n",
       "      <th>﻿\"Project Number\"</th>\n",
       "      <th></th>\n",
       "      <th></th>\n",
       "      <th></th>\n",
       "      <th></th>\n",
       "    </tr>\n",
       "  </thead>\n",
       "  <tbody>\n",
       "    <tr>\n",
       "      <th>4</th>\n",
       "      <td>Faculté de Psychologie et des Sciences de l'Ed...</td>\n",
       "      <td>Université de Genève - GE</td>\n",
       "      <td>41022.0</td>\n",
       "      <td>GE</td>\n",
       "    </tr>\n",
       "    <tr>\n",
       "      <th>5</th>\n",
       "      <td>Kommission für das Corpus philosophorum medii ...</td>\n",
       "      <td>None</td>\n",
       "      <td>79732.0</td>\n",
       "      <td>None</td>\n",
       "    </tr>\n",
       "    <tr>\n",
       "      <th>6</th>\n",
       "      <td>Abt. Handschriften und Alte Drucke Bibliothek ...</td>\n",
       "      <td>Universität Basel - BS</td>\n",
       "      <td>52627.0</td>\n",
       "      <td>BS</td>\n",
       "    </tr>\n",
       "    <tr>\n",
       "      <th>7</th>\n",
       "      <td>Schweiz. Thesauruskommission</td>\n",
       "      <td>None</td>\n",
       "      <td>120042.0</td>\n",
       "      <td>None</td>\n",
       "    </tr>\n",
       "    <tr>\n",
       "      <th>8</th>\n",
       "      <td>Séminaire de politique économique, d'économie ...</td>\n",
       "      <td>Université de Fribourg - FR</td>\n",
       "      <td>53009.0</td>\n",
       "      <td>FR</td>\n",
       "    </tr>\n",
       "  </tbody>\n",
       "</table>\n",
       "</div>"
      ],
      "text/plain": [
       "                                                         Institution  \\\n",
       "﻿\"Project Number\"                                                      \n",
       "4                  Faculté de Psychologie et des Sciences de l'Ed...   \n",
       "5                  Kommission für das Corpus philosophorum medii ...   \n",
       "6                  Abt. Handschriften und Alte Drucke Bibliothek ...   \n",
       "7                                       Schweiz. Thesauruskommission   \n",
       "8                  Séminaire de politique économique, d'économie ...   \n",
       "\n",
       "                                    University  Approved Amount Canton  \n",
       "﻿\"Project Number\"                                                       \n",
       "4                    Université de Genève - GE          41022.0     GE  \n",
       "5                                         None          79732.0   None  \n",
       "6                       Universität Basel - BS          52627.0     BS  \n",
       "7                                         None         120042.0   None  \n",
       "8                  Université de Fribourg - FR          53009.0     FR  "
      ]
     },
     "execution_count": 711,
     "metadata": {},
     "output_type": "execute_result"
    }
   ],
   "source": [
    "data_clean['Canton'] = None\n",
    "\n",
    "for row in data_clean.itertuples():\n",
    "    if row.University == row.University: # Assert that University is not null or NaN\n",
    "        aa = df.loc[row.University, 'Canton']\n",
    "        data_clean.set_value(row.Index,'Canton',aa)\n",
    "        \n",
    "data_clean.head()"
   ]
  },
  {
   "cell_type": "markdown",
   "metadata": {},
   "source": [
    "After this first step, we have 89.21% of canton information found."
   ]
  },
  {
   "cell_type": "code",
   "execution_count": 712,
   "metadata": {
    "collapsed": false
   },
   "outputs": [
    {
     "data": {
      "text/plain": [
       "0.8921201882466514"
      ]
     },
     "execution_count": 712,
     "metadata": {},
     "output_type": "execute_result"
    }
   ],
   "source": [
    "1 - data_clean.Canton.isnull().sum() / data_clean.shape[0]"
   ]
  },
  {
   "cell_type": "markdown",
   "metadata": {},
   "source": [
    "### 3.2 Retrieve Canton based on Institution \n",
    "\n",
    "We still haven't use the ***Institution*** column: it's time to do so!\n",
    "As we have tried to check in the canton information was contained in the university name, we will check if the instution name can help us."
   ]
  },
  {
   "cell_type": "code",
   "execution_count": 713,
   "metadata": {
    "collapsed": false
   },
   "outputs": [
    {
     "data": {
      "text/plain": [
       "(5364, 4)"
      ]
     },
     "execution_count": 713,
     "metadata": {},
     "output_type": "execute_result"
    }
   ],
   "source": [
    "data_clean[data_clean.Canton.isnull()].shape"
   ]
  },
  {
   "cell_type": "code",
   "execution_count": 714,
   "metadata": {
    "collapsed": false
   },
   "outputs": [],
   "source": [
    "# Try to retrieve more canton information based on the institution column.\n",
    "data_clean['Canton'] = data_clean.apply(canton_in_name, axis=1, args=[\"Institution\"])"
   ]
  },
  {
   "cell_type": "code",
   "execution_count": 715,
   "metadata": {
    "collapsed": false
   },
   "outputs": [
    {
     "data": {
      "text/plain": [
       "0.91150798439322633"
      ]
     },
     "execution_count": 715,
     "metadata": {},
     "output_type": "execute_result"
    }
   ],
   "source": [
    "1 - data_clean.Canton.isnull().sum() / data_clean.shape[0]"
   ]
  },
  {
   "cell_type": "markdown",
   "metadata": {},
   "source": [
    "Without manually map university with cities, we achieve 91.15 %."
   ]
  },
  {
   "cell_type": "markdown",
   "metadata": {},
   "source": [
    "### 3.3 Remove empty 'University'\n",
    "Now, if we decided to get ride off all rows where we have not information about the university, we have 96.32%."
   ]
  },
  {
   "cell_type": "code",
   "execution_count": 716,
   "metadata": {
    "collapsed": false
   },
   "outputs": [
    {
     "data": {
      "text/plain": [
       "0.96322033164480236"
      ]
     },
     "execution_count": 716,
     "metadata": {},
     "output_type": "execute_result"
    }
   ],
   "source": [
    "data_clean = data_clean[~ data_clean.University.isnull()]\n",
    "1 - data_clean.Canton.isnull().sum() / data_clean.shape[0]"
   ]
  },
  {
   "cell_type": "markdown",
   "metadata": {},
   "source": [
    "### 3.4 Total Approved Amount per Canton\n",
    "\n",
    "Groupby Cantons and sum up the Approved amount"
   ]
  },
  {
   "cell_type": "code",
   "execution_count": 717,
   "metadata": {
    "collapsed": false
   },
   "outputs": [
    {
     "data": {
      "text/html": [
       "<div>\n",
       "<table border=\"1\" class=\"dataframe\">\n",
       "  <thead>\n",
       "    <tr style=\"text-align: right;\">\n",
       "      <th></th>\n",
       "      <th>Approved Amount</th>\n",
       "      <th>Canton</th>\n",
       "    </tr>\n",
       "    <tr>\n",
       "      <th>Canton</th>\n",
       "      <th></th>\n",
       "      <th></th>\n",
       "    </tr>\n",
       "  </thead>\n",
       "  <tbody>\n",
       "    <tr>\n",
       "      <th>AG</th>\n",
       "      <td>1.154283e+08</td>\n",
       "      <td>AG</td>\n",
       "    </tr>\n",
       "    <tr>\n",
       "      <th>BE</th>\n",
       "      <td>1.553549e+09</td>\n",
       "      <td>BE</td>\n",
       "    </tr>\n",
       "    <tr>\n",
       "      <th>BL</th>\n",
       "      <td>4.277191e+07</td>\n",
       "      <td>BL</td>\n",
       "    </tr>\n",
       "    <tr>\n",
       "      <th>BS</th>\n",
       "      <td>1.352251e+09</td>\n",
       "      <td>BS</td>\n",
       "    </tr>\n",
       "    <tr>\n",
       "      <th>FR</th>\n",
       "      <td>4.582758e+08</td>\n",
       "      <td>FR</td>\n",
       "    </tr>\n",
       "    <tr>\n",
       "      <th>GE</th>\n",
       "      <td>1.850195e+09</td>\n",
       "      <td>GE</td>\n",
       "    </tr>\n",
       "    <tr>\n",
       "      <th>GR</th>\n",
       "      <td>1.834294e+06</td>\n",
       "      <td>GR</td>\n",
       "    </tr>\n",
       "    <tr>\n",
       "      <th>LU</th>\n",
       "      <td>5.492469e+07</td>\n",
       "      <td>LU</td>\n",
       "    </tr>\n",
       "    <tr>\n",
       "      <th>NE</th>\n",
       "      <td>3.832104e+08</td>\n",
       "      <td>NE</td>\n",
       "    </tr>\n",
       "    <tr>\n",
       "      <th>SG</th>\n",
       "      <td>8.828642e+07</td>\n",
       "      <td>SG</td>\n",
       "    </tr>\n",
       "    <tr>\n",
       "      <th>SH</th>\n",
       "      <td>1.766910e+05</td>\n",
       "      <td>SH</td>\n",
       "    </tr>\n",
       "    <tr>\n",
       "      <th>SZ</th>\n",
       "      <td>9.365510e+05</td>\n",
       "      <td>SZ</td>\n",
       "    </tr>\n",
       "    <tr>\n",
       "      <th>TG</th>\n",
       "      <td>4.018981e+06</td>\n",
       "      <td>TG</td>\n",
       "    </tr>\n",
       "    <tr>\n",
       "      <th>TI</th>\n",
       "      <td>2.404008e+07</td>\n",
       "      <td>TI</td>\n",
       "    </tr>\n",
       "    <tr>\n",
       "      <th>VD</th>\n",
       "      <td>2.361789e+09</td>\n",
       "      <td>VD</td>\n",
       "    </tr>\n",
       "    <tr>\n",
       "      <th>VS</th>\n",
       "      <td>5.525840e+06</td>\n",
       "      <td>VS</td>\n",
       "    </tr>\n",
       "    <tr>\n",
       "      <th>ZG</th>\n",
       "      <td>4.957150e+05</td>\n",
       "      <td>ZG</td>\n",
       "    </tr>\n",
       "    <tr>\n",
       "      <th>ZH</th>\n",
       "      <td>3.649136e+09</td>\n",
       "      <td>ZH</td>\n",
       "    </tr>\n",
       "  </tbody>\n",
       "</table>\n",
       "</div>"
      ],
      "text/plain": [
       "        Approved Amount Canton\n",
       "Canton                        \n",
       "AG         1.154283e+08     AG\n",
       "BE         1.553549e+09     BE\n",
       "BL         4.277191e+07     BL\n",
       "BS         1.352251e+09     BS\n",
       "FR         4.582758e+08     FR\n",
       "GE         1.850195e+09     GE\n",
       "GR         1.834294e+06     GR\n",
       "LU         5.492469e+07     LU\n",
       "NE         3.832104e+08     NE\n",
       "SG         8.828642e+07     SG\n",
       "SH         1.766910e+05     SH\n",
       "SZ         9.365510e+05     SZ\n",
       "TG         4.018981e+06     TG\n",
       "TI         2.404008e+07     TI\n",
       "VD         2.361789e+09     VD\n",
       "VS         5.525840e+06     VS\n",
       "ZG         4.957150e+05     ZG\n",
       "ZH         3.649136e+09     ZH"
      ]
     },
     "execution_count": 717,
     "metadata": {},
     "output_type": "execute_result"
    }
   ],
   "source": [
    "df_canton = data_clean\n",
    "# change type of the Approved Amount column to float\n",
    "df_canton['Approved Amount'] = df_canton['Approved Amount'].astype('float')\n",
    "\n",
    "df_canton = df_canton.groupby('Canton').sum()\n",
    "\n",
    "df_canton['Canton'] = df_canton.index\n",
    "\n",
    "df_canton"
   ]
  },
  {
   "cell_type": "markdown",
   "metadata": {},
   "source": [
    "Some cantons had no approved amount according to the data we studied, add these to our table"
   ]
  },
  {
   "cell_type": "code",
   "execution_count": 718,
   "metadata": {
    "collapsed": false
   },
   "outputs": [
    {
     "data": {
      "text/plain": [
       "(26, 2)"
      ]
     },
     "execution_count": 718,
     "metadata": {},
     "output_type": "execute_result"
    }
   ],
   "source": [
    "i = df_canton.index.tolist()\n",
    "for x in canton_data:\n",
    "    if x[0] not in i:\n",
    "        canton_entry = pd.DataFrame([[0, x[0]]], columns=['Approved Amount', 'Canton'])\n",
    "        df_canton = df_canton.append(canton_entry)\n",
    "\n",
    "# Switzerland has 26 cantons\n",
    "df_canton.shape"
   ]
  },
  {
   "cell_type": "markdown",
   "metadata": {},
   "source": [
    "We change the unit of ***Approved Amount*** from CHF to Million CHF."
   ]
  },
  {
   "cell_type": "code",
   "execution_count": 719,
   "metadata": {
    "collapsed": false
   },
   "outputs": [
    {
     "data": {
      "text/html": [
       "<div>\n",
       "<table border=\"1\" class=\"dataframe\">\n",
       "  <thead>\n",
       "    <tr style=\"text-align: right;\">\n",
       "      <th></th>\n",
       "      <th>Approved Amount</th>\n",
       "      <th>Canton</th>\n",
       "    </tr>\n",
       "    <tr>\n",
       "      <th>Canton</th>\n",
       "      <th></th>\n",
       "      <th></th>\n",
       "    </tr>\n",
       "  </thead>\n",
       "  <tbody>\n",
       "    <tr>\n",
       "      <th>ZH</th>\n",
       "      <td>3649.135803</td>\n",
       "      <td>ZH</td>\n",
       "    </tr>\n",
       "    <tr>\n",
       "      <th>VD</th>\n",
       "      <td>2361.789487</td>\n",
       "      <td>VD</td>\n",
       "    </tr>\n",
       "    <tr>\n",
       "      <th>GE</th>\n",
       "      <td>1850.194572</td>\n",
       "      <td>GE</td>\n",
       "    </tr>\n",
       "    <tr>\n",
       "      <th>BE</th>\n",
       "      <td>1553.549050</td>\n",
       "      <td>BE</td>\n",
       "    </tr>\n",
       "    <tr>\n",
       "      <th>BS</th>\n",
       "      <td>1352.251464</td>\n",
       "      <td>BS</td>\n",
       "    </tr>\n",
       "    <tr>\n",
       "      <th>FR</th>\n",
       "      <td>458.275817</td>\n",
       "      <td>FR</td>\n",
       "    </tr>\n",
       "    <tr>\n",
       "      <th>NE</th>\n",
       "      <td>383.210382</td>\n",
       "      <td>NE</td>\n",
       "    </tr>\n",
       "    <tr>\n",
       "      <th>AG</th>\n",
       "      <td>115.428286</td>\n",
       "      <td>AG</td>\n",
       "    </tr>\n",
       "    <tr>\n",
       "      <th>SG</th>\n",
       "      <td>88.286423</td>\n",
       "      <td>SG</td>\n",
       "    </tr>\n",
       "    <tr>\n",
       "      <th>LU</th>\n",
       "      <td>54.924687</td>\n",
       "      <td>LU</td>\n",
       "    </tr>\n",
       "    <tr>\n",
       "      <th>BL</th>\n",
       "      <td>42.771914</td>\n",
       "      <td>BL</td>\n",
       "    </tr>\n",
       "    <tr>\n",
       "      <th>TI</th>\n",
       "      <td>24.040082</td>\n",
       "      <td>TI</td>\n",
       "    </tr>\n",
       "    <tr>\n",
       "      <th>VS</th>\n",
       "      <td>5.525840</td>\n",
       "      <td>VS</td>\n",
       "    </tr>\n",
       "    <tr>\n",
       "      <th>TG</th>\n",
       "      <td>4.018981</td>\n",
       "      <td>TG</td>\n",
       "    </tr>\n",
       "    <tr>\n",
       "      <th>GR</th>\n",
       "      <td>1.834294</td>\n",
       "      <td>GR</td>\n",
       "    </tr>\n",
       "    <tr>\n",
       "      <th>SZ</th>\n",
       "      <td>0.936551</td>\n",
       "      <td>SZ</td>\n",
       "    </tr>\n",
       "    <tr>\n",
       "      <th>ZG</th>\n",
       "      <td>0.495715</td>\n",
       "      <td>ZG</td>\n",
       "    </tr>\n",
       "    <tr>\n",
       "      <th>SH</th>\n",
       "      <td>0.176691</td>\n",
       "      <td>SH</td>\n",
       "    </tr>\n",
       "    <tr>\n",
       "      <th>0</th>\n",
       "      <td>0.000000</td>\n",
       "      <td>UR</td>\n",
       "    </tr>\n",
       "    <tr>\n",
       "      <th>0</th>\n",
       "      <td>0.000000</td>\n",
       "      <td>OW</td>\n",
       "    </tr>\n",
       "    <tr>\n",
       "      <th>0</th>\n",
       "      <td>0.000000</td>\n",
       "      <td>NW</td>\n",
       "    </tr>\n",
       "    <tr>\n",
       "      <th>0</th>\n",
       "      <td>0.000000</td>\n",
       "      <td>GL</td>\n",
       "    </tr>\n",
       "    <tr>\n",
       "      <th>0</th>\n",
       "      <td>0.000000</td>\n",
       "      <td>SO</td>\n",
       "    </tr>\n",
       "    <tr>\n",
       "      <th>0</th>\n",
       "      <td>0.000000</td>\n",
       "      <td>AR</td>\n",
       "    </tr>\n",
       "    <tr>\n",
       "      <th>0</th>\n",
       "      <td>0.000000</td>\n",
       "      <td>AI</td>\n",
       "    </tr>\n",
       "    <tr>\n",
       "      <th>0</th>\n",
       "      <td>0.000000</td>\n",
       "      <td>JU</td>\n",
       "    </tr>\n",
       "  </tbody>\n",
       "</table>\n",
       "</div>"
      ],
      "text/plain": [
       "        Approved Amount Canton\n",
       "Canton                        \n",
       "ZH          3649.135803     ZH\n",
       "VD          2361.789487     VD\n",
       "GE          1850.194572     GE\n",
       "BE          1553.549050     BE\n",
       "BS          1352.251464     BS\n",
       "FR           458.275817     FR\n",
       "NE           383.210382     NE\n",
       "AG           115.428286     AG\n",
       "SG            88.286423     SG\n",
       "LU            54.924687     LU\n",
       "BL            42.771914     BL\n",
       "TI            24.040082     TI\n",
       "VS             5.525840     VS\n",
       "TG             4.018981     TG\n",
       "GR             1.834294     GR\n",
       "SZ             0.936551     SZ\n",
       "ZG             0.495715     ZG\n",
       "SH             0.176691     SH\n",
       "0              0.000000     UR\n",
       "0              0.000000     OW\n",
       "0              0.000000     NW\n",
       "0              0.000000     GL\n",
       "0              0.000000     SO\n",
       "0              0.000000     AR\n",
       "0              0.000000     AI\n",
       "0              0.000000     JU"
      ]
     },
     "execution_count": 719,
     "metadata": {},
     "output_type": "execute_result"
    }
   ],
   "source": [
    "df_canton['Approved Amount'] = df_canton['Approved Amount'] / 1000000\n",
    "df_canton.sort_values('Approved Amount', ascending=False)"
   ]
  },
  {
   "cell_type": "markdown",
   "metadata": {},
   "source": [
    "## 4. Visualization"
   ]
  },
  {
   "cell_type": "code",
   "execution_count": 720,
   "metadata": {
    "collapsed": false
   },
   "outputs": [
    {
     "data": {
      "text/html": [
       "<div style=\"width:100%;\"><div style=\"position:relative;width:100%;height:0;padding-bottom:60%;\"><iframe src=\"data:text/html;base64,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\" style=\"position:absolute;width:100%;height:100%;left:0;top:0;\"></iframe></div></div>"
      ],
      "text/plain": [
       "<folium.folium.Map at 0x7f30a4c79c18>"
      ]
     },
     "execution_count": 720,
     "metadata": {},
     "output_type": "execute_result"
    }
   ],
   "source": [
    "# Create the map and focus on Switzerland \n",
    "canton_map = folium.Map(location=[46.8, 8.28], zoom_start=8)\n",
    "\n",
    "# Add Universities markers to the map, we were able to retrieve \n",
    "# precise geo data where university names were given. \n",
    "for univ, row in df.iterrows():\n",
    "    if row.Lat != None:\n",
    "        folium.Marker([row['Lat'], row['Lng']],\n",
    "                   popup=univ, \n",
    "                   icon = folium.Icon(color = 'red', icon = 'glyphicon-book')).add_to(canton_map)\n",
    "\n",
    "# Plot the map with colormap yellow orange red and manually set the scale. \n",
    "canton_map.choropleth(geo_path = canton_geo, \n",
    "                      data = df_canton,\n",
    "                      columns = ['Canton', 'Approved Amount'],\n",
    "                      key_on = 'feature.id',\n",
    "                      topojson = 'objects.cantons',\n",
    "                      threshold_scale = [0, 30, 200, 2000,3000, 4000],\n",
    "                      fill_color = 'YlOrRd', \n",
    "                      fill_opacity = 0.7, \n",
    "                      line_opacity = 0.2,\n",
    "                      legend_name = 'Approved Amount')\n",
    "\n",
    "# Save the map for ease of access\n",
    "canton_map.create_map(path='canton.html')\n",
    "\n",
    "canton_map"
   ]
  },
  {
   "cell_type": "markdown",
   "metadata": {},
   "source": [
    "### 5. Bonus"
   ]
  },
  {
   "cell_type": "markdown",
   "metadata": {},
   "source": [
    "It is not perfect, since the separation of the Röstigraben is much more complex than simply dividing by cantons. We decided to have VS, JU, and Fr in French region and BE in german."
   ]
  },
  {
   "cell_type": "code",
   "execution_count": 721,
   "metadata": {
    "collapsed": false,
    "scrolled": true
   },
   "outputs": [
    {
     "data": {
      "image/png": "[encoded data removed]",
      "text/plain": [
       "<matplotlib.figure.Figure at 0x7f30a4e52080>"
      ]
     },
     "metadata": {},
     "output_type": "display_data"
    }
   ],
   "source": [
    "import matplotlib.pyplot as plt\n",
    "\n",
    "french_canton = ['JU', 'GE', 'NE', 'VD', 'VS', 'FR']\n",
    "german_canton = ['TG', 'AG', 'GR', 'SG', 'AI', 'AR', 'SH', 'BL',\n",
    "                 'BS', 'SO', 'ZG', 'GL', 'NW', 'OW', 'SZ', 'UR',\n",
    "                 'LU', 'BE', 'ZH']\n",
    " \n",
    "df_french = df_canton[df_canton.Canton.isin(french_canton)]\n",
    "french_sum = df_french['Approved Amount'].sum()\n",
    "\n",
    "df_german = df_canton[df_canton.Canton.isin(german_canton)]\n",
    "german_sum = df_german['Approved Amount'].sum()\n",
    "\n",
    "rosti = [\n",
    "    [\"French\", french_sum], \n",
    "    ['German', german_sum]\n",
    "]\n",
    "\n",
    "rostigraben = pd.DataFrame(rosti, index=[\"French\", \"German\"], columns=[\"Region\", \"Amount\"])\n",
    "rostigraben.plot(kind='bar')\n",
    "plt.show()"
   ]
  },
  {
   "cell_type": "code",
   "execution_count": 722,
   "metadata": {
    "collapsed": false
   },
   "outputs": [
    {
     "name": "stdout",
     "output_type": "stream",
     "text": [
      "French region: 5058.996 M CHF.- (42.43 % of total)\n",
      "German region: 6863.810 M CHF.- (57.57 % of total)\n"
     ]
    }
   ],
   "source": [
    "print(\"French region:\", \n",
    "      \"{0:.3f}\".format(french_sum),\n",
    "      \"M CHF.-\",\n",
    "      \"({0:.2f}\".format(french_sum*100/(french_sum+german_sum)),\n",
    "      \"% of total)\")\n",
    "\n",
    "print(\"German region:\",\n",
    "      \"{0:.3f}\".format(german_sum),\n",
    "      \"M CHF.-\",\n",
    "      \"({0:.2f}\".format(german_sum*100/(french_sum+german_sum)),\n",
    "      \"% of total)\")"
   ]
  }
 ],
 "metadata": {
  "anaconda-cloud": {},
  "kernelspec": {
   "display_name": "Python [default]",
   "language": "python",
   "name": "python3"
  },
  "language_info": {
   "codemirror_mode": {
    "name": "ipython",
    "version": 3
   },
   "file_extension": ".py",
   "mimetype": "text/x-python",
   "name": "python",
   "nbconvert_exporter": "python",
   "pygments_lexer": "ipython3",
   "version": "3.5.2"
  }
 },
 "nbformat": 4,
 "nbformat_minor": 1
}
