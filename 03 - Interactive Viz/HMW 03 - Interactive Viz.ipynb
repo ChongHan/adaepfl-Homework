{
 "cells": [
  {
   "cell_type": "markdown",
   "metadata": {},
   "source": [
    "# ADA Homework 03 - Interactive Viz"
   ]
  },
  {
   "cell_type": "code",
   "execution_count": 28,
   "metadata": {
    "collapsed": false
   },
   "outputs": [],
   "source": [
    "# Import libraries\n",
    "import pandas as pd\n",
    "import numpy as np\n",
    "\n",
    "# Map\n",
    "import folium\n",
    "\n",
    "# Query with geonames\n",
    "import json\n",
    "import requests\n",
    "from urllib import parse \n",
    "from urllib.request import urlopen\n"
   ]
  },
  {
   "cell_type": "markdown",
   "metadata": {},
   "source": [
    "> **Assignemnt**\n",
    "\n",
    "> Build a Choropleth map which shows intuitively (i.e., use colors wisely) how much grant money goes to each Swiss canton. To do so, you will need to use the provided TopoJSON file, combined with the Choropleth map example you can find in the Folium README file."
   ]
  },
  {
   "cell_type": "markdown",
   "metadata": {},
   "source": [
    "## Import data"
   ]
  },
  {
   "cell_type": "code",
   "execution_count": 4,
   "metadata": {
    "collapsed": false,
    "scrolled": true
   },
   "outputs": [
    {
     "data": {
      "text/html": [
       "<div>\n",
       "<table border=\"1\" class=\"dataframe\">\n",
       "  <thead>\n",
       "    <tr style=\"text-align: right;\">\n",
       "      <th></th>\n",
       "      <th>Project Title</th>\n",
       "      <th>Project Title English</th>\n",
       "      <th>Responsible Applicant</th>\n",
       "      <th>Funding Instrument</th>\n",
       "      <th>Funding Instrument Hierarchy</th>\n",
       "      <th>Institution</th>\n",
       "      <th>University</th>\n",
       "      <th>Discipline Number</th>\n",
       "      <th>Discipline Name</th>\n",
       "      <th>Discipline Name Hierarchy</th>\n",
       "      <th>Start Date</th>\n",
       "      <th>End Date</th>\n",
       "      <th>Approved Amount</th>\n",
       "      <th>Keywords</th>\n",
       "    </tr>\n",
       "    <tr>\n",
       "      <th>﻿\"Project Number\"</th>\n",
       "      <th></th>\n",
       "      <th></th>\n",
       "      <th></th>\n",
       "      <th></th>\n",
       "      <th></th>\n",
       "      <th></th>\n",
       "      <th></th>\n",
       "      <th></th>\n",
       "      <th></th>\n",
       "      <th></th>\n",
       "      <th></th>\n",
       "      <th></th>\n",
       "      <th></th>\n",
       "      <th></th>\n",
       "    </tr>\n",
       "  </thead>\n",
       "  <tbody>\n",
       "    <tr>\n",
       "      <th>1</th>\n",
       "      <td>Schlussband (Bd. VI) der Jacob Burckhardt-Biog...</td>\n",
       "      <td>NaN</td>\n",
       "      <td>Kaegi Werner</td>\n",
       "      <td>Project funding (Div. I-III)</td>\n",
       "      <td>Project funding</td>\n",
       "      <td>NaN</td>\n",
       "      <td>Nicht zuteilbar - NA</td>\n",
       "      <td>10302</td>\n",
       "      <td>Swiss history</td>\n",
       "      <td>Human and Social Sciences;Theology &amp; religious...</td>\n",
       "      <td>01.10.1975</td>\n",
       "      <td>30.09.1976</td>\n",
       "      <td>11619.00</td>\n",
       "      <td>NaN</td>\n",
       "    </tr>\n",
       "    <tr>\n",
       "      <th>4</th>\n",
       "      <td>Batterie de tests à l'usage des enseignants po...</td>\n",
       "      <td>NaN</td>\n",
       "      <td>Massarenti Léonard</td>\n",
       "      <td>Project funding (Div. I-III)</td>\n",
       "      <td>Project funding</td>\n",
       "      <td>Faculté de Psychologie et des Sciences de l'Ed...</td>\n",
       "      <td>Université de Genève - GE</td>\n",
       "      <td>10104</td>\n",
       "      <td>Educational science and Pedagogy</td>\n",
       "      <td>Human and Social Sciences;Psychology, educatio...</td>\n",
       "      <td>01.10.1975</td>\n",
       "      <td>30.09.1976</td>\n",
       "      <td>41022.00</td>\n",
       "      <td>NaN</td>\n",
       "    </tr>\n",
       "    <tr>\n",
       "      <th>5</th>\n",
       "      <td>Kritische Erstausgabe der \"Evidentiae contra D...</td>\n",
       "      <td>NaN</td>\n",
       "      <td>Kommission für das Corpus philosophorum medii ...</td>\n",
       "      <td>Project funding (Div. I-III)</td>\n",
       "      <td>Project funding</td>\n",
       "      <td>Kommission für das Corpus philosophorum medii ...</td>\n",
       "      <td>NPO (Biblioth., Museen, Verwalt.) - NPO</td>\n",
       "      <td>10101</td>\n",
       "      <td>Philosophy</td>\n",
       "      <td>Human and Social Sciences;Linguistics and lite...</td>\n",
       "      <td>01.03.1976</td>\n",
       "      <td>28.02.1985</td>\n",
       "      <td>79732.00</td>\n",
       "      <td>NaN</td>\n",
       "    </tr>\n",
       "    <tr>\n",
       "      <th>6</th>\n",
       "      <td>Katalog der datierten Handschriften in der Sch...</td>\n",
       "      <td>NaN</td>\n",
       "      <td>Burckhardt Max</td>\n",
       "      <td>Project funding (Div. I-III)</td>\n",
       "      <td>Project funding</td>\n",
       "      <td>Abt. Handschriften und Alte Drucke Bibliothek ...</td>\n",
       "      <td>Universität Basel - BS</td>\n",
       "      <td>10302</td>\n",
       "      <td>Swiss history</td>\n",
       "      <td>Human and Social Sciences;Theology &amp; religious...</td>\n",
       "      <td>01.10.1975</td>\n",
       "      <td>30.09.1976</td>\n",
       "      <td>52627.00</td>\n",
       "      <td>NaN</td>\n",
       "    </tr>\n",
       "    <tr>\n",
       "      <th>7</th>\n",
       "      <td>Wissenschaftliche Mitarbeit am Thesaurus Lingu...</td>\n",
       "      <td>NaN</td>\n",
       "      <td>Schweiz. Thesauruskommission</td>\n",
       "      <td>Project funding (Div. I-III)</td>\n",
       "      <td>Project funding</td>\n",
       "      <td>Schweiz. Thesauruskommission</td>\n",
       "      <td>NPO (Biblioth., Museen, Verwalt.) - NPO</td>\n",
       "      <td>10303</td>\n",
       "      <td>Ancient history and Classical studies</td>\n",
       "      <td>Human and Social Sciences;Theology &amp; religious...</td>\n",
       "      <td>01.01.1976</td>\n",
       "      <td>30.04.1978</td>\n",
       "      <td>120042.00</td>\n",
       "      <td>NaN</td>\n",
       "    </tr>\n",
       "  </tbody>\n",
       "</table>\n",
       "</div>"
      ],
      "text/plain": [
       "                                                       Project Title  \\\n",
       "﻿\"Project Number\"                                                      \n",
       "1                  Schlussband (Bd. VI) der Jacob Burckhardt-Biog...   \n",
       "4                  Batterie de tests à l'usage des enseignants po...   \n",
       "5                  Kritische Erstausgabe der \"Evidentiae contra D...   \n",
       "6                  Katalog der datierten Handschriften in der Sch...   \n",
       "7                  Wissenschaftliche Mitarbeit am Thesaurus Lingu...   \n",
       "\n",
       "                  Project Title English  \\\n",
       "﻿\"Project Number\"                         \n",
       "1                                   NaN   \n",
       "4                                   NaN   \n",
       "5                                   NaN   \n",
       "6                                   NaN   \n",
       "7                                   NaN   \n",
       "\n",
       "                                               Responsible Applicant  \\\n",
       "﻿\"Project Number\"                                                      \n",
       "1                                                       Kaegi Werner   \n",
       "4                                                 Massarenti Léonard   \n",
       "5                  Kommission für das Corpus philosophorum medii ...   \n",
       "6                                                     Burckhardt Max   \n",
       "7                                       Schweiz. Thesauruskommission   \n",
       "\n",
       "                             Funding Instrument Funding Instrument Hierarchy  \\\n",
       "﻿\"Project Number\"                                                              \n",
       "1                  Project funding (Div. I-III)              Project funding   \n",
       "4                  Project funding (Div. I-III)              Project funding   \n",
       "5                  Project funding (Div. I-III)              Project funding   \n",
       "6                  Project funding (Div. I-III)              Project funding   \n",
       "7                  Project funding (Div. I-III)              Project funding   \n",
       "\n",
       "                                                         Institution  \\\n",
       "﻿\"Project Number\"                                                      \n",
       "1                                                                NaN   \n",
       "4                  Faculté de Psychologie et des Sciences de l'Ed...   \n",
       "5                  Kommission für das Corpus philosophorum medii ...   \n",
       "6                  Abt. Handschriften und Alte Drucke Bibliothek ...   \n",
       "7                                       Schweiz. Thesauruskommission   \n",
       "\n",
       "                                                University  Discipline Number  \\\n",
       "﻿\"Project Number\"                                                               \n",
       "1                                     Nicht zuteilbar - NA              10302   \n",
       "4                                Université de Genève - GE              10104   \n",
       "5                  NPO (Biblioth., Museen, Verwalt.) - NPO              10101   \n",
       "6                                   Universität Basel - BS              10302   \n",
       "7                  NPO (Biblioth., Museen, Verwalt.) - NPO              10303   \n",
       "\n",
       "                                         Discipline Name  \\\n",
       "﻿\"Project Number\"                                          \n",
       "1                                          Swiss history   \n",
       "4                       Educational science and Pedagogy   \n",
       "5                                             Philosophy   \n",
       "6                                          Swiss history   \n",
       "7                  Ancient history and Classical studies   \n",
       "\n",
       "                                           Discipline Name Hierarchy  \\\n",
       "﻿\"Project Number\"                                                      \n",
       "1                  Human and Social Sciences;Theology & religious...   \n",
       "4                  Human and Social Sciences;Psychology, educatio...   \n",
       "5                  Human and Social Sciences;Linguistics and lite...   \n",
       "6                  Human and Social Sciences;Theology & religious...   \n",
       "7                  Human and Social Sciences;Theology & religious...   \n",
       "\n",
       "                   Start Date    End Date Approved Amount Keywords  \n",
       "﻿\"Project Number\"                                                   \n",
       "1                  01.10.1975  30.09.1976        11619.00      NaN  \n",
       "4                  01.10.1975  30.09.1976        41022.00      NaN  \n",
       "5                  01.03.1976  28.02.1985        79732.00      NaN  \n",
       "6                  01.10.1975  30.09.1976        52627.00      NaN  \n",
       "7                  01.01.1976  30.04.1978       120042.00      NaN  "
      ]
     },
     "execution_count": 4,
     "metadata": {},
     "output_type": "execute_result"
    }
   ],
   "source": [
    "# The data is downloaded from: http://p3.snf.ch/Pages/DataAndDocumentation.aspx\n",
    "# The downloaded csv file use semi-colons ';' as delimeter and contains\n",
    "# the column header has first row\n",
    "p3_grand = pd.read_csv(\"Data/P3_GrantExport.csv\", sep=\";\", index_col=0)\n",
    "p3_grand.head()"
   ]
  },
  {
   "cell_type": "code",
   "execution_count": 5,
   "metadata": {
    "collapsed": false
   },
   "outputs": [
    {
     "data": {
      "text/plain": [
       "True"
      ]
     },
     "execution_count": 5,
     "metadata": {},
     "output_type": "execute_result"
    }
   ],
   "source": [
    "p3_grand.index.is_unique"
   ]
  },
  {
   "cell_type": "markdown",
   "metadata": {},
   "source": [
    "The data contains 15 columns. Among these columns, there are 8 columns containing some 'nan' values."
   ]
  },
  {
   "cell_type": "code",
   "execution_count": 6,
   "metadata": {
    "collapsed": false
   },
   "outputs": [
    {
     "data": {
      "text/plain": [
       "Project Title                   False\n",
       "Project Title English            True\n",
       "Responsible Applicant           False\n",
       "Funding Instrument              False\n",
       "Funding Instrument Hierarchy     True\n",
       "Institution                      True\n",
       "University                       True\n",
       "Discipline Number               False\n",
       "Discipline Name                 False\n",
       "Discipline Name Hierarchy        True\n",
       "Start Date                       True\n",
       "End Date                         True\n",
       "Approved Amount                 False\n",
       "Keywords                         True\n",
       "dtype: bool"
      ]
     },
     "execution_count": 6,
     "metadata": {},
     "output_type": "execute_result"
    }
   ],
   "source": [
    "p3_grand.isnull().any()"
   ]
  },
  {
   "cell_type": "markdown",
   "metadata": {},
   "source": [
    "## Data filter and cleaning"
   ]
  },
  {
   "cell_type": "markdown",
   "metadata": {},
   "source": [
    "For the assignment, we need to have the canton location and the grant amount from the data.<br>\n",
    "In order to retrieve the canton, we will use the columns *Institution* and *University*. For the grant amount, we keep the colum *Approved Amount*."
   ]
  },
  {
   "cell_type": "code",
   "execution_count": 7,
   "metadata": {
    "collapsed": false
   },
   "outputs": [
    {
     "data": {
      "text/html": [
       "<div>\n",
       "<table border=\"1\" class=\"dataframe\">\n",
       "  <thead>\n",
       "    <tr style=\"text-align: right;\">\n",
       "      <th></th>\n",
       "      <th>Institution</th>\n",
       "      <th>University</th>\n",
       "      <th>Approved Amount</th>\n",
       "    </tr>\n",
       "    <tr>\n",
       "      <th>﻿\"Project Number\"</th>\n",
       "      <th></th>\n",
       "      <th></th>\n",
       "      <th></th>\n",
       "    </tr>\n",
       "  </thead>\n",
       "  <tbody>\n",
       "    <tr>\n",
       "      <th>1</th>\n",
       "      <td>NaN</td>\n",
       "      <td>Nicht zuteilbar - NA</td>\n",
       "      <td>11619.00</td>\n",
       "    </tr>\n",
       "    <tr>\n",
       "      <th>4</th>\n",
       "      <td>Faculté de Psychologie et des Sciences de l'Ed...</td>\n",
       "      <td>Université de Genève - GE</td>\n",
       "      <td>41022.00</td>\n",
       "    </tr>\n",
       "    <tr>\n",
       "      <th>5</th>\n",
       "      <td>Kommission für das Corpus philosophorum medii ...</td>\n",
       "      <td>NPO (Biblioth., Museen, Verwalt.) - NPO</td>\n",
       "      <td>79732.00</td>\n",
       "    </tr>\n",
       "    <tr>\n",
       "      <th>6</th>\n",
       "      <td>Abt. Handschriften und Alte Drucke Bibliothek ...</td>\n",
       "      <td>Universität Basel - BS</td>\n",
       "      <td>52627.00</td>\n",
       "    </tr>\n",
       "    <tr>\n",
       "      <th>7</th>\n",
       "      <td>Schweiz. Thesauruskommission</td>\n",
       "      <td>NPO (Biblioth., Museen, Verwalt.) - NPO</td>\n",
       "      <td>120042.00</td>\n",
       "    </tr>\n",
       "  </tbody>\n",
       "</table>\n",
       "</div>"
      ],
      "text/plain": [
       "                                                         Institution  \\\n",
       "﻿\"Project Number\"                                                      \n",
       "1                                                                NaN   \n",
       "4                  Faculté de Psychologie et des Sciences de l'Ed...   \n",
       "5                  Kommission für das Corpus philosophorum medii ...   \n",
       "6                  Abt. Handschriften und Alte Drucke Bibliothek ...   \n",
       "7                                       Schweiz. Thesauruskommission   \n",
       "\n",
       "                                                University Approved Amount  \n",
       "﻿\"Project Number\"                                                           \n",
       "1                                     Nicht zuteilbar - NA        11619.00  \n",
       "4                                Université de Genève - GE        41022.00  \n",
       "5                  NPO (Biblioth., Museen, Verwalt.) - NPO        79732.00  \n",
       "6                                   Universität Basel - BS        52627.00  \n",
       "7                  NPO (Biblioth., Museen, Verwalt.) - NPO       120042.00  "
      ]
     },
     "execution_count": 7,
     "metadata": {},
     "output_type": "execute_result"
    }
   ],
   "source": [
    "data_of_interest = p3_grand[['Institution', 'University', 'Approved Amount']]\n",
    "data_of_interest.head()"
   ]
  },
  {
   "cell_type": "markdown",
   "metadata": {},
   "source": [
    "We can see that some row have neither *Institution* or *University* information."
   ]
  },
  {
   "cell_type": "code",
   "execution_count": 8,
   "metadata": {
    "collapsed": false
   },
   "outputs": [
    {
     "data": {
      "text/plain": [
       "Institution                            NaN\n",
       "University                             NaN\n",
       "Approved Amount    data not included in P3\n",
       "Name: 20008, dtype: object"
      ]
     },
     "execution_count": 8,
     "metadata": {},
     "output_type": "execute_result"
    }
   ],
   "source": [
    "data_of_interest.loc[20008]"
   ]
  },
  {
   "cell_type": "markdown",
   "metadata": {},
   "source": [
    "These row are therefore useless for us, so we can remove them."
   ]
  },
  {
   "cell_type": "code",
   "execution_count": 9,
   "metadata": {
    "collapsed": false
   },
   "outputs": [
    {
     "data": {
      "text/plain": [
       "187443"
      ]
     },
     "execution_count": 9,
     "metadata": {},
     "output_type": "execute_result"
    }
   ],
   "source": [
    "# We can use the 'thresh=2' because we know that the column 'Approved Amount' hasn't null values\n",
    "data_of_interest = data_of_interest.dropna(axis=0, how=\"all\", thresh=2)\n",
    "data_of_interest.size"
   ]
  },
  {
   "cell_type": "markdown",
   "metadata": {},
   "source": [
    "Note that, as seen above, the column *Approved Amount* has no null values. But it doesn't only contains number..."
   ]
  },
  {
   "cell_type": "code",
   "execution_count": 10,
   "metadata": {
    "collapsed": false
   },
   "outputs": [
    {
     "data": {
      "text/plain": [
       "count                       62481\n",
       "unique                      36396\n",
       "top       data not included in P3\n",
       "freq                        10244\n",
       "Name: Approved Amount, dtype: object"
      ]
     },
     "execution_count": 10,
     "metadata": {},
     "output_type": "execute_result"
    }
   ],
   "source": [
    "data_of_interest['Approved Amount'].describe()"
   ]
  },
  {
   "cell_type": "markdown",
   "metadata": {},
   "source": [
    "As we can see, some rows contains a string *\"data not included in P3\"*. <br>\n",
    "So we need to clean this column. We only keep rows where the *Approved Amount* value can be cast to numeric."
   ]
  },
  {
   "cell_type": "code",
   "execution_count": 11,
   "metadata": {
    "collapsed": false
   },
   "outputs": [
    {
     "name": "stdout",
     "output_type": "stream",
     "text": [
      "Type of 'Approved Amount column: object\n",
      "Any null values?  False\n"
     ]
    },
    {
     "data": {
      "text/html": [
       "<div>\n",
       "<table border=\"1\" class=\"dataframe\">\n",
       "  <thead>\n",
       "    <tr style=\"text-align: right;\">\n",
       "      <th></th>\n",
       "      <th>Institution</th>\n",
       "      <th>University</th>\n",
       "      <th>Approved Amount</th>\n",
       "    </tr>\n",
       "    <tr>\n",
       "      <th>﻿\"Project Number\"</th>\n",
       "      <th></th>\n",
       "      <th></th>\n",
       "      <th></th>\n",
       "    </tr>\n",
       "  </thead>\n",
       "  <tbody>\n",
       "    <tr>\n",
       "      <th>1</th>\n",
       "      <td>NaN</td>\n",
       "      <td>Nicht zuteilbar - NA</td>\n",
       "      <td>11619.00</td>\n",
       "    </tr>\n",
       "    <tr>\n",
       "      <th>4</th>\n",
       "      <td>Faculté de Psychologie et des Sciences de l'Ed...</td>\n",
       "      <td>Université de Genève - GE</td>\n",
       "      <td>41022.00</td>\n",
       "    </tr>\n",
       "    <tr>\n",
       "      <th>5</th>\n",
       "      <td>Kommission für das Corpus philosophorum medii ...</td>\n",
       "      <td>NPO (Biblioth., Museen, Verwalt.) - NPO</td>\n",
       "      <td>79732.00</td>\n",
       "    </tr>\n",
       "    <tr>\n",
       "      <th>6</th>\n",
       "      <td>Abt. Handschriften und Alte Drucke Bibliothek ...</td>\n",
       "      <td>Universität Basel - BS</td>\n",
       "      <td>52627.00</td>\n",
       "    </tr>\n",
       "    <tr>\n",
       "      <th>7</th>\n",
       "      <td>Schweiz. Thesauruskommission</td>\n",
       "      <td>NPO (Biblioth., Museen, Verwalt.) - NPO</td>\n",
       "      <td>120042.00</td>\n",
       "    </tr>\n",
       "  </tbody>\n",
       "</table>\n",
       "</div>"
      ],
      "text/plain": [
       "                                                         Institution  \\\n",
       "﻿\"Project Number\"                                                      \n",
       "1                                                                NaN   \n",
       "4                  Faculté de Psychologie et des Sciences de l'Ed...   \n",
       "5                  Kommission für das Corpus philosophorum medii ...   \n",
       "6                  Abt. Handschriften und Alte Drucke Bibliothek ...   \n",
       "7                                       Schweiz. Thesauruskommission   \n",
       "\n",
       "                                                University Approved Amount  \n",
       "﻿\"Project Number\"                                                           \n",
       "1                                     Nicht zuteilbar - NA        11619.00  \n",
       "4                                Université de Genève - GE        41022.00  \n",
       "5                  NPO (Biblioth., Museen, Verwalt.) - NPO        79732.00  \n",
       "6                                   Universität Basel - BS        52627.00  \n",
       "7                  NPO (Biblioth., Museen, Verwalt.) - NPO       120042.00  "
      ]
     },
     "execution_count": 11,
     "metadata": {},
     "output_type": "execute_result"
    }
   ],
   "source": [
    "# The \"errors=coerce\" will replace all values that cannot be cast to numeric by a null value.\n",
    "# So we simply need to get ride of all these null values\n",
    "missing_amount = pd.to_numeric(data_of_interest['Approved Amount'], errors=\"coerce\").isnull()\n",
    "data_clean = data_of_interest[~ missing_amount]\n",
    "\n",
    "print(\"Type of 'Approved Amount column:\", data_clean['Approved Amount'].dtypes)\n",
    "print(\"Any null values? \",data_clean['Approved Amount'].isnull().any())\n",
    "data_clean.head()"
   ]
  },
  {
   "cell_type": "markdown",
   "metadata": {},
   "source": [
    "## Add \"Canton\" information"
   ]
  },
  {
   "cell_type": "markdown",
   "metadata": {},
   "source": [
    "Starting for the *Institution* and *University* information, we can find the *Canton* information for each row."
   ]
  },
  {
   "cell_type": "code",
   "execution_count": 72,
   "metadata": {
    "collapsed": false
   },
   "outputs": [
    {
     "name": "stdout",
     "output_type": "stream",
     "text": [
      "Total: 50878\n"
     ]
    },
    {
     "data": {
      "text/plain": [
       "University\n",
       "Universität Zürich - ZH                               6754\n",
       "Université de Genève - GE                             6379\n",
       "ETH Zürich - ETHZ                                     6143\n",
       "Universität Bern - BE                                 5460\n",
       "Universität Basel - BS                                4737\n",
       "EPF Lausanne - EPFL                                   4406\n",
       "Université de Lausanne - LA                           4090\n",
       "Nicht zuteilbar - NA                                  2595\n",
       "Université de Fribourg - FR                           2078\n",
       "Université de Neuchâtel - NE                          1589\n",
       "NPO (Biblioth., Museen, Verwalt.) - NPO               1473\n",
       "Paul Scherrer Institut - PSI                           537\n",
       "Firmen/Privatwirtschaft - FP                           492\n",
       "Universität St. Gallen - SG                            426\n",
       "Università della Svizzera italiana - USI               346\n",
       "Eidg. Anstalt für Wasserversorgung - EAWAG             333\n",
       "HES de Suisse occidentale - HES-SO                     271\n",
       "Zürcher Fachhochschule (ohne PH) - ZFH                 260\n",
       "Eidg. Material und Prüfungsanstalt - EMPA              238\n",
       "Fachhochschule Nordwestschweiz (ohne PH) - FHNW        225\n",
       "Eidg. Forschungsanstalt für Wald,Schnee,Land - WSL     223\n",
       "Universität Luzern - LU                                214\n",
       "Inst. de Hautes Etudes Internat. et du Dév - IHEID     198\n",
       "Berner Fachhochschule - BFH                            136\n",
       "SUP della Svizzera italiana - SUPSI                    135\n",
       "Forschungsanstalten Agroscope - AGS                    135\n",
       "Friedrich Miescher Institute - FMI                      84\n",
       "Idiap Research Institute - IDIAP                        82\n",
       "Weitere Spitäler - ASPIT                                81\n",
       "Hochschule Luzern - HSLU                                62\n",
       "                                                      ... \n",
       "Haute école pédagogique du canton de Vaud - HEPL        16\n",
       "Pädagogische Hochschule Luzern - PHLU                   14\n",
       "Forschungsinstitut für Opthalmologie - IRO              14\n",
       "Pädagogische Hochschule Bern - PHBern                   13\n",
       "Pädagogische Hochschule St. Gallen - PHSG               13\n",
       "Eidg. Hochschulinstitut für Berufsbildung - EHB         12\n",
       "Institut für Kulturforschung Graubünden - IKG           12\n",
       "Schweizer Paraplegiker Forschung - SPF                  10\n",
       "Biotechnologie Institut Thurgau - BITG                   8\n",
       "Centre de rech. sur l'environnement alpin - CREALP       8\n",
       "Haute école pédagogique BE, JU, NE - HEPBEJUNE           7\n",
       "Haute école pédagogique fribourgeoise - HEPFR            7\n",
       "Pädagogische Hochschule Graubünden - PHGR                7\n",
       "Pädagogische Hochschule Zug - PHZG                       7\n",
       "Istituto Svizzero di Roma - ISR                          6\n",
       "Franklin University Switzerland - FUS                    6\n",
       "Robert Walser-Stiftung Bern - RWS                        6\n",
       "Pädagogische Hochschule Thurgau - PHTG                   6\n",
       "Instituto Ricerche Solari Locarno - IRSOL                5\n",
       "Pädagogische Hochschule Schwyz - PHSZ                    5\n",
       "Inst. Suisse de Spéléologie et Karstologie - ISSKA       3\n",
       "Staatsunabh. Theologische Hochschule Basel - STHB        3\n",
       "Fachhochschule Kalaidos - FHKD                           3\n",
       "Facoltà di Teologia di Lugano - FTL                      2\n",
       "Schweiz. Hochschule für Logopädie Rorschach - SHLR       2\n",
       "Pädagogische Hochschule Wallis - PHVS                    2\n",
       "Pädag. Hochschule Tessin (Teilschule SUPSI) - ASP        2\n",
       "Fernfachhochschule Schweiz (Mitglied SUPSI) - FFHS       1\n",
       "Forschungskommission SAGW                                1\n",
       "Pädagogische Hochschule Schaffhausen - PHSH              1\n",
       "dtype: int64"
      ]
     },
     "execution_count": 72,
     "metadata": {},
     "output_type": "execute_result"
    }
   ],
   "source": [
    "a = data_clean.groupby('University').size()\n",
    "print(\"Total:\", a.sum())\n",
    "a.sort_values(ascending=False)"
   ]
  },
  {
   "cell_type": "code",
   "execution_count": 18,
   "metadata": {
    "collapsed": false
   },
   "outputs": [
    {
     "data": {
      "text/plain": [
       "(1359, 3)"
      ]
     },
     "execution_count": 18,
     "metadata": {},
     "output_type": "execute_result"
    }
   ],
   "source": [
    "data_clean[data_clean.University.isnull()].shape"
   ]
  },
  {
   "cell_type": "code",
   "execution_count": 87,
   "metadata": {
    "collapsed": false
   },
   "outputs": [
    {
     "data": {
      "text/html": [
       "<div>\n",
       "<table border=\"1\" class=\"dataframe\">\n",
       "  <thead>\n",
       "    <tr style=\"text-align: right;\">\n",
       "      <th></th>\n",
       "      <th>University</th>\n",
       "      <th>University Name</th>\n",
       "      <th>University Code</th>\n",
       "    </tr>\n",
       "    <tr>\n",
       "      <th>University</th>\n",
       "      <th></th>\n",
       "      <th></th>\n",
       "      <th></th>\n",
       "    </tr>\n",
       "  </thead>\n",
       "  <tbody>\n",
       "    <tr>\n",
       "      <th>Nicht zuteilbar - NA</th>\n",
       "      <td>Nicht zuteilbar - NA</td>\n",
       "      <td>Nicht zuteilbar</td>\n",
       "      <td>NA</td>\n",
       "    </tr>\n",
       "    <tr>\n",
       "      <th>Université de Genève - GE</th>\n",
       "      <td>Université de Genève - GE</td>\n",
       "      <td>Université de Genève</td>\n",
       "      <td>GE</td>\n",
       "    </tr>\n",
       "    <tr>\n",
       "      <th>NPO (Biblioth., Museen, Verwalt.) - NPO</th>\n",
       "      <td>NPO (Biblioth., Museen, Verwalt.) - NPO</td>\n",
       "      <td>NPO (Biblioth., Museen, Verwalt.)</td>\n",
       "      <td>NPO</td>\n",
       "    </tr>\n",
       "    <tr>\n",
       "      <th>Universität Basel - BS</th>\n",
       "      <td>Universität Basel - BS</td>\n",
       "      <td>Universität Basel</td>\n",
       "      <td>BS</td>\n",
       "    </tr>\n",
       "    <tr>\n",
       "      <th>Université de Fribourg - FR</th>\n",
       "      <td>Université de Fribourg - FR</td>\n",
       "      <td>Université de Fribourg</td>\n",
       "      <td>FR</td>\n",
       "    </tr>\n",
       "  </tbody>\n",
       "</table>\n",
       "</div>"
      ],
      "text/plain": [
       "                                                                      University  \\\n",
       "University                                                                         \n",
       "Nicht zuteilbar - NA                                        Nicht zuteilbar - NA   \n",
       "Université de Genève - GE                              Université de Genève - GE   \n",
       "NPO (Biblioth., Museen, Verwalt.) - NPO  NPO (Biblioth., Museen, Verwalt.) - NPO   \n",
       "Universität Basel - BS                                    Universität Basel - BS   \n",
       "Université de Fribourg - FR                          Université de Fribourg - FR   \n",
       "\n",
       "                                                            University Name  \\\n",
       "University                                                                    \n",
       "Nicht zuteilbar - NA                                       Nicht zuteilbar    \n",
       "Université de Genève - GE                             Université de Genève    \n",
       "NPO (Biblioth., Museen, Verwalt.) - NPO  NPO (Biblioth., Museen, Verwalt.)    \n",
       "Universität Basel - BS                                   Universität Basel    \n",
       "Université de Fribourg - FR                         Université de Fribourg    \n",
       "\n",
       "                                        University Code  \n",
       "University                                               \n",
       "Nicht zuteilbar - NA                                 NA  \n",
       "Université de Genève - GE                            GE  \n",
       "NPO (Biblioth., Museen, Verwalt.) - NPO             NPO  \n",
       "Universität Basel - BS                               BS  \n",
       "Université de Fribourg - FR                          FR  "
      ]
     },
     "execution_count": 87,
     "metadata": {},
     "output_type": "execute_result"
    }
   ],
   "source": [
    "df = pd.DataFrame()\n",
    "df['University'] = data_clean.University.unique()\n",
    "df.index = df['University']\n",
    "\n",
    "institution = \"**Institution**\"\n",
    "\n",
    "df['University Name'] = None\n",
    "df['University Code'] = None\n",
    "\n",
    "for index, row in df.iterrows():\n",
    "    \n",
    "    x = row.University\n",
    "    if x == x:\n",
    "        try:\n",
    "            a,b = x.split('-')\n",
    "        except:\n",
    "            a,b = x,no_value\n",
    "    else:\n",
    "        #x is NaN\n",
    "        a = b = institution\n",
    "    \n",
    "    row['University Name'] = a\n",
    "    row['University Code'] = b\n",
    "        \n",
    "df.head()"
   ]
  },
  {
   "cell_type": "code",
   "execution_count": 81,
   "metadata": {
    "collapsed": false
   },
   "outputs": [],
   "source": [
    "def getCanton(name):\n",
    "    \n",
    "    url = 'http://api.geonames.org/search?q='+name+'&country=CH&maxRows=1&username=epfl_interactive_viz&type=json'\n",
    "\n",
    "    query = parse.quote(url, safe=':/&=?')\n",
    "    js = json.loads(requests.get(query).text)\n",
    "\n",
    "    try:\n",
    "        return js['geonames'][0]['adminCode1']\n",
    "    except:\n",
    "        return False"
   ]
  },
  {
   "cell_type": "code",
   "execution_count": 118,
   "metadata": {
    "collapsed": false
   },
   "outputs": [
    {
     "data": {
      "text/html": [
       "<div>\n",
       "<table border=\"1\" class=\"dataframe\">\n",
       "  <thead>\n",
       "    <tr style=\"text-align: right;\">\n",
       "      <th></th>\n",
       "      <th>University</th>\n",
       "      <th>University Name</th>\n",
       "      <th>University Code</th>\n",
       "      <th>Canton</th>\n",
       "    </tr>\n",
       "    <tr>\n",
       "      <th>University</th>\n",
       "      <th></th>\n",
       "      <th></th>\n",
       "      <th></th>\n",
       "      <th></th>\n",
       "    </tr>\n",
       "  </thead>\n",
       "  <tbody>\n",
       "    <tr>\n",
       "      <th>Nicht zuteilbar - NA</th>\n",
       "      <td>Nicht zuteilbar - NA</td>\n",
       "      <td>Nicht zuteilbar</td>\n",
       "      <td>NA</td>\n",
       "      <td>BE</td>\n",
       "    </tr>\n",
       "    <tr>\n",
       "      <th>Université de Genève - GE</th>\n",
       "      <td>Université de Genève - GE</td>\n",
       "      <td>Université de Genève</td>\n",
       "      <td>GE</td>\n",
       "      <td>GE</td>\n",
       "    </tr>\n",
       "    <tr>\n",
       "      <th>NPO (Biblioth., Museen, Verwalt.) - NPO</th>\n",
       "      <td>NPO (Biblioth., Museen, Verwalt.) - NPO</td>\n",
       "      <td>NPO (Biblioth., Museen, Verwalt.)</td>\n",
       "      <td>NPO</td>\n",
       "      <td>None</td>\n",
       "    </tr>\n",
       "    <tr>\n",
       "      <th>Universität Basel - BS</th>\n",
       "      <td>Universität Basel - BS</td>\n",
       "      <td>Universität Basel</td>\n",
       "      <td>BS</td>\n",
       "      <td>BS</td>\n",
       "    </tr>\n",
       "    <tr>\n",
       "      <th>Université de Fribourg - FR</th>\n",
       "      <td>Université de Fribourg - FR</td>\n",
       "      <td>Université de Fribourg</td>\n",
       "      <td>FR</td>\n",
       "      <td>FR</td>\n",
       "    </tr>\n",
       "  </tbody>\n",
       "</table>\n",
       "</div>"
      ],
      "text/plain": [
       "                                                                      University  \\\n",
       "University                                                                         \n",
       "Nicht zuteilbar - NA                                        Nicht zuteilbar - NA   \n",
       "Université de Genève - GE                              Université de Genève - GE   \n",
       "NPO (Biblioth., Museen, Verwalt.) - NPO  NPO (Biblioth., Museen, Verwalt.) - NPO   \n",
       "Universität Basel - BS                                    Universität Basel - BS   \n",
       "Université de Fribourg - FR                          Université de Fribourg - FR   \n",
       "\n",
       "                                                            University Name  \\\n",
       "University                                                                    \n",
       "Nicht zuteilbar - NA                                       Nicht zuteilbar    \n",
       "Université de Genève - GE                             Université de Genève    \n",
       "NPO (Biblioth., Museen, Verwalt.) - NPO  NPO (Biblioth., Museen, Verwalt.)    \n",
       "Universität Basel - BS                                   Universität Basel    \n",
       "Université de Fribourg - FR                         Université de Fribourg    \n",
       "\n",
       "                                        University Code Canton  \n",
       "University                                                      \n",
       "Nicht zuteilbar - NA                                 NA     BE  \n",
       "Université de Genève - GE                            GE     GE  \n",
       "NPO (Biblioth., Museen, Verwalt.) - NPO             NPO   None  \n",
       "Universität Basel - BS                               BS     BS  \n",
       "Université de Fribourg - FR                          FR     FR  "
      ]
     },
     "execution_count": 118,
     "metadata": {},
     "output_type": "execute_result"
    }
   ],
   "source": [
    "df['Canton'] = None\n",
    "\n",
    "for index, row in df.iterrows():\n",
    "    name = row['University Name']\n",
    "    code = row['University Code']\n",
    "    \n",
    "    canton = getCanton(row['University Name'])\n",
    "    if not canton:\n",
    "        canton = getCanton(row['University Code'])\n",
    "    \n",
    "    if canton:\n",
    "        row['Canton'] = canton\n",
    "        \n",
    "df.head()"
   ]
  },
  {
   "cell_type": "code",
   "execution_count": 121,
   "metadata": {
    "collapsed": false
   },
   "outputs": [
    {
     "name": "stderr",
     "output_type": "stream",
     "text": [
      "/home/danny/anaconda3/lib/python3.5/site-packages/ipykernel/__main__.py:1: SettingWithCopyWarning: \n",
      "A value is trying to be set on a copy of a slice from a DataFrame.\n",
      "Try using .loc[row_indexer,col_indexer] = value instead\n",
      "\n",
      "See the caveats in the documentation: http://pandas.pydata.org/pandas-docs/stable/indexing.html#indexing-view-versus-copy\n",
      "  if __name__ == '__main__':\n"
     ]
    },
    {
     "data": {
      "text/html": [
       "<div>\n",
       "<table border=\"1\" class=\"dataframe\">\n",
       "  <thead>\n",
       "    <tr style=\"text-align: right;\">\n",
       "      <th></th>\n",
       "      <th>Institution</th>\n",
       "      <th>University</th>\n",
       "      <th>Approved Amount</th>\n",
       "      <th>Canton</th>\n",
       "    </tr>\n",
       "    <tr>\n",
       "      <th>﻿\"Project Number\"</th>\n",
       "      <th></th>\n",
       "      <th></th>\n",
       "      <th></th>\n",
       "      <th></th>\n",
       "    </tr>\n",
       "  </thead>\n",
       "  <tbody>\n",
       "    <tr>\n",
       "      <th>1</th>\n",
       "      <td>NaN</td>\n",
       "      <td>Nicht zuteilbar - NA</td>\n",
       "      <td>11619.00</td>\n",
       "      <td>BE</td>\n",
       "    </tr>\n",
       "    <tr>\n",
       "      <th>4</th>\n",
       "      <td>Faculté de Psychologie et des Sciences de l'Ed...</td>\n",
       "      <td>Université de Genève - GE</td>\n",
       "      <td>41022.00</td>\n",
       "      <td>GE</td>\n",
       "    </tr>\n",
       "    <tr>\n",
       "      <th>5</th>\n",
       "      <td>Kommission für das Corpus philosophorum medii ...</td>\n",
       "      <td>NPO (Biblioth., Museen, Verwalt.) - NPO</td>\n",
       "      <td>79732.00</td>\n",
       "      <td>None</td>\n",
       "    </tr>\n",
       "    <tr>\n",
       "      <th>6</th>\n",
       "      <td>Abt. Handschriften und Alte Drucke Bibliothek ...</td>\n",
       "      <td>Universität Basel - BS</td>\n",
       "      <td>52627.00</td>\n",
       "      <td>BS</td>\n",
       "    </tr>\n",
       "    <tr>\n",
       "      <th>7</th>\n",
       "      <td>Schweiz. Thesauruskommission</td>\n",
       "      <td>NPO (Biblioth., Museen, Verwalt.) - NPO</td>\n",
       "      <td>120042.00</td>\n",
       "      <td>None</td>\n",
       "    </tr>\n",
       "  </tbody>\n",
       "</table>\n",
       "</div>"
      ],
      "text/plain": [
       "                                                         Institution  \\\n",
       "﻿\"Project Number\"                                                      \n",
       "1                                                                NaN   \n",
       "4                  Faculté de Psychologie et des Sciences de l'Ed...   \n",
       "5                  Kommission für das Corpus philosophorum medii ...   \n",
       "6                  Abt. Handschriften und Alte Drucke Bibliothek ...   \n",
       "7                                       Schweiz. Thesauruskommission   \n",
       "\n",
       "                                                University Approved Amount  \\\n",
       "﻿\"Project Number\"                                                            \n",
       "1                                     Nicht zuteilbar - NA        11619.00   \n",
       "4                                Université de Genève - GE        41022.00   \n",
       "5                  NPO (Biblioth., Museen, Verwalt.) - NPO        79732.00   \n",
       "6                                   Universität Basel - BS        52627.00   \n",
       "7                  NPO (Biblioth., Museen, Verwalt.) - NPO       120042.00   \n",
       "\n",
       "                  Canton  \n",
       "﻿\"Project Number\"         \n",
       "1                     BE  \n",
       "4                     GE  \n",
       "5                   None  \n",
       "6                     BS  \n",
       "7                   None  "
      ]
     },
     "execution_count": 121,
     "metadata": {},
     "output_type": "execute_result"
    }
   ],
   "source": [
    "data_clean['Canton'] = no_canton\n",
    "\n",
    "for index, row in data_clean.iterrows():\n",
    "    row['Canton'] = df.loc[row.University, 'Canton']\n",
    "\n",
    "data_clean.head()"
   ]
  },
  {
   "cell_type": "code",
   "execution_count": 128,
   "metadata": {
    "collapsed": false
   },
   "outputs": [
    {
     "data": {
      "text/plain": [
       "0.89250914103030421"
      ]
     },
     "execution_count": 128,
     "metadata": {},
     "output_type": "execute_result"
    }
   ],
   "source": [
    "1 - data_clean.Canton.isnull().sum() / data_clean.shape[0]"
   ]
  }
 ],
 "metadata": {
  "anaconda-cloud": {},
  "kernelspec": {
   "display_name": "Python [conda root]",
   "language": "python",
   "name": "conda-root-py"
  },
  "language_info": {
   "codemirror_mode": {
    "name": "ipython",
    "version": 3
   },
   "file_extension": ".py",
   "mimetype": "text/x-python",
   "name": "python",
   "nbconvert_exporter": "python",
   "pygments_lexer": "ipython3",
   "version": "3.5.2"
  }
 },
 "nbformat": 4,
 "nbformat_minor": 1
}
